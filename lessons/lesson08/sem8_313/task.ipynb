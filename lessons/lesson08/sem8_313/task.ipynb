{
 "cells": [
  {
   "cell_type": "markdown",
   "metadata": {},
   "source": [
    "# Декораторы"
   ]
  },
  {
   "cell_type": "markdown",
   "metadata": {},
   "source": [
    "# Задача 1: Суммы прогрессий\n",
    "\n",
    "Необходимо реализовать функционал для подсчета суммы первых n + 1 - членов арифметической и геометрической прогрессии с возможностями настройки шага и значения первого члена. n соответствует числу вызовов функции по подсчету суммы. \n",
    "\n",
    "Предполагаемые сценарии использования:\n",
    "\n",
    "```python\n",
    "\n",
    "sum_arithmetic = make_arithmetic_progression_sum(first_member=2, step=0.5)\n",
    "sum_geometric = make_geometric_progression_sum(first_member=1, step=0.5)\n",
    "\n",
    "print(sum_arithmetic())\n",
    "print(sum_arithmetic())\n",
    "print('')\n",
    "print(sum_geometric())\n",
    "print(sum_geometric())\n",
    "```\n",
    "\n",
    "*Вывод*:\n",
    "```console\n",
    "4.5\n",
    "7.5\n",
    "\n",
    "1.5\n",
    "1.75\n",
    "```"
   ]
  },
  {
   "cell_type": "code",
   "execution_count": 10,
   "metadata": {},
   "outputs": [
    {
     "name": "stdout",
     "output_type": "stream",
     "text": [
      "4.5\n",
      "7.5\n",
      "\n",
      "1.5\n",
      "1.75\n"
     ]
    }
   ],
   "source": [
    "def make_arithmetic_progression_sum(first_member: float, step: float):\n",
    "    amount_of_calls = 0\n",
    "    sum_current = first_member\n",
    "\n",
    "    def arithmetic_progression_sum():\n",
    "        nonlocal amount_of_calls,sum_current\n",
    "\n",
    "        amount_of_calls+=1\n",
    "        sum_current += amount_of_calls*step + first_member\n",
    "        \n",
    "\n",
    "        return(sum_current)\n",
    "    \n",
    "    return arithmetic_progression_sum\n",
    "\n",
    "\n",
    "def make_geometric_progression_sum(first_member: float, step: float):\n",
    "    last_member = first_member\n",
    "    sum_current = first_member\n",
    "\n",
    "    def geometric_progression_sum():\n",
    "        nonlocal last_member, sum_current\n",
    "\n",
    "        last_member *= step\n",
    "        sum_current += last_member\n",
    "        return sum_current\n",
    "    \n",
    "    return geometric_progression_sum\n",
    "\n",
    "\n",
    "sum_arithmetic = make_arithmetic_progression_sum(first_member=2, step=0.5)\n",
    "sum_geometric = make_geometric_progression_sum(first_member=1, step=0.5)\n",
    "\n",
    "print(sum_arithmetic())\n",
    "print(sum_arithmetic())\n",
    "print('')\n",
    "print(sum_geometric())\n",
    "print(sum_geometric())"
   ]
  },
  {
   "cell_type": "markdown",
   "metadata": {},
   "source": [
    "# Задача 2: Среднее\n",
    "\n",
    "Предположим, что мы занимаемся инвистициями и у нас есть некоторый портфель акций. Каждый день наш портфель приносит нам некоторый доход или убыток. Мы задались целью: каждый день фиксированного периода определять средний доход (или убыток), который мы получаем. С этой целью мы реализовали функцию get_avg(), принимающую на вход значение заработка на сегодняшний день. Наша функция вычисляет среднее в течении определнного фиксированного периода, скажем, 30 дней, после чего обнуляется и начинает вычислять среднее заново, но уже по новым значениям. \n",
    "\n",
    "Также у нас есть друзья инвесторы, которые оценили разработанный нами функционал и хотели бы заполучить свой экземпляр функции get_avg, для подсчета своего дохода в течении интересующего их промежутка времени.\n",
    "\n",
    "Ваша задача: реализовать функционал, для получения произвольного числа независимых функций get_avg(). В момент создания функции сообщается длительность периода расчета среднего, по достижении которого среднее начинает расчитываться заново, а также наш начальный доход. При каждом вызове функции передается число - заработок в текущий день.\n",
    "\n",
    "Предполагаемые сценарии использования:\n",
    "\n",
    "```python\n",
    "\n",
    "get_avg1 = make_averager(accumulation_period=2)\n",
    "print(get_avg1(78))\n",
    "print(get_avg1(-17))\n",
    "print(get_avg1(52))\n",
    "```\n",
    "\n",
    "*Вывод*:\n",
    "```console\n",
    "78.0\n",
    "30.5\n",
    "52.0\n",
    "```"
   ]
  },
  {
   "cell_type": "code",
   "execution_count": 29,
   "metadata": {},
   "outputs": [
    {
     "name": "stdout",
     "output_type": "stream",
     "text": [
      "78.0\n",
      "30.5\n",
      "37.666666666666664\n"
     ]
    }
   ],
   "source": [
    "def make_average(accumulation_period : int):\n",
    "    accumulation_period = int(accumulation_period)\n",
    "    current_sum = 0\n",
    "    current_day = 0\n",
    "\n",
    "    if accumulation_period <= 0:\n",
    "        raise ValueError(\n",
    "            \"Unexpected accumulation period\",\n",
    "            \"Kys\",\n",
    "            sep = '\\n'\n",
    "        )\n",
    "\n",
    "\n",
    "    def average( number : float):\n",
    "        nonlocal current_day, current_sum\n",
    "        number = float(number)\n",
    "\n",
    "        current_day+=1\n",
    "\n",
    "        if current_day <=accumulation_period:\n",
    "            current_sum+= number\n",
    "        else:\n",
    "            \n",
    "            current_sum = number\n",
    "            current_day = 1\n",
    "        \n",
    "        return current_sum/current_day\n",
    "    \n",
    "    return average\n",
    "\n",
    "\n",
    "\n",
    "get_avg1 = make_average(accumulation_period=10)\n",
    "print(get_avg1(78))\n",
    "print(get_avg1(-17))\n",
    "print(get_avg1(52))"
   ]
  },
  {
   "cell_type": "markdown",
   "metadata": {},
   "source": [
    "# Задача 3: Сбор статистик\n",
    "\n",
    "Предположим, что мы работаем в отделе аналитики некоторой компании. В компании также существуют другие отделы, которые разрабатывают некоторые функции для осуществления сложных вычислений. Также в нашей компании существует отдел планирования, который следит за исполнением сроков реализации той или иной функции, и в случае, если разработка затягивается, начинает торопить разработчиков. В таком случае разработчики пишут медленный код на скорую руку, что расстраивает заказчиков.\n",
    "\n",
    "Наша задача, как аналитиков, собрать статистику по проблемным функциям. Нас интересует количество вызовов функции, а также среднее время выполнения функции. Все статистики собираются в отдельную базу данных - специальный единый словарь. Более того, статистика должна собираться не для всех функций, а только для функций, зарегестрированных в базе данных. Затем эта информация будет передана начальству, чтобы в скорейшее время заняться переписанием долгих и популярных функций.\n",
    "\n",
    "Ваша задача реализовать функционал для регистрации функций в БД и сбора статистик. "
   ]
  },
  {
   "cell_type": "code",
   "execution_count": 30,
   "metadata": {},
   "outputs": [],
   "source": [
    "from time import time\n",
    "from functools import wraps\n",
    "\n",
    "functions_register = {}\n",
    "\n",
    "\n",
    "\n",
    "def register(func):\n",
    "    if func not in functions_register:\n",
    "        functions_register[func] = [0,0]\n",
    "    return func\n",
    "\n",
    "def decorator_statistics(func):\n",
    "    if func not in functions_register:\n",
    "        raise RuntimeError(\"Bro, that func is not in database\",\n",
    "                           \"add it\",\n",
    "                           sep=\"\\n\")\n",
    "    @wraps(func)\n",
    "    def recieve_cool_statistics(*args,**kwargs)\n",
    "    \n"
   ]
  },
  {
   "cell_type": "markdown",
   "metadata": {},
   "source": [
    "# Задача 4: наивный LRU-кэш\n",
    "\n",
    "Представим, что вы являетесь сотрудником департамента оптимизаций некоторой компании, занимающейся разработкой ПО для научных вычислений. Раздел аналитиков предоставил вам исследование, согласно которому значительная часть функций в вашей компании работает очень медленно и должна быть оптимизирована. Более того, согласно исследованию, вызовы этих функций в основном осуществляются с ограниченным множеством аргументов. Для оптимизации этих функций вы решили использовать LRU-кэш:\n",
    "\n",
    "- вы заранее фиксируете размер кэша - памяти, выделенной для хранения результатов вычислений функции;  \n",
    "- в кэше хранится следующая информация: аргументы вызова - результат;  \n",
    "- помимо этого для каждой пары хранится время их последнего вызова;  \n",
    "- в случае достижения объема кэша установленной границы удаляются значения, чьи времена последних вызовов являются самыми старыми;  \n",
    "\n",
    "Для применения данного подхода ко всем проблемным функциям, не переписывая сами функции, вы решили реализовать параметрический декоратор, т.к. для разных функций требуется разный размер кеша.\n",
    "\n",
    "Ваша задача: реализовать описанный декоратор."
   ]
  },
  {
   "cell_type": "code",
   "execution_count": 31,
   "metadata": {},
   "outputs": [],
   "source": [
    "# ваш код"
   ]
  }
 ],
 "metadata": {
  "kernelspec": {
   "display_name": "Python 3",
   "language": "python",
   "name": "python3"
  },
  "language_info": {
   "codemirror_mode": {
    "name": "ipython",
    "version": 3
   },
   "file_extension": ".py",
   "mimetype": "text/x-python",
   "name": "python",
   "nbconvert_exporter": "python",
   "pygments_lexer": "ipython3",
   "version": "3.11.5"
  }
 },
 "nbformat": 4,
 "nbformat_minor": 2
}
