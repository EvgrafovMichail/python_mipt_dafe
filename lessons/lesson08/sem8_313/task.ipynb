{
 "cells": [
  {
   "cell_type": "markdown",
   "metadata": {},
   "source": [
    "# Декораторы"
   ]
  },
  {
   "cell_type": "markdown",
   "metadata": {},
   "source": [
    "# Задача 1: Суммы прогрессий\n",
    "\n",
    "Необходимо реализовать функционал для подсчета суммы первых n + 1 - членов арифметической и геометрической прогрессии с возможностями настройки шага и значения первого члена. n соответствует числу вызовов функции по подсчету суммы. \n",
    "\n",
    "Предполагаемые сценарии использования:\n",
    "\n",
    "```python\n",
    "\n",
    "sum_arithmetic = make_arithmetic_progression_sum(first_member=2, step=0.5)\n",
    "sum_geometric = make_geometric_progression_sum(first_member=1, step=0.5)\n",
    "\n",
    "print(sum_arithmetic())\n",
    "print(sum_arithmetic())\n",
    "print('')\n",
    "print(sum_geometric())\n",
    "print(sum_geometric())\n",
    "```\n",
    "\n",
    "*Вывод*:\n",
    "```console\n",
    "4.5\n",
    "7.5\n",
    "\n",
    "1.5\n",
    "1.75\n",
    "```"
   ]
  },
  {
   "cell_type": "code",
   "execution_count": 1,
   "metadata": {},
   "outputs": [],
   "source": [
    "def make_arithmetic_progression_sum(first_member: float, step: float):\n",
    "    prev_member = first_member\n",
    "    current_sum = first_member\n",
    "\n",
    "    def wrapper() -> float:\n",
    "        nonlocal prev_member, current_sum\n",
    "\n",
    "        prev_member += step\n",
    "        current_sum += prev_member\n",
    "        return current_sum\n",
    "    \n",
    "    return wrapper \n",
    "\n",
    "\n",
    "def make_geometric_progression_sum(first_member: float, step: float):\n",
    "    # ваш код\n",
    "    pass"
   ]
  },
  {
   "cell_type": "code",
   "execution_count": 2,
   "metadata": {},
   "outputs": [
    {
     "name": "stdout",
     "output_type": "stream",
     "text": [
      "4.5\n",
      "7.5\n",
      "\n"
     ]
    }
   ],
   "source": [
    "sum_arithmetic = make_arithmetic_progression_sum(first_member=2, step=0.5)\n",
    "print(sum_arithmetic())\n",
    "print(sum_arithmetic())\n",
    "print('')"
   ]
  },
  {
   "cell_type": "markdown",
   "metadata": {},
   "source": [
    "# Задача 2: Среднее\n",
    "\n",
    "Предположим, что мы занимаемся инвестициями и у нас есть некоторый портфель акций. Каждый день наш портфель приносит нам некоторый доход или убыток. Мы задались целью: каждый день фиксированного периода определять средний доход (или убыток), который мы получаем. С этой целью мы реализовали функцию get_avg(), принимающую на вход значение заработка на сегодняшний день. Наша функция вычисляет среднее в течении определнного фиксированного периода, скажем, 30 дней, после чего обнуляется и начинает вычислять среднее заново, но уже по новым значениям. \n",
    "\n",
    "Также у нас есть друзья инвесторы, которые оценили разработанный нами функционал и хотели бы заполучить свой экземпляр функции get_avg, для подсчета своего дохода в течении интересующего их промежутка времени.\n",
    "\n",
    "Ваша задача: реализовать функционал, для получения произвольного числа независимых функций get_avg(). В момент создания функции сообщается длительность периода расчета среднего, по достижении которого среднее начинает расчитываться заново, а также наш начальный доход. При каждом вызове функции передается число - заработок в текущий день.\n",
    "\n",
    "Предполагаемые сценарии использования:\n",
    "\n",
    "```python\n",
    "\n",
    "get_avg1 = make_averager(accumulation_period=2)\n",
    "print(get_avg1(78))\n",
    "print(get_avg1(-17))\n",
    "print(get_avg1(52))\n",
    "```\n",
    "\n",
    "*Вывод*:\n",
    "```console\n",
    "78.0\n",
    "30.5\n",
    "52.0\n",
    "```"
   ]
  },
  {
   "cell_type": "code",
   "execution_count": 8,
   "metadata": {},
   "outputs": [],
   "source": [
    "def make_averager(accumulation_period: int = 2):\n",
    "    if accumulation_period < 1:\n",
    "        raise ValueError(\n",
    "            f\"unexpected accumulation period: {accumulation_period}\"\n",
    "        )\n",
    "    \n",
    "    current_day = 0\n",
    "    current_sum = 0\n",
    "\n",
    "    def average(number: float) -> float:\n",
    "        nonlocal current_day, current_sum\n",
    "\n",
    "        if (current_day == accumulation_period):\n",
    "            current_day = 0\n",
    "            current_sum = 0\n",
    "        \n",
    "        current_day += 1\n",
    "        current_sum += number\n",
    "\n",
    "        return current_sum / current_day\n",
    "    \n",
    "    return average"
   ]
  },
  {
   "cell_type": "code",
   "execution_count": 9,
   "metadata": {},
   "outputs": [
    {
     "name": "stdout",
     "output_type": "stream",
     "text": [
      "78.0\n",
      "30.5\n",
      "52.0\n"
     ]
    }
   ],
   "source": [
    "get_avg1 = make_averager(accumulation_period=2)\n",
    "print(get_avg1(78))\n",
    "print(get_avg1(-17))\n",
    "print(get_avg1(52))"
   ]
  },
  {
   "cell_type": "markdown",
   "metadata": {},
   "source": [
    "# Задача 3: Сбор статистик\n",
    "\n",
    "Предположим, что мы работаем в отделе аналитики некоторой компании. В компании также существуют другие отделы, которые разрабатывают некоторые функции для осуществления сложных вычислений. Также в нашей компании существует отдел планирования, который следит за исполнением сроков реализации той или иной функции, и в случае, если разработка затягивается, начинает торопить разработчиков. В таком случае разработчики пишут медленный код на скорую руку, что расстраивает заказчиков.\n",
    "\n",
    "Наша задача, как аналитиков, собрать статистику по проблемным функциям. Нас интересует количество вызовов функции, а также среднее время выполнения функции. Все статистики собираются в отдельную базу данных - специальный единый словарь. Более того, статистика должна собираться не для всех функций, а только для функций, зарегестрированных в базе данных. Затем эта информация будет передана начальству, чтобы в скорейшее время заняться переписанием долгих и популярных функций.\n",
    "\n",
    "Ваша задача реализовать функционал для регистрации функций в БД и сбора статистик. "
   ]
  },
  {
   "cell_type": "code",
   "execution_count": 13,
   "metadata": {},
   "outputs": [],
   "source": [
    "from time import time, sleep\n",
    "from functools import wraps\n",
    "\n",
    "\n",
    "functions_register = {}\n",
    "\n",
    "def register(func):\n",
    "    if (func not in functions_register):\n",
    "        functions_register[func] = [0, 0]\n",
    "    \n",
    "    return func\n",
    "\n",
    "\n",
    "def statistics(func):\n",
    "    if (func not in functions_register):\n",
    "        raise RuntimeError(\"func isn`t registered\")\n",
    "    \n",
    "    @wraps(func)\n",
    "    def wrapper(*args, **kwargs):\n",
    "        start = time()\n",
    "        result = func(*args, **kwargs)\n",
    "        process_time = time() - start\n",
    "\n",
    "        prev_count, prev_avg_time = functions_register[func]\n",
    "        functions_register[func] = [\n",
    "            prev_count + 1,\n",
    "            (prev_count*prev_avg_time + process_time) / (prev_count + 1)\n",
    "        ] \n",
    "\n",
    "        return result\n",
    "    \n",
    "    return wrapper"
   ]
  },
  {
   "cell_type": "code",
   "execution_count": 14,
   "metadata": {},
   "outputs": [
    {
     "data": {
      "text/plain": [
       "{<function __main__.sl()>: [4, 0.6178227663040161]}"
      ]
     },
     "execution_count": 14,
     "metadata": {},
     "output_type": "execute_result"
    }
   ],
   "source": [
    "from random import random\n",
    "\n",
    "\n",
    "@statistics\n",
    "@register\n",
    "def sl():\n",
    "    sleep(random())\n",
    "\n",
    "\n",
    "sl()\n",
    "sl()\n",
    "sl()\n",
    "sl()\n",
    "\n",
    "functions_register"
   ]
  },
  {
   "cell_type": "markdown",
   "metadata": {},
   "source": [
    "# Задача 4: наивный LRU-кэш\n",
    "\n",
    "Представим, что вы являетесь сотрудником департамента оптимизаций некоторой компании, занимающейся разработкой ПО для научных вычислений. Раздел аналитиков предоставил вам исследование, согласно которому значительная часть функций в вашей компании работает очень медленно и должна быть оптимизирована. Более того, согласно исследованию, вызовы этих функций в основном осуществляются с ограниченным множеством аргументов. Для оптимизации этих функций вы решили использовать LRU-кэш:\n",
    "\n",
    "- вы заранее фиксируете размер кэша - памяти, выделенной для хранения результатов вычислений функции;  \n",
    "- в кэше хранится следующая информация: аргументы вызова - результат;  \n",
    "- помимо этого для каждой пары хранится время их последнего вызова;  \n",
    "- в случае достижения объема кэша установленной границы удаляются значения, чьи времена последних вызовов являются самыми старыми;  \n",
    "\n",
    "Для применения данного подхода ко всем проблемным функциям, не переписывая сами функции, вы решили реализовать параметрический декоратор, т.к. для разных функций требуется разный размер кеша.\n",
    "\n",
    "Ваша задача: реализовать описанный декоратор."
   ]
  },
  {
   "cell_type": "code",
   "execution_count": 22,
   "metadata": {},
   "outputs": [],
   "source": [
    "from typing import Any, Callable, TypeVar\n",
    "\n",
    "\n",
    "T = TypeVar(\"T\")\n",
    "\n",
    "\n",
    "def lru_cache(size: int = 5) -> Callable:\n",
    "    def decorator(func: Callable[..., T]) -> Callable[..., T]:\n",
    "        cache: dict[list[Any], list[T, float]]  = {} \n",
    "\n",
    "        @wraps(func)\n",
    "        def wrapper(*args, **kwargs) -> T:\n",
    "            if args in cache:\n",
    "                cache[args][1] = time()\n",
    "                return cache[args][0]\n",
    "            \n",
    "            result = func(*args, **kwargs)\n",
    "\n",
    "            if len(cache) == size:\n",
    "                oldest = min(cache, key=lambda x: cache[x][1])\n",
    "                del cache[oldest]\n",
    "\n",
    "            cache[args] = [result, time()]\n",
    "            return result\n",
    "        \n",
    "        return wrapper\n",
    "\n",
    "    return decorator\n"
   ]
  },
  {
   "cell_type": "code",
   "execution_count": 23,
   "metadata": {},
   "outputs": [
    {
     "data": {
      "text/plain": [
       "3"
      ]
     },
     "execution_count": 23,
     "metadata": {},
     "output_type": "execute_result"
    }
   ],
   "source": [
    "@lru_cache(3)\n",
    "def sl(slt: int) -> int:\n",
    "    sleep(slt)\n",
    "    return slt\n",
    "\n",
    "\n",
    "sl(1)\n",
    "sl(1)\n",
    "sl(2)\n",
    "sl(2)\n",
    "sl(3)\n",
    "sl(3)\n",
    "sl(4)\n",
    "sl(4)\n",
    "sl(1)\n",
    "sl(3)"
   ]
  },
  {
   "cell_type": "code",
   "execution_count": null,
   "metadata": {},
   "outputs": [],
   "source": []
  }
 ],
 "metadata": {
  "kernelspec": {
   "display_name": "Python 3",
   "language": "python",
   "name": "python3"
  },
  "language_info": {
   "codemirror_mode": {
    "name": "ipython",
    "version": 3
   },
   "file_extension": ".py",
   "mimetype": "text/x-python",
   "name": "python",
   "nbconvert_exporter": "python",
   "pygments_lexer": "ipython3",
   "version": "3.11.5"
  }
 },
 "nbformat": 4,
 "nbformat_minor": 2
}
