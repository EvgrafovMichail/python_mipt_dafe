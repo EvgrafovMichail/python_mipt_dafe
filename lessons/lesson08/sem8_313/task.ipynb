{
 "cells": [
  {
   "cell_type": "markdown",
   "metadata": {},
   "source": [
    "# Декораторы"
   ]
  },
  {
   "cell_type": "markdown",
   "metadata": {},
   "source": [
    "# Задача 1: Суммы прогрессий\n",
    "\n",
    "Необходимо реализовать функционал для подсчета суммы первых n + 1 - членов арифметической и геометрической прогрессии с возможностями настройки шага и значения первого члена. n соответствует числу вызовов функции по подсчету суммы. \n",
    "\n",
    "Предполагаемые сценарии использования:\n",
    "\n",
    "```python\n",
    "\n",
    "sum_arithmetic = make_arithmetic_progression_sum(first_member=2, step=0.5)\n",
    "sum_geometric = make_geometric_progression_sum(first_member=1, step=0.5)\n",
    "\n",
    "print(sum_arithmetic())\n",
    "print(sum_arithmetic())\n",
    "print('')\n",
    "print(sum_geometric())\n",
    "print(sum_geometric())\n",
    "```\n",
    "\n",
    "*Вывод*:\n",
    "```console\n",
    "4.5\n",
    "7.5\n",
    "\n",
    "1.5\n",
    "1.75\n",
    "```"
   ]
  },
  {
   "cell_type": "code",
   "execution_count": 4,
   "metadata": {},
   "outputs": [],
   "source": [
    "def make_arithmetic_progression_sum(first_member: float, step: float):\n",
    "    calls_amount = 0\n",
    "    sum_current = first_member\n",
    "    \n",
    "    def arithmetic_progression_sum() -> float:\n",
    "        nonlocal calls_amount, sum_current\n",
    "\n",
    "        calls_amount += 1\n",
    "        sum_current += calls_amount * step + first_member\n",
    "        return sum_current\n",
    "\n",
    "    return arithmetic_progression_sum\n",
    "\n",
    "def make_geometric_progression_sum(first_member: float, step: float):\n",
    "    last_member = first_member\n",
    "    sum_current = first_member\n",
    "    \n",
    "    def geometric_progression_sum() -> float:\n",
    "        nonlocal last_member, sum_current\n",
    "        last_member *= step\n",
    "        sum_current += last_member\n",
    "        return sum_current\n",
    "    \n",
    "    return geometric_progression_sum"
   ]
  },
  {
   "cell_type": "code",
   "execution_count": 5,
   "metadata": {},
   "outputs": [
    {
     "name": "stdout",
     "output_type": "stream",
     "text": [
      "4.5\n",
      "7.5\n",
      "\n",
      "1.5\n",
      "1.75\n"
     ]
    }
   ],
   "source": [
    "sum_arithmetic = make_arithmetic_progression_sum(first_member=2, step=0.5)\n",
    "sum_geometric = make_geometric_progression_sum(first_member=1, step=0.5)\n",
    "\n",
    "print(sum_arithmetic())\n",
    "print(sum_arithmetic())\n",
    "print('')\n",
    "print(sum_geometric())\n",
    "print(sum_geometric())"
   ]
  },
  {
   "cell_type": "markdown",
   "metadata": {},
   "source": [
    "# Задача 2: Среднее\n",
    "\n",
    "Предположим, что мы занимаемся инвистициями и у нас есть некоторый портфель акций. Каждый день наш портфель приносит нам некоторый доход или убыток. Мы задались целью: каждый день фиксированного периода определять средний доход (или убыток), который мы получаем. С этой целью мы реализовали функцию get_avg(), принимающую на вход значение заработка на сегодняшний день. Наша функция вычисляет среднее в течении определнного фиксированного периода, скажем, 30 дней, после чего обнуляется и начинает вычислять среднее заново, но уже по новым значениям. \n",
    "\n",
    "Также у нас есть друзья инвесторы, которые оценили разработанный нами функционал и хотели бы заполучить свой экземпляр функции get_avg, для подсчета своего дохода в течении интересующего их промежутка времени.\n",
    "\n",
    "Ваша задача: реализовать функционал, для получения произвольного числа независимых функций get_avg(). В момент создания функции сообщается длительность периода расчета среднего, по достижении которого среднее начинает расчитываться заново, а также наш начальный доход. При каждом вызове функции передается число - заработок в текущий день.\n",
    "\n",
    "Предполагаемые сценарии использования:\n",
    "\n",
    "```python\n",
    "\n",
    "get_avg1 = make_averager(accumulation_period=2)\n",
    "print(get_avg1(78))\n",
    "print(get_avg1(-17))\n",
    "print(get_avg1(52))\n",
    "```\n",
    "\n",
    "*Вывод*:\n",
    "```console\n",
    "78.0\n",
    "30.5\n",
    "52.0\n",
    "```"
   ]
  },
  {
   "cell_type": "code",
   "execution_count": 12,
   "metadata": {},
   "outputs": [],
   "source": [
    "def make_averager(accumulation_period: int):\n",
    "    accumulation_period = int(accumulation_period)\n",
    "\n",
    "    if accumulation_period < 1:\n",
    "        raise ValueError(\n",
    "            'Wrong accumulation period - '\n",
    "            'Expected positive'\n",
    "        )\n",
    "    \n",
    "    sum_current = day_current = 0\n",
    "\n",
    "    def averager(number: float) -> float:\n",
    "        nonlocal sum_current, day_current\n",
    "        \n",
    "        number = float(number)\n",
    "        day_current += 1\n",
    "\n",
    "        if day_current > accumulation_period:\n",
    "            day_current = 1\n",
    "            sum_current = 0\n",
    "        \n",
    "        sum_current += number\n",
    "        return sum_current / day_current\n",
    "    \n",
    "    return averager        "
   ]
  },
  {
   "cell_type": "code",
   "execution_count": 13,
   "metadata": {},
   "outputs": [
    {
     "name": "stdout",
     "output_type": "stream",
     "text": [
      "78.0\n",
      "30.5\n",
      "52.0\n"
     ]
    }
   ],
   "source": [
    "get_avg1 = make_averager(accumulation_period=2)\n",
    "print(get_avg1(78))\n",
    "print(get_avg1(-17))\n",
    "print(get_avg1(52))"
   ]
  },
  {
   "cell_type": "markdown",
   "metadata": {},
   "source": [
    "# Задача 3: Сбор статистик\n",
    "\n",
    "Предположим, что мы работаем в отделе аналитики некоторой компании. В компании также существуют другие отделы, которые разрабатывают некоторые функции для осуществления сложных вычислений. Также в нашей компании существует отдел планирования, который следит за исполнением сроков реализации той или иной функции, и в случае, если разработка затягивается, начинает торопить разработчиков. В таком случае разработчики пишут медленный код на скорую руку, что расстраивает заказчиков.\n",
    "\n",
    "Наша задача, как аналитиков, собрать статистику по проблемным функциям. Нас интересует количество вызовов функции, а также среднее время выполнения функции. Все статистики собираются в отдельную базу данных - специальный единый словарь. Более того, статистика должна собираться не для всех функций, а только для функций, зарегестрированных в базе данных. Затем эта информация будет передана начальству, чтобы в скорейшее время заняться переписанием долгих и популярных функций.\n",
    "\n",
    "Ваша задача реализовать функционал для регистрации функций в БД и сбора статистик. "
   ]
  },
  {
   "cell_type": "code",
   "execution_count": 3,
   "metadata": {},
   "outputs": [],
   "source": [
    "from time import time\n",
    "from functools import wraps\n",
    "\n",
    "functions_register = {}\n",
    "\n",
    "def register(func):\n",
    "    if func not in functions_register:\n",
    "        functions_register[func] = [0, 0]\n",
    "\n",
    "    return func\n",
    "\n",
    "def statistics(func):\n",
    "    if func not in functions_register:\n",
    "        raise RuntimeError(\n",
    "            'Expected registered function for statistics'\n",
    "        )\n",
    "    \n",
    "    @wraps(func)\n",
    "    def recieve_statistic(*args, **kvargs):\n",
    "        \n"
   ]
  },
  {
   "cell_type": "code",
   "execution_count": null,
   "metadata": {},
   "outputs": [],
   "source": []
  },
  {
   "cell_type": "markdown",
   "metadata": {},
   "source": [
    "# Задача 4: наивный LRU-кэш\n",
    "\n",
    "Представим, что вы являетесь сотрудником департамента оптимизаций некоторой компании, занимающейся разработкой ПО для научных вычислений. Раздел аналитиков предоставил вам исследование, согласно которому значительная часть функций в вашей компании работает очень медленно и должна быть оптимизирована. Более того, согласно исследованию, вызовы этих функций в основном осуществляются с ограниченным множеством аргументов. Для оптимизации этих функций вы решили использовать LRU-кэш:\n",
    "\n",
    "- вы заранее фиксируете размер кэша - памяти, выделенной для хранения результатов вычислений функции;  \n",
    "- в кэше хранится следующая информация: аргументы вызова - результат;  \n",
    "- помимо этого для каждой пары хранится время их последнего вызова;  \n",
    "- в случае достижения объема кэша установленной границы удаляются значения, чьи времена последних вызовов являются самыми старыми;  \n",
    "\n",
    "Для применения данного подхода ко всем проблемным функциям, не переписывая сами функции, вы решили реализовать параметрический декоратор, т.к. для разных функций требуется разный размер кеша.\n",
    "\n",
    "Ваша задача: реализовать описанный декоратор."
   ]
  },
  {
   "cell_type": "code",
   "execution_count": 4,
   "metadata": {},
   "outputs": [],
   "source": [
    "# ваш код"
   ]
  }
 ],
 "metadata": {
  "kernelspec": {
   "display_name": "Python 3",
   "language": "python",
   "name": "python3"
  },
  "language_info": {
   "codemirror_mode": {
    "name": "ipython",
    "version": 3
   },
   "file_extension": ".py",
   "mimetype": "text/x-python",
   "name": "python",
   "nbconvert_exporter": "python",
   "pygments_lexer": "ipython3",
   "version": "3.11.5"
  }
 },
 "nbformat": 4,
 "nbformat_minor": 2
}
