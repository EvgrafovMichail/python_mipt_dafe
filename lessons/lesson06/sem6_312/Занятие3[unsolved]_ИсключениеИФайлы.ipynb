{
 "cells": [
  {
   "cell_type": "markdown",
   "id": "66b27650",
   "metadata": {},
   "source": [
    "# 1. Введение"
   ]
  },
  {
   "cell_type": "markdown",
   "id": "01784ecd",
   "metadata": {},
   "source": [
    "## Простая задача:\n",
    "Напишите программу ввода целого числа пользователем."
   ]
  },
  {
   "cell_type": "code",
   "execution_count": null,
   "id": "e3a7bf03",
   "metadata": {},
   "outputs": [],
   "source": []
  },
  {
   "cell_type": "code",
   "execution_count": 5,
   "id": "4f54d8a6",
   "metadata": {},
   "outputs": [],
   "source": [
    "# проверка, что каждый символ - цифра"
   ]
  },
  {
   "cell_type": "code",
   "execution_count": 6,
   "id": "1f4d4486",
   "metadata": {},
   "outputs": [],
   "source": [
    "# проверка лишних пробелов"
   ]
  },
  {
   "cell_type": "code",
   "execution_count": 7,
   "id": "e14e61d2",
   "metadata": {},
   "outputs": [],
   "source": [
    "# проверка первого знака -\n"
   ]
  },
  {
   "cell_type": "code",
   "execution_count": 8,
   "id": "4f9c63a6",
   "metadata": {},
   "outputs": [],
   "source": [
    "# проверка первого знака +\n"
   ]
  },
  {
   "cell_type": "markdown",
   "id": "a4662f8f",
   "metadata": {},
   "source": [
    "Этот процесс можно продолжать долго. В оперделённый момент мы можем получить такой страшный код:"
   ]
  },
  {
   "cell_type": "code",
   "execution_count": 33,
   "id": "da2a6d2e",
   "metadata": {},
   "outputs": [
    {
     "name": "stdout",
     "output_type": "stream",
     "text": [
      "Введите целое число: +123_345\n"
     ]
    }
   ],
   "source": [
    "number = input('Введите целое число: ').strip()\n",
    "if number and (number[0] in '+-' or number[0].isdecimal()) and \\\n",
    "    all(number[i].isdecimal() or number[i] == '_' for i in range(1, len(number))) and \\\n",
    "    number[-1].isdecimal():\n",
    "    number = int(number)\n",
    "else:\n",
    "    print('Это не целое число, попробуйте еще раз...')"
   ]
  },
  {
   "cell_type": "markdown",
   "id": "3e8738ac",
   "metadata": {},
   "source": [
    "И это ещё не предель...  \n",
    "Очевидно, задача оказалась сложнее, чем казалось на первый взгляд."
   ]
  },
  {
   "cell_type": "markdown",
   "id": "0a61b083",
   "metadata": {},
   "source": [
    "## Две основные стратегии обработки ошибок:\n",
    "\n",
    "### 1. LBYL (Look Before You Leap) — «Семь раз отмерь, один раз отрежь».\n",
    "Данный подход предполагает, что мы должны избегать ошибок. То есть мы должны сначала проверить, правильные ли у нас данные и можем ли мы с ними работать, а потом уже переходить к их обработке.  \n",
    "\n",
    "С бытовой точки зрения этот подход кажется естественным и логичным. Однако, как показал предыдущий пример - не всегда...  \n",
    "\n",
    "### 2. EAFP (Easier to Ask for Forgiveness than Permission) — «Легче попросить прощения, чем разрешения».  \n",
    "Подход сводится к тому, чтобы попробовать выполнить какую-либо операцию. Если\n",
    "выполнить действие не получится, тогда нужно уже предпринимать какие-либо меры."
   ]
  },
  {
   "cell_type": "markdown",
   "id": "71e850e5",
   "metadata": {},
   "source": [
    "## Основные типы исключений\n",
    "\n",
    "Вы уже не раз сталкивались с исключениями. Но давайте встретимся ещё раз:\n",
    "\n",
    "1. поделите на ноль\n",
    "2. во время команды input() остановите выполенение\n",
    "3. обратитесь к неизвестной переменной\n",
    "4. обратитесь к неизвестному атрибуту\n",
    "5. импортируйте библиотеку nuMMMpy\n",
    "6. приведите строку `qwe` к целочисленному типу\n",
    "7. вызовите функцию print() только с одной ковычкой"
   ]
  },
  {
   "cell_type": "code",
   "execution_count": 53,
   "id": "b03e6c25",
   "metadata": {},
   "outputs": [],
   "source": [
    "#1\n"
   ]
  },
  {
   "cell_type": "code",
   "execution_count": 54,
   "id": "ce15633c",
   "metadata": {},
   "outputs": [],
   "source": [
    "#2\n"
   ]
  },
  {
   "cell_type": "code",
   "execution_count": 55,
   "id": "c59d0cd6",
   "metadata": {},
   "outputs": [],
   "source": [
    "#3\n"
   ]
  },
  {
   "cell_type": "code",
   "execution_count": 56,
   "id": "1f3ea27b",
   "metadata": {},
   "outputs": [],
   "source": [
    "#4\n"
   ]
  },
  {
   "cell_type": "code",
   "execution_count": 57,
   "id": "e50ef4c5",
   "metadata": {},
   "outputs": [],
   "source": [
    "#5\n"
   ]
  },
  {
   "cell_type": "code",
   "execution_count": 58,
   "id": "cb4cca37",
   "metadata": {},
   "outputs": [],
   "source": [
    "#6\n"
   ]
  },
  {
   "cell_type": "code",
   "execution_count": 59,
   "id": "b6c88c85",
   "metadata": {},
   "outputs": [],
   "source": [
    "#7\n"
   ]
  },
  {
   "cell_type": "markdown",
   "id": "76ac10e1",
   "metadata": {},
   "source": [
    "[В документации к языку](https://docs.python.org/3/library/exceptions.html) Достаточно подробно описана иерархия классов исключений.  \n",
    "Все исключения наследуются от базового класса `BaseException`, а все «обычные» исключения наследуется от класса `Exception`:\n",
    "\n",
    "* BaseException:\n",
    "    * BaseExceptionGroup\n",
    "    * GeneratorExit\n",
    "    * KeyboardInterrupt\n",
    "    * SystemExit\n",
    "    * Exception"
   ]
  },
  {
   "cell_type": "markdown",
   "id": "83bdd436",
   "metadata": {},
   "source": [
    "Класс `Exception` содержит также несколько уровней иерархии (см. картинку):  \n",
    "\n",
    "![Exception_tree.png](Exception_tree.png)"
   ]
  },
  {
   "cell_type": "markdown",
   "id": "83ae32d7",
   "metadata": {},
   "source": [
    "# 2. Обработка исключений в Pyhton\n",
    "\n",
    "## Пример использования  \n",
    "\n",
    "Вернёмся к рассмотренной ранее задаче: ввод целого числа. Решение задачи в стиле EAFP может выглядеть следующим образом:"
   ]
  },
  {
   "cell_type": "code",
   "execution_count": null,
   "id": "e49da539",
   "metadata": {},
   "outputs": [],
   "source": []
  },
  {
   "cell_type": "markdown",
   "id": "d9247b32",
   "metadata": {},
   "source": [
    "Однако писать просто `except` - плохо (не всегда, но плохо)..."
   ]
  },
  {
   "cell_type": "markdown",
   "id": "59ccc0d4",
   "metadata": {},
   "source": [
    "## Краткий шаблон синтаксиса оператора `try-except`:"
   ]
  },
  {
   "cell_type": "code",
   "execution_count": 22,
   "id": "cec54c5a",
   "metadata": {},
   "outputs": [],
   "source": []
  },
  {
   "cell_type": "markdown",
   "id": "cbb278a6",
   "metadata": {},
   "source": [
    "Перепишем решение по этому шаблону:"
   ]
  },
  {
   "cell_type": "code",
   "execution_count": null,
   "id": "1e385b3e",
   "metadata": {},
   "outputs": [],
   "source": []
  },
  {
   "cell_type": "markdown",
   "id": "2121bba2",
   "metadata": {},
   "source": [
    "А что будет если прервать работу программы с клавиатуры? Исключение сработает? Что нужно сделать чтоб сработало?"
   ]
  },
  {
   "cell_type": "code",
   "execution_count": null,
   "id": "a7d3e597",
   "metadata": {},
   "outputs": [],
   "source": []
  },
  {
   "cell_type": "markdown",
   "id": "c680edf6",
   "metadata": {},
   "source": [
    "А можно ли не перечислять `ValueError, KeyboardInterrupt`? Вспомните иерархию классов."
   ]
  },
  {
   "cell_type": "code",
   "execution_count": null,
   "id": "4c5b77d9",
   "metadata": {},
   "outputs": [],
   "source": []
  },
  {
   "cell_type": "markdown",
   "id": "3a3831fa",
   "metadata": {},
   "source": [
    "***Но с такими обобщениями нужно быть аакуратнее!!!***"
   ]
  },
  {
   "cell_type": "markdown",
   "id": "414ae602",
   "metadata": {},
   "source": [
    "## Стандарный шаблон"
   ]
  },
  {
   "cell_type": "code",
   "execution_count": null,
   "id": "75a09c5c",
   "metadata": {},
   "outputs": [],
   "source": []
  },
  {
   "cell_type": "markdown",
   "id": "5a963bbc",
   "metadata": {},
   "source": [
    "Решим задачу используя этот шаблон:"
   ]
  },
  {
   "cell_type": "code",
   "execution_count": null,
   "id": "6b7d7c82",
   "metadata": {},
   "outputs": [],
   "source": []
  },
  {
   "cell_type": "markdown",
   "id": "fba4055a",
   "metadata": {},
   "source": [
    "Однако, можно обеспечить ту же функциональность без блоков `else` и `finally`:"
   ]
  },
  {
   "cell_type": "code",
   "execution_count": null,
   "id": "fd1622c0",
   "metadata": {},
   "outputs": [],
   "source": []
  },
  {
   "cell_type": "markdown",
   "id": "601056d7",
   "metadata": {},
   "source": [
    "Однако первый вариант синтаксиса предпочтительнее: там явным образом делятся \"положительный\" и \"негативный\" сценарии."
   ]
  },
  {
   "cell_type": "markdown",
   "id": "d6a8a559",
   "metadata": {},
   "source": [
    "## Самый полный шаблон"
   ]
  },
  {
   "cell_type": "code",
   "execution_count": 7,
   "id": "8fa16a26",
   "metadata": {},
   "outputs": [],
   "source": [
    "try:\n",
    "    # код, который может вызвать ошибку\n",
    "    pass\n",
    "\n",
    "except (Exception1, Exception2) as e:    # указываем тип ошибки\n",
    "    # обработка ошибок 1 и 2\n",
    "    pass\n",
    "except Exception3:\n",
    "    # обработка ошибки 3\n",
    "    pass\n",
    "except Exception:    # вспомните иерархию классов\n",
    "    # обработка всех остальных ошибок\n",
    "    pass\n",
    "\n",
    "else:\n",
    "    # что делать, если ошибок не было\n",
    "    pass\n",
    "finally:\n",
    "    # что сделать в любом случае\n",
    "    pass"
   ]
  },
  {
   "cell_type": "markdown",
   "id": "2ada632b",
   "metadata": {},
   "source": [
    "В таком случае получим следующее решение:"
   ]
  },
  {
   "cell_type": "code",
   "execution_count": null,
   "id": "c636c27d",
   "metadata": {},
   "outputs": [],
   "source": []
  },
  {
   "cell_type": "markdown",
   "id": "e663c067",
   "metadata": {},
   "source": [
    "Отлично!    \n",
    "\n",
    "Мы научились обрабатывать основные типы исключений!"
   ]
  },
  {
   "cell_type": "markdown",
   "id": "88cce6e8",
   "metadata": {},
   "source": [
    "## Генерация исключений. Оператор raise"
   ]
  },
  {
   "cell_type": "markdown",
   "id": "f1e0fba3",
   "metadata": {},
   "source": [
    "Создавать исключения можно с помощью оператора `raise`.\n",
    "\n",
    "Попробуйте созадать исключение на ровном месте:"
   ]
  },
  {
   "cell_type": "code",
   "execution_count": 36,
   "id": "00100cc6",
   "metadata": {},
   "outputs": [
    {
     "ename": "IndexError",
     "evalue": "('some massege', 1, 2)",
     "output_type": "error",
     "traceback": [
      "\u001b[0;31m---------------------------------------------------------------------------\u001b[0m",
      "\u001b[0;31mIndexError\u001b[0m                                Traceback (most recent call last)",
      "\u001b[0;32m/tmp/ipykernel_6003/2602018470.py\u001b[0m in \u001b[0;36m<module>\u001b[0;34m\u001b[0m\n\u001b[0;32m----> 1\u001b[0;31m \u001b[0;32mraise\u001b[0m \u001b[0mIndexError\u001b[0m\u001b[0;34m(\u001b[0m\u001b[0;34m\"some massege\"\u001b[0m\u001b[0;34m,\u001b[0m \u001b[0;36m1\u001b[0m\u001b[0;34m,\u001b[0m \u001b[0;36m2\u001b[0m\u001b[0;34m)\u001b[0m\u001b[0;34m\u001b[0m\u001b[0;34m\u001b[0m\u001b[0m\n\u001b[0m",
      "\u001b[0;31mIndexError\u001b[0m: ('some massege', 1, 2)"
     ]
    }
   ],
   "source": []
  },
  {
   "cell_type": "markdown",
   "id": "2263e90c",
   "metadata": {},
   "source": [
    "Попытаемся обработать сгенерированное исключение.  \n",
    "Добавьте функцию, которая бросит исключение, если введённое число меньше нуля.  \n",
    "Добавьте функцию, которая просто бросает исключение..."
   ]
  },
  {
   "cell_type": "code",
   "execution_count": null,
   "id": "05156301",
   "metadata": {},
   "outputs": [],
   "source": []
  },
  {
   "cell_type": "markdown",
   "id": "0b708880",
   "metadata": {},
   "source": [
    "Не рекомендуется писать `raise Exception(...)`, потому что эта запись никак не отображает суть исключения."
   ]
  },
  {
   "cell_type": "markdown",
   "id": "ad0caa6a",
   "metadata": {},
   "source": [
    "## Исключния создаваемые пользователем"
   ]
  },
  {
   "cell_type": "markdown",
   "id": "9b23fc80",
   "metadata": {},
   "source": [
    "Если вы хотите создать свой тип исключений (что рекоммендуется), то нужно, как вы могли догаться создать __наследника класса Exception__ и при вызове оператора `raise` бросать соответсвующее исключение.\n",
    "\n",
    "\n"
   ]
  },
  {
   "cell_type": "code",
   "execution_count": 50,
   "id": "4880be1b",
   "metadata": {},
   "outputs": [],
   "source": []
  },
  {
   "cell_type": "markdown",
   "id": "20cc7d3d",
   "metadata": {},
   "source": [
    "Скопируйте предыдущий код, только теперь в функции `my_raiser` генерируйте особое исключение."
   ]
  },
  {
   "cell_type": "code",
   "execution_count": null,
   "id": "36dd6dc1",
   "metadata": {},
   "outputs": [],
   "source": []
  },
  {
   "cell_type": "markdown",
   "id": "89c538a4",
   "metadata": {},
   "source": [
    "## Задача на обработку исключений:\n",
    "\n",
    "Дан список целых чисел. Пользователю предлагается ввести:\n",
    "1) номер числа из данного списка;  \n",
    "2) число, на которое следует поделить число, выбранное из списка.  \n",
    "\n",
    "Предусмотреть ситуации:  \n",
    "1) числа с таким номером нет;  \n",
    "2) в качестве делителя введен ноль;  \n",
    "3) другие возможные ошибки  "
   ]
  },
  {
   "cell_type": "code",
   "execution_count": null,
   "id": "5ce4bf9b",
   "metadata": {},
   "outputs": [],
   "source": []
  },
  {
   "cell_type": "markdown",
   "id": "dfdd9113",
   "metadata": {},
   "source": [
    "## Замечание: проблема метлы\n",
    "\n",
    "Главный вопрос, который встает перед нами в этой ситуации: где именно обрабатывать исключение? Общий принцип — чем ближе к месту, тем лучше. Но не всегда можно обработать исключение непосредственно там, где оно возникает.\n",
    "\n",
    "![organization.png](organization.png)\n",
    "  \n",
    "  \n",
    "В конце иерархии есть сотрудник без подчиненных — например, дворник. Если вдруг\n",
    "его метла будет сломана, то он должен понять, может ли он сам справиться с этой\n",
    "проблемой.  \n",
    "1) ДА: он может починить метлу самостоятельно и продолжить работу. Тогда никаких дополнительных действий совершать не нужно.  \n",
    "\n",
    "\n",
    "2) НЕТ: он обращается к своему начальнику. Если тот не может решить проблему, то он обращается к своему начальнику. И так выше, не доводя до сведения генерального директора.  \n",
    "\n",
    "\n",
    "__Важно!__  \n",
    "Важно найти правильный уровень, который будет достаточно высоким, чтобы\n",
    "решить проблему и справиться с исключениями (имеет достаточно полномочий). Но не будет слишком высоким, чтобы внутренние детали реализации мелких функций не\n",
    "влияли на код, который находится на высоком уровне."
   ]
  }
 ],
 "metadata": {
  "kernelspec": {
   "display_name": "Python 3 (ipykernel)",
   "language": "python",
   "name": "python3"
  },
  "language_info": {
   "codemirror_mode": {
    "name": "ipython",
    "version": 3
   },
   "file_extension": ".py",
   "mimetype": "text/x-python",
   "name": "python",
   "nbconvert_exporter": "python",
   "pygments_lexer": "ipython3",
   "version": "3.9.13"
  },
  "toc": {
   "base_numbering": 1,
   "nav_menu": {},
   "number_sections": true,
   "sideBar": true,
   "skip_h1_title": false,
   "title_cell": "Table of Contents",
   "title_sidebar": "Contents",
   "toc_cell": false,
   "toc_position": {},
   "toc_section_display": true,
   "toc_window_display": false
  }
 },
 "nbformat": 4,
 "nbformat_minor": 5
}
