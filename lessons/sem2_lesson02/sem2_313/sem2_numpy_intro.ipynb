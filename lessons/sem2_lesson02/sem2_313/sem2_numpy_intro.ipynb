{
 "cells": [
  {
   "cell_type": "markdown",
   "metadata": {},
   "source": [
    "# Семинар 2. Введение в NumPy\n",
    "\n",
    "## Мотивация к изучению\n",
    "\n",
    "Во многих прикладных задачах вам предстоит иметь дело с данными, хранящимися в массивах различной размерности. Так, например, при работе с радиолокационными или акустическими сигналами вы, скорее всего, будете иметь дело с одномерными массивами, ячейки которых будут представлять собой дескритизированное время, а содержимое этих ячеек - амплитуду сигнала. При анализе одноканальных изображений вам предстоит обрабатывать двумерные массивы, в ячейках которых закодированы яркости пикселей изображения. Наконец, при работе с цветными изображениями вы столкнетесь с многомерными массивами - тензорами. Также многомерные массивы лежат в основе большого количества алгоритмов и технологий, к числу которых относятся, например, сверточные нейронные сети.\n",
    "\n",
    "![image-struct](./images/image_struct.png)\n",
    "\n",
    "Из всего выше сказанного, очевидно, что необходим инструмент для работы с большими массивами и массивами большой размерности. Из заголовка семинара и из хода повествования вам должно быть очевидно, что к числу таких инструментов и относится `NumPy`. Однако, прежде, чем перейти к знакомству с ним, давайте подумаем, почему мы не можем использовать \"чистый\" Python для работы с большими и многомерными массивами. Решим пару задач.\n",
    "\n",
    "## Задача 1. Перегруз\n",
    "\n",
    "**Познавательная минутка**\n",
    "\n",
    "Думаю, все вы слышали звук перегруженной гитары (если это не так, могу вам только посочувствовать и посоветовать послушать *Black Sabbath - \"Iron Man\"*). Давайте разберемся откуда берется этот звук, на примере перегруженного усилителя. Итак, в нашем распоряжении есть электрогитара и гитарный усилитель. С помощью электрогитары мы получаем некоторый электромагнитный сигнал, который поступает на вход усилителя по кабелю. Внутри гитарного усилителя происходит, как это не странно, усиление входного сигнала. Усиленный сигнал поступает на динамик усилителя, и мы слышим музыку. Однако амплитудный диапазон динамика не резиновый, и он не может воспроизводить любой училенный сигнал в исходном виде и без искажений. Когда амплитуда усиленного сигнала превышает максимальную амлитуду, которую способен воспроизвести динамик, происходит так называемый клиппинг, т.е. обрезание пиков. В результате мы слышим искаженный усиленный сигнал и получаем тот самый эффект перегруза.\n",
    "\n",
    "![signal-clipping](./images/clipping.png)\n",
    "\n",
    "**Задание**\n",
    "\n",
    "Для того, чтобы понять, почему \"чистый\" Python не подойдет для работы с большими массивами, реализуем описанный выше алгоритм клиппинга. Чтобы реализовать алгоритм, нам потребуется:\n",
    "- Создать сам сигнал;\n",
    "- Усилить сигнал;\n",
    "- Клипнуть сигнал;\n",
    "\n",
    "Для каждого описанного выше шага реализуем функцию отдельную функцию.\n",
    "\n",
    "Функция для создания сигнала будет принимать на вход период дискретизации (шаг по времени), количество дискретов (число отсчетов в сигнале), функцию модуляции - $f(x)$. Выходным значением будет список, элементами которого являются значения функции $sin(t_i) * f(t_i)$.\n",
    "\n",
    "Функция усиления сигнала будет принимать на вход список действительных числе - входной сигнал, - и целое число - коэффициент усиления. Выходом функции будет список, элементы которого - элементы исходного списка, умноженные на коэффициент усиления.\n",
    "\n",
    "Функия клиппинга будет принимать на вход усиленный сигнал порог, по которому будет производиться обрезание. Выход функции - список, элементы которого - клипнутые элементы входного массива.\n",
    "\n",
    "**Необходимые импорты:**"
   ]
  },
  {
   "cell_type": "code",
   "execution_count": 7,
   "metadata": {},
   "outputs": [],
   "source": [
    "import math\n",
    "import sys\n",
    "import os\n",
    "\n",
    "from typing import Sequence, Callable, Optional\n",
    "\n",
    "from utils import read_floats_from_bytes\n",
    "from utils import visualize_1d_array"
   ]
  },
  {
   "cell_type": "markdown",
   "metadata": {},
   "source": [
    "**Константы:**"
   ]
  },
  {
   "cell_type": "code",
   "execution_count": 8,
   "metadata": {},
   "outputs": [],
   "source": [
    "sequence_size = int(1e7)                    # количество отсчетов в сигнале                          \n",
    "time_step = 6 * math.pi *1e-7               # период дискретизации\n",
    "amplification = 10                          # коэффициент усиления\n",
    "thrashold = 4                               # порог\n",
    "modulation = lambda x: math.exp(-0.1 * x)   # функция модуляции\n",
    "eps = 1e-6                                  # точность"
   ]
  },
  {
   "cell_type": "markdown",
   "metadata": {},
   "source": [
    "**Функции:**"
   ]
  },
  {
   "cell_type": "code",
   "execution_count": 9,
   "metadata": {},
   "outputs": [],
   "source": [
    "def get_signal(\n",
    "    sequence_size: int,\n",
    "    time_step: float,\n",
    "    modulation: Optional[Callable[[float], float]] = None,\n",
    ") -> list[float]:\n",
    "    # ваш код\n",
    "    \n",
    "    return [0 for _ in range(sequence_size)]"
   ]
  },
  {
   "cell_type": "code",
   "execution_count": 10,
   "metadata": {},
   "outputs": [],
   "source": [
    "def amplify_signal(\n",
    "    signal: Sequence[float],\n",
    "    amplification: float,\n",
    ") -> Sequence[float]:\n",
    "    # ваш код\n",
    "\n",
    "    return signal"
   ]
  },
  {
   "cell_type": "code",
   "execution_count": 11,
   "metadata": {},
   "outputs": [],
   "source": [
    "def apply_clipping(\n",
    "    signal: Sequence[float],\n",
    "    thrashold: int,\n",
    ") -> Sequence[float]:\n",
    "    # ваш код\n",
    "\n",
    "    return signal"
   ]
  },
  {
   "cell_type": "markdown",
   "metadata": {},
   "source": [
    "**Тесты:**"
   ]
  },
  {
   "cell_type": "code",
   "execution_count": 6,
   "metadata": {},
   "outputs": [
    {
     "name": "stdout",
     "output_type": "stream",
     "text": [
      "signal size: 89095160 bytes\n"
     ]
    }
   ],
   "source": [
    "signal = get_signal(sequence_size, time_step, modulation)\n",
    "signal_amplified = amplify_signal(signal, amplification)\n",
    "signal_clipped = apply_clipping(signal_amplified, thrashold)\n",
    "\n",
    "print(f\"signal size: {sys.getsizeof(signal)} bytes\")"
   ]
  },
  {
   "cell_type": "code",
   "execution_count": 10,
   "metadata": {},
   "outputs": [],
   "source": [
    "visualize_1d_array(ordinate=signal_clipped)"
   ]
  },
  {
   "cell_type": "code",
   "execution_count": 8,
   "metadata": {},
   "outputs": [],
   "source": [
    "assert signal is not signal_amplified\n",
    "assert signal_amplified is not signal_clipped"
   ]
  },
  {
   "cell_type": "code",
   "execution_count": null,
   "metadata": {},
   "outputs": [],
   "source": [
    "path_to_reference = os.path.join(\"test_data\", \"signal_clipped.log\")\n",
    "assert os.path.exists(path_to_reference)\n",
    "\n",
    "signal_referense = read_floats_from_bytes(\n",
    "    sequence_size, path_to_reference\n",
    ")\n",
    "\n",
    "assert all(\n",
    "    abs(amp - amp_ref) < eps\n",
    "    for amp, amp_ref in zip(signal_clipped, signal_referense)\n",
    ")"
   ]
  },
  {
   "cell_type": "code",
   "execution_count": null,
   "metadata": {},
   "outputs": [],
   "source": [
    "del signal\n",
    "del signal_amplified\n",
    "del signal_clipped\n",
    "del signal_referense"
   ]
  },
  {
   "cell_type": "markdown",
   "metadata": {},
   "source": [
    "Как можно видеть, уже на 10 миллионах чисел с плавающей точкой у нас начинаются проблемы. Клиппинг происходит достаточно медленно. Может, дела обстоят иначе для многомерных массивах?\n",
    "\n",
    "## Задача 2. Матрицы\n",
    "\n",
    "### Часть 1. Перемножение\n",
    "\n",
    "Задача проста: необходимо реализовать функцию, которая занималась бы перемножением двух матриц по всем правилам линейной алгебры. На вход подаются два двумерных массива чисел с плавающей точкой, на выходе мы должны получить двумерный массива чисел с плавающей точкой - произведение входных матриц. \n",
    "\n",
    "Также функция должна уметь проверять размеры входных массивов и возбуждать исключение, в случае, если размеры матриц не позволяют вычислить произведение. Предполагаем, что на вход всегда подаются двумерные массивы, даже в случае векторов.\n",
    "\n",
    "**Необходимые импорты:**"
   ]
  },
  {
   "cell_type": "code",
   "execution_count": 24,
   "metadata": {},
   "outputs": [],
   "source": [
    "from random import randint\n",
    "from numbers import Real"
   ]
  },
  {
   "cell_type": "markdown",
   "metadata": {},
   "source": [
    "**Константы:**"
   ]
  },
  {
   "cell_type": "code",
   "execution_count": 22,
   "metadata": {},
   "outputs": [],
   "source": [
    "columns_amount = 1000           # число колонок в матрице\n",
    "rows_amount = 500               # число строк в матрице\n",
    "\n",
    "bottom = -10                    # нижняя граница значений числе в матрице\n",
    "top = 10                        # верхняя граница значений числе в матрице"
   ]
  },
  {
   "cell_type": "markdown",
   "metadata": {},
   "source": [
    "**Функции:**"
   ]
  },
  {
   "cell_type": "code",
   "execution_count": 3,
   "metadata": {},
   "outputs": [],
   "source": [
    "def multiply_matrices(\n",
    "    lhs: list[list[Real]],\n",
    "    rhs: list[list[Real]],\n",
    ") -> list[list[Real]]:\n",
    "    # ваш код\n",
    "\n",
    "    return [[0]]"
   ]
  },
  {
   "cell_type": "markdown",
   "metadata": {},
   "source": [
    "**Тесты:**"
   ]
  },
  {
   "cell_type": "code",
   "execution_count": 19,
   "metadata": {},
   "outputs": [],
   "source": [
    "lhs = [\n",
    "    [7, -1, -4],\n",
    "    [-1, 5, -1],\n",
    "]\n",
    "rhs = [\n",
    "    [-2, -5],\n",
    "    [-5, -6],\n",
    "    [-5, 3],\n",
    "]\n",
    "reference = [\n",
    "    [11, -41],\n",
    "    [-18, -28]\n",
    "]"
   ]
  },
  {
   "cell_type": "code",
   "execution_count": 21,
   "metadata": {},
   "outputs": [],
   "source": [
    "result = multiply_matrices(lhs, rhs)\n",
    "\n",
    "assert all(\n",
    "    all(\n",
    "        num_res == num_ref \n",
    "        for num_res, num_ref in zip(row_res, row_ref)\n",
    "    )\n",
    "    for row_res, row_ref in zip(result, reference)\n",
    ")\n",
    "\n",
    "was_raised = False\n",
    "\n",
    "try:\n",
    "    result = multiply_matrices(lhs, rhs[:2])\n",
    "\n",
    "except ValueError:\n",
    "    was_raised = True\n",
    "\n",
    "assert was_raised"
   ]
  },
  {
   "cell_type": "code",
   "execution_count": 23,
   "metadata": {},
   "outputs": [],
   "source": [
    "lhs = [\n",
    "    [randint(bottom, top) for _ in range(columns_amount)]\n",
    "    for _ in range(rows_amount)\n",
    "]\n",
    "\n",
    "rhs = [\n",
    "    [randint(bottom, top) for _ in range(rows_amount)]\n",
    "    for _ in range(columns_amount)\n",
    "]\n",
    "\n",
    "result = multiply_matrices(lhs, rhs)"
   ]
  },
  {
   "cell_type": "code",
   "execution_count": null,
   "metadata": {},
   "outputs": [],
   "source": [
    "del lhs\n",
    "del rhs\n",
    "del result"
   ]
  },
  {
   "cell_type": "markdown",
   "metadata": {},
   "source": [
    "### Часть 2. Транспонирование\n",
    "\n",
    "Транспонируйте матрицу. На вход подается двумерный массив, выход: транспонированный двумерный массив.\n",
    "\n",
    "**Необходимые импорты:**"
   ]
  },
  {
   "cell_type": "code",
   "execution_count": 26,
   "metadata": {},
   "outputs": [],
   "source": [
    "from numbers import Real"
   ]
  },
  {
   "cell_type": "markdown",
   "metadata": {},
   "source": [
    "**Функции:**"
   ]
  },
  {
   "cell_type": "code",
   "execution_count": 27,
   "metadata": {},
   "outputs": [],
   "source": [
    "def transpose(matrix: list[list[Real]]) -> list[list[Real]]:\n",
    "    # ваш код\n",
    "\n",
    "    return matrix"
   ]
  },
  {
   "cell_type": "markdown",
   "metadata": {},
   "source": [
    "**Тесты:**"
   ]
  },
  {
   "cell_type": "code",
   "execution_count": 31,
   "metadata": {},
   "outputs": [],
   "source": [
    "matrix = [\n",
    "    [-2, -5],\n",
    "    [-5, -6],\n",
    "    [-5, 3],\n",
    "]\n",
    "reference = [\n",
    "    [-2, -5, -5],\n",
    "    [-5, -6, 3],\n",
    "]"
   ]
  },
  {
   "cell_type": "code",
   "execution_count": 33,
   "metadata": {},
   "outputs": [],
   "source": [
    "transposed = transpose(matrix)\n",
    "\n",
    "assert transposed is not matrix\n",
    "assert all(\n",
    "    all(\n",
    "        num_res == num_ref \n",
    "        for num_res, num_ref in zip(row_res, row_ref)\n",
    "    )\n",
    "    for row_res, row_ref in zip(transposed, reference)\n",
    ")"
   ]
  },
  {
   "cell_type": "code",
   "execution_count": 39,
   "metadata": {},
   "outputs": [],
   "source": [
    "size = int(2e3)\n",
    "\n",
    "matrix = [\n",
    "    [randint(bottom, top) for _ in range(size)]\n",
    "    for _ in range(size)\n",
    "]\n",
    "\n",
    "transposed = transpose(matrix)"
   ]
  },
  {
   "cell_type": "code",
   "execution_count": null,
   "metadata": {},
   "outputs": [],
   "source": [
    "del transposed"
   ]
  },
  {
   "cell_type": "markdown",
   "metadata": {},
   "source": [
    "Как видите с многомерными массивами \"чистый\" Python работает достаточно медленно. Тут-то на сцену и выходит `NumPy`.\n",
    "\n",
    "\n",
    "## Что такое NumPy?\n",
    "\n",
    "Прежде чем перейти к самому NumPy, давайте разберемся, почему работа с большими массивами данных средствами Python настолько неэффективна. Ключ к пониманию кроется в способе хранения данных в Python. Напомню, что любой объект в CPython - это не просто ячейка памяти со значением, как это было в C или C++. Объект в CPython - это указатель на структуру C. В этой структуре, помимо самого значения объекта хранятся метаданыые объекта, которые используются интерпретатором Python. К числу таких данных относится тип объекта, счетчик ссылок, размер объекта. Массивы же - это не просто указатели на непрерывный блок памяти с необходимыми данными, которые можно было бы быстро обрабатывать за счет кеширования. Массивы в CPython - это непрерывные области памяти, в которых хранятся адреса объектов CPython в памяти. Таким образом при обработке массива, мы читаем из памяти два раза: сначала адрес объекта, а потом сам объект. При этом указатели могут указывать на произвольные области памяти, которые не получится эффективно кешировать. Такой способ хранения данных с одной стороны позволяет иметь коллекции объектов различных типов данных, но с другой стороны сильно снижает эффективность обработки этих данных. \n",
    "\n",
    "NumPy подходит иначе к хранению данных. `NumPy` (сокращение от *Numerical Python*) - библиотека для эффективной работы с плотными массивами однородных данных. Особенно стоит выделить слово \"однородными\", ведь именно оно позволяет понять причину эффективности NumPy. Массивы NumPy являются оберткой вокруг C-массивов, т.е. массив NumPy инкапсулирует указатель на непрерывный блок в памяти, в котором хранятся данные одного типа. Это сильно ускоряет работу с этими данными и даже позволяет сэкономить память.\n",
    "\n",
    "![arrays](./images/arrays.png)"
   ]
  },
  {
   "cell_type": "markdown",
   "metadata": {},
   "source": [
    "## Быстрая демонстрация возможностей\n",
    "\n",
    "Чтобы убедиться, что эффективность NumPy - это не пустое преувеличение, реализуем решение всех поставленных выше задач с помощью NumPy."
   ]
  },
  {
   "cell_type": "code",
   "execution_count": 1,
   "metadata": {},
   "outputs": [],
   "source": [
    "import numpy as np\n",
    "\n",
    "from utils import visualize_1d_array"
   ]
  },
  {
   "cell_type": "markdown",
   "metadata": {},
   "source": [
    "### Перегруз"
   ]
  },
  {
   "cell_type": "code",
   "execution_count": 2,
   "metadata": {},
   "outputs": [],
   "source": [
    "sequence_size = int(1e7)                    # количество отсчетов в сигнале                          \n",
    "amplification = 10                          # коэффициент усиления\n",
    "thrashold = 4                               # порог\n",
    "eps = 1e-6                                  # точность"
   ]
  },
  {
   "cell_type": "code",
   "execution_count": 3,
   "metadata": {},
   "outputs": [],
   "source": [
    "time = np.linspace(0, 6 * np.pi, sequence_size)\n",
    "\n",
    "signal = np.sin(time) * np.exp(-0.1 * time)\n",
    "signal_amplified = amplification * signal\n",
    "\n",
    "signal_clipped = signal_amplified.copy()\n",
    "mask = np.abs(signal_clipped) > thrashold\n",
    "signal_clipped[mask] = np.sign(signal_clipped[mask]) * thrashold"
   ]
  },
  {
   "cell_type": "code",
   "execution_count": 4,
   "metadata": {},
   "outputs": [
    {
     "data": {
      "image/png": "[encoded data removed]",
      "text/plain": [
       "<Figure size 1600x900 with 1 Axes>"
      ]
     },
     "metadata": {},
     "output_type": "display_data"
    }
   ],
   "source": [
    "visualize_1d_array(abscissa=time, ordinate=signal_clipped)"
   ]
  },
  {
   "cell_type": "code",
   "execution_count": null,
   "metadata": {},
   "outputs": [],
   "source": [
    "del signal\n",
    "del signal_amplified\n",
    "del signal_clipped"
   ]
  },
  {
   "cell_type": "markdown",
   "metadata": {},
   "source": [
    "### Перемножение матриц"
   ]
  },
  {
   "cell_type": "code",
   "execution_count": 5,
   "metadata": {},
   "outputs": [],
   "source": [
    "columns_amount = 1000           # число колонок в матрице\n",
    "rows_amount = 500               # число строк в матрице\n",
    "\n",
    "bottom = -10                    # нижняя граница значений числе в матрице\n",
    "top = 10                        # верхняя граница значений числе в матрице"
   ]
  },
  {
   "cell_type": "code",
   "execution_count": 6,
   "metadata": {},
   "outputs": [
    {
     "data": {
      "text/plain": [
       "array([[  752,  -723,  -367, ...,  -337,   699,    57],\n",
       "       [ -614,  -932,   644, ...,   396,   598, -2003],\n",
       "       [  345,   -25,  -379, ...,  -695, -1651,   -61],\n",
       "       ...,\n",
       "       [  549,  -399,  -893, ..., -1599,  1341,   891],\n",
       "       [-1167,  -117,    22, ...,  1202, -1328,   392],\n",
       "       [-1226,  2363,   434, ...,   678,  -911, -1123]])"
      ]
     },
     "execution_count": 6,
     "metadata": {},
     "output_type": "execute_result"
    }
   ],
   "source": [
    "lhs = np.random.randint(\n",
    "    low=bottom,\n",
    "    high=top,\n",
    "    size=(rows_amount, columns_amount),\n",
    ")\n",
    "rhs = np.random.randint(\n",
    "    low=bottom,\n",
    "    high=top,\n",
    "    size=(columns_amount, rows_amount),\n",
    ")\n",
    "\n",
    "result = lhs @ rhs\n",
    "result"
   ]
  },
  {
   "cell_type": "code",
   "execution_count": 7,
   "metadata": {},
   "outputs": [],
   "source": [
    "del lhs\n",
    "del rhs\n",
    "del result"
   ]
  },
  {
   "cell_type": "markdown",
   "metadata": {},
   "source": [
    "### Транспонирование"
   ]
  },
  {
   "cell_type": "code",
   "execution_count": 8,
   "metadata": {},
   "outputs": [],
   "source": [
    "size = int(1e6)\n",
    "\n",
    "matrix = np.random.randint(\n",
    "    low=bottom,\n",
    "    high=top,\n",
    "    size=(rows_amount, columns_amount),\n",
    ")\n",
    "\n",
    "transposed = matrix.T\n",
    "del transposed"
   ]
  },
  {
   "cell_type": "markdown",
   "metadata": {},
   "source": [
    "Как вы видите NumPy позволяет решать задачи с матричными вычислениями на порядки быстрее.\n",
    "\n",
    "## Основы NumPy\n",
    "\n",
    "### Создание массивов\n",
    "\n",
    "Как вы поняли из всего сказанного выше, центральным элементов фреймворка является многомерный массив. Именно поэтому мы начнем знакомство с создания массивов. Обычный и самый распространненный способ создания массива - функция `array()`, которая принимает на вход массиво-подобные объекты и возвращает массив NumPy.\n",
    "\n",
    "#### Создание массивов из объектов Python"
   ]
  },
  {
   "cell_type": "code",
   "execution_count": 9,
   "metadata": {},
   "outputs": [
    {
     "name": "stdout",
     "output_type": "stream",
     "text": [
      "array_ints = array([0, 1, 2, 3, 4])\n",
      "array_floats = array([0.  , 1.  , 2.  , 3.14, 4.  ])\n",
      "array_doubles = array([0., 1., 2., 3., 4.])\n",
      "array_of_objects = array([1, 2.27, list([1, 2, 3]), {'a': 1, 'b': 2}], dtype=object)\n",
      "[[0 1 2 3 4]\n",
      " [1 2 3 4 5]\n",
      " [2 3 4 5 6]\n",
      " [3 4 5 6 7]\n",
      " [4 5 6 7 8]]\n"
     ]
    }
   ],
   "source": [
    "array_python = list(range(5))\n",
    "\n",
    "array_ints = np.array(array_python)\n",
    "print(f\"{array_ints = }\")\n",
    "\n",
    "array_python[3] = 3.14\n",
    "\n",
    "array_floats = np.array(array_python)\n",
    "print(f\"{array_floats = }\")\n",
    "\n",
    "array_python[3] = 3\n",
    "\n",
    "array_doubles = np.array(array_python, dtype=np.float64)\n",
    "print(f\"{array_doubles = }\")\n",
    "\n",
    "array_of_objects = [\n",
    "    1, 2.27, [1, 2, 3], {\"a\": 1, \"b\": 2}\n",
    "]\n",
    "array_of_objects = np.array(array_of_objects, dtype=object)\n",
    "print(f\"{array_of_objects = }\")\n",
    "\n",
    "array_2d = np.array(\n",
    "    [[i + j for j in range(5)] for i in range(5)]\n",
    ")\n",
    "print(array_2d)"
   ]
  },
  {
   "cell_type": "markdown",
   "metadata": {},
   "source": [
    "Массив NumPy содержит данные одного типа. При попытке создания массива из разнородных данных NumPy, если это возможно, будет производить повышающее приведение типов до тех пор, пока все данные не будут унифицированы. \n",
    "\n",
    "Так во втором примере, из-за наличия в данных числа 3.14, итоговый тип данных массива - float. В четвертом примере NumPy не сможет самостоятельно привести данные к одному типу, поэтому нам пришлось указать их явно. Тип object наиболее общий и означает, что массив состоит из объектов языка Python (в нашем примере int, float, list и dict).\n",
    "\n",
    "При необходимости можно явно указать желаемый тип данных, путем присвоение атрибуту `dtype` допустимого значения. \n",
    "\n",
    "Также обратите внимание на последний пример. В NumPy возможно создание многомерных массивов из списков со вложенными списками. Однако для этого требуется, чтобы вложенные списки имели одинаковый рамер. Так в нашем примере вложенные списки интерпретируются, как строки двухмерной матрицы.\n",
    "\n",
    "#### Создание массивов \"с нуля\"\n",
    "\n",
    "Мы не всегда имеем под рукой объект, который бы хотелось представить в виде многомерного массива NumPy. Иногда целесообразней, или даже необходимо, создать новый объект \"с нуля\". Для этих целей в NumPy есть ряд функций.\n",
    "\n",
    "**zeros/ones/full:**\n",
    "\n",
    "Это набор функций, которые позволяют создавать массивы, заполненные одинаковыми элементами. Так функция `zeros` позволяет создать массив, заполненный нулями, `ones` - массив, заполненный единицами, а `full` - массив, заполненный переданными значением. Поэтому сигнатуры функций очень похожи между собой."
   ]
  },
  {
   "cell_type": "code",
   "execution_count": 10,
   "metadata": {},
   "outputs": [
    {
     "name": "stdout",
     "output_type": "stream",
     "text": [
      "Zeros 1D:\n",
      "[0 0 0 0 0 0 0 0 0 0]\n",
      "\n",
      "Zeros 3D:\n",
      "[[[0. 0. 0.]\n",
      "  [0. 0. 0.]\n",
      "  [0. 0. 0.]]\n",
      "\n",
      " [[0. 0. 0.]\n",
      "  [0. 0. 0.]\n",
      "  [0. 0. 0.]]\n",
      "\n",
      " [[0. 0. 0.]\n",
      "  [0. 0. 0.]\n",
      "  [0. 0. 0.]]]\n",
      "\n",
      "Ones 1D:\n",
      "[1 1 1 1 1]\n",
      "\n",
      "Full 2D:\n",
      "[[255 255 255 255 255]\n",
      " [255 255 255 255 255]\n",
      " [255 255 255 255 255]\n",
      " [255 255 255 255 255]\n",
      " [255 255 255 255 255]]\n"
     ]
    }
   ],
   "source": [
    "zeros_1d = np.zeros(shape=10, dtype=np.uint8)\n",
    "ones_1d = np.ones(shape=5, dtype=np.uint32)\n",
    "\n",
    "zeros_3d = np.zeros(shape=(3, 3, 3), dtype=np.float32)\n",
    "full_2d = np.full(shape=(5, 5), fill_value=255, dtype=np.uint8)\n",
    "\n",
    "print(f\"Zeros 1D:\\n{zeros_1d}\", end=\"\\n\\n\")\n",
    "print(f\"Zeros 3D:\\n{zeros_3d}\", end=\"\\n\\n\")\n",
    "print(f\"Ones 1D:\\n{ones_1d}\", end=\"\\n\\n\")\n",
    "print(f\"Full 2D:\\n{full_2d}\")"
   ]
  },
  {
   "cell_type": "markdown",
   "metadata": {},
   "source": [
    "Эти функции могут быть полезными при создании некоторых заготовок или аккумуляторов для вычислений."
   ]
  },
  {
   "cell_type": "markdown",
   "metadata": {},
   "source": [
    "**linspace:**\n",
    "\n",
    "В задаче на вычисление перегруза для генерации сигнала нам потребовалось вычислять значение времени, зная шаг дискретизации. Однако нам не всегда может быть известен шаг дискретизации, но может быть известен диапазон значений и количество отсчетов, которые необходимо взять из данного диапазона. Поскольку такая задача является типовой и встрачается на практике очень часто, в NumPy реализована специальная функция для этого:"
   ]
  },
  {
   "cell_type": "code",
   "execution_count": 11,
   "metadata": {},
   "outputs": [
    {
     "data": {
      "text/plain": [
       "array([0.        , 0.1013417 , 0.2026834 , 0.3040251 , 0.40536679,\n",
       "       0.50670849, 0.60805019, 0.70939189, 0.81073359, 0.91207529,\n",
       "       1.01341699, 1.11475868, 1.21610038, 1.31744208, 1.41878378,\n",
       "       1.52012548, 1.62146718, 1.72280887, 1.82415057, 1.92549227,\n",
       "       2.02683397, 2.12817567, 2.22951737, 2.33085907, 2.43220076,\n",
       "       2.53354246, 2.63488416, 2.73622586, 2.83756756, 2.93890926,\n",
       "       3.04025096, 3.14159265])"
      ]
     },
     "execution_count": 11,
     "metadata": {},
     "output_type": "execute_result"
    }
   ],
   "source": [
    "np.linspace(0, np.pi, 32)"
   ]
  },
  {
   "cell_type": "markdown",
   "metadata": {},
   "source": [
    "**Немного о random:**\n",
    "\n",
    "В ряде задач бывает полезно создать массивы, заполненые слычайными числами из определенного распределения вероятностей. Так, например, в глубоком обучении для повышения качества модели с функцией активации ReLU рекомендуется инициализировать веса случайными числами из нормального закона распределения.\n",
    "\n",
    "Эту задачу можно решить используя подмодуль NumPy, который носит характерное название `random`."
   ]
  },
  {
   "cell_type": "code",
   "execution_count": 12,
   "metadata": {},
   "outputs": [
    {
     "name": "stdout",
     "output_type": "stream",
     "text": [
      "Normal:\n",
      "[[ 1.53003912 -0.34450547  0.15121661]\n",
      " [ 0.73746351 -0.09690138  0.94998894]\n",
      " [-0.44153561 -0.71347091 -0.20661139]]\n",
      "\n",
      "Uniform:\n",
      "[[-0.41051402  4.08629485 -6.07134344]\n",
      " [-9.57050321 -3.1800736   7.53383992]\n",
      " [-9.87090971 -5.46004201 -8.60773062]]\n",
      "\n",
      "Randint:\n",
      "[[8 8 2]\n",
      " [0 3 7]\n",
      " [5 2 4]]\n",
      "\n"
     ]
    }
   ],
   "source": [
    "normal = np.random.normal(loc=0, scale=1, size=(3, 3))\n",
    "uniform = np.random.uniform(low=-10, high=10, size=(3, 3))\n",
    "randomint = np.random.randint(0, 10, size=(3, 3))\n",
    "\n",
    "print(f\"Normal:\\n{normal}\", end=\"\\n\\n\")\n",
    "print(f\"Uniform:\\n{uniform}\", end=\"\\n\\n\")\n",
    "print(f\"Randint:\\n{randomint}\", end=\"\\n\\n\")"
   ]
  },
  {
   "cell_type": "markdown",
   "metadata": {},
   "source": [
    "**eye/diag**\n",
    "\n",
    "Поскольку NumPy часто используется для реализации вычислений из линейной алгебры, о чем мы поговорим в будущем, в нем есть отдельные функции для создания единичных матриц и диагональных матриц."
   ]
  },
  {
   "cell_type": "code",
   "execution_count": 13,
   "metadata": {},
   "outputs": [
    {
     "name": "stdout",
     "output_type": "stream",
     "text": [
      "Eye Square:\n",
      "[[1. 0. 0. 0. 0.]\n",
      " [0. 1. 0. 0. 0.]\n",
      " [0. 0. 1. 0. 0.]\n",
      " [0. 0. 0. 1. 0.]\n",
      " [0. 0. 0. 0. 1.]]\n",
      "\n",
      "Eye Rectangle:\n",
      "[[1. 0. 0. 0. 0.]\n",
      " [0. 1. 0. 0. 0.]\n",
      " [0. 0. 1. 0. 0.]]\n",
      "\n",
      "Diagonal:\n",
      "[[3 0 0]\n",
      " [0 5 0]\n",
      " [0 0 9]]\n",
      "\n"
     ]
    }
   ],
   "source": [
    "eye_square = np.eye(5)\n",
    "eye_rectangle = np.eye(3, 5)\n",
    "diag = np.diag([3, 5, 9])\n",
    "\n",
    "print(f\"Eye Square:\\n{eye_square}\", end=\"\\n\\n\")\n",
    "print(f\"Eye Rectangle:\\n{eye_rectangle}\", end=\"\\n\\n\")\n",
    "print(f\"Diagonal:\\n{diag}\", end=\"\\n\\n\")"
   ]
  },
  {
   "cell_type": "markdown",
   "metadata": {},
   "source": [
    "**empty:**\n",
    "\n",
    "В ряде задач полезно создать \"пустой\" массив, т.е. массив, который не инициализирован никакими данным. Этот массив может быть использован в качестве буффера, в который будут записываться результаты различных матричных операций."
   ]
  },
  {
   "cell_type": "code",
   "execution_count": 15,
   "metadata": {},
   "outputs": [
    {
     "data": {
      "text/plain": [
       "array([1., 1., 1., 1., 1.])"
      ]
     },
     "execution_count": 15,
     "metadata": {},
     "output_type": "execute_result"
    }
   ],
   "source": [
    "np.empty(5)"
   ]
  },
  {
   "cell_type": "markdown",
   "metadata": {},
   "source": [
    "### Атрибуты массивов"
   ]
  },
  {
   "cell_type": "code",
   "execution_count": 16,
   "metadata": {},
   "outputs": [],
   "source": [
    "def print_attributes(array: np.ndarray) -> None:\n",
    "    print('\\n--------------------------------------------------')\n",
    "    print(f'\\n{array}\\n')\n",
    "    print(f'Array shape: {array.shape};')\n",
    "    print(f'Array dimension: {array.ndim};')\n",
    "    print(f\"Array element's amount: {array.size};\")\n",
    "    print(f\"Array element's size: {array.itemsize}\")\n",
    "    print(f'Array memory space: {array.nbytes};')\n",
    "    print('--------------------------------------------------')"
   ]
  },
  {
   "cell_type": "code",
   "execution_count": 17,
   "metadata": {},
   "outputs": [
    {
     "name": "stdout",
     "output_type": "stream",
     "text": [
      "\n",
      "--------------------------------------------------\n",
      "\n",
      "[3.10367194 5.86588752 3.6409313 ]\n",
      "\n",
      "Array shape: (3,);\n",
      "Array dimension: 1;\n",
      "Array element's amount: 3;\n",
      "Array element's size: 8\n",
      "Array memory space: 24;\n",
      "--------------------------------------------------\n",
      "\n",
      "--------------------------------------------------\n",
      "\n",
      "[[0.31300149 7.52663135 0.31598594]\n",
      " [9.31106233 3.03650624 3.54366624]\n",
      " [8.49255503 4.71749977 9.43427696]]\n",
      "\n",
      "Array shape: (3, 3);\n",
      "Array dimension: 2;\n",
      "Array element's amount: 9;\n",
      "Array element's size: 8\n",
      "Array memory space: 72;\n",
      "--------------------------------------------------\n",
      "\n",
      "--------------------------------------------------\n",
      "\n",
      "[[[5.7316334  8.79336983 3.58292233]\n",
      "  [2.27976174 2.92382128 4.38984489]\n",
      "  [9.86085608 9.66242165 3.23546889]]\n",
      "\n",
      " [[5.53527911 9.89999877 6.33308974]\n",
      "  [4.75059402 0.97214235 4.17429641]\n",
      "  [6.74424511 2.30312814 3.45776777]]\n",
      "\n",
      " [[2.0661647  3.20929115 8.08124787]\n",
      "  [3.08400917 4.45686812 0.01476728]\n",
      "  [3.62729491 7.02985026 3.24045378]]]\n",
      "\n",
      "Array shape: (3, 3, 3);\n",
      "Array dimension: 3;\n",
      "Array element's amount: 27;\n",
      "Array element's size: 8\n",
      "Array memory space: 216;\n",
      "--------------------------------------------------\n"
     ]
    }
   ],
   "source": [
    "arrays = [np.random.uniform(0, 10, size=3),\n",
    "          np.random.uniform(0, 10, size=(3, 3)),\n",
    "          np.random.uniform(0, 10, size=(3, 3, 3))]\n",
    "\n",
    "for array in arrays:\n",
    "    print_attributes(array)"
   ]
  },
  {
   "cell_type": "markdown",
   "metadata": {},
   "source": [
    "### Доступ к элементам"
   ]
  },
  {
   "cell_type": "code",
   "execution_count": 18,
   "metadata": {},
   "outputs": [],
   "source": [
    "arr_1d, arr_2d, arr_3d = arrays"
   ]
  },
  {
   "cell_type": "markdown",
   "metadata": {},
   "source": [
    "#### Индексация\n",
    "\n",
    "Индексация массивов в NumPy представляет собой улучшенную индексацию списков в Python. Сами по себе массивы NumPy - изменяемый тип данных, т.е. мы можем перезаписывать элементы с помощью индексации."
   ]
  },
  {
   "cell_type": "code",
   "execution_count": 20,
   "metadata": {},
   "outputs": [
    {
     "name": "stdout",
     "output_type": "stream",
     "text": [
      "-----------------------------------Python Way-----------------------------------\n",
      "1D:\n",
      "3.10367193610999\n",
      "2D:\n",
      "0.31598594433415617\n",
      "3D:\n",
      "4.389844892896884\n",
      "\n",
      "-----------------------------------NumPy Way------------------------------------\n",
      "2D:\n",
      "0.31598594433415617\n",
      "3D:\n",
      "4.389844892896884\n"
     ]
    }
   ],
   "source": [
    "line_len, fill_val = 80, \"-\"\n",
    "\n",
    "print(\"Python Way\".center(line_len, fill_val))\n",
    "print(f\"1D:\\n{arr_1d[0]}\")\n",
    "print(f\"2D:\\n{arr_2d[0][2]}\")\n",
    "print(f\"3D:\\n{arr_3d[0][1][2]}\", end=\"\\n\\n\")\n",
    "\n",
    "print(\"NumPy Way\".center(line_len, fill_val))\n",
    "print(f\"2D:\\n{arr_2d[0, 2]}\")\n",
    "print(f\"3D:\\n{arr_3d[0, 1, 2]}\")"
   ]
  },
  {
   "cell_type": "markdown",
   "metadata": {},
   "source": [
    "#### Срезы\n",
    "\n",
    "В одномерном случае срезы так же аналогичны срезам списков в Python."
   ]
  },
  {
   "cell_type": "code",
   "execution_count": 21,
   "metadata": {},
   "outputs": [
    {
     "name": "stdout",
     "output_type": "stream",
     "text": [
      "[ 0  1  2  3  4  5  6  7  8  9 10 11 12 13 14 15 16 17 18 19]\n",
      "[5 6 7 8 9]\n",
      "[ 0  2  4  6  8 10 12 14 16 18]\n",
      "[ 1  3  5  7  9 11 13 15 17 19]\n",
      "[19 18 17 16 15 14 13 12 11 10  9  8  7  6  5  4  3  2  1  0]\n"
     ]
    }
   ],
   "source": [
    "numbers = np.arange(20)\n",
    "\n",
    "print(numbers)\n",
    "print(numbers[5: 10])\n",
    "print(numbers[::2])\n",
    "print(numbers[1::2])\n",
    "print(numbers[::-1])"
   ]
  },
  {
   "cell_type": "markdown",
   "metadata": {},
   "source": [
    "Однако, помимо знакомых нам одномерных срезов, в NumPy есть крайне удобные многомерные срезы:"
   ]
  },
  {
   "cell_type": "code",
   "execution_count": 23,
   "metadata": {},
   "outputs": [
    {
     "name": "stdout",
     "output_type": "stream",
     "text": [
      "[[  0.31300149   7.52663135   0.31598594]\n",
      " [  9.31106233 100.         100.        ]\n",
      " [  8.49255503 100.         100.        ]]\n",
      "\n",
      "[[  0.31300149   7.52663135   0.31598594]\n",
      " [  9.31106233 100.         100.        ]\n",
      " [  8.49255503 100.         100.        ]]\n",
      "\n",
      "[[  0.31300149   0.31598594]\n",
      " [  8.49255503 100.        ]]\n",
      "\n",
      "[8.49255503 9.31106233 0.31300149]\n",
      "\n"
     ]
    }
   ],
   "source": [
    "print(arr_2d, end=\"\\n\\n\")\n",
    "\n",
    "arr_2d[1:, 1:] = 100\n",
    "print(arr_2d, end=\"\\n\\n\")\n",
    "print(arr_2d[::2, ::2], end=\"\\n\\n\")\n",
    "print(arr_2d[::-1, 0], end=\"\\n\\n\")"
   ]
  },
  {
   "cell_type": "markdown",
   "metadata": {},
   "source": [
    "Важное замечание, которое стоит держать в голове: в отличие от списков в Python, срезы массивов в NumPy возвращают не новый объект, а указатель на область существующего объекта. Т.е. записав результат среза в новую переменную, у вас есть возможность безвозвратно изменить исходный объект, совершая манипуляции с этой новой переменной. Проиллюстрируем эти утверждения следующим примером:"
   ]
  },
  {
   "cell_type": "code",
   "execution_count": 27,
   "metadata": {},
   "outputs": [
    {
     "name": "stdout",
     "output_type": "stream",
     "text": [
      "[0 1 2 3 4 5 6 7 8 9]\n",
      "\n",
      "[100 100 100 100 100]\n",
      "\n",
      "[  0   1   2   3   4 100 100 100 100 100]\n",
      "\n"
     ]
    }
   ],
   "source": [
    "numbers = np.arange(10)\n",
    "\n",
    "print(numbers, end=\"\\n\\n\")\n",
    "\n",
    "my_slice = numbers[5: 10]\n",
    "my_slice[:] = 100\n",
    "\n",
    "print(my_slice, end=\"\\n\\n\")\n",
    "print(numbers, end=\"\\n\\n\")"
   ]
  },
  {
   "cell_type": "markdown",
   "metadata": {},
   "source": [
    "Чтобы избежать подобного нежелательного поведения, используйте метод `copy()` при связывании срезов с различными переменными:"
   ]
  },
  {
   "cell_type": "code",
   "execution_count": 28,
   "metadata": {},
   "outputs": [
    {
     "name": "stdout",
     "output_type": "stream",
     "text": [
      "[0 1 2 3 4 5 6 7 8 9]\n",
      "\n",
      "[100 100 100 100 100]\n",
      "\n",
      "[0 1 2 3 4 5 6 7 8 9]\n",
      "\n"
     ]
    }
   ],
   "source": [
    "numbers = np.arange(10)\n",
    "\n",
    "print(numbers, end=\"\\n\\n\")\n",
    "\n",
    "my_slice = numbers[5: 10].copy()\n",
    "my_slice[:] = 100\n",
    "\n",
    "print(my_slice, end=\"\\n\\n\")\n",
    "print(numbers, end=\"\\n\\n\")"
   ]
  },
  {
   "cell_type": "markdown",
   "metadata": {},
   "source": [
    "#### Индексация массивами\n",
    "\n",
    "Помимо срезов и простых индексов, вы можете за раз выбрать сразу несколько элементов, используя массивы в качестве индексов."
   ]
  },
  {
   "cell_type": "code",
   "execution_count": 38,
   "metadata": {},
   "outputs": [
    {
     "name": "stdout",
     "output_type": "stream",
     "text": [
      "Data 1D:\n",
      "[1 1 7 4 7 3 1 9 6 7 7 8 4 5 1]\n",
      "\n",
      "Data 2D:\n",
      "[[1 1 7]\n",
      " [4 7 3]\n",
      " [1 9 6]\n",
      " [7 7 8]\n",
      " [4 5 1]]\n",
      "\n",
      "Index 1D:\n",
      "[7 9 5 6]\n",
      "\n",
      "Index 2D:\n",
      "[1 7 6]\n",
      "\n"
     ]
    }
   ],
   "source": [
    "data_1d = np.random.randint(0, 10, size=15)\n",
    "data_2d = data_1d.reshape(5, 3)\n",
    "\n",
    "print(f\"Data 1D:\\n{data_1d}\", end=\"\\n\\n\")\n",
    "print(f\"Data 2D:\\n{data_2d}\", end=\"\\n\\n\")\n",
    "\n",
    "indices_1d = [2, 7, 13, 8]\n",
    "indices_2d = [0, 1, 2], [0, 1, 2]\n",
    "\n",
    "print(f\"Index 1D:\\n{data_1d[indices_1d]}\", end=\"\\n\\n\")\n",
    "print(f\"Index 2D:\\n{data_2d[indices_2d]}\", end=\"\\n\\n\")"
   ]
  },
  {
   "cell_type": "markdown",
   "metadata": {},
   "source": [
    "Ну и разумеется через такую индексацию вы тоже имеете возможность перезаписывать исходный массив.\n",
    "\n",
    "Более того, помимо простых индексов, вы можете индексировать массив булевыми масками, т.е. массивами, той же формы, что и исходный массив, но заполненными значениями `True` и `False`. Значение `True` будет означать использование элемента в данной позиции в результате применения маски, `False` - нет."
   ]
  },
  {
   "cell_type": "code",
   "execution_count": 41,
   "metadata": {},
   "outputs": [
    {
     "name": "stdout",
     "output_type": "stream",
     "text": [
      "Mask 1D:\n",
      "[False False False False  True  True  True  True False False False  True\n",
      "  True  True False]\n",
      "\n",
      "Mask 2D:\n",
      "[[False False False]\n",
      " [False  True  True]\n",
      " [ True  True False]\n",
      " [False False  True]\n",
      " [ True  True False]]\n",
      "\n",
      "Masked 1D:\n",
      "[7 3 1 9 8 4 5]\n",
      "\n",
      "Masked 2D:\n",
      "[7 3 1 9 8 4 5]\n",
      "\n"
     ]
    }
   ],
   "source": [
    "mask_1d = np.random.randint(0, 2, size=data_1d.shape, dtype=bool)\n",
    "mask_2d = mask_1d.reshape(5, 3)\n",
    "\n",
    "print(f\"Mask 1D:\\n{mask_1d}\", end=\"\\n\\n\")\n",
    "print(f\"Mask 2D:\\n{mask_2d}\", end=\"\\n\\n\")\n",
    "\n",
    "print(f\"Masked 1D:\\n{data_1d[mask_1d]}\", end=\"\\n\\n\")\n",
    "print(f\"Masked 2D:\\n{data_2d[mask_2d]}\", end=\"\\n\\n\")"
   ]
  },
  {
   "cell_type": "markdown",
   "metadata": {},
   "source": [
    "### Изменение размеров массива\n",
    "\n",
    "Я ряде случаев бывает полезным изменить форму массива: буквально изменить размеры, или добавить новое измерение. В одном из следующих занятий мы поймем, зачем это нужно, а сейчас рассмотрим самые распространенные варианты для этих действий.\n",
    "\n",
    "**reshape:**\n",
    "\n",
    "Мы уже использовали этот метод в нескольких примерах выше. С его помощью можно получить новый массив заданной формы, элементами которого являются элементы исходного массива. Если заданный массив не может быть переведен в массив указанного размера, метод возбуждает исключение."
   ]
  },
  {
   "cell_type": "code",
   "execution_count": 43,
   "metadata": {},
   "outputs": [
    {
     "name": "stdout",
     "output_type": "stream",
     "text": [
      "numbers:\n",
      "[ 0  1  2  3  4  5  6  7  8  9 10 11 12 13 14]\n",
      "\n",
      "reshaped 1:\n",
      "[[ 0  1  2]\n",
      " [ 3  4  5]\n",
      " [ 6  7  8]\n",
      " [ 9 10 11]\n",
      " [12 13 14]]\n",
      "\n",
      "reshaped 1:\n",
      "[[ 0  1  2  3  4]\n",
      " [ 5  6  7  8  9]\n",
      " [10 11 12 13 14]]\n"
     ]
    }
   ],
   "source": [
    "numbers = np.arange(15)\n",
    "numbers_reshaped1 = numbers.reshape(5, 3)\n",
    "numbers_reshaped2 = numbers.reshape(3, 5)\n",
    "\n",
    "print(f\"numbers:\\n{numbers}\", end=\"\\n\\n\")\n",
    "print(f\"reshaped 1:\\n{numbers_reshaped1}\", end=\"\\n\\n\")\n",
    "print(f\"reshaped 1:\\n{numbers_reshaped2}\")"
   ]
  },
  {
   "cell_type": "code",
   "execution_count": 45,
   "metadata": {},
   "outputs": [
    {
     "ename": "ValueError",
     "evalue": "cannot reshape array of size 15 into shape (6,2)",
     "output_type": "error",
     "traceback": [
      "\u001b[1;31m---------------------------------------------------------------------------\u001b[0m",
      "\u001b[1;31mValueError\u001b[0m                                Traceback (most recent call last)",
      "Cell \u001b[1;32mIn[45], line 1\u001b[0m\n\u001b[1;32m----> 1\u001b[0m \u001b[43mnumbers\u001b[49m\u001b[38;5;241;43m.\u001b[39;49m\u001b[43mreshape\u001b[49m\u001b[43m(\u001b[49m\u001b[38;5;241;43m6\u001b[39;49m\u001b[43m,\u001b[49m\u001b[43m \u001b[49m\u001b[38;5;241;43m2\u001b[39;49m\u001b[43m)\u001b[49m\n",
      "\u001b[1;31mValueError\u001b[0m: cannot reshape array of size 15 into shape (6,2)"
     ]
    }
   ],
   "source": [
    "numbers.reshape(6, 2)"
   ]
  },
  {
   "cell_type": "markdown",
   "metadata": {},
   "source": [
    "Также с помощью этого метода \"вытянуть\" исходный многомерный массив в одномерный."
   ]
  },
  {
   "cell_type": "code",
   "execution_count": 46,
   "metadata": {},
   "outputs": [
    {
     "name": "stdout",
     "output_type": "stream",
     "text": [
      "[ 0  1  2  3  4  5  6  7  8  9 10 11 12 13 14]\n"
     ]
    }
   ],
   "source": [
    "print(numbers_reshaped1.reshape(-1))"
   ]
  },
  {
   "cell_type": "markdown",
   "metadata": {},
   "source": [
    "**flatten:**\n",
    "\n",
    "Результат метода аналогичен результату метода `reshape(-1)`."
   ]
  },
  {
   "cell_type": "code",
   "execution_count": 47,
   "metadata": {},
   "outputs": [
    {
     "name": "stdout",
     "output_type": "stream",
     "text": [
      "[ 0  1  2  3  4  5  6  7  8  9 10 11 12 13 14]\n"
     ]
    }
   ],
   "source": [
    "print(numbers_reshaped1.flatten())"
   ]
  },
  {
   "cell_type": "markdown",
   "metadata": {},
   "source": [
    "**transpose/T:**\n",
    "\n",
    "Функция `transpose` позволяет транспонировать входной массив по правилам линейной алгебры. Возвращает новый массив, который можно безопасно изменять.\n",
    "\n",
    "Атрибут массива `T`, когда это возможно, возвращает представление исходного массива, соответствующее транспонированию массива. Т.е. если связать возвращенное представление с новой переменной, то в вашей программе появится риск изменения исходных данных через эту переменную. Имейте это в виду и всегда думайте, что именно вы хотите получить: представление или копию."
   ]
  },
  {
   "cell_type": "code",
   "execution_count": 4,
   "metadata": {},
   "outputs": [
    {
     "name": "stdout",
     "output_type": "stream",
     "text": [
      "array:\n",
      "[[0 8 5 9]\n",
      " [0 7 6 9]\n",
      " [8 3 8 2]]\n",
      "\n",
      "transpose:\n",
      "[[0 0 8]\n",
      " [8 7 3]\n",
      " [5 6 8]\n",
      " [9 9 2]]\n",
      "\n",
      "T:\n",
      "[[0 0 8]\n",
      " [8 7 3]\n",
      " [5 6 8]\n",
      " [9 9 2]]\n"
     ]
    }
   ],
   "source": [
    "array = np.random.randint(0, 10, size=(3, 4))\n",
    "\n",
    "print(f\"array:\\n{array}\", end=\"\\n\\n\")\n",
    "print(f\"transpose:\\n{np.transpose(array)}\", end=\"\\n\\n\")\n",
    "print(f\"T:\\n{array.T}\")"
   ]
  },
  {
   "cell_type": "markdown",
   "metadata": {},
   "source": [
    "**newaxis:**\n",
    "\n",
    "Это специальная константа, которая позволяет удобно добавить новое измерения в ваш массив:"
   ]
  },
  {
   "cell_type": "code",
   "execution_count": 5,
   "metadata": {},
   "outputs": [
    {
     "name": "stdout",
     "output_type": "stream",
     "text": [
      "array:\n",
      "[0 8 5 9 0 7 6 9 8 3 8 2]\n",
      "\n",
      "array horizontal:\n",
      "[[0 8 5 9 0 7 6 9 8 3 8 2]]\n",
      "\n",
      "array vertical:\n",
      "[[0]\n",
      " [8]\n",
      " [5]\n",
      " [9]\n",
      " [0]\n",
      " [7]\n",
      " [6]\n",
      " [9]\n",
      " [8]\n",
      " [3]\n",
      " [8]\n",
      " [2]]\n",
      "\n"
     ]
    }
   ],
   "source": [
    "array = array.flatten()\n",
    "\n",
    "print(f\"array:\\n{array}\", end=\"\\n\\n\")\n",
    "print(f\"array horizontal:\\n{array[np.newaxis, :]}\", end=\"\\n\\n\")\n",
    "print(f\"array vertical:\\n{array[:, np.newaxis]}\", end=\"\\n\\n\")"
   ]
  }
 ],
 "metadata": {
  "kernelspec": {
   "display_name": "venv",
   "language": "python",
   "name": "python3"
  },
  "language_info": {
   "codemirror_mode": {
    "name": "ipython",
    "version": 3
   },
   "file_extension": ".py",
   "mimetype": "text/x-python",
   "name": "python",
   "nbconvert_exporter": "python",
   "pygments_lexer": "ipython3",
   "version": "3.11.1"
  }
 },
 "nbformat": 4,
 "nbformat_minor": 2
}
