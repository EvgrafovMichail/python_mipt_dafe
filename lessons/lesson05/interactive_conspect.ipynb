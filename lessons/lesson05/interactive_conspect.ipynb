{
 "cells": [
  {
   "cell_type": "markdown",
   "metadata": {},
   "source": [
    "# Типы данных: Словари и Множества\n",
    "\n",
    "На этой лекции мы закончим разбирать встроенные типы данных в Python и поговорим о словарях (dict) и множествах (set, frozenset).\n",
    "\n",
    "## Словари\n",
    "\n",
    "### Знакомство со словарями\n",
    "\n",
    "Словари являются неупорядоченными изменяемыми коллекциями пар элементов вида ключ-значение. О словарях можно думать, как об ассоциативных массивах, т.е. о списках, чьи индексы - ключи, на первый взгляд, являются произвольными объектами. Так ключом словаря может быть объект типа int, float, str, frozenset, функция или даже объект пользовательского типа данных. Однако не все так просто, ибо на объекты, которым разрешено выступать в роли ключей, накладывается одно важное ограничение - объекты должны быть хешируемыми. Что это означает? А означает это следующее:\n",
    "\n",
    "- Значение [хэш-функции](https://ru.wikipedia.org/wiki/%D0%A5%D0%B5%D1%88-%D1%84%D1%83%D0%BD%D0%BA%D1%86%D0%B8%D1%8F) объекта должно быть определено, и не изменяться на протяжении всего времени выполнения программы. Подробнее о хэш функциях вам расскажут в курсе Алгоритмы и Структуры Данных, сейчас хэш функцию можно воспринимать, как некоторый черный ящик, которыей принимает на вход некоторый объект и ставит в соответствие ему последовательность бит фиксированной длины - т.е. число из фиксированного диапазона. Для того, чтобы объект Python был хэшируемым необходимо, чтобы в нем была реализована специальная функция `__hash__()`, т.е. чтобы интерпретатор мог выполнять вызов встроенной функции `hash()` с вашим объектом;  \n",
    "- Объект должен поддерживать использование оператора ==;\n",
    "- Если два объекта равны: obj1 == obj2, то должно выполняться равенство: hash(obj1) == hash(obj2); \n",
    "\n",
    "Если все три условия выполнены, то объект считается хэшируемым и может быть использован в качестве ключа. Числовые типы данных, строки, замороженные множества всегда хэшируемы. Если все элементы кортежа хэшируемы, то и кортеж является хэшируемым:"
   ]
  },
  {
   "cell_type": "code",
   "execution_count": 6,
   "metadata": {},
   "outputs": [
    {
     "name": "stdout",
     "output_type": "stream",
     "text": [
      "object value: 1; object type: int; hash function value: 1;\n",
      "object value: 3.14; object type: float; hash function value: 322818021289917443;\n",
      "object value: string; object type: str; hash function value: -7057234837228677891;\n",
      "object value: frozenset({1, 2, 3}); object type: frozenset; hash function value: -272375401224217160;\n",
      "hashable tuple hash: -6984807964728689118\n"
     ]
    },
    {
     "ename": "TypeError",
     "evalue": "unhashable type: 'list'",
     "output_type": "error",
     "traceback": [
      "\u001b[1;31m---------------------------------------------------------------------------\u001b[0m",
      "\u001b[1;31mTypeError\u001b[0m                                 Traceback (most recent call last)",
      "\u001b[1;32mc:\\Users\\Michail\\Desktop\\mipt\\teaching\\general_course\\lessons\\lesson5\\interactive_conspect.ipynb Cell 2\u001b[0m line \u001b[0;36m1\n\u001b[0;32m     <a href='vscode-notebook-cell:/c%3A/Users/Michail/Desktop/mipt/teaching/general_course/lessons/lesson5/interactive_conspect.ipynb#W3sZmlsZQ%3D%3D?line=11'>12</a>\u001b[0m \u001b[39m# TypeError\u001b[39;00m\n\u001b[0;32m     <a href='vscode-notebook-cell:/c%3A/Users/Michail/Desktop/mipt/teaching/general_course/lessons/lesson5/interactive_conspect.ipynb#W3sZmlsZQ%3D%3D?line=12'>13</a>\u001b[0m tuple_unhashable \u001b[39m=\u001b[39m (\u001b[39m0\u001b[39m, [\u001b[39m1\u001b[39m])\n\u001b[1;32m---> <a href='vscode-notebook-cell:/c%3A/Users/Michail/Desktop/mipt/teaching/general_course/lessons/lesson5/interactive_conspect.ipynb#W3sZmlsZQ%3D%3D?line=13'>14</a>\u001b[0m \u001b[39mprint\u001b[39m(\u001b[39mhash\u001b[39;49m(tuple_unhashable))\n",
      "\u001b[1;31mTypeError\u001b[0m: unhashable type: 'list'"
     ]
    }
   ],
   "source": [
    "objects = [1, 3.14, 'string', frozenset((1, 2, 3))]\n",
    "\n",
    "for obj in objects:\n",
    "    print(\n",
    "        f'object value: {obj}; object type: {type(obj).__name__}; '\n",
    "        f'hash function value: {hash(obj)};'\n",
    "    )\n",
    "\n",
    "tuple_hashable = tuple(objects)\n",
    "print(f'hashable tuple hash: {hash(tuple_hashable)}')\n",
    "\n",
    "# TypeError\n",
    "tuple_unhashable = (0, [1])\n",
    "print(hash(tuple_unhashable))"
   ]
  },
  {
   "cell_type": "markdown",
   "metadata": {},
   "source": [
    "Ключи словря являются уникальными. Попытка добавления пары с существующим ключом приведет к изменению значения по этому ключу. На объекты, которые хранятся в словаре - значения, - никаких ограничений не накладывается.\n",
    "\n",
    "Давайте рассмотрим создание словарей в коде:"
   ]
  },
  {
   "cell_type": "code",
   "execution_count": 19,
   "metadata": {},
   "outputs": [],
   "source": [
    "dicts = [\n",
    "    {'x':42, 'y':3.14, 'z':7},\n",
    "    {1:2, 3:4},\n",
    "    {1:'za', 'br':23},\n",
    "    {},\n",
    "    dict(x=42, y=3.14, z=7),\n",
    "    dict([(1, 2), (3, 4)]),\n",
    "    dict([(1,'za'), ('br',23)]),\n",
    "    dict(),\n",
    "    dict([(letter, ord(letter)) for letter in 'abcde']),\n",
    "    {letter: ord(letter) for letter in 'abcde'},\n",
    "    {\n",
    "        letter: ord(letter) for letter in 'abcde'\n",
    "        if ord(letter) % 2\n",
    "    },\n",
    "    dict([('x', 1), ('y', 2), ('x', 126), ('y', 365)]),\n",
    "    dict.fromkeys('abc', 2),\n",
    "    dict.fromkeys('abc')\n",
    "]"
   ]
  },
  {
   "cell_type": "code",
   "execution_count": 20,
   "metadata": {},
   "outputs": [
    {
     "name": "stdout",
     "output_type": "stream",
     "text": [
      "=================================CREATED DICTS==================================\n",
      "dict: {'x': 42, 'y': 3.14, 'z': 7};\n",
      "dict: {1: 2, 3: 4};\n",
      "dict: {1: 'za', 'br': 23};\n",
      "dict: {};\n",
      "dict: {'x': 42, 'y': 3.14, 'z': 7};\n",
      "dict: {1: 2, 3: 4};\n",
      "dict: {1: 'za', 'br': 23};\n",
      "dict: {};\n",
      "dict: {'a': 97, 'b': 98, 'c': 99, 'd': 100, 'e': 101};\n",
      "dict: {'a': 97, 'b': 98, 'c': 99, 'd': 100, 'e': 101};\n",
      "dict: {'a': 97, 'c': 99, 'e': 101};\n",
      "dict: {'x': 126, 'y': 365};\n",
      "dict: {'a': 2, 'b': 2, 'c': 2};\n",
      "dict: {'a': None, 'b': None, 'c': None};\n",
      "================================================================================\n"
     ]
    }
   ],
   "source": [
    "print('CREATED DICTS'.center(80, '='))\n",
    "for dict_example in dicts:\n",
    "    print(f'{type(dict_example).__name__}: {dict_example};')\n",
    "\n",
    "print(''.center(80, '='))"
   ]
  },
  {
   "cell_type": "markdown",
   "metadata": {},
   "source": [
    "### Словари и методы последовательностей или \"Почему словари не последовательности\"\n",
    "\n",
    "Почти все операции над последовательностями, кроме конкатенации и повторения (подумайте, почему), применима и к словарям. Но тут есть свои нюансы.\n",
    "\n",
    "**len()**:\n",
    "\n",
    "Функция `len()`, работает вполне понятным образом - определяет количество пар ключ-значение, которое хранится в словаре:"
   ]
  },
  {
   "cell_type": "code",
   "execution_count": 21,
   "metadata": {},
   "outputs": [
    {
     "name": "stdout",
     "output_type": "stream",
     "text": [
      "dict len: 2\n"
     ]
    }
   ],
   "source": [
    "my_dict = {'a': 1, 'b': 2}\n",
    "\n",
    "print(f'dict len: {len(my_dict)}')"
   ]
  },
  {
   "cell_type": "markdown",
   "metadata": {},
   "source": [
    "**Оператор in**:\n",
    "\n",
    "Словари поддерживают оператор `in`, однако в отличие от последовательностей, метод in проверяет вхождение объекта в словарь не в качестве элемента, а в качестве ключа. Т.е. in будет возвращать True только в том случае, если в словаре сожержиться ключ, с тем же значением, что и аргумент оператора:"
   ]
  },
  {
   "cell_type": "code",
   "execution_count": 22,
   "metadata": {},
   "outputs": [
    {
     "name": "stdout",
     "output_type": "stream",
     "text": [
      "True\n",
      "False\n"
     ]
    }
   ],
   "source": [
    "my_dict = {'a': 1, 'b': 2}\n",
    "\n",
    "print('a' in my_dict)\n",
    "print('c' in my_dict)"
   ]
  },
  {
   "cell_type": "markdown",
   "metadata": {},
   "source": [
    "**__getitem__()**\n",
    "\n",
    "Также словари поддерживают доступ к элементам через квадратные скобки. Аргументом здесь является объект-ключ. Если словарь содержит элемент с данным ключом, то результатом выполнения данного обращения будет являться этот хранящийся ссылка на хранящийся объект, иначе - исключение. Поскольку словари - изменяемый тип данных, используя эту нотацию, вы можете перезаписывать элементы словаря, добавлять новые, или удалять существующие с помощью встроенного оператора `del`:"
   ]
  },
  {
   "cell_type": "code",
   "execution_count": 24,
   "metadata": {},
   "outputs": [
    {
     "name": "stdout",
     "output_type": "stream",
     "text": [
      "1\n",
      "{'a': [1, 2, 3], 'b': 2}\n",
      "{'a': [1, 2, 3], 'b': 2, 'c': 1}\n",
      "{'a': [1, 2, 3], 'c': 1}\n"
     ]
    },
    {
     "ename": "KeyError",
     "evalue": "'b'",
     "output_type": "error",
     "traceback": [
      "\u001b[1;31m---------------------------------------------------------------------------\u001b[0m",
      "\u001b[1;31mKeyError\u001b[0m                                  Traceback (most recent call last)",
      "\u001b[1;32mc:\\Users\\Michail\\Desktop\\mipt\\teaching\\general_course\\lessons\\lesson5\\interactive_conspect.ipynb Cell 11\u001b[0m line \u001b[0;36m1\n\u001b[0;32m     <a href='vscode-notebook-cell:/c%3A/Users/Michail/Desktop/mipt/teaching/general_course/lessons/lesson5/interactive_conspect.ipynb#X30sZmlsZQ%3D%3D?line=9'>10</a>\u001b[0m \u001b[39mdel\u001b[39;00m my_dict[\u001b[39m'\u001b[39m\u001b[39mb\u001b[39m\u001b[39m'\u001b[39m]\n\u001b[0;32m     <a href='vscode-notebook-cell:/c%3A/Users/Michail/Desktop/mipt/teaching/general_course/lessons/lesson5/interactive_conspect.ipynb#X30sZmlsZQ%3D%3D?line=10'>11</a>\u001b[0m \u001b[39mprint\u001b[39m(my_dict)\n\u001b[1;32m---> <a href='vscode-notebook-cell:/c%3A/Users/Michail/Desktop/mipt/teaching/general_course/lessons/lesson5/interactive_conspect.ipynb#X30sZmlsZQ%3D%3D?line=13'>14</a>\u001b[0m \u001b[39mprint\u001b[39m(my_dict[\u001b[39m'\u001b[39;49m\u001b[39mb\u001b[39;49m\u001b[39m'\u001b[39;49m])\n",
      "\u001b[1;31mKeyError\u001b[0m: 'b'"
     ]
    }
   ],
   "source": [
    "my_dict = {'a': 1, 'b': 2}\n",
    "print(my_dict['a'])\n",
    "\n",
    "my_dict['a'] = [1, 2, 3]\n",
    "print(my_dict)\n",
    "\n",
    "my_dict['c'] = 1\n",
    "print(my_dict)\n",
    "\n",
    "del my_dict['b']\n",
    "print(my_dict)\n",
    "\n",
    "\n",
    "print(my_dict['b'])"
   ]
  },
  {
   "cell_type": "markdown",
   "metadata": {},
   "source": [
    "**Итерируемость**:\n",
    "\n",
    "Словари являются итерируемыми объектами. Итератор, созданный из словаря, на каждой итерации будет возвращать хранящийся в нем ключ:"
   ]
  },
  {
   "cell_type": "code",
   "execution_count": 25,
   "metadata": {},
   "outputs": [
    {
     "name": "stdout",
     "output_type": "stream",
     "text": [
      "a\n",
      "b\n"
     ]
    }
   ],
   "source": [
    "my_dict = {'a': 1, 'b': 2}\n",
    "\n",
    "for key in my_dict:\n",
    "    print(key)"
   ]
  },
  {
   "cell_type": "markdown",
   "metadata": {},
   "source": [
    "**Почему словари не последовательности**\n",
    "\n",
    "Итак, почему же словари - не последовательности, ведь формально, словари реализуют интерфейс последовательностей: они итерируемы, они поддерживают вызов функции len(), а также доступ к элементами через квадратные скобочки? Словари не последовательности, поскольку словари - неупорядоченные колекции, что позволяет индексировать их элементы произвольными хэшируемыми объектами, в то время как последовательности являются упорядоченными коллекциями и индексируются исключительно целыми числами. "
   ]
  },
  {
   "cell_type": "markdown",
   "metadata": {},
   "source": [
    "### Методы словарей\n",
    "\n",
    "Обсудим методы словарей и ситуации в которых они могут быть полезны.\n",
    "\n",
    "**copy()**\n",
    "\n",
    "Немодифицирующий метод словаря. Создает поверхностную копию словаря. Понятие поверхностной копии означает, что формально создается новый объект словаря, но при этом его содержимое - указатели на те же самые объекты, что и указатели в исходном словаре."
   ]
  },
  {
   "cell_type": "code",
   "execution_count": 28,
   "metadata": {},
   "outputs": [
    {
     "name": "stdout",
     "output_type": "stream",
     "text": [
      "Help on method_descriptor:\n",
      "\n",
      "copy(...)\n",
      "    D.copy() -> a shallow copy of D\n",
      "\n"
     ]
    }
   ],
   "source": [
    "help(dict.copy)"
   ]
  },
  {
   "cell_type": "code",
   "execution_count": 26,
   "metadata": {},
   "outputs": [
    {
     "name": "stdout",
     "output_type": "stream",
     "text": [
      "original: {'num': 1, 'list': [1, 2, 3]};\n",
      "copy: {'num': 1, 'list': [1, 2, 3]};\n",
      "False\n"
     ]
    }
   ],
   "source": [
    "my_dict = {'num': 1, 'list': [1, 2, 3]}\n",
    "my_dict_copy = my_dict.copy()\n",
    "\n",
    "print(\n",
    "    f'original: {my_dict};',\n",
    "    f'copy: {my_dict_copy};',\n",
    "    id(my_dict) == id(my_dict_copy),\n",
    "    sep='\\n'\n",
    ")"
   ]
  },
  {
   "cell_type": "code",
   "execution_count": 27,
   "metadata": {},
   "outputs": [
    {
     "name": "stdout",
     "output_type": "stream",
     "text": [
      "original: {'num': 1, 'list': [1, 2, 3, 123]};\n",
      "copy: {'num': 1, 'list': [1, 2, 3, 123]};\n"
     ]
    }
   ],
   "source": [
    "my_dict_copy['list'].append(123)\n",
    "\n",
    "print(\n",
    "    f'original: {my_dict};',\n",
    "    f'copy: {my_dict_copy};',\n",
    "    sep='\\n'\n",
    ")"
   ]
  },
  {
   "cell_type": "markdown",
   "metadata": {},
   "source": [
    "**get()**\n",
    "\n",
    "Метод get() является немодифицирующим методом."
   ]
  },
  {
   "cell_type": "code",
   "execution_count": 29,
   "metadata": {},
   "outputs": [
    {
     "name": "stdout",
     "output_type": "stream",
     "text": [
      "Help on method_descriptor:\n",
      "\n",
      "get(self, key, default=None, /)\n",
      "    Return the value for key if key is in the dictionary, else default.\n",
      "\n"
     ]
    }
   ],
   "source": [
    "help(dict.get)"
   ]
  },
  {
   "cell_type": "markdown",
   "metadata": {},
   "source": [
    "Метод get() может оказаться очень полезным для упрощения кода и избавления от ненужных ветвлений. Например, представим, что у нас есть некоторая функция, которая выполняет полезную работу, например итерационно оптимизирует некоторую функцию, т.е. старается за определенное число итераций найти минимум некоторой функции. Если нашей функции удается найти минимум за отведенное число итераций она возвращает нам статус и результат в виде словаря:\n",
    "\n",
    "```Python\n",
    "{\n",
    "    \"status\": \"success\",\n",
    "    \"result\": 42\n",
    "}\n",
    "```\n",
    "\n",
    "Если же функции не удается найти минимум за отведенное число итераций, или в процессе выполнения происходит какая-либо ошибка, мы получаем ответ в формате:\n",
    "\n",
    "```Python\n",
    "{\n",
    "    \"status\": \"fail\"\n",
    "}\n",
    "```\n",
    "\n",
    "Так бы мог выглядит типичный код обработки ответа от нашей функции:"
   ]
  },
  {
   "cell_type": "code",
   "execution_count": 30,
   "metadata": {},
   "outputs": [],
   "source": [
    "import random\n",
    "\n",
    "from typing import Any\n",
    "\n",
    "\n",
    "def simulate_optimization() -> dict[str, Any]:\n",
    "    if random.randint(0, 1):\n",
    "        return {\n",
    "            \"status\": \"success\",\n",
    "            \"result\": random.randint(-100, 100)\n",
    "        }\n",
    "    \n",
    "    return {\n",
    "        \"status\": \"fail\"\n",
    "    }"
   ]
  },
  {
   "cell_type": "code",
   "execution_count": 34,
   "metadata": {},
   "outputs": [
    {
     "name": "stdout",
     "output_type": "stream",
     "text": [
      "optimization status: fail\n",
      "optimization result: number of iterations exceeded\n"
     ]
    }
   ],
   "source": [
    "result = simulate_optimization()\n",
    "\n",
    "print(f'optimization status: {result[\"status\"]}')\n",
    "\n",
    "if \"result\" in result:\n",
    "    print(f'optimization result: {result[\"result\"]}')\n",
    "\n",
    "else:\n",
    "    print('optimization result: number of iterations exceeded')"
   ]
  },
  {
   "cell_type": "markdown",
   "metadata": {},
   "source": [
    "Но с посощью метода get() можно избавиться от ненужного ветвления:"
   ]
  },
  {
   "cell_type": "code",
   "execution_count": 36,
   "metadata": {},
   "outputs": [
    {
     "name": "stdout",
     "output_type": "stream",
     "text": [
      "optimization status: success\n",
      "optimization result: -71\n"
     ]
    }
   ],
   "source": [
    "result = simulate_optimization()\n",
    "\n",
    "print(\n",
    "    f'optimization status: {result[\"status\"]}',\n",
    "    f'optimization result: {result.get(\"result\", \"number of iterations exceeded\")}',\n",
    "    sep='\\n'\n",
    ")"
   ]
  },
  {
   "cell_type": "markdown",
   "metadata": {},
   "source": [
    "**items() / keys() / values()**\n",
    "\n",
    "Метод items() является немодифицирующим методом."
   ]
  },
  {
   "cell_type": "code",
   "execution_count": 37,
   "metadata": {},
   "outputs": [
    {
     "name": "stdout",
     "output_type": "stream",
     "text": [
      "Help on method_descriptor:\n",
      "\n",
      "items(...)\n",
      "    D.items() -> a set-like object providing a view on D's items\n",
      "\n"
     ]
    }
   ],
   "source": [
    "help(dict.items)"
   ]
  },
  {
   "cell_type": "code",
   "execution_count": 48,
   "metadata": {},
   "outputs": [
    {
     "name": "stdout",
     "output_type": "stream",
     "text": [
      "Help on method_descriptor:\n",
      "\n",
      "keys(...)\n",
      "    D.keys() -> a set-like object providing a view on D's keys\n",
      "\n"
     ]
    }
   ],
   "source": [
    "help(dict.keys)"
   ]
  },
  {
   "cell_type": "code",
   "execution_count": 49,
   "metadata": {},
   "outputs": [
    {
     "name": "stdout",
     "output_type": "stream",
     "text": [
      "Help on method_descriptor:\n",
      "\n",
      "values(...)\n",
      "    D.values() -> an object providing a view on D's values\n",
      "\n"
     ]
    }
   ],
   "source": [
    "help(dict.values)"
   ]
  },
  {
   "cell_type": "code",
   "execution_count": 50,
   "metadata": {},
   "outputs": [],
   "source": [
    "my_dict = {'a': 'A', 'b': [1]}"
   ]
  },
  {
   "cell_type": "code",
   "execution_count": 51,
   "metadata": {},
   "outputs": [
    {
     "name": "stdout",
     "output_type": "stream",
     "text": [
      "('a', 'A')\n",
      "('b', [1])\n",
      "\n",
      "key = 'a': value = 'A';\n",
      "key = 'b': value = [1];\n"
     ]
    }
   ],
   "source": [
    "for pair in my_dict.items():\n",
    "    print(pair)\n",
    "\n",
    "print('')\n",
    "\n",
    "for key, value in my_dict.items():\n",
    "    print(f'{key = }: {value = };')"
   ]
  },
  {
   "cell_type": "code",
   "execution_count": 53,
   "metadata": {},
   "outputs": [
    {
     "name": "stdout",
     "output_type": "stream",
     "text": [
      "a\n",
      "b\n",
      "\n",
      "a\n",
      "b\n"
     ]
    }
   ],
   "source": [
    "for key in my_dict.keys():\n",
    "    print(key)\n",
    "\n",
    "print('')\n",
    "\n",
    "for key in my_dict:\n",
    "    print(key)"
   ]
  },
  {
   "cell_type": "code",
   "execution_count": 54,
   "metadata": {},
   "outputs": [
    {
     "name": "stdout",
     "output_type": "stream",
     "text": [
      "A\n",
      "[1]\n"
     ]
    }
   ],
   "source": [
    "for val in my_dict.values():\n",
    "    print(val)"
   ]
  },
  {
   "cell_type": "markdown",
   "metadata": {},
   "source": [
    "Эти методы имеют много применений. Например, они могут использоваться для форматированного вывода содержимого словаря, как вы можете видеть это в примере сверху. Или для создания списка значений словаря."
   ]
  },
  {
   "cell_type": "markdown",
   "metadata": {},
   "source": [
    "**clear()**\n",
    "\n",
    "Модифицирующий метод."
   ]
  },
  {
   "cell_type": "code",
   "execution_count": 55,
   "metadata": {},
   "outputs": [
    {
     "name": "stdout",
     "output_type": "stream",
     "text": [
      "Help on method_descriptor:\n",
      "\n",
      "clear(...)\n",
      "    D.clear() -> None.  Remove all items from D.\n",
      "\n"
     ]
    }
   ],
   "source": [
    "help(dict.clear)"
   ]
  },
  {
   "cell_type": "code",
   "execution_count": 56,
   "metadata": {},
   "outputs": [
    {
     "name": "stdout",
     "output_type": "stream",
     "text": [
      "{'a': 1, 'b': 2}\n",
      "{}\n"
     ]
    }
   ],
   "source": [
    "my_dict = {'a': 1, 'b': 2}\n",
    "print(my_dict)\n",
    "\n",
    "my_dict.clear()\n",
    "print(my_dict)"
   ]
  },
  {
   "cell_type": "markdown",
   "metadata": {},
   "source": [
    "**pop()**\n",
    "\n",
    "Модифицирующий метод."
   ]
  },
  {
   "cell_type": "code",
   "execution_count": 57,
   "metadata": {},
   "outputs": [
    {
     "name": "stdout",
     "output_type": "stream",
     "text": [
      "Help on method_descriptor:\n",
      "\n",
      "pop(...)\n",
      "    D.pop(k[,d]) -> v, remove specified key and return the corresponding value.\n",
      "    \n",
      "    If the key is not found, return the default if given; otherwise,\n",
      "    raise a KeyError.\n",
      "\n"
     ]
    }
   ],
   "source": [
    "help(dict.pop)"
   ]
  },
  {
   "cell_type": "code",
   "execution_count": 58,
   "metadata": {},
   "outputs": [
    {
     "name": "stdout",
     "output_type": "stream",
     "text": [
      "{'a': 1, 'b': 2}\n",
      "poped value: 2; dict: {'a': 1};\n",
      "poped value: None; dict: {'a': 1};\n"
     ]
    },
    {
     "ename": "KeyError",
     "evalue": "'b'",
     "output_type": "error",
     "traceback": [
      "\u001b[1;31m---------------------------------------------------------------------------\u001b[0m",
      "\u001b[1;31mKeyError\u001b[0m                                  Traceback (most recent call last)",
      "\u001b[1;32mc:\\Users\\Michail\\Desktop\\mipt\\teaching\\general_course\\lessons\\lesson5\\interactive_conspect.ipynb Cell 40\u001b[0m line \u001b[0;36m1\n\u001b[0;32m      <a href='vscode-notebook-cell:/c%3A/Users/Michail/Desktop/mipt/teaching/general_course/lessons/lesson5/interactive_conspect.ipynb#Y125sZmlsZQ%3D%3D?line=6'>7</a>\u001b[0m popped_value \u001b[39m=\u001b[39m my_dict\u001b[39m.\u001b[39mpop(\u001b[39m'\u001b[39m\u001b[39mb\u001b[39m\u001b[39m'\u001b[39m, \u001b[39mNone\u001b[39;00m)\n\u001b[0;32m      <a href='vscode-notebook-cell:/c%3A/Users/Michail/Desktop/mipt/teaching/general_course/lessons/lesson5/interactive_conspect.ipynb#Y125sZmlsZQ%3D%3D?line=7'>8</a>\u001b[0m \u001b[39mprint\u001b[39m(\u001b[39mf\u001b[39m\u001b[39m'\u001b[39m\u001b[39mpoped value: \u001b[39m\u001b[39m{\u001b[39;00mpopped_value\u001b[39m}\u001b[39;00m\u001b[39m; dict: \u001b[39m\u001b[39m{\u001b[39;00mmy_dict\u001b[39m}\u001b[39;00m\u001b[39m;\u001b[39m\u001b[39m'\u001b[39m)\n\u001b[1;32m---> <a href='vscode-notebook-cell:/c%3A/Users/Michail/Desktop/mipt/teaching/general_course/lessons/lesson5/interactive_conspect.ipynb#Y125sZmlsZQ%3D%3D?line=9'>10</a>\u001b[0m my_dict\u001b[39m.\u001b[39;49mpop(\u001b[39m'\u001b[39;49m\u001b[39mb\u001b[39;49m\u001b[39m'\u001b[39;49m)\n",
      "\u001b[1;31mKeyError\u001b[0m: 'b'"
     ]
    }
   ],
   "source": [
    "my_dict = {'a': 1, 'b': 2}\n",
    "print(my_dict)\n",
    "\n",
    "popped_value = my_dict.pop('b')\n",
    "print(f'poped value: {popped_value}; dict: {my_dict};')\n",
    "\n",
    "popped_value = my_dict.pop('b', None)\n",
    "print(f'poped value: {popped_value}; dict: {my_dict};')\n",
    "\n",
    "my_dict.pop('b')"
   ]
  },
  {
   "cell_type": "markdown",
   "metadata": {},
   "source": [
    "Данный метод также позволяет избежать использование ненужного ветвления.\n",
    "\n",
    "Было:"
   ]
  },
  {
   "cell_type": "code",
   "execution_count": 61,
   "metadata": {},
   "outputs": [
    {
     "name": "stdout",
     "output_type": "stream",
     "text": [
      "dict[\"c\"] value: 3; dict: {'a': 1, 'b': 2}\n"
     ]
    }
   ],
   "source": [
    "my_dict ={'a': 1, 'b': 2, 'c': 3}\n",
    "\n",
    "if 'c' in my_dict:\n",
    "    value_c = my_dict['c']\n",
    "    del my_dict['c']\n",
    "\n",
    "else:\n",
    "    value_c = None\n",
    "\n",
    "print(f'dict[\"c\"] value: {value_c}; dict: {my_dict}')"
   ]
  },
  {
   "cell_type": "markdown",
   "metadata": {},
   "source": [
    "**Стало:**"
   ]
  },
  {
   "cell_type": "code",
   "execution_count": 62,
   "metadata": {},
   "outputs": [
    {
     "name": "stdout",
     "output_type": "stream",
     "text": [
      "dict[\"c\"] value: None; dict: {'a': 1, 'b': 2}\n"
     ]
    }
   ],
   "source": [
    "value_c = my_dict.pop('c', None)\n",
    "\n",
    "print(f'dict[\"c\"] value: {value_c}; dict: {my_dict}')"
   ]
  },
  {
   "cell_type": "markdown",
   "metadata": {},
   "source": [
    "**popitem()**\n",
    "\n",
    "Модифицирующий метод."
   ]
  },
  {
   "cell_type": "code",
   "execution_count": 63,
   "metadata": {},
   "outputs": [
    {
     "name": "stdout",
     "output_type": "stream",
     "text": [
      "Help on method_descriptor:\n",
      "\n",
      "popitem(self, /)\n",
      "    Remove and return a (key, value) pair as a 2-tuple.\n",
      "    \n",
      "    Pairs are returned in LIFO (last-in, first-out) order.\n",
      "    Raises KeyError if the dict is empty.\n",
      "\n"
     ]
    }
   ],
   "source": [
    "help(dict.popitem)"
   ]
  },
  {
   "cell_type": "code",
   "execution_count": 64,
   "metadata": {},
   "outputs": [
    {
     "name": "stdout",
     "output_type": "stream",
     "text": [
      "key = 'c'; value = 3;\n",
      "key = 'b'; value = 2;\n",
      "key = 'a'; value = 1;\n"
     ]
    }
   ],
   "source": [
    "my_dict ={'a': 1, 'b': 2, 'c': 3}\n",
    "\n",
    "while len(my_dict):\n",
    "    key, value = my_dict.popitem()\n",
    "    print(f'{key = }; {value = };')"
   ]
  },
  {
   "cell_type": "markdown",
   "metadata": {},
   "source": [
    "Данный метод может быть полезным, если вам необходимо перебрать все элементы словаря, хранение которого в памяти слишком затратны, произвести с ними некоторые действия, и удалить из словаря. "
   ]
  },
  {
   "cell_type": "markdown",
   "metadata": {},
   "source": [
    "**setdefault()**\n",
    "\n",
    "Модифицирующий метод."
   ]
  },
  {
   "cell_type": "code",
   "execution_count": 65,
   "metadata": {},
   "outputs": [
    {
     "name": "stdout",
     "output_type": "stream",
     "text": [
      "Help on method_descriptor:\n",
      "\n",
      "setdefault(self, key, default=None, /)\n",
      "    Insert key with a value of default if key is not in the dictionary.\n",
      "    \n",
      "    Return the value for key if key is in the dictionary, else default.\n",
      "\n"
     ]
    }
   ],
   "source": [
    "help(dict.setdefault)"
   ]
  },
  {
   "cell_type": "code",
   "execution_count": 68,
   "metadata": {},
   "outputs": [
    {
     "name": "stdout",
     "output_type": "stream",
     "text": [
      "value = 1; dict: {'a': 1, 'b': 2};\n",
      "value = None; dict: {'a': 1, 'b': 2, 'c': None};\n",
      "value = 42; dict: {'a': 1, 'b': 2, 'c': None, 'd': 42};\n"
     ]
    }
   ],
   "source": [
    "my_dict = {'a': 1, 'b': 2}\n",
    "\n",
    "value = my_dict.setdefault('a')\n",
    "print(f'{value = }; dict: {my_dict};')\n",
    "\n",
    "value = my_dict.setdefault('c')\n",
    "print(f'{value = }; dict: {my_dict};')\n",
    "\n",
    "value = my_dict.setdefault('d', 42)\n",
    "print(f'{value = }; dict: {my_dict};')"
   ]
  },
  {
   "cell_type": "markdown",
   "metadata": {},
   "source": [
    "Этот метод также подойдет для оптимизации кода и отказа от использования ненужных ветвлений. Предположим, мы принимает на вход некоторую последовательность. Предположим, последовательность нуклиотидов. Наша задача определить позиции расположения каждого нуклеотида в этой последовательности.\n",
    "\n",
    "**Неэффективный путь решения:**"
   ]
  },
  {
   "cell_type": "code",
   "execution_count": 75,
   "metadata": {},
   "outputs": [],
   "source": [
    "def get_nucleatide_appearance(dna_sequence: str) -> dict[str, list[int]]:\n",
    "    appearances = {}\n",
    "\n",
    "    for i, nucleatide in enumerate(dna_sequence, start=1):\n",
    "        nucleatide_appearances: list = appearances.get(nucleatide, [])\n",
    "        nucleatide_appearances.append(i)\n",
    "        appearances[nucleatide] = nucleatide_appearances\n",
    "\n",
    "    return appearances"
   ]
  },
  {
   "cell_type": "code",
   "execution_count": 76,
   "metadata": {},
   "outputs": [
    {
     "name": "stdout",
     "output_type": "stream",
     "text": [
      "{'a': [1, 6, 7, 10], 'g': [2, 8], 'c': [3, 4, 5], 't': [9, 11]}\n"
     ]
    }
   ],
   "source": [
    "dna_sequence = 'agcccaagtat'\n",
    "\n",
    "print(get_nucleatide_appearance(dna_sequence))"
   ]
  },
  {
   "cell_type": "markdown",
   "metadata": {},
   "source": [
    "**Эффективный путь решения:**"
   ]
  },
  {
   "cell_type": "code",
   "execution_count": 77,
   "metadata": {},
   "outputs": [],
   "source": [
    "def get_nucleatide_appearance(dna_sequence: str) -> dict[str, list[int]]:\n",
    "    appearances = {}\n",
    "\n",
    "    for i, nucleatide in enumerate(dna_sequence, start=1):\n",
    "        appearances.setdefault(nucleatide, []).append(i)\n",
    "\n",
    "    return appearances"
   ]
  },
  {
   "cell_type": "code",
   "execution_count": 78,
   "metadata": {},
   "outputs": [
    {
     "name": "stdout",
     "output_type": "stream",
     "text": [
      "{'a': [1, 6, 7, 10], 'g': [2, 8], 'c': [3, 4, 5], 't': [9, 11]}\n"
     ]
    }
   ],
   "source": [
    "dna_sequence = 'agcccaagtat'\n",
    "\n",
    "print(get_nucleatide_appearance(dna_sequence))"
   ]
  },
  {
   "cell_type": "markdown",
   "metadata": {},
   "source": [
    "**update()**\n",
    "\n",
    "Модифицирующий метод."
   ]
  },
  {
   "cell_type": "code",
   "execution_count": 79,
   "metadata": {},
   "outputs": [
    {
     "name": "stdout",
     "output_type": "stream",
     "text": [
      "Help on method_descriptor:\n",
      "\n",
      "update(...)\n",
      "    D.update([E, ]**F) -> None.  Update D from dict/iterable E and F.\n",
      "    If E is present and has a .keys() method, then does:  for k in E: D[k] = E[k]\n",
      "    If E is present and lacks a .keys() method, then does:  for k, v in E: D[k] = v\n",
      "    In either case, this is followed by: for k in F:  D[k] = F[k]\n",
      "\n"
     ]
    }
   ],
   "source": [
    "help(dict.update)"
   ]
  },
  {
   "cell_type": "code",
   "execution_count": 84,
   "metadata": {},
   "outputs": [
    {
     "name": "stdout",
     "output_type": "stream",
     "text": [
      "{'a': 42, 'b': 2, 'c': 3, 'd': 5}\n"
     ]
    }
   ],
   "source": [
    "my_dict = {'a': 1}\n",
    "\n",
    "my_dict.update({'a': 42, 'b': 2})\n",
    "my_dict.update([('c', 3), ('d', 4)])\n",
    "my_dict.update(d=5)\n",
    "\n",
    "print(my_dict)"
   ]
  },
  {
   "cell_type": "markdown",
   "metadata": {},
   "source": [
    "## Множества\n",
    "\n",
    "Множества - непорядоченная коллекция уникальных элементов. Элементы множества обязательно должны быть хэшируемыми. В Python есть два типа множеств - `set` - изменяемое множество, - и `frozenset` - неизменяемое множество. Отсюда следует, что set не может являться элементом set'a, а frozenset - может. Все методы и операции frozenset - это немодифицирующие операции set'a, поэтому дальше мы будем обсуждать изменяемые множества, держа в голове, что их немодифицирующие методы применимы в отношении немодифицируемых множест. \n",
    "\n",
    "Основной сценарий использования множеств - определение уникальных элементов в итерируемом объекте. Также, за счет удобных операций над множествами, множества могут оказаться полезными в некоторых алгоритмах, использующих понятия непересекающихся множеств. Так, например, они могут быть полезными при реализации алгоритма Прима построения минимального остовного дерева.\n",
    "\n",
    "Создание множеств:"
   ]
  },
  {
   "cell_type": "code",
   "execution_count": 85,
   "metadata": {},
   "outputs": [
    {
     "name": "stdout",
     "output_type": "stream",
     "text": [
      "type: set; value: {42, 3.14, 'hello'}\n",
      "type: set; value: {100}\n",
      "type: set; value: set()\n",
      "type: frozenset; value: frozenset({42, 3.14, 'hello'})\n",
      "type: frozenset; value: frozenset({100})\n",
      "type: frozenset; value: frozenset()\n"
     ]
    }
   ],
   "source": [
    "sets = [\n",
    "    {42, 3.14, 'hello'},\n",
    "    {100},\n",
    "    set(),\n",
    "    frozenset([42, 3.14, 'hello']),\n",
    "    frozenset([100]),\n",
    "    frozenset()\n",
    "]\n",
    "\n",
    "for sets_item in sets:\n",
    "    print(f'type: {type(sets_item).__name__}; value: {sets_item}')"
   ]
  },
  {
   "cell_type": "markdown",
   "metadata": {},
   "source": [
    "### Методы множеств и операции над ними\n",
    "\n",
    "Множества являются итерируемыми объектами. Они поддерживают вызов функции `len`, которая возвращает количество элементов множества, или, выражаясь математически, мощность множества. Также поддерживается вызов оператора `in`, который позволяет определить, принадлежит ли тот или иной объект данному множеству. \n",
    "\n",
    "**Немодифицирующие**"
   ]
  },
  {
   "cell_type": "markdown",
   "metadata": {},
   "source": [
    "**copy()**"
   ]
  },
  {
   "cell_type": "code",
   "execution_count": 86,
   "metadata": {},
   "outputs": [
    {
     "name": "stdout",
     "output_type": "stream",
     "text": [
      "Help on method_descriptor:\n",
      "\n",
      "copy(...)\n",
      "    Return a shallow copy of a set.\n",
      "\n"
     ]
    }
   ],
   "source": [
    "help(set.copy)"
   ]
  },
  {
   "cell_type": "code",
   "execution_count": 89,
   "metadata": {},
   "outputs": [
    {
     "name": "stdout",
     "output_type": "stream",
     "text": [
      "original: {1, 'string'};\n",
      "copy: {1, 'string'};\n",
      "False\n"
     ]
    }
   ],
   "source": [
    "my_set = {1, 'string'}\n",
    "my_set_copy = my_set.copy()\n",
    "\n",
    "print(\n",
    "    f'original: {my_set};',\n",
    "    f'copy: {my_set_copy};',\n",
    "    id(my_set) == id(my_set_copy),\n",
    "    sep='\\n'\n",
    ")"
   ]
  },
  {
   "cell_type": "markdown",
   "metadata": {},
   "source": [
    "**difference()**"
   ]
  },
  {
   "cell_type": "code",
   "execution_count": 92,
   "metadata": {},
   "outputs": [
    {
     "name": "stdout",
     "output_type": "stream",
     "text": [
      "Help on method_descriptor:\n",
      "\n",
      "difference(...)\n",
      "    Return the difference of two or more sets as a new set.\n",
      "    \n",
      "    (i.e. all elements that are in this set but not the others.)\n",
      "\n"
     ]
    }
   ],
   "source": [
    "help(set.difference)"
   ]
  },
  {
   "cell_type": "code",
   "execution_count": 100,
   "metadata": {},
   "outputs": [
    {
     "name": "stdout",
     "output_type": "stream",
     "text": [
      "{5, 6, 7, 8, 9}\n",
      "{5, 6, 7, 8, 9}\n",
      "{0, 1, 2, 3, 4, 5, 6, 7, 8, 9}\n",
      "{0, 1, 2, 3, 4, 5, 6, 7, 8, 9}\n"
     ]
    }
   ],
   "source": [
    "set1 = set(range(10))\n",
    "set2 = set(range(5))\n",
    "\n",
    "print(set1.difference(set2))\n",
    "print(set1 - set2)\n",
    "\n",
    "print(set1.difference(set()))\n",
    "print(set1.difference({11}))"
   ]
  },
  {
   "cell_type": "markdown",
   "metadata": {},
   "source": [
    "**intersection()**"
   ]
  },
  {
   "cell_type": "code",
   "execution_count": 95,
   "metadata": {},
   "outputs": [
    {
     "name": "stdout",
     "output_type": "stream",
     "text": [
      "Help on method_descriptor:\n",
      "\n",
      "intersection(...)\n",
      "    Return the intersection of two sets as a new set.\n",
      "    \n",
      "    (i.e. all elements that are in both sets.)\n",
      "\n"
     ]
    }
   ],
   "source": [
    "help(set.intersection)"
   ]
  },
  {
   "cell_type": "code",
   "execution_count": 98,
   "metadata": {},
   "outputs": [
    {
     "name": "stdout",
     "output_type": "stream",
     "text": [
      "{0, 1, 2, 3, 4}\n",
      "{0, 1, 2, 3, 4}\n",
      "set()\n",
      "set()\n"
     ]
    }
   ],
   "source": [
    "set1 = set(range(10))\n",
    "set2 = set(range(5))\n",
    "\n",
    "print(set1.intersection(set2))\n",
    "print(set1 & set2)\n",
    "\n",
    "print(set1.intersection(set()))\n",
    "print(set1.intersection({11}))"
   ]
  },
  {
   "cell_type": "markdown",
   "metadata": {},
   "source": [
    "**issubset**"
   ]
  },
  {
   "cell_type": "code",
   "execution_count": 101,
   "metadata": {},
   "outputs": [
    {
     "name": "stdout",
     "output_type": "stream",
     "text": [
      "Help on method_descriptor:\n",
      "\n",
      "issubset(...)\n",
      "    Report whether another set contains this set.\n",
      "\n"
     ]
    }
   ],
   "source": [
    "help(set.issubset)"
   ]
  },
  {
   "cell_type": "code",
   "execution_count": 108,
   "metadata": {},
   "outputs": [
    {
     "name": "stdout",
     "output_type": "stream",
     "text": [
      "False\n",
      "False\n",
      "False\n"
     ]
    }
   ],
   "source": [
    "set1 = set(range(10))\n",
    "set2 = set(range(5))\n",
    "\n",
    "print(set1.issubset(set2))\n",
    "print(set1 <= set2)\n",
    "\n",
    "print(set1.issubset(set()))"
   ]
  },
  {
   "cell_type": "markdown",
   "metadata": {},
   "source": [
    "**issuperset**"
   ]
  },
  {
   "cell_type": "code",
   "execution_count": 105,
   "metadata": {},
   "outputs": [
    {
     "name": "stdout",
     "output_type": "stream",
     "text": [
      "Help on method_descriptor:\n",
      "\n",
      "issuperset(...)\n",
      "    Report whether this set contains another set.\n",
      "\n"
     ]
    }
   ],
   "source": [
    "help(set.issuperset)"
   ]
  },
  {
   "cell_type": "code",
   "execution_count": 107,
   "metadata": {},
   "outputs": [
    {
     "name": "stdout",
     "output_type": "stream",
     "text": [
      "True\n",
      "True\n",
      "True\n"
     ]
    }
   ],
   "source": [
    "set1 = set(range(10))\n",
    "set2 = set(range(5))\n",
    "\n",
    "print(set1.issuperset(set2))\n",
    "print(set1 >= set2)\n",
    "\n",
    "print(set1.issuperset(set()))"
   ]
  },
  {
   "cell_type": "markdown",
   "metadata": {},
   "source": [
    "**union**"
   ]
  },
  {
   "cell_type": "code",
   "execution_count": 113,
   "metadata": {},
   "outputs": [
    {
     "name": "stdout",
     "output_type": "stream",
     "text": [
      "Help on method_descriptor:\n",
      "\n",
      "union(...)\n",
      "    Return the union of sets as a new set.\n",
      "    \n",
      "    (i.e. all elements that are in either set.)\n",
      "\n"
     ]
    }
   ],
   "source": [
    "help(set.union)"
   ]
  },
  {
   "cell_type": "code",
   "execution_count": 114,
   "metadata": {},
   "outputs": [
    {
     "name": "stdout",
     "output_type": "stream",
     "text": [
      "{0, 1, 2, 3, 4, 5, 6, 7, 8, 9}\n",
      "{0, 1, 2, 3, 4, 5, 6, 7, 8, 9}\n"
     ]
    }
   ],
   "source": [
    "set1 = set(range(10))\n",
    "set2 = set(range(5))\n",
    "\n",
    "print(set1.union(set2))\n",
    "print(set1 | set2)"
   ]
  },
  {
   "cell_type": "markdown",
   "metadata": {},
   "source": [
    "**symmetric_difference()**"
   ]
  },
  {
   "cell_type": "code",
   "execution_count": 109,
   "metadata": {},
   "outputs": [
    {
     "name": "stdout",
     "output_type": "stream",
     "text": [
      "Help on method_descriptor:\n",
      "\n",
      "symmetric_difference(...)\n",
      "    Return the symmetric difference of two sets as a new set.\n",
      "    \n",
      "    (i.e. all elements that are in exactly one of the sets.)\n",
      "\n"
     ]
    }
   ],
   "source": [
    "help(set.symmetric_difference)"
   ]
  },
  {
   "cell_type": "code",
   "execution_count": 112,
   "metadata": {},
   "outputs": [
    {
     "name": "stdout",
     "output_type": "stream",
     "text": [
      "{5, 6, 7, 8, 9, 10, 11, 12, 15}\n",
      "{5, 6, 7, 8, 9, 10, 11, 12, 15}\n"
     ]
    }
   ],
   "source": [
    "set1 = set(range(10)) | set(range(13, 16))\n",
    "set2 = set(range(5)) | set(range(10, 15))\n",
    "\n",
    "print(set1.symmetric_difference(set2))\n",
    "print(set1 ^ set2)"
   ]
  },
  {
   "cell_type": "markdown",
   "metadata": {},
   "source": [
    "**Модифицирующие**\n",
    "\n",
    "Все операторы, результатами операций с которыми являются новые множества, могут образовывать операторы составного присваивания: `|=`, `-=`, `|=`, `&=`. Несложно догадаться, что именно делают эти операторы. "
   ]
  },
  {
   "cell_type": "markdown",
   "metadata": {},
   "source": [
    "**add()**"
   ]
  },
  {
   "cell_type": "code",
   "execution_count": 116,
   "metadata": {},
   "outputs": [
    {
     "name": "stdout",
     "output_type": "stream",
     "text": [
      "Help on method_descriptor:\n",
      "\n",
      "add(...)\n",
      "    Add an element to a set.\n",
      "    \n",
      "    This has no effect if the element is already present.\n",
      "\n"
     ]
    }
   ],
   "source": [
    "help(set.add)"
   ]
  },
  {
   "cell_type": "code",
   "execution_count": 117,
   "metadata": {},
   "outputs": [
    {
     "name": "stdout",
     "output_type": "stream",
     "text": [
      "{1, 2, 3, 'a'}\n"
     ]
    },
    {
     "ename": "TypeError",
     "evalue": "unhashable type: 'list'",
     "output_type": "error",
     "traceback": [
      "\u001b[1;31m---------------------------------------------------------------------------\u001b[0m",
      "\u001b[1;31mTypeError\u001b[0m                                 Traceback (most recent call last)",
      "\u001b[1;32mc:\\Users\\Michail\\Desktop\\mipt\\teaching\\general_course\\lessons\\lesson5\\interactive_conspect.ipynb Cell 88\u001b[0m line \u001b[0;36m8\n\u001b[0;32m      <a href='vscode-notebook-cell:/c%3A/Users/Michail/Desktop/mipt/teaching/general_course/lessons/lesson5/interactive_conspect.ipynb#Y301sZmlsZQ%3D%3D?line=3'>4</a>\u001b[0m my_set\u001b[39m.\u001b[39madd(\u001b[39m'\u001b[39m\u001b[39ma\u001b[39m\u001b[39m'\u001b[39m)\n\u001b[0;32m      <a href='vscode-notebook-cell:/c%3A/Users/Michail/Desktop/mipt/teaching/general_course/lessons/lesson5/interactive_conspect.ipynb#Y301sZmlsZQ%3D%3D?line=5'>6</a>\u001b[0m \u001b[39mprint\u001b[39m(my_set)\n\u001b[1;32m----> <a href='vscode-notebook-cell:/c%3A/Users/Michail/Desktop/mipt/teaching/general_course/lessons/lesson5/interactive_conspect.ipynb#Y301sZmlsZQ%3D%3D?line=7'>8</a>\u001b[0m my_set\u001b[39m.\u001b[39;49madd([\u001b[39m1\u001b[39;49m, \u001b[39m2\u001b[39;49m, \u001b[39m3\u001b[39;49m])\n",
      "\u001b[1;31mTypeError\u001b[0m: unhashable type: 'list'"
     ]
    }
   ],
   "source": [
    "my_set = {1, 2, 3}\n",
    "\n",
    "my_set.add(3)\n",
    "my_set.add('a')\n",
    "\n",
    "print(my_set)\n",
    "\n",
    "my_set.add([1, 2, 3])"
   ]
  },
  {
   "cell_type": "markdown",
   "metadata": {},
   "source": [
    "**clear()**"
   ]
  },
  {
   "cell_type": "code",
   "execution_count": 118,
   "metadata": {},
   "outputs": [
    {
     "name": "stdout",
     "output_type": "stream",
     "text": [
      "set()\n"
     ]
    }
   ],
   "source": [
    "my_set = {1, 2, 3}\n",
    "my_set.clear()\n",
    "\n",
    "print(my_set)"
   ]
  },
  {
   "cell_type": "markdown",
   "metadata": {},
   "source": [
    "**discard()**"
   ]
  },
  {
   "cell_type": "code",
   "execution_count": 119,
   "metadata": {},
   "outputs": [
    {
     "name": "stdout",
     "output_type": "stream",
     "text": [
      "Help on method_descriptor:\n",
      "\n",
      "discard(...)\n",
      "    Remove an element from a set if it is a member.\n",
      "    \n",
      "    Unlike set.remove(), the discard() method does not raise\n",
      "    an exception when an element is missing from the set.\n",
      "\n"
     ]
    }
   ],
   "source": [
    "help(set.discard)"
   ]
  },
  {
   "cell_type": "code",
   "execution_count": 120,
   "metadata": {},
   "outputs": [
    {
     "name": "stdout",
     "output_type": "stream",
     "text": [
      "{2, 3}\n"
     ]
    }
   ],
   "source": [
    "my_set = {1, 2, 3}\n",
    "my_set.discard(1)\n",
    "my_set.discard(42)\n",
    "\n",
    "print(my_set)"
   ]
  },
  {
   "cell_type": "markdown",
   "metadata": {},
   "source": [
    "**pop()**"
   ]
  },
  {
   "cell_type": "code",
   "execution_count": 121,
   "metadata": {},
   "outputs": [
    {
     "name": "stdout",
     "output_type": "stream",
     "text": [
      "Help on method_descriptor:\n",
      "\n",
      "pop(...)\n",
      "    Remove and return an arbitrary set element.\n",
      "    Raises KeyError if the set is empty.\n",
      "\n"
     ]
    }
   ],
   "source": [
    "help(set.pop)"
   ]
  },
  {
   "cell_type": "code",
   "execution_count": 122,
   "metadata": {},
   "outputs": [
    {
     "name": "stdout",
     "output_type": "stream",
     "text": [
      "popped value: 1\n",
      "popped value: 2\n",
      "popped value: 3\n"
     ]
    }
   ],
   "source": [
    "my_set = {1, 2, 3}\n",
    "\n",
    "while len(my_set):\n",
    "    print(f'popped value: {my_set.pop()}')"
   ]
  },
  {
   "cell_type": "code",
   "execution_count": 123,
   "metadata": {},
   "outputs": [
    {
     "ename": "KeyError",
     "evalue": "'pop from an empty set'",
     "output_type": "error",
     "traceback": [
      "\u001b[1;31m---------------------------------------------------------------------------\u001b[0m",
      "\u001b[1;31mKeyError\u001b[0m                                  Traceback (most recent call last)",
      "\u001b[1;32mc:\\Users\\Michail\\Desktop\\mipt\\teaching\\general_course\\lessons\\lesson5\\interactive_conspect.ipynb Cell 97\u001b[0m line \u001b[0;36m1\n\u001b[1;32m----> <a href='vscode-notebook-cell:/c%3A/Users/Michail/Desktop/mipt/teaching/general_course/lessons/lesson5/interactive_conspect.ipynb#Y322sZmlsZQ%3D%3D?line=0'>1</a>\u001b[0m my_set\u001b[39m.\u001b[39;49mpop()\n",
      "\u001b[1;31mKeyError\u001b[0m: 'pop from an empty set'"
     ]
    }
   ],
   "source": [
    "my_set.pop()"
   ]
  },
  {
   "cell_type": "markdown",
   "metadata": {},
   "source": [
    "**remove()**"
   ]
  },
  {
   "cell_type": "code",
   "execution_count": 124,
   "metadata": {},
   "outputs": [
    {
     "name": "stdout",
     "output_type": "stream",
     "text": [
      "{2, 3}\n"
     ]
    },
    {
     "ename": "KeyError",
     "evalue": "42",
     "output_type": "error",
     "traceback": [
      "\u001b[1;31m---------------------------------------------------------------------------\u001b[0m",
      "\u001b[1;31mKeyError\u001b[0m                                  Traceback (most recent call last)",
      "\u001b[1;32mc:\\Users\\Michail\\Desktop\\mipt\\teaching\\general_course\\lessons\\lesson5\\interactive_conspect.ipynb Cell 99\u001b[0m line \u001b[0;36m5\n\u001b[0;32m      <a href='vscode-notebook-cell:/c%3A/Users/Michail/Desktop/mipt/teaching/general_course/lessons/lesson5/interactive_conspect.ipynb#Y326sZmlsZQ%3D%3D?line=1'>2</a>\u001b[0m my_set\u001b[39m.\u001b[39mremove(\u001b[39m1\u001b[39m)\n\u001b[0;32m      <a href='vscode-notebook-cell:/c%3A/Users/Michail/Desktop/mipt/teaching/general_course/lessons/lesson5/interactive_conspect.ipynb#Y326sZmlsZQ%3D%3D?line=2'>3</a>\u001b[0m \u001b[39mprint\u001b[39m(my_set)\n\u001b[1;32m----> <a href='vscode-notebook-cell:/c%3A/Users/Michail/Desktop/mipt/teaching/general_course/lessons/lesson5/interactive_conspect.ipynb#Y326sZmlsZQ%3D%3D?line=4'>5</a>\u001b[0m my_set\u001b[39m.\u001b[39;49mremove(\u001b[39m42\u001b[39;49m)\n",
      "\u001b[1;31mKeyError\u001b[0m: 42"
     ]
    }
   ],
   "source": [
    "my_set = {1, 2, 3}\n",
    "my_set.remove(1)\n",
    "print(my_set)\n",
    "\n",
    "my_set.remove(42)"
   ]
  },
  {
   "cell_type": "code",
   "execution_count": null,
   "metadata": {},
   "outputs": [],
   "source": []
  }
 ],
 "metadata": {
  "kernelspec": {
   "display_name": "Python 3",
   "language": "python",
   "name": "python3"
  },
  "language_info": {
   "codemirror_mode": {
    "name": "ipython",
    "version": 3
   },
   "file_extension": ".py",
   "mimetype": "text/x-python",
   "name": "python",
   "nbconvert_exporter": "python",
   "pygments_lexer": "ipython3",
   "version": "3.11.1"
  }
 },
 "nbformat": 4,
 "nbformat_minor": 2
}
