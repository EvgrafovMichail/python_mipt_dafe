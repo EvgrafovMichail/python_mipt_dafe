{
 "cells": [
  {
   "cell_type": "markdown",
   "metadata": {},
   "source": [
    "5)integer -> Roman"
   ]
  },
  {
   "cell_type": "code",
   "execution_count": null,
   "metadata": {},
   "outputs": [],
   "source": [
    "def intToRoman(num: int) -> str:\n",
    "    \n",
    "    thousands=(num//1000)\n",
    "    five_hundred=(num//500-2*thousands)\n",
    "    hundreds= num//100 -thousands*10-five_hundred*5\n",
    "    fifty=(num%100)//50\n",
    "    tens=(num%100)//10 - fifty*5\n",
    "    fives=(num%10)//5\n",
    "    ones=(num%10)-5*fives\n",
    "\n",
    "    stroka_num = \"M\"*thousands+\"D\"*five_hundred+\"C\"*hundreds+\"L\"*fifty+\"X\"*tens+\"V\"*fives+\"I\"*ones\n",
    "    \n",
    "    stroka_num=stroka_num.replace(\"DCCCC\",\"CM\").replace(\"LXXXX\",\"XC\").replace(\"VIIII\",\"IX\").replace(\"CCCC\",\"CD\").replace(\"XXXX\",\"XL\").replace(\"IIII\",\"IV\")\n",
    "\n",
    "    return(stroka_num)"
   ]
  },
  {
   "cell_type": "markdown",
   "metadata": {},
   "source": [
    "6)longest substring"
   ]
  },
  {
   "cell_type": "code",
   "execution_count": null,
   "metadata": {},
   "outputs": [],
   "source": [
    "def lengthOfLongestSubstring(s: str) -> int:\n",
    "    stroka_now=s[0]\n",
    "    max_dl=0\n",
    "\n",
    "    for i in range(1,len(s)):\n",
    "       \n",
    "        if s[i] not in stroka_now:\n",
    "            stroka_now+=s[i]\n",
    "        else:\n",
    "            max_dl=max(max_dl,len(stroka_now))\n",
    "            stroka_now=stroka_now.split(s[i])\n",
    "            stroka_now=stroka_now[1]+s[i]\n",
    "            \n",
    "    return(max(max_dl,len(stroka_now)))"
   ]
  }
 ],
 "metadata": {
  "language_info": {
   "name": "python"
  }
 },
 "nbformat": 4,
 "nbformat_minor": 2
}
