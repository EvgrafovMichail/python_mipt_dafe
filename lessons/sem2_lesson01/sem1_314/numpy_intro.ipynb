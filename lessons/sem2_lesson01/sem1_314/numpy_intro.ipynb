{
 "cells": [
  {
   "cell_type": "markdown",
   "metadata": {
    "id": "5osd9Mw0tMwr"
   },
   "source": [
    "## numpy"
   ]
  },
  {
   "cell_type": "markdown",
   "metadata": {
    "id": "9guOrQi4w5rz"
   },
   "source": [
    "Основная структура данных, на которой построен numpy - ndarray - n-мерный массив\n",
    "\n",
    "ndarray имеет фиксированный размер и хранит в себе объекты одного типа. Размер определяется n-мерным вектором, элементы которого обозначают размер по каждой из осей"
   ]
  },
  {
   "cell_type": "code",
   "execution_count": null,
   "metadata": {
    "id": "0pY_52E5xvFN"
   },
   "outputs": [],
   "source": [
    "import numpy as np"
   ]
  },
  {
   "cell_type": "markdown",
   "metadata": {
    "id": "D2l4LL8fz9Kv"
   },
   "source": [
    "#### Типы данных numpy\n",
    "\n",
    "Целые знаковые\n",
    "* np.int8\n",
    "* np.int16\n",
    "* np.int32\n",
    "* np.int64\n",
    "\n",
    "Целые беззнаковые\n",
    "* np.uint8\n",
    "* np.uint16\n",
    "* np.uint32\n",
    "* np.uint64\n",
    "\n",
    "С плавающей точкой\n",
    "* np.float16\n",
    "* np.float32\n",
    "* np.float64"
   ]
  },
  {
   "cell_type": "markdown",
   "metadata": {
    "id": "rebYCKrs8LGS"
   },
   "source": [
    "#### Константы в numpy\n",
    "\n",
    "```\n",
    "np.inf - аналог математической бесконечности\n",
    "np.nan - Not a Number\n",
    "np.e - Постоянная Эйлера, число e\n",
    "np.pi - Число пи\n",
    "```"
   ]
  },
  {
   "cell_type": "markdown",
   "metadata": {
    "id": "fFr6lqUl9_NO"
   },
   "source": [
    "#### Математические операции в numpy"
   ]
  },
  {
   "cell_type": "code",
   "execution_count": null,
   "metadata": {
    "colab": {
     "base_uri": "https://localhost:8080/"
    },
    "id": "Dwg0sxgG9958",
    "outputId": "1bf72d8d-1404-40c2-e1f5-4d05daa992c8"
   },
   "outputs": [],
   "source": [
    "x = np.pi / 3\n",
    "\n",
    "print(np.sin(x))\n",
    "print(np.cos(x))\n",
    "print(np.tan(x))"
   ]
  },
  {
   "cell_type": "code",
   "execution_count": null,
   "metadata": {
    "colab": {
     "base_uri": "https://localhost:8080/"
    },
    "id": "t_RSn4AZKEMz",
    "outputId": "6d11f761-ed1b-4178-dd3d-f9c228e4ae60"
   },
   "outputs": [],
   "source": [
    "x = 0.5\n",
    "\n",
    "print(np.arcsin(x))\n",
    "print(np.arccos(x))\n",
    "print(np.arctan(x))"
   ]
  },
  {
   "cell_type": "code",
   "execution_count": null,
   "metadata": {
    "colab": {
     "base_uri": "https://localhost:8080/"
    },
    "id": "M56mW7uFKMfT",
    "outputId": "62b5fb38-ff48-4dcb-9f38-29ef6878c4f5"
   },
   "outputs": [],
   "source": [
    "x_rad = np.pi / 3\n",
    "x_deg = 60\n",
    "\n",
    "print(np.degrees(x_rad))\n",
    "print(np.rad2deg(x_rad))  # Радианы в градусы\n",
    "\n",
    "print(np.radians(x_deg))\n",
    "print(np.deg2rad(x_deg))  # градусы в радианы"
   ]
  },
  {
   "cell_type": "code",
   "execution_count": null,
   "metadata": {
    "colab": {
     "base_uri": "https://localhost:8080/"
    },
    "id": "nVM05IgvKumB",
    "outputId": "28d88096-cb60-4a03-b244-894d6e921907"
   },
   "outputs": [],
   "source": [
    "x = 2.55\n",
    "y = -1.3\n",
    "\n",
    "print(np.floor(x), np.floor(y))  # округление вниз\n",
    "print(np.ceil(x), np.ceil(y))  # округление вверх\n",
    "print(np.around(x, 1), np.around(y))  # Математическое округление, второй аргумент - количество знаков после запятой\n",
    "print(np.trunc(x), np.trunc(y))  # Взятие целой части"
   ]
  },
  {
   "cell_type": "code",
   "execution_count": null,
   "metadata": {
    "colab": {
     "base_uri": "https://localhost:8080/"
    },
    "id": "o8U080pXLaLi",
    "outputId": "f5e01101-5252-4b13-ceb1-d299858c321b"
   },
   "outputs": [],
   "source": [
    "print(np.exp(2))  # натуральная экспонента\n",
    "print(np.exp2(5))  # экспонента с основанием 2\n",
    "print(np.log(np.e ** 4))  # натуральный логарифм\n",
    "print(np.log10(1e8))  # десятичный логарифм\n",
    "print(np.log2(2 ** 14))  # логарифм с основанием 2"
   ]
  },
  {
   "cell_type": "code",
   "execution_count": null,
   "metadata": {
    "colab": {
     "base_uri": "https://localhost:8080/"
    },
    "id": "gxozZwHeM5I2",
    "outputId": "9245d5d5-8d60-4574-c281-212716fa571b"
   },
   "outputs": [],
   "source": [
    "print(np.sqrt(144))  # взятие корня\n",
    "print(np.cbrt(4**3))  # взятие кубического корня\n",
    "print(np.square(6))  # возведение в квадрат\n",
    "print(np.absolute(-5), np.abs(3 + 4 * 1j), np.fabs(-1))  # взятие модуля числа\n",
    "print(np.sign(-0.5), np.sign(0), np.sign(1))  # взятие знака числа"
   ]
  },
  {
   "cell_type": "markdown",
   "metadata": {
    "id": "0X_4nH5-xju6"
   },
   "source": [
    "#### Создание ndarray"
   ]
  },
  {
   "cell_type": "markdown",
   "metadata": {
    "id": "LH7NfH_Bxouf"
   },
   "source": [
    "Способ 1: из других типов данных"
   ]
  },
  {
   "cell_type": "code",
   "execution_count": null,
   "metadata": {
    "colab": {
     "base_uri": "https://localhost:8080/"
    },
    "id": "F28jFLmzxim6",
    "outputId": "97de8f20-b367-4b8a-eb86-557baf07ee4a"
   },
   "outputs": [],
   "source": [
    "a_list = [i ** 2 for i in range(10)]\n",
    "a_tuple = tuple(i * 5 for i in range(5))\n",
    "\n",
    "a = np.array(a_list)\n",
    "print(a, type(a))\n",
    "\n",
    "a = np.array(a_tuple)\n",
    "print(a, type(a))"
   ]
  },
  {
   "cell_type": "markdown",
   "metadata": {
    "id": "4e1bOtxvyGLn"
   },
   "source": [
    "Способ 2: При помощи функций создания специальных массивов\n",
    "\n",
    "```\n",
    "empty(shape[, dtype]) - возвращает новый непроинициализированный массив заданных размеров и типа\n",
    "empty_like(prototype[, dtype]) - возвращает новый непроинициализированный массив с размерами и типом как у prototype\n",
    "eye(N[, M, k, dtype]) - возвращает матрицу с размерами N*M (N*N, если M не указано), в которой на k-ой диагонали\n",
    "расположены 1, а в остальной части - 0\n",
    "identity(n[, dtype]) - возвращает единичную матрицу n*n\n",
    "ones(shape[, dtype]) - возвращает новый заполненный единицами массив заданных размеров и типа\n",
    "ones_like(a[, dtype]) - возвращает новый заполненный единицами массив тех же размеров и типа, что a\n",
    "zeros(shape[, dtype]) - возвращает новый заполненный нулями массив заданных размеров и типа\n",
    "zeros_like(a[, dtype]) - возвращает новый заполненный нулями массив тех же размеров и типа, что a\n",
    "full(shape, fill_value[, dtype]) - возвращает новый заполненный fill_value массив заданных размеров и типа\n",
    "full_like(a, fill_value[, dtype]) - возвращает новый заполненный fill_value массив тех же размеров и типа, что a\n",
    "\n",
    "```"
   ]
  },
  {
   "cell_type": "code",
   "execution_count": null,
   "metadata": {
    "id": "qXjdUCHd1Im9"
   },
   "outputs": [],
   "source": [
    "sample = np.array([[1, 2, 3, 4],\n",
    "                   [4, 3, 2, 1]])"
   ]
  },
  {
   "cell_type": "code",
   "execution_count": null,
   "metadata": {
    "colab": {
     "base_uri": "https://localhost:8080/"
    },
    "id": "8L8EP566tFI9",
    "outputId": "c371972c-a1f1-4e4d-d8c3-e905760d4a7c"
   },
   "outputs": [],
   "source": [
    "print(np.empty((3, 5), np.float32))\n",
    "print(np.empty_like(sample))"
   ]
  },
  {
   "cell_type": "code",
   "execution_count": null,
   "metadata": {
    "colab": {
     "base_uri": "https://localhost:8080/"
    },
    "id": "fmh2spLy1B1G",
    "outputId": "4f5dcc81-d529-4b3e-86a3-c60813278041"
   },
   "outputs": [],
   "source": [
    "print(np.eye(5), end='\\n\\n')\n",
    "print(np.eye(6, 5, -1))"
   ]
  },
  {
   "cell_type": "code",
   "execution_count": null,
   "metadata": {
    "colab": {
     "base_uri": "https://localhost:8080/"
    },
    "id": "y5QjgB7N1lwN",
    "outputId": "2a50670e-7638-4f53-a8ce-360e3df6ad32"
   },
   "outputs": [],
   "source": [
    "print(np.identity(5))"
   ]
  },
  {
   "cell_type": "code",
   "execution_count": null,
   "metadata": {
    "colab": {
     "base_uri": "https://localhost:8080/"
    },
    "id": "k1YVJFU91tB0",
    "outputId": "35c39ae1-ff17-46ed-cdaf-b8c485b0d28e"
   },
   "outputs": [],
   "source": [
    "print(np.ones((2, 3, 4)), end='\\n\\n')\n",
    "print(np.ones_like(sample))"
   ]
  },
  {
   "cell_type": "code",
   "execution_count": null,
   "metadata": {
    "colab": {
     "base_uri": "https://localhost:8080/"
    },
    "id": "2OfLNBQH1xkD",
    "outputId": "dc8929bd-c247-4f12-b4d7-222c1547c1aa"
   },
   "outputs": [],
   "source": [
    "print(np.zeros((3, 5)), end='\\n\\n')\n",
    "print(np.zeros_like(sample))"
   ]
  },
  {
   "cell_type": "code",
   "execution_count": null,
   "metadata": {
    "colab": {
     "base_uri": "https://localhost:8080/"
    },
    "id": "VvOTCjP2124b",
    "outputId": "2e2e28a1-c1bf-4387-875c-5f0b55038faf"
   },
   "outputs": [],
   "source": [
    "print(np.full((4, 4), 1j), end='\\n\\n')\n",
    "print(np.full_like(sample, 1 + 1j, complex))"
   ]
  },
  {
   "cell_type": "markdown",
   "metadata": {
    "id": "EkHGg4ed5Mdl"
   },
   "source": [
    "Способ 3: при помощи функций разбиений\n",
    "\n",
    "```\n",
    "arange([start,] stop[, step,][, dtype]) - возвращает массив с числами start, start + step, start + 2 * step, ...,\n",
    "start + n * step, где start + n * step < stop, а start + (n + 1) * step >= stop\n",
    "linspace(start, stop[, num, endpoint]) - возвращает массив из num чисел, равномерно охватывающих интервал [start, stop),\n",
    "если endpoint = False, и [start, stop], если endpoint=True\n",
    "logspace(start, stop[, num, endpoint, base]) - аналог linspace на логарифмической шкале\n",
    "```"
   ]
  },
  {
   "cell_type": "code",
   "execution_count": null,
   "metadata": {
    "colab": {
     "base_uri": "https://localhost:8080/"
    },
    "id": "3dR7XwKk2K69",
    "outputId": "083f4f8b-3100-4c0d-dae8-fe4b977869b2"
   },
   "outputs": [],
   "source": [
    "print(np.arange(10.), end='\\n\\n')\n",
    "print(np.arange(0.5, 10.), end='\\n\\n')\n",
    "print(np.arange(0., 1e-6, 1e-7, dtype=np.float16))"
   ]
  },
  {
   "cell_type": "code",
   "execution_count": null,
   "metadata": {
    "colab": {
     "base_uri": "https://localhost:8080/"
    },
    "id": "tgFQGphb7P3h",
    "outputId": "41aada54-1f8b-4f30-9a73-9ac6a7982d01"
   },
   "outputs": [],
   "source": [
    "print(np.linspace(start=0, stop=9, num=10), end='\\n\\n')\n",
    "print(np.linspace(0, 9, 10, endpoint=False), end='\\n\\n')\n",
    "print(np.linspace(0, 20, 21, dtype=int))"
   ]
  },
  {
   "cell_type": "code",
   "execution_count": null,
   "metadata": {
    "colab": {
     "base_uri": "https://localhost:8080/"
    },
    "id": "LDJb-TOD9BqP",
    "outputId": "c4e3484e-c428-40be-dda0-105730a5d20f"
   },
   "outputs": [],
   "source": [
    "print(np.logspace(0, 10, 10, endpoint=False, base=2))"
   ]
  },
  {
   "cell_type": "markdown",
   "metadata": {
    "id": "Evs8D5agOUzL"
   },
   "source": [
    "#### Операции с элементами ndarray\n",
    "\n",
    "numpy поддерживает векторные операции, при которых функции работают поэлементно с каждым элементом массива. К таким операциям относятся все описанные выше математические операции; математические операции, применяемые между массивами или между массивом и числом; некоторые другие функции numpy\n",
    "\n"
   ]
  },
  {
   "cell_type": "code",
   "execution_count": null,
   "metadata": {
    "colab": {
     "base_uri": "https://localhost:8080/"
    },
    "id": "3kIjknDA9c_v",
    "outputId": "b12799e1-fec0-4dd8-c0f2-c46dc053734a"
   },
   "outputs": [],
   "source": [
    "a = np.array([[1, 2, 3, 4],\n",
    "              [6, 5, 4, 3],\n",
    "              [4, 5, 6, 7]])\n",
    "\n",
    "print(np.exp2(a), end='\\n\\n')\n",
    "print(np.log(a), end='\\n\\n')\n",
    "print(np.sqrt(a), end='\\n\\n')\n",
    "print(np.around(a / 3.))"
   ]
  },
  {
   "cell_type": "code",
   "execution_count": null,
   "metadata": {
    "colab": {
     "base_uri": "https://localhost:8080/"
    },
    "id": "ivZqRKIuQo4A",
    "outputId": "2fd181f3-c0cc-4c90-a901-a0ad43a6e37a"
   },
   "outputs": [],
   "source": [
    "print(a + 3, end='\\n\\n')\n",
    "print(a - 1, end='\\n\\n')\n",
    "print(a * 2, end='\\n\\n')\n",
    "print(a ** 2, end='\\n\\n')\n",
    "print(a + np.ceil(a / 3.), '\\n\\n')\n",
    "print(a > 4, end='\\n\\n')\n",
    "print(a <= 4)"
   ]
  },
  {
   "cell_type": "code",
   "execution_count": null,
   "metadata": {
    "id": "GCQcAuiyQ0R_"
   },
   "outputs": [],
   "source": [
    "print(np.clip(a, 2, 5))  # clip(arr, a_min, a_max) - \"урезает\" все элементы arr до диапазона [a_min, a_max]"
   ]
  },
  {
   "cell_type": "markdown",
   "metadata": {
    "id": "u0dMqhOERsvZ"
   },
   "source": [
    "ndarray поддерживает операции между массивами с формами $(d_1, d_2, ..., d_n)$ и $(a_1, a_2, ..., a_n)$, где $a_i$ - или 1, или $d_i$"
   ]
  },
  {
   "cell_type": "code",
   "execution_count": null,
   "metadata": {
    "colab": {
     "base_uri": "https://localhost:8080/"
    },
    "id": "JX_I0-MZUTdQ",
    "outputId": "b7ee306d-24dd-4f2f-9b24-a27ab84d0ef2"
   },
   "outputs": [],
   "source": [
    "a = np.zeros((3, 3, 3))\n",
    "b = np.array([[[1, 2, 3],\n",
    "               [4, 5, 6],\n",
    "               [7, 8, 9]]])\n",
    "\n",
    "print(a, a.shape, end='\\n\\n')\n",
    "\n",
    "print(f\"b:\\n{b}\\nb shape: {b.shape}\\n\")\n",
    "print(f\"a + b:\\n{a + b}\\n\\n\")\n",
    "\n",
    "b = np.array([[[1, 2, 3]],\n",
    "               [[4, 5, 6]],\n",
    "               [[7, 8, 9]]])\n",
    "print(f\"b:\\n{b}\\nb shape: {b.shape}\\n\")\n",
    "print(f\"a + b:\\n{a + b}\\n\\n\")\n",
    "\n",
    "b = np.array([[[1], [2], [3]],\n",
    "               [[4], [5], [6]],\n",
    "               [[7], [8], [9]]])\n",
    "print(f\"b:\\n{b}\\nb shape: {b.shape}\\n\")\n",
    "print(f\"a + b:\\n{a + b}\\n\\n\")"
   ]
  },
  {
   "cell_type": "code",
   "execution_count": null,
   "metadata": {
    "colab": {
     "base_uri": "https://localhost:8080/"
    },
    "id": "ypGG9WR_Sw0E",
    "outputId": "5fce2bff-740f-4d7b-bd33-8f71c9789914"
   },
   "outputs": [],
   "source": [
    "a = np.zeros((3, 3, 3))\n",
    "b = np.array([[[1, 2, 3]]])\n",
    "\n",
    "print(a, a.shape, end='\\n\\n')\n",
    "\n",
    "print(f\"b:\\n{b}\\nb shape: {b.shape}\\n\")\n",
    "print(f\"a + b:\\n{a + b}\\n\\n\")\n",
    "\n",
    "b = np.array([[[1],\n",
    "               [2],\n",
    "               [3]]])\n",
    "print(f\"b:\\n{b}\\nb shape: {b.shape}\\n\")\n",
    "print(f\"a + b:\\n{a + b}\\n\\n\")\n",
    "\n",
    "b = np.array([[[1]],\n",
    "               [[2]],\n",
    "               [[3]]])\n",
    "print(f\"b:\\n{b}\\nb shape: {b.shape}\\n\")\n",
    "print(f\"a + b:\\n{a + b}\\n\\n\")"
   ]
  },
  {
   "cell_type": "code",
   "execution_count": null,
   "metadata": {
    "colab": {
     "base_uri": "https://localhost:8080/"
    },
    "id": "yVkC1Jv4TChu",
    "outputId": "9527829c-676e-4387-f537-0beeeb549a23"
   },
   "outputs": [],
   "source": [
    "a = np.zeros((3, 3, 3))\n",
    "b = np.array([[[1]]])\n",
    "\n",
    "print(a, a.shape, end='\\n\\n')\n",
    "\n",
    "print(f\"b:\\n{b}\\nb shape: {b.shape}\\n\")\n",
    "print(f\"a + b:\\n{a + b}\\n\\n\")\n"
   ]
  },
  {
   "cell_type": "markdown",
   "metadata": {
    "id": "dEJw9Y_GU9og"
   },
   "source": [
    "Также, если первый массив имеет форму $(d_1, d_2, ..., d_n)$, а второй $(a_k, a_{k+1}, ..., a_n)$, $k > 1$, то перед применением операции он будет расширен до массива с формой $(1, 1, ..., 1, a_k, a_{k+1}, ..., a_n)$"
   ]
  },
  {
   "cell_type": "code",
   "execution_count": null,
   "metadata": {
    "colab": {
     "base_uri": "https://localhost:8080/"
    },
    "id": "CtORrW9wUPPM",
    "outputId": "d8a5a9d1-a644-4870-c302-c5318a6c09a3"
   },
   "outputs": [],
   "source": [
    "a = np.zeros((3, 3, 3))\n",
    "\n",
    "print(a, a.shape, end='\\n\\n')\n",
    "\n",
    "b = np.array([[1], [2], [3]])\n",
    "\n",
    "print(f\"b:\\n{b}\\nb shape: {b.shape}\\n\")\n",
    "print(f\"a + b:\\n{a + b}\\n\\n\")\n",
    "\n",
    "b = np.array([1, 2, 3])\n",
    "\n",
    "print(f\"b:\\n{b}\\nb shape: {b.shape}\\n\")\n",
    "print(f\"a + b:\\n{a + b}\\n\\n\")\n"
   ]
  },
  {
   "cell_type": "markdown",
   "metadata": {
    "id": "M7YA5hTRW8PV"
   },
   "source": [
    "#### Индексирование массивов\n",
    "\n",
    "ndarray поддерживает взятие по индексу и срезы по нескольким осям одновременно"
   ]
  },
  {
   "cell_type": "code",
   "execution_count": null,
   "metadata": {
    "colab": {
     "base_uri": "https://localhost:8080/"
    },
    "id": "Gqxl6AEddEBM",
    "outputId": "be5c450b-bb5d-47a4-c388-2b227691a570"
   },
   "outputs": [],
   "source": [
    "# Для индексирования необходимо знать размеры массивов. Следующие функции позволят получить эту информацию\n",
    "\n",
    "a = np.array(list(range(3 * 4 * 5))).reshape((3, 4, 5))\n",
    "\n",
    "print(\"a.size:\", a.size)  # общее количество элементов\n",
    "print(\"a.ndim:\", a.ndim)  # размерность массива\n",
    "print(\"a.shape:\", a.shape)  # форма массива - размер по каждой из осей\n",
    "print(\"len(a):\", len(a))  # то же, что a.shape[0]"
   ]
  },
  {
   "cell_type": "code",
   "execution_count": null,
   "metadata": {
    "colab": {
     "base_uri": "https://localhost:8080/"
    },
    "id": "Upxi--H3W590",
    "outputId": "0a2141f1-15c4-4bb5-8cbe-05820c51afe3"
   },
   "outputs": [],
   "source": [
    "a = np.array(list(range(3 ** 3))).reshape((3, 3, 3))\n",
    "\n",
    "print(a)"
   ]
  },
  {
   "cell_type": "code",
   "execution_count": null,
   "metadata": {
    "colab": {
     "base_uri": "https://localhost:8080/"
    },
    "id": "yKJXMjkMX58f",
    "outputId": "16020783-57fe-4a5a-f4c9-60045e71fa32"
   },
   "outputs": [],
   "source": [
    "print(a[0], end='\\n\\n')\n",
    "print(a[0, 0], end='\\n\\n')\n",
    "print(a[0, 0, 0])"
   ]
  },
  {
   "cell_type": "code",
   "execution_count": null,
   "metadata": {
    "colab": {
     "base_uri": "https://localhost:8080/"
    },
    "id": "NUAFRZqAa8pQ",
    "outputId": "6e7837f9-7576-4981-db33-ba81012ccb16"
   },
   "outputs": [],
   "source": [
    "print(a[..., 0])  # то же, что a[:, :, 0]"
   ]
  },
  {
   "cell_type": "code",
   "execution_count": null,
   "metadata": {
    "colab": {
     "base_uri": "https://localhost:8080/"
    },
    "id": "0JNFqKmZYDj-",
    "outputId": "08891c1b-bd0b-4a0b-aa09-c5578f9c8d51"
   },
   "outputs": [],
   "source": [
    "print(a[1, :, 1])\n",
    "print(a[2, 0, :])\n",
    "print(a[:, 1, 2])"
   ]
  },
  {
   "cell_type": "code",
   "execution_count": null,
   "metadata": {
    "colab": {
     "base_uri": "https://localhost:8080/"
    },
    "id": "oV07tDiiYOLX",
    "outputId": "b36198d3-4940-48d9-aed2-be86251d2bc3"
   },
   "outputs": [],
   "source": [
    "print(a[0, 1:, 1:], end='\\n\\n')\n",
    "print(a[:2, 1, 1::-1], end='\\n\\n')\n",
    "print(a[1::-1, ::2, 2])"
   ]
  },
  {
   "cell_type": "markdown",
   "metadata": {
    "id": "fzGRPq7dbLFw"
   },
   "source": [
    "Также ndarray поддерживает индексирование при помощи булевых масок"
   ]
  },
  {
   "cell_type": "code",
   "execution_count": null,
   "metadata": {
    "colab": {
     "base_uri": "https://localhost:8080/"
    },
    "id": "NUKNGBuFbJ8_",
    "outputId": "3d0190fd-7fc0-4dcb-a57c-cd1cea247bbd"
   },
   "outputs": [],
   "source": [
    "a = np.array([1, 2, 3, 4, 5])\n",
    "mask = np.array([False, True, True, False, True])\n",
    "print(a[mask])"
   ]
  },
  {
   "cell_type": "code",
   "execution_count": null,
   "metadata": {
    "colab": {
     "base_uri": "https://localhost:8080/"
    },
    "id": "tJtBW-Dfcxj9",
    "outputId": "a44cfec2-940d-4178-c8ce-b48d8d2c309f"
   },
   "outputs": [],
   "source": [
    "# Важно, чтобы значения в маске были именно булевы, а не другого типа данных, так как иначе numpy воспримет их как индексы\n",
    "\n",
    "mask = np.array([0, 1, 1, 0, 1])\n",
    "print(a[mask])"
   ]
  },
  {
   "cell_type": "code",
   "execution_count": null,
   "metadata": {
    "colab": {
     "base_uri": "https://localhost:8080/"
    },
    "id": "Nqb508K5dARZ",
    "outputId": "9ebf347f-b16e-41b7-abc3-9f0751fbc1bc"
   },
   "outputs": [],
   "source": [
    "# Индексирование при помощи булевых масок удобно использовать с поэлементными операциями над массивами\n",
    "\n",
    "a = np.array([9, 2, 5, 3, 1, 8, -5, 9, 3, 0, -1, 2]).reshape((3, 4))\n",
    "print(a, end='\\n\\n')\n",
    "\n",
    "print(a[a > 0], end='\\n\\n')  # получение положительных элементов массива\n",
    "print(a[np.abs(a) > 3], end='\\n\\n')  # получение элементов, по модулю больше 3\n",
    "\n",
    "a[a < 0] = 0 # обнуление отрицательных элементов массива\n",
    "print(a, end='\\n\\n')"
   ]
  },
  {
   "cell_type": "code",
   "execution_count": null,
   "metadata": {
    "id": "CLUEKq6Md9VB"
   },
   "outputs": [],
   "source": [
    "# Для комбинирования нескольких условий необходимо использовать поэлементные логические операции &, |, а не их обычные версии\n",
    "\n",
    "print(a[(2 < a) & (a <= 5)], end='\\n\\n')\n",
    "\n",
    "a[(a <= 2) | (7 <= a)] *= -1\n",
    "\n",
    "print(a)"
   ]
  },
  {
   "cell_type": "markdown",
   "metadata": {
    "id": "5MXvACoueuhn"
   },
   "source": [
    "#### Изменение размеров и формы массивов"
   ]
  },
  {
   "cell_type": "code",
   "execution_count": null,
   "metadata": {
    "colab": {
     "base_uri": "https://localhost:8080/"
    },
    "id": "snFZajRHetQI",
    "outputId": "864cc3d4-e00f-4b91-888e-36996d7043d1"
   },
   "outputs": [],
   "source": [
    "a = np.array(list(range(12)))\n",
    "print(f\"a:\\n{a}\\na shape: {a.shape}\\n\")\n",
    "\n",
    "a = a.reshape((3, 4))\n",
    "print(f\"a:\\n{a}\\na shape: {a.shape}\\n\")\n",
    "\n",
    "a = np.reshape(a, (2, 2, 3))\n",
    "print(f\"a:\\n{a}\\na shape: {a.shape}\\n\")\n",
    "\n",
    "a = np.reshape(a, (-1, 1))\n",
    "print(f\"a:\\n{a}\\na shape: {a.shape}\\n\")\n",
    "\n",
    "a = a.flatten()\n",
    "print(f\"a:\\n{a}\\na shape: {a.shape}\\n\")"
   ]
  },
  {
   "cell_type": "code",
   "execution_count": null,
   "metadata": {
    "colab": {
     "base_uri": "https://localhost:8080/"
    },
    "id": "YdTyW9RgocNB",
    "outputId": "df46a1f9-9063-42d2-f984-39aee8f3346c"
   },
   "outputs": [],
   "source": [
    "a = np.array(list(range(2 * 3 * 4))).reshape((2, 3, 4))\n",
    "print(f\"a:\\n{a}\\na shape: {a.shape}\\n\")\n",
    "\n",
    "b = np.moveaxis(a, 0, 1)\n",
    "print(f\"b:\\n{b}\\nb shape: {b.shape}\\n\")\n",
    "\n",
    "b = np.moveaxis(a, 0, 2)\n",
    "print(f\"b:\\n{b}\\nb shape: {b.shape}\\n\")\n",
    "\n",
    "b = np.moveaxis(a, 1, 2)\n",
    "print(f\"b:\\n{b}\\nb shape: {b.shape}\\n\")"
   ]
  },
  {
   "cell_type": "code",
   "execution_count": null,
   "metadata": {
    "colab": {
     "base_uri": "https://localhost:8080/"
    },
    "id": "zd2PxzA5l6Mc",
    "outputId": "c526c450-3218-45e3-fab0-9d475d9d2c76"
   },
   "outputs": [],
   "source": [
    "a = np.array(list(range(2 * 3 * 4))).reshape((2, 3, 4))\n",
    "print(f\"a:\\n{a}\\na shape: {a.shape}\\n\")\n",
    "\n",
    "b = np.swapaxes(a, 0, 1)\n",
    "print(f\"b:\\n{b}\\nb shape: {b.shape}\\n\")\n",
    "\n",
    "b = np.swapaxes(a, 0, 2)  #\n",
    "print(f\"b:\\n{b}\\nb shape: {b.shape}\\n\")\n",
    "\n",
    "b = np.swapaxes(a, 1, 2)  #\n",
    "print(f\"b:\\n{b}\\nb shape: {b.shape}\\n\")"
   ]
  },
  {
   "cell_type": "code",
   "execution_count": null,
   "metadata": {
    "colab": {
     "base_uri": "https://localhost:8080/"
    },
    "id": "s4GOhyn5lraC",
    "outputId": "51873b23-6d4f-4135-ac21-8b26fc589782"
   },
   "outputs": [],
   "source": [
    "a = np.array(list(range(2 * 3 * 4))).reshape((2, 3, 4))\n",
    "print(f\"a:\\n{a}\\na shape: {a.shape}\\n\")\n",
    "\n",
    "b = a.T\n",
    "print(f\"b:\\n{b}\\nb shape: {b.shape}\\n\")\n",
    "\n",
    "b = np.transpose(a)\n",
    "print(f\"b:\\n{b}\\nb shape: {b.shape}\\n\")\n",
    "\n",
    "b = np.transpose(a, [2, 0, 1])\n",
    "print(f\"b:\\n{b}\\nb shape: {b.shape}\\n\")"
   ]
  },
  {
   "cell_type": "code",
   "execution_count": null,
   "metadata": {
    "colab": {
     "base_uri": "https://localhost:8080/"
    },
    "id": "4ZnBTTcwowwd",
    "outputId": "6f99ae65-fe07-41b0-9df7-e75d29058145"
   },
   "outputs": [],
   "source": [
    "a = np.array(list(range(3 * 4))).reshape((3, 4))\n",
    "print(f\"a:\\n{a}\\na shape: {a.shape}\\n\")\n",
    "\n",
    "b = a[..., np.newaxis]  # то же что a.reshape((3, 4, 1))\n",
    "print(f\"b:\\n{b}\\nb shape: {b.shape}\\n\")\n",
    "\n",
    "b = a[:, np.newaxis, :]\n",
    "print(f\"b:\\n{b}\\nb shape: {b.shape}\\n\")\n",
    "\n",
    "b = a[np.newaxis, ...]\n",
    "print(f\"b:\\n{b}\\nb shape: {b.shape}\\n\")"
   ]
  },
  {
   "cell_type": "code",
   "execution_count": null,
   "metadata": {
    "colab": {
     "base_uri": "https://localhost:8080/"
    },
    "id": "Vvl_uo3jph1L",
    "outputId": "902e56b6-d8dd-4a86-d7df-079feccd4ac8"
   },
   "outputs": [],
   "source": [
    "a = np.array(list(range(3 * 4))).reshape((1, 1, 3, 1, 4, 1))\n",
    "print(f\"a:\\n{a}\\na shape: {a.shape}\\n\")\n",
    "\n",
    "b = np.squeeze(a)\n",
    "print(f\"b:\\n{b}\\nb shape: {b.shape}\\n\")\n",
    "\n",
    "b = np.squeeze(a, (0, 1, 3))\n",
    "print(f\"b:\\n{b}\\nb shape: {b.shape}\\n\")"
   ]
  },
  {
   "cell_type": "code",
   "execution_count": null,
   "metadata": {
    "colab": {
     "base_uri": "https://localhost:8080/"
    },
    "id": "o9TgHuV7qsUs",
    "outputId": "805acdc4-b478-4076-bea1-d446fc7c4f3e"
   },
   "outputs": [],
   "source": [
    "a = np.array(list(range(3 * 4))).reshape((3, 4))\n",
    "b = a + 3 * 4\n",
    "print(f\"a:\\n{a}\\na shape: {a.shape}\\n\")\n",
    "print(f\"b:\\n{b}\\nb shape: {b.shape}\\n\")\n",
    "\n",
    "c = np.concatenate((a, b), axis=0)\n",
    "print(f\"concatenate axis 0:\\n{c}\\nshape: {c.shape}\\n\")\n",
    "\n",
    "c = np.concatenate((a, b), axis=1)\n",
    "print(f\"concatenate axis 1:\\n{c}\\nshape: {c.shape}\\n\")\n",
    "\n",
    "b = np.array(list(range(3 * 4, 3 * 4 + 3 * 2))).reshape((3, 2))\n",
    "print(f\"b:\\n{b}\\nb shape: {b.shape}\\n\")\n",
    "\n",
    "c = np.concatenate((a, b), axis=1)\n",
    "print(f\"concatenate axis 1:\\n{c}\\nshape: {c.shape}\\n\")\n",
    "\n",
    "print(\"concatenate axis 0:\")\n",
    "try:\n",
    "    c = np.concatenate((a, b), axis=0)\n",
    "    print(f\"c:\\n{c}\\nc shape: {c.shape}\\n\")\n",
    "except ValueError as e:\n",
    "    print(e)\n"
   ]
  },
  {
   "cell_type": "code",
   "execution_count": null,
   "metadata": {
    "colab": {
     "base_uri": "https://localhost:8080/"
    },
    "id": "fg2_1kGJsAsG",
    "outputId": "35e430ed-e85b-4096-9549-51f241b79eac"
   },
   "outputs": [],
   "source": [
    "a = np.array(list(range(3 * 4))).reshape((3, 4))\n",
    "b = a + 3 * 4\n",
    "print(f\"a:\\n{a}\\na shape: {a.shape}\\n\")\n",
    "print(f\"b:\\n{b}\\nb shape: {b.shape}\\n\")\n",
    "\n",
    "c = np.stack((a, b), axis=0)\n",
    "print(f\"stack axis 0:\\n{c}\\nshape: {c.shape}\\n\")\n",
    "\n",
    "c = np.stack((a, b), axis=1)\n",
    "print(f\"stack axis 1:\\n{c}\\nshape: {c.shape}\\n\")\n",
    "\n",
    "c = np.stack((a, b), axis=2)\n",
    "print(f\"stack axis 2:\\n{c}\\nshape: {c.shape}\\n\")"
   ]
  },
  {
   "cell_type": "code",
   "execution_count": null,
   "metadata": {
    "colab": {
     "base_uri": "https://localhost:8080/"
    },
    "id": "eppw3QeHtDpm",
    "outputId": "347191c3-61fe-415c-973e-42e63bb1bcda"
   },
   "outputs": [],
   "source": [
    "a = np.array(list(range(3 * 4))).reshape((3, 4))\n",
    "b = np.array(list(range(3 * 2))).reshape((3, 2)) + 3 * 4\n",
    "c = np.array(list(range(3 * 1))).reshape((3, 1)) + 3 * 6\n",
    "print(f\"a:\\n{a}\\na shape: {a.shape}\\n\")\n",
    "print(f\"b:\\n{b}\\nb shape: {b.shape}\\n\")\n",
    "print(f\"c:\\n{c}\\nc shape: {c.shape}\\n\")\n",
    "\n",
    "d = np.hstack((a, b, c))\n",
    "print(f\"hstack of a, b, c:\\n{d}\\nshape: {d.shape}\\n\")"
   ]
  },
  {
   "cell_type": "code",
   "execution_count": null,
   "metadata": {
    "colab": {
     "base_uri": "https://localhost:8080/"
    },
    "id": "wxtqt-tPt24Q",
    "outputId": "8fb5ef5e-15fe-45ac-e697-f96638479b6d"
   },
   "outputs": [],
   "source": [
    "a = np.array(list(range(5 * 3))).reshape((5, 3))\n",
    "b = np.array(list(range(3 * 3))).reshape((3, 3)) + 5 * 3\n",
    "c = np.array(list(range(1 * 3))).reshape((1, 3)) + 8 * 3\n",
    "print(f\"a:\\n{a}\\na shape: {a.shape}\\n\")\n",
    "print(f\"b:\\n{b}\\nb shape: {b.shape}\\n\")\n",
    "print(f\"c:\\n{c}\\nc shape: {c.shape}\\n\")\n",
    "\n",
    "d = np.vstack((a, b, c))\n",
    "print(f\"vstakc of a, b, c:\\n{d}\\nshape: {d.shape}\\n\")"
   ]
  },
  {
   "cell_type": "code",
   "execution_count": null,
   "metadata": {
    "colab": {
     "base_uri": "https://localhost:8080/"
    },
    "id": "PAGrl_hquF60",
    "outputId": "9b9416ab-98ae-4cb8-c8d5-45e0f1482d2f"
   },
   "outputs": [],
   "source": [
    "a = np.array(list(range(10)))\n",
    "\n",
    "print(a)\n",
    "print(np.split(a, [2, 6]))"
   ]
  },
  {
   "cell_type": "code",
   "execution_count": null,
   "metadata": {
    "colab": {
     "base_uri": "https://localhost:8080/"
    },
    "id": "zRJd1nXAT-cE",
    "outputId": "c4e8bb63-d8d5-470d-aef0-1b7948035de9"
   },
   "outputs": [],
   "source": [
    "a = np.array(list(range(8 * 3))).reshape((8, 3))\n",
    "\n",
    "print(a, end='\\n\\n')\n",
    "print(*np.split(a, [2, 6], axis=0), sep='\\n')"
   ]
  },
  {
   "cell_type": "code",
   "execution_count": null,
   "metadata": {
    "colab": {
     "base_uri": "https://localhost:8080/"
    },
    "id": "ifHWL5OkT_0n",
    "outputId": "a3b98ca2-7cbb-4581-ab78-48684d11d779"
   },
   "outputs": [],
   "source": [
    "a = np.array(list(range(5)))\n",
    "b = np.tile(a, 5)\n",
    "\n",
    "print(b, end='\\n\\n')\n",
    "print(b.reshape((-1, a.shape[0])))\n"
   ]
  },
  {
   "cell_type": "code",
   "execution_count": null,
   "metadata": {
    "colab": {
     "base_uri": "https://localhost:8080/"
    },
    "id": "hd3paZYOUYMu",
    "outputId": "c8f74ce0-80c0-41cd-b745-57e3eaf6fd37"
   },
   "outputs": [],
   "source": [
    "a = np.array(list(range(2 * 3 * 4))).reshape((2, 3, 4))\n",
    "print(f\"a:\\n{a}\\na shape: {a.shape}\\n\")\n",
    "\n",
    "b = np.flip(a, axis=0)\n",
    "c = np.flip(a, axis=1)\n",
    "d = np.flip(a, axis=2)\n",
    "\n",
    "print(f\"flip axis 0:\\n{b}\\nshape: {b.shape}\\n\")\n",
    "print(f\"flip axis 1:\\n{c}\\nshape: {c.shape}\\n\")\n",
    "print(f\"flip axis 2:\\n{d}\\nshape: {d.shape}\\n\")"
   ]
  },
  {
   "cell_type": "markdown",
   "metadata": {
    "id": "AgeU8eFqWYbc"
   },
   "source": [
    "#### Математические операции над массивами"
   ]
  },
  {
   "cell_type": "code",
   "execution_count": null,
   "metadata": {
    "colab": {
     "base_uri": "https://localhost:8080/"
    },
    "id": "Rvy4rFJfVZQj",
    "outputId": "ea26edf2-333c-4ef7-cfde-0f17eab50c15"
   },
   "outputs": [],
   "source": [
    "a = np.array(list(range(3 * 4))).reshape((3, 4))\n",
    "\n",
    "print(f\"a:\\n{a}\\na shape: {a.shape}\\n\")\n",
    "\n",
    "print(f\"sum: {np.sum(a)}\")\n",
    "print(f\"sum axis 0: {np.sum(a, axis=0)}\")\n",
    "print(f\"sum axis 1: {np.sum(a, axis=1)}\")\n",
    "\n",
    "print(f\"prod: {np.prod(a)}\")\n",
    "print(f\"prod axis 0: {np.prod(a, axis=0)}\")\n",
    "print(f\"prod axis 1: {np.prod(a, axis=1)}\")"
   ]
  },
  {
   "cell_type": "code",
   "execution_count": null,
   "metadata": {
    "colab": {
     "base_uri": "https://localhost:8080/"
    },
    "id": "bpqOl-cuXaMO",
    "outputId": "88be81d3-5c08-47b9-cb34-3a29d20cf147"
   },
   "outputs": [],
   "source": [
    "a = np.array(list(range(2 * 3 * 4))).reshape((2, 3, 4))\n",
    "\n",
    "print(f\"a:\\n{a}\\na shape: {a.shape}\\n\")\n",
    "\n",
    "print(f\"sum axis 0:\\n{np.sum(a, axis=0)}\")\n",
    "print(f\"sum axis 1:\\n{np.sum(a, axis=1)}\")\n",
    "print(f\"sum axis 2:\\n{np.sum(a, axis=2)}\")\n",
    "\n",
    "print(f\"sum axis (0, 1): {np.sum(a, axis=(0, 1))}\")\n",
    "print(f\"sum axis (0, 2): {np.sum(a, axis=(0, 2))}\")\n",
    "print(f\"sum axis (1, 2): {np.sum(a, axis=(1, 2))}\")\n"
   ]
  },
  {
   "cell_type": "code",
   "execution_count": null,
   "metadata": {
    "colab": {
     "base_uri": "https://localhost:8080/"
    },
    "id": "j69Rzi5pXtzj",
    "outputId": "3125c247-8746-41ab-d7a4-82bca9a8b9cb"
   },
   "outputs": [],
   "source": [
    "a = np.arange(3 * 4).reshape((3, 4))\n",
    "b = np.arange(4 * 5).reshape((4, 5))\n",
    "\n",
    "print(a @ b)"
   ]
  },
  {
   "cell_type": "code",
   "execution_count": null,
   "metadata": {
    "colab": {
     "base_uri": "https://localhost:8080/"
    },
    "id": "Ea1RQ-j-ZxkX",
    "outputId": "613a474d-4a54-4b61-bdba-266b5090fee0"
   },
   "outputs": [],
   "source": [
    "a = np.arange(1, 10)\n",
    "\n",
    "print(np.cumsum(a))\n",
    "print(np.cumprod(a))"
   ]
  },
  {
   "cell_type": "code",
   "execution_count": null,
   "metadata": {
    "colab": {
     "base_uri": "https://localhost:8080/"
    },
    "id": "tF8O8kXOaBjk",
    "outputId": "ae75dcf2-11a8-4f92-d515-1ffb23ef96c4"
   },
   "outputs": [],
   "source": [
    "a = np.arange(1, 10)\n",
    "b = np.arange(10, 1, -1)\n",
    "\n",
    "print(np.fmax(a, b))\n",
    "print(np.fmin(a, b))\n"
   ]
  },
  {
   "cell_type": "code",
   "execution_count": null,
   "metadata": {
    "colab": {
     "base_uri": "https://localhost:8080/"
    },
    "id": "3iceOxvsb8Bt",
    "outputId": "ba4120c5-a1c7-41db-f840-4f00a7e50c13"
   },
   "outputs": [],
   "source": [
    "a = np.array([3, 0, 8, -3, 7, 3, 6, 0])\n",
    "\n",
    "print(\"mean a:\", np.mean(a), \"- среднее значение элементов массива\")\n",
    "print(\"std a:\", np.std(a), \"- среднеквадратичное отклонение элементов массива\")\n",
    "print(\"median a:\", np.median(a), \"- медианное значение массива\")"
   ]
  },
  {
   "cell_type": "markdown",
   "metadata": {
    "id": "Oq0ukrTFfFOf"
   },
   "source": [
    "#### Сортировка и поиск по массиву"
   ]
  },
  {
   "cell_type": "code",
   "execution_count": null,
   "metadata": {
    "colab": {
     "base_uri": "https://localhost:8080/"
    },
    "id": "Pi6nAlBncc__",
    "outputId": "a2d0f39b-14d5-4bcd-c7d3-0617afa6872b"
   },
   "outputs": [],
   "source": [
    "a = np.array([5, 2, 0, 1, 6, 10, -6, 2, -6, 7, 3, -7])\n",
    "\n",
    "print(\"argmax a:\", np.argmax(a), \"- индекс максимального элемента\")\n",
    "print(\"argmin a:\", np.argmin(a), \"- индекс минимального элемента\")\n",
    "print(\"unique a:\", np.unique(a), \"- набор уникальных элементов массива\")"
   ]
  },
  {
   "cell_type": "code",
   "execution_count": null,
   "metadata": {
    "colab": {
     "base_uri": "https://localhost:8080/"
    },
    "id": "4DWLmgSGfjAM",
    "outputId": "96d536c6-7f84-4234-b21b-dbde93e24185"
   },
   "outputs": [],
   "source": [
    "print(\"sort a:\", np.sort(a), \"- отсортированный массив\")\n",
    "print(\"argsort a:\", np.argsort(a), \"- возвращает индексы отсортированных элементов в изначальном массиве\")"
   ]
  },
  {
   "cell_type": "markdown",
   "metadata": {
    "id": "3socfYLAgwIG"
   },
   "source": [
    "```np.where(condition, a, b)``` - если на очередной итерации condition явялется True, берётся значение x (или очередное значение x, если x - iterable), иначе - y"
   ]
  },
  {
   "cell_type": "code",
   "execution_count": null,
   "metadata": {
    "colab": {
     "base_uri": "https://localhost:8080/"
    },
    "id": "eG-fwsvKghca",
    "outputId": "89aef671-69c1-4162-9edb-fed162d105ef"
   },
   "outputs": [],
   "source": [
    "print(np.where(np.abs(a) > 3, a, -1))"
   ]
  }
 ],
 "metadata": {
  "colab": {
   "provenance": []
  },
  "kernelspec": {
   "display_name": "Python 3 (ipykernel)",
   "language": "python",
   "name": "python3"
  },
  "language_info": {
   "codemirror_mode": {
    "name": "ipython",
    "version": 3
   },
   "file_extension": ".py",
   "mimetype": "text/x-python",
   "name": "python",
   "nbconvert_exporter": "python",
   "pygments_lexer": "ipython3",
   "version": "3.8.8"
  }
 },
 "nbformat": 4,
 "nbformat_minor": 4
}
