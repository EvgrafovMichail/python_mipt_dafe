{
 "cells": [
  {
   "cell_type": "code",
   "execution_count": 10,
   "metadata": {},
   "outputs": [],
   "source": [
    "from typing import Iterable, Any"
   ]
  },
  {
   "cell_type": "markdown",
   "metadata": {},
   "source": [
    "### Разминка: методы через срезы\n",
    "\n",
    "Значительную часть модифицирующих методов списков можно реализовать через срезы. Ваша задача реализовать аналоги методов append(), extend(), insert(), reverse(), используя только срезы."
   ]
  },
  {
   "cell_type": "code",
   "execution_count": 11,
   "metadata": {},
   "outputs": [],
   "source": [
    "def my_append(list_instance: list, x: Any) -> None:\n",
    "    # ВАШ КОД\n",
    "    pass\n",
    "\n",
    "def my_extend(\n",
    "    list_instance: list, expansion: Iterable\n",
    ") -> None:\n",
    "    # ВАШ КОД\n",
    "    pass\n",
    "\n",
    "def my_insert(list_instance: list, i: int) -> None:\n",
    "    # ВАШ КОД\n",
    "    pass\n",
    "\n",
    "def my_reverse(list_instance: list) -> None:\n",
    "    # ВАШ КОД\n",
    "    pass"
   ]
  },
  {
   "cell_type": "markdown",
   "metadata": {},
   "source": [
    "### Задача 1: Сложение\n",
    "\n",
    "На вход подаются два списка, репрезентирующие числа в десятичной системе счисления. Элементы списков - числа от 0 до 9, представляющие значения разрядов числа. Самый левый разряд - самый больший. Т.е. число 123 будет представлено списком [1, 2, 3]. Ваша задача - вычислить сумму переданных чисел и вернуть список, представляюзщий эту сумму. "
   ]
  },
  {
   "cell_type": "code",
   "execution_count": 12,
   "metadata": {},
   "outputs": [],
   "source": [
    "def sum_two_nums(num1: list[int], num2: list[int]) -> list[int]:\n",
    "    lis = [0] * (max(len(num1), len(num2)) + 1)\n",
    "    length = len(num1)\n",
    "    k = 0\n",
    "    for i in range(length, 0, -1):\n",
    "        lis[i - 1] += num1[k]\n",
    "        k += 1\n",
    "    k = 0\n",
    "    for j in range(len(num2),0,-1):\n",
    "        lis[j- 1] += num2[k]\n",
    "        k += 1\n",
    "    for q in range(len(lis)):\n",
    "        if lis[q] >= 10:\n",
    "            lis[q + 1] += 1\n",
    "            lis[q] -= 10\n",
    "    lis = lis[::-1]\n",
    "    if lis[0] == 0:\n",
    "        lis = lis[1:]\n",
    "    return lis"
   ]
  },
  {
   "cell_type": "markdown",
   "metadata": {},
   "source": [
    "**Тесты:**"
   ]
  },
  {
   "cell_type": "code",
   "execution_count": 13,
   "metadata": {},
   "outputs": [],
   "source": [
    "num1 = [1, 2, 3]\n",
    "num2 = [7, 7]\n",
    "\n",
    "assert sum_two_nums(num1, num2) == [2, 0, 0]\n",
    "assert sum_two_nums(num2, num1) == [2, 0, 0]"
   ]
  },
  {
   "cell_type": "markdown",
   "metadata": {},
   "source": [
    "### Задача 2: Объеденяй и не властвуй\n",
    "\n",
    "На вход подан список intervals, где intervals[ i ] = [$start_i$, $stop_i$]. Объедените все пересекающиеся интервалы и верните список непересекающихся интервалов, покрывающий все интервалы из intervals."
   ]
  },
  {
   "cell_type": "code",
   "execution_count": null,
   "metadata": {},
   "outputs": [],
   "source": [
    "def merge_intervals(intervals: list[list[int]]) -> list[list[int]]:\n",
    "    \n",
    "    return []"
   ]
  },
  {
   "cell_type": "markdown",
   "metadata": {},
   "source": [
    "**Тесты:**"
   ]
  },
  {
   "cell_type": "code",
   "execution_count": 15,
   "metadata": {},
   "outputs": [
    {
     "ename": "NameError",
     "evalue": "name 'merge_intervals' is not defined",
     "output_type": "error",
     "traceback": [
      "\u001b[1;31m---------------------------------------------------------------------------\u001b[0m",
      "\u001b[1;31mNameError\u001b[0m                                 Traceback (most recent call last)",
      "Cell \u001b[1;32mIn[15], line 2\u001b[0m\n\u001b[0;32m      1\u001b[0m intervals \u001b[39m=\u001b[39m [[\u001b[39m1\u001b[39m,\u001b[39m3\u001b[39m],[\u001b[39m2\u001b[39m,\u001b[39m6\u001b[39m],[\u001b[39m8\u001b[39m,\u001b[39m10\u001b[39m],[\u001b[39m15\u001b[39m,\u001b[39m18\u001b[39m]]\n\u001b[1;32m----> 2\u001b[0m \u001b[39massert\u001b[39;00m merge_intervals(intervals) \u001b[39m==\u001b[39m [[\u001b[39m1\u001b[39m,\u001b[39m6\u001b[39m],[\u001b[39m8\u001b[39m,\u001b[39m10\u001b[39m],[\u001b[39m15\u001b[39m,\u001b[39m18\u001b[39m]]\n",
      "\u001b[1;31mNameError\u001b[0m: name 'merge_intervals' is not defined"
     ]
    }
   ],
   "source": [
    "intervals = [[1,3],[2,6],[8,10],[15,18]]\n",
    "assert merge_intervals(intervals) == [[1,6],[8,10],[15,18]]"
   ]
  },
  {
   "cell_type": "markdown",
   "metadata": {},
   "source": [
    "### Задача 3: Удалим дубликаты\n",
    "\n",
    "Дан список nums, отсортированный в неубывающем порядке. Ваша задача удалить дублирующиеся элементы **на месте** так, чтобы каждый уникальный элемент массива имел лишь одно вхождение. При этом относительный порядок следования элементов должен остаться без изменений."
   ]
  },
  {
   "cell_type": "code",
   "execution_count": 14,
   "metadata": {},
   "outputs": [],
   "source": [
    "def remove_duplicates(nums: list[int]) -> None:\n",
    "    # ВАШ КОД\n",
    "    pass"
   ]
  },
  {
   "cell_type": "markdown",
   "metadata": {},
   "source": [
    "**Тесты:**"
   ]
  },
  {
   "cell_type": "code",
   "execution_count": null,
   "metadata": {},
   "outputs": [],
   "source": [
    "nums = [1, 1, 2]\n",
    "\n",
    "remove_duplicates(nums)\n",
    "assert nums == [1, 2]"
   ]
  },
  {
   "cell_type": "markdown",
   "metadata": {},
   "source": [
    "### Задача 4: Уникальные пути\n",
    "\n",
    "Вам дано двумерное поле размера m X n. В левом верхнем углу (grid[0][0]) расположен робот. Робот старается добраться до правого нижнего угла (grid[-1][-1]). Робот может ходить только вниз или вправо. \n",
    "\n",
    "Свободные клетки и препятствия помечены в массиве grid 0 и 1 соответственно. Пути робот из верхнего левого угла в правый нижний угол могут проходить только через свободные клетки. \n",
    "\n",
    "Ваша задача - вычислить максимальное возможное количество уникальных путей из левого верхнего угла в правый нижний угол."
   ]
  },
  {
   "cell_type": "code",
   "execution_count": null,
   "metadata": {},
   "outputs": [],
   "source": [
    "def compute_unique_pathes(grid:list[list[int]]) -> int:\n",
    "    # ВАШ КОД\n",
    "    answer = 0\n",
    "    return answer"
   ]
  },
  {
   "cell_type": "markdown",
   "metadata": {},
   "source": [
    "**Тесты:**"
   ]
  },
  {
   "cell_type": "code",
   "execution_count": null,
   "metadata": {},
   "outputs": [],
   "source": [
    "grid = [\n",
    "    [0, 0, 0],\n",
    "    [0, 1, 0],\n",
    "    [0, 0, 0]\n",
    "]\n",
    "\n",
    "assert compute_unique_pathes(grid) == 2"
   ]
  },
  {
   "cell_type": "markdown",
   "metadata": {},
   "source": [
    "### Задача 5: Игра в прыжки\n",
    "\n",
    "Вам дан список jumps, состоящий из целых чисел, индексирующийся с нуля и имеющий длину n. Вы начинаете движение с позиции jumps[0]. Каждый элемент списка jumps[i] представляет собой длину максимального прыжка вперед с позиции i: если вы находитесь в позиции i, вы можете прыжком переместиться на любую позицию от i до i + jumps[i].\n",
    "\n",
    "Ваша задача - определить минимальное число прыжков, необходимое для достижения позиции n - 1."
   ]
  },
  {
   "cell_type": "code",
   "execution_count": null,
   "metadata": {},
   "outputs": [],
   "source": [
    "def jump(jumps: list[int]) -> int:\n",
    "    # ВАШ КОД\n",
    "    return 0"
   ]
  },
  {
   "cell_type": "markdown",
   "metadata": {},
   "source": [
    "**Тесты:**"
   ]
  },
  {
   "cell_type": "code",
   "execution_count": null,
   "metadata": {},
   "outputs": [],
   "source": [
    "jumps = [2,3,1,1,4]\n",
    "assert jump(jumps) == 2"
   ]
  }
 ],
 "metadata": {
  "kernelspec": {
   "display_name": "Python 3",
   "language": "python",
   "name": "python3"
  },
  "language_info": {
   "codemirror_mode": {
    "name": "ipython",
    "version": 3
   },
   "file_extension": ".py",
   "mimetype": "text/x-python",
   "name": "python",
   "nbconvert_exporter": "python",
   "pygments_lexer": "ipython3",
   "version": "3.11.4"
  },
  "orig_nbformat": 4
 },
 "nbformat": 4,
 "nbformat_minor": 2
}
