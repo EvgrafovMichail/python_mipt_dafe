{
 "cells": [
  {
   "cell_type": "code",
   "execution_count": 1,
   "metadata": {},
   "outputs": [],
   "source": [
    "from typing import Iterable, Any"
   ]
  },
  {
   "cell_type": "markdown",
   "metadata": {},
   "source": [
    "### Разминка: методы через срезы\n",
    "\n",
    "Значительную часть модифицирующих методов списков можно реализовать через срезы. Ваша задача реализовать аналоги методов append(), extend(), insert(), reverse(), используя только срезы."
   ]
  },
  {
   "cell_type": "code",
   "execution_count": 3,
   "metadata": {},
   "outputs": [],
   "source": [
    "def my_append(list_instance: list, x: Any) -> None:\n",
    "    list_instance[len(list_instance):len(list_instance)] = [x]\n",
    "    pass\n",
    "\n",
    "def my_extend(\n",
    "    list_instance: list, expansion: Iterable\n",
    ") -> None:\n",
    "    # ВАШ КОД\n",
    "    pass\n",
    "\n",
    "def my_insert(list_instance: list, i: int) -> None:\n",
    "    # ВАШ КОД\n",
    "    pass\n",
    "\n",
    "def my_reverse(list_instance: list) -> None:\n",
    "    # ВАШ КОД\n",
    "    pass"
   ]
  },
  {
   "cell_type": "markdown",
   "metadata": {},
   "source": [
    "### Задача 1: Сложение\n",
    "\n",
    "На вход подаются два списка, репрезентирующие числа в десятичной системе счисления. Элементы списков - числа от 0 до 9, представляющие значения разрядов числа. Самый левый разряд - самый больший. Т.е. число 123 будет представлено списком [1, 2, 3]. Ваша задача - вычислить сумму переданных чисел и вернуть список, представляюзщий эту сумму. "
   ]
  },
  {
   "cell_type": "code",
   "execution_count": 2,
   "metadata": {},
   "outputs": [],
   "source": [
    "def sum_two_nums(num1: list[int], num2: list[int]) -> list[int]:\n",
    "    n1 = 0\n",
    "    n2 = 0\n",
    "    for i in range(len(num1)):\n",
    "        n1 += num1[i] * 10 ** (len(num1) - (i + 1))\n",
    "    for i in range(len(num2)):\n",
    "        n2 += num2[i] * 10 ** (len(num2) - (i + 1))\n",
    "    res = []\n",
    "    n3 = n1 + n2\n",
    "    while n3:\n",
    "        i = 0 \n",
    "        r = 0\n",
    "        while n3 // 10  ** i != 0:\n",
    "            r += 1\n",
    "            i += 1\n",
    "        for j in range(i):\n",
    "            res.append(n3 // 10 ** (i -1))\n",
    "            n3 -= (n3 // 10 ** (i -1)) * 10 ** (i - 1)\n",
    "            i -= 1\n",
    "        break\n",
    "    return res"
   ]
  },
  {
   "cell_type": "markdown",
   "metadata": {},
   "source": [
    "**Тесты:**"
   ]
  },
  {
   "cell_type": "code",
   "execution_count": 3,
   "metadata": {},
   "outputs": [],
   "source": [
    "num1 = [1, 2, 3]\n",
    "num2 = [7, 7]\n",
    "\n",
    "assert sum_two_nums(num1, num2) == [2, 0, 0]\n",
    "assert sum_two_nums(num2, num1) == [2, 0, 0]"
   ]
  },
  {
   "cell_type": "markdown",
   "metadata": {},
   "source": [
    "### Задача 2: Объеденяй и не властвуй\n",
    "\n",
    "На вход подан список intervals, где intervals[ i ] = [$start_i$, $stop_i$]. Объедените все пересекающиеся интервалы и верните список непересекающихся интервалов, покрывающий все интервалы из intervals."
   ]
  },
  {
   "cell_type": "code",
   "execution_count": 4,
   "metadata": {},
   "outputs": [],
   "source": [
    "def merge_intervals(intervals: list[list[int]]) -> list[list[int]]:\n",
    "    intervals.sort()\n",
    "    ans = []\n",
    "    for i in range(len(intervals) - 1):\n",
    "        if i < len(intervals) - 1:\n",
    "            if intervals[i][1] >= intervals[i + 1][0]:\n",
    "                ans.append([intervals[i][0], intervals[i + 1][1]])\n",
    "                intervals.pop(i)\n",
    "            else:\n",
    "                ans.append(intervals[i])\n",
    "    if len(ans) > 0:\n",
    "        if ans[-1][-1] not in intervals[-1]:\n",
    "            ans.append(intervals[-1])\n",
    "\n",
    "    return ans"
   ]
  },
  {
   "cell_type": "markdown",
   "metadata": {},
   "source": [
    "**Тесты:**"
   ]
  },
  {
   "cell_type": "code",
   "execution_count": 5,
   "metadata": {},
   "outputs": [],
   "source": [
    "intervals = [[1,3],[2,6],[8,10],[15,18]]\n",
    "assert merge_intervals(intervals) == [[1,6],[8,10],[15,18]]"
   ]
  },
  {
   "cell_type": "markdown",
   "metadata": {},
   "source": [
    "### Задача 3: Удалим дубликаты\n",
    "\n",
    "Дан список nums, отсортированный в неубывающем порядке. Ваша задача удалить дублирующиеся элементы **на месте** так, чтобы каждый уникальный элемент массива имел лишь одно вхождение. При этом относительный порядок следования элементов должен остаться без изменений."
   ]
  },
  {
   "cell_type": "code",
   "execution_count": 6,
   "metadata": {},
   "outputs": [],
   "source": [
    "def remove_duplicates(nums: list[int]) -> None:\n",
    "   i = 0\n",
    "   while i < len(nums):\n",
    "      if nums.count(nums[i]) > 1:\n",
    "         nums.pop(i)\n",
    "      i += 1\n",
    "   pass\n",
    "    "
   ]
  },
  {
   "cell_type": "markdown",
   "metadata": {},
   "source": [
    "**Тесты:**"
   ]
  },
  {
   "cell_type": "code",
   "execution_count": 7,
   "metadata": {},
   "outputs": [],
   "source": [
    "nums = [1, 1, 2]\n",
    "\n",
    "remove_duplicates(nums)\n",
    "assert nums == [1, 2]"
   ]
  },
  {
   "cell_type": "markdown",
   "metadata": {},
   "source": [
    "### Задача 4: Уникальные пути\n",
    "\n",
    "Вам дано двумерное поле размера m X n. В левом верхнем углу (grid[0][0]) расположен робот. Робот старается добраться до правого нижнего угла (grid[-1][-1]). Робот может ходить только вниз или вправо. \n",
    "\n",
    "Свободные клетки и препятствия помечены в массиве grid 0 и 1 соответственно. Пути робот из верхнего левого угла в правый нижний угол могут проходить только через свободные клетки. \n",
    "\n",
    "Ваша задача - вычислить максимальное возможное количество уникальных путей из левого верхнего угла в правый нижний угол."
   ]
  },
  {
   "cell_type": "code",
   "execution_count": 30,
   "metadata": {},
   "outputs": [],
   "source": [
    "def compute_unique_pathes(grid:list[list[int]]) -> int:\n",
    "    \n",
    "    answer = 0\n",
    "    matr = []\n",
    "    for i in range(len(grid)):\n",
    "        b = [0 for j in range(len(grid[i]))]\n",
    "        matr.append(b)\n",
    "    for i in range(len(grid)):\n",
    "        for j in range(len(grid[i])):\n",
    "            if i == 0:\n",
    "                if j != 0:\n",
    "                    if grid[i][j - 1] == 0 and grid[i][j] != 1:\n",
    "                        matr[i][j] += 1\n",
    "            elif j == 0:\n",
    "                if i != 0:\n",
    "                    if grid[i - 1][j] == 0 and grid[i][j] != 1:\n",
    "                        matr[i][j] += 1\n",
    "            else:\n",
    "                if grid[i - 1][j] == 0 and grid[i][j] != 1:\n",
    "                        matr[i][j] += 1\n",
    "                if grid[i][j - 1] == 0 and grid[i][j] != 1:\n",
    "                        matr[i][j] += 1\n",
    "    answer = matr[-1][-1]\n",
    "    return answer"
   ]
  },
  {
   "cell_type": "markdown",
   "metadata": {},
   "source": [
    "**Тесты:**"
   ]
  },
  {
   "cell_type": "code",
   "execution_count": 31,
   "metadata": {},
   "outputs": [],
   "source": [
    "grid = [\n",
    "    [0, 0, 0],\n",
    "    [0, 1, 0],\n",
    "    [0, 0, 0]\n",
    "]\n",
    "\n",
    "assert compute_unique_pathes(grid) == 2"
   ]
  },
  {
   "cell_type": "markdown",
   "metadata": {},
   "source": [
    "### Задача 5: Игра в прыжки\n",
    "\n",
    "Вам дан список jumps, состоящий из целых чисел, индексирующийся с нуля и имеющий длину n. Вы начинаете движение с позиции jumps[0]. Каждый элемент списка jumps[i] представляет собой длину максимального прыжка вперед с позиции i: если вы находитесь в позиции i, вы можете прыжком переместиться на любую позицию от i до i + jumps[i].\n",
    "\n",
    "Ваша задача - определить минимальное число прыжков, необходимое для достижения позиции n - 1."
   ]
  },
  {
   "cell_type": "code",
   "execution_count": 3,
   "metadata": {},
   "outputs": [],
   "source": [
    "def jump(jumps: list[int]) -> int:\n",
    "    if len(jumps) == 1:\n",
    "         return 0\n",
    "    ans = 1\n",
    "    new_pos = jumps[0]\n",
    "    steps = jumps[0]\n",
    "    for i in range(1, len(jumps)):\n",
    "        if i == len(jumps) - 1:\n",
    "             return ans\n",
    "        if i + jumps[i] > new_pos:\n",
    "             new_pos = i + jumps[i]\n",
    "        steps -= 1\n",
    "        if steps == 0:\n",
    "            if i >= new_pos:\n",
    "                return -1\n",
    "            steps = new_pos - i\n",
    "            ans += 1\n"
   ]
  },
  {
   "cell_type": "markdown",
   "metadata": {},
   "source": [
    "**Тесты:**"
   ]
  },
  {
   "cell_type": "code",
   "execution_count": 4,
   "metadata": {},
   "outputs": [
    {
     "name": "stdout",
     "output_type": "stream",
     "text": [
      "0\n"
     ]
    },
    {
     "ename": "AssertionError",
     "evalue": "",
     "output_type": "error",
     "traceback": [
      "\u001b[1;31m---------------------------------------------------------------------------\u001b[0m",
      "\u001b[1;31mAssertionError\u001b[0m                            Traceback (most recent call last)",
      "\u001b[1;32mc:\\Users\\ROG\\Desktop\\Programming\\Python\\python_mipt_dafe\\lessons\\lesson3\\sem3_313\\tasks.ipynb Cell 23\u001b[0m line \u001b[0;36m2\n\u001b[0;32m      <a href='vscode-notebook-cell:/c%3A/Users/ROG/Desktop/Programming/Python/python_mipt_dafe/lessons/lesson3/sem3_313/tasks.ipynb#X31sZmlsZQ%3D%3D?line=0'>1</a>\u001b[0m jumps \u001b[39m=\u001b[39m [\u001b[39m3\u001b[39m, \u001b[39m5\u001b[39m, \u001b[39m4\u001b[39m, \u001b[39m2\u001b[39m, \u001b[39m1\u001b[39m]\n\u001b[1;32m----> <a href='vscode-notebook-cell:/c%3A/Users/ROG/Desktop/Programming/Python/python_mipt_dafe/lessons/lesson3/sem3_313/tasks.ipynb#X31sZmlsZQ%3D%3D?line=1'>2</a>\u001b[0m \u001b[39massert\u001b[39;00m jump(jumps) \u001b[39m==\u001b[39m \u001b[39m2\u001b[39m\n",
      "\u001b[1;31mAssertionError\u001b[0m: "
     ]
    }
   ],
   "source": [
    "jumps = [3, 5, 4, 2, 1]\n",
    "assert jump(jumps) == 2"
   ]
  }
 ],
 "metadata": {
  "kernelspec": {
   "display_name": "Python 3",
   "language": "python",
   "name": "python3"
  },
  "language_info": {
   "codemirror_mode": {
    "name": "ipython",
    "version": 3
   },
   "file_extension": ".py",
   "mimetype": "text/x-python",
   "name": "python",
   "nbconvert_exporter": "python",
   "pygments_lexer": "ipython3",
   "version": "3.11.4"
  },
  "orig_nbformat": 4
 },
 "nbformat": 4,
 "nbformat_minor": 2
}
