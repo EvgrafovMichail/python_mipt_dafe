{
 "cells": [
  {
   "cell_type": "code",
   "execution_count": 148,
   "metadata": {},
   "outputs": [],
   "source": [
    "from typing import Iterable, Any"
   ]
  },
  {
   "cell_type": "markdown",
   "metadata": {},
   "source": [
    "### Разминка: методы через срезы\n",
    "\n",
    "Значительную часть модифицирующих методов списков можно реализовать через срезы. Ваша задача реализовать аналоги методов append(), extend(), insert(), reverse(), используя только срезы."
   ]
  },
  {
   "cell_type": "code",
   "execution_count": 149,
   "metadata": {},
   "outputs": [],
   "source": [
    "def my_append(list_instance: list, x: Any) -> None:\n",
    "    list_instance[len(list_instance):len(list_instance)] = [x]\n",
    "\n",
    "\n",
    "def my_extend(\n",
    "    list_instance: list, expansion: Iterable\n",
    ") -> None:\n",
    "    # ВАШ КОД\n",
    "    pass\n",
    "\n",
    "def my_insert(list_instance: list, i: int) -> None:\n",
    "    # ВАШ КОД\n",
    "    pass\n",
    "\n",
    "def my_reverse(list_instance: list) -> None:\n",
    "    # ВАШ КОД\n",
    "    pass"
   ]
  },
  {
   "cell_type": "markdown",
   "metadata": {},
   "source": [
    "### Задача 1: Сложение\n",
    "\n",
    "На вход подаются два списка, репрезентирующие числа в десятичной системе счисления. Элементы списков - числа от 0 до 9, представляющие значения разрядов числа. Самый левый разряд - самый больший. Т.е. число 123 будет представлено списком [1, 2, 3]. Ваша задача - вычислить сумму переданных чисел и вернуть список, представляюзщий эту сумму. "
   ]
  },
  {
   "cell_type": "code",
   "execution_count": 150,
   "metadata": {},
   "outputs": [],
   "source": [
    "def sum_two_nums(num1: list[int], num2: list[int]) -> list[int]:\n",
    "    sum1 = 0\n",
    "    sum2 = 0\n",
    "    for i in num1:\n",
    "        sum1 = sum1 * 10 + i\n",
    "    for i in num2:\n",
    "        sum2 = sum2 * 10 + i\n",
    "    result = sum1 + sum2\n",
    "    c = []\n",
    "    while(result > 0):\n",
    "        c.append(result % 10)\n",
    "        result =result // 10\n",
    "    return c[::-1]"
   ]
  },
  {
   "cell_type": "markdown",
   "metadata": {},
   "source": [
    "**Тесты:**"
   ]
  },
  {
   "cell_type": "code",
   "execution_count": 151,
   "metadata": {},
   "outputs": [],
   "source": [
    "num1 = [1, 2, 3]\n",
    "num2 = [7, 7]\n",
    "\n",
    "assert sum_two_nums(num1, num2) == [2, 0, 0]\n",
    "assert sum_two_nums(num2, num1) == [2, 0, 0]"
   ]
  },
  {
   "cell_type": "markdown",
   "metadata": {},
   "source": [
    "### Задача 2: Объеденяй и не властвуй\n",
    "\n",
    "На вход подан список intervals, где intervals[ i ] = [$start_i$, $stop_i$]. Объедените все пересекающиеся интервалы и верните список непересекающихся интервалов, покрывающий все интервалы из intervals."
   ]
  },
  {
   "cell_type": "code",
   "execution_count": 152,
   "metadata": {},
   "outputs": [],
   "source": [
    "def merge_intervals(intervals: list[list[int]]):\n",
    "    i = 0\n",
    "    flag = 1\n",
    "    while(flag == 1):\n",
    "        if (i + 1) < len(intervals):\n",
    "            if intervals[i][-1] >= intervals[i + 1][0]:\n",
    "                intervals[i+1][0] = intervals[i][0]\n",
    "                intervals.pop(i)\n",
    "            else:\n",
    "                i += 1\n",
    "        else:\n",
    "            flag = 0\n",
    "    return intervals"
   ]
  },
  {
   "cell_type": "markdown",
   "metadata": {},
   "source": [
    "**Тесты:**"
   ]
  },
  {
   "cell_type": "code",
   "execution_count": 153,
   "metadata": {},
   "outputs": [],
   "source": [
    "intervals = [[1,3],[2,6],[8,10],[15,18]]\n",
    "assert merge_intervals(intervals) == [[1,6],[8,10],[15,18]]"
   ]
  },
  {
   "cell_type": "markdown",
   "metadata": {},
   "source": [
    "### Задача 3: Удалим дубликаты\n",
    "\n",
    "Дан список nums, отсортированный в неубывающем порядке. Ваша задача удалить дублирующиеся элементы **на месте** так, чтобы каждый уникальный элемент массива имел лишь одно вхождение. При этом относительный порядок следования элементов должен остаться без изменений."
   ]
  },
  {
   "cell_type": "code",
   "execution_count": 154,
   "metadata": {},
   "outputs": [],
   "source": [
    "def remove_duplicates(nums: list[int]) -> None:\n",
    "    fl = 0\n",
    "    i = 0\n",
    "    while (fl == 0):\n",
    "        if (i + 1) < len(nums):\n",
    "            if nums[i] == nums[i+1]:\n",
    "                nums.pop(i)\n",
    "            else:\n",
    "                i+=1\n",
    "        else:\n",
    "            fl = 1\n",
    "    return nums"
   ]
  },
  {
   "cell_type": "markdown",
   "metadata": {},
   "source": [
    "**Тесты:**"
   ]
  },
  {
   "cell_type": "code",
   "execution_count": 155,
   "metadata": {},
   "outputs": [],
   "source": [
    "nums = [1, 1, 2]\n",
    "\n",
    "remove_duplicates(nums)\n",
    "assert nums == [1, 2]"
   ]
  },
  {
   "cell_type": "markdown",
   "metadata": {},
   "source": [
    "### Задача 4: Уникальные пути\n",
    "\n",
    "Вам дано двумерное поле размера m X n. В левом верхнем углу (grid[0][0]) расположен робот. Робот старается добраться до правого нижнего угла (grid[-1][-1]). Робот может ходить только вниз или вправо. \n",
    "\n",
    "Свободные клетки и препятствия помечены в массиве grid 0 и 1 соответственно. Пути робот из верхнего левого угла в правый нижний угол могут проходить только через свободные клетки. \n",
    "\n",
    "Ваша задача - вычислить максимальное возможное количество уникальных путей из левого верхнего угла в правый нижний угол."
   ]
  },
  {
   "cell_type": "code",
   "execution_count": 156,
   "metadata": {},
   "outputs": [],
   "source": [
    "def compute_unique_pathes(grid:list[list[int]]) -> int:\n",
    "    for i in range(0, len(grid)):\n",
    "        for j in range(0, len(grid[0])):\n",
    "            if grid[i][j] == 1:\n",
    "                grid[i][j] == 1\n",
    "            elif i == 0 and j == 0 and grid[i][j] != 1:\n",
    "                grid[i][j] = 0\n",
    "            elif i == 0 and grid[i][j] != 1:\n",
    "                if grid[i][j - 1] != 1:\n",
    "                    grid[i][j] = - 1\n",
    "                else:\n",
    "                    grid[i][j] = 1\n",
    "            elif j == 0 and grid[i][j] != 1:\n",
    "                if grid[i - 1][j] != 1:\n",
    "                    grid[i][j] = - 1\n",
    "                else:\n",
    "                    grid[i][j] = 1\n",
    "            elif grid[i - 1][j] == 1 or grid[i][j - 1] == 1:\n",
    "                grid[i][j] = min(grid[i - 1][j], grid[i][j - 1])\n",
    "            else:\n",
    "                grid[i][j] = grid[i - 1][j] + grid[i][j - 1]\n",
    "    return abs(grid[-1][-1])"
   ]
  },
  {
   "cell_type": "markdown",
   "metadata": {},
   "source": [
    "**Тесты:**"
   ]
  },
  {
   "cell_type": "code",
   "execution_count": 157,
   "metadata": {},
   "outputs": [],
   "source": [
    "grid = [\n",
    "    [0, 0, 0],\n",
    "    [0, 1, 0],\n",
    "    [0, 0, 0]\n",
    "]\n",
    "\n",
    "assert compute_unique_pathes(grid) == 2"
   ]
  },
  {
   "cell_type": "markdown",
   "metadata": {},
   "source": [
    "### Задача 5: Игра в прыжки\n",
    "\n",
    "Вам дан список jumps, состоящий из целых чисел, индексирующийся с нуля и имеющий длину n. Вы начинаете движение с позиции jumps[0]. Каждый элемент списка jumps[i] представляет собой длину максимального прыжка вперед с позиции i: если вы находитесь в позиции i, вы можете прыжком переместиться на любую позицию от i до i + jumps[i].\n",
    "\n",
    "Ваша задача - определить минимальное число прыжков, необходимое для достижения позиции n - 1."
   ]
  },
  {
   "cell_type": "code",
   "execution_count": 158,
   "metadata": {},
   "outputs": [],
   "source": [
    "def jump(jumps: list[int]) -> int:\n",
    "    cnt = last_jump = max_len_jump = 0\n",
    "    for i in range(len(jumps) - 1):\n",
    "        max_len_jump = max(max_len_jump, jumps[i] + i)\n",
    "        if last_jump == i:\n",
    "            cnt += 1\n",
    "            last_jump = max_len_jump\n",
    "        if last_jump >= len(jumps) - 1:\n",
    "            break\n",
    "    return cnt"
   ]
  },
  {
   "cell_type": "markdown",
   "metadata": {},
   "source": [
    "**Тесты:**"
   ]
  },
  {
   "cell_type": "code",
   "execution_count": 159,
   "metadata": {},
   "outputs": [],
   "source": [
    "jumps = [2,3,1,1,4]\n",
    "assert jump(jumps) == 2"
   ]
  }
 ],
 "metadata": {
  "kernelspec": {
   "display_name": "Python 3",
   "language": "python",
   "name": "python3"
  },
  "language_info": {
   "codemirror_mode": {
    "name": "ipython",
    "version": 3
   },
   "file_extension": ".py",
   "mimetype": "text/x-python",
   "name": "python",
   "nbconvert_exporter": "python",
   "pygments_lexer": "ipython3",
   "version": "3.11.5"
  },
  "orig_nbformat": 4
 },
 "nbformat": 4,
 "nbformat_minor": 2
}
