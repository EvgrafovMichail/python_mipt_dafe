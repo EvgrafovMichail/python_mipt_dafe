{
 "cells": [
  {
   "cell_type": "code",
   "execution_count": 35,
   "metadata": {},
   "outputs": [],
   "source": [
    "from typing import Iterable, Any"
   ]
  },
  {
   "cell_type": "markdown",
   "metadata": {},
   "source": [
    "### Разминка: методы через срезы\n",
    "\n",
    "Значительную часть модифицирующих методов списков можно реализовать через срезы. Ваша задача реализовать аналоги методов append(), extend(), insert(), reverse(), используя только срезы."
   ]
  },
  {
   "cell_type": "code",
   "execution_count": 29,
   "metadata": {},
   "outputs": [
    {
     "name": "stdout",
     "output_type": "stream",
     "text": [
      "[0, 0, 0, [1, 2, 3]]\n",
      "[0, 0, 0, 's', 't', 'r', 'o', 'k', 'a']\n",
      "[0, 10, 0, 0]\n",
      "[4, 3, 2, 1]\n"
     ]
    }
   ],
   "source": [
    "def my_append(list_instance: list, x: Any) -> None:\n",
    "    list_instance += [x]\n",
    "\n",
    "def my_extend(list_instance: list, expansion: Iterable) -> None:\n",
    "    list_instance += list(expansion)\n",
    "\n",
    "def my_insert(list_instance: list, ind: int, i: int) -> None:\n",
    "    list_instance[ind:ind] = i\n",
    "\n",
    "def my_reverse(list_instance: list) -> None:\n",
    "    list_instance[:] = list_instance[::-1]\n",
    "\n",
    "print(my_append([0, 0, 0], [1, 2, 3]))\n",
    "print(my_extend([0, 0, 0], 'stroka'))\n",
    "print(my_insert([0, 0, 0], 1, 10))\n",
    "print(my_reverse([1, 2, 3, 4]))"
   ]
  },
  {
   "cell_type": "markdown",
   "metadata": {},
   "source": [
    "### Задача 1: Сложение\n",
    "\n",
    "На вход подаются два списка, репрезентирующие числа в десятичной системе счисления. Элементы списков - числа от 0 до 9, представляющие значения разрядов числа. Самый левый разряд - самый больший. Т.е. число 123 будет представлено списком [1, 2, 3]. Ваша задача - вычислить сумму переданных чисел и вернуть список, представляюзщий эту сумму. "
   ]
  },
  {
   "cell_type": "code",
   "execution_count": 1,
   "metadata": {},
   "outputs": [
    {
     "name": "stdout",
     "output_type": "stream",
     "text": [
      "False\n",
      "[2, 0, 0]\n"
     ]
    }
   ],
   "source": [
    "def sum_two_nums(num1: list[int], num2: list[int]) -> list[int]:\n",
    "    arr = []\n",
    "    num1.reverse()\n",
    "    num2.reverse()\n",
    "    if len(num1) >= len(num2):\n",
    "        for i in range(len(num2)):\n",
    "            arr.append(num2[i] + num1[i])\n",
    "        for i in range(len(num2), len(num1)):\n",
    "            arr.append(num1[i])\n",
    "    \n",
    "    if len(num2) > len(num1):\n",
    "        for i in range(len(num1)):\n",
    "            arr.append(num2[i] + num1[i])\n",
    "        for i in range(len(num1), len(num2)):\n",
    "            arr.append(num2[i])\n",
    "\n",
    "    for i in range(len(arr) - 1):\n",
    "        if arr[i] > 9:\n",
    "            arr[i] %= 10\n",
    "            arr[i + 1] += 1\n",
    "\n",
    "    if arr[-1] > 9:\n",
    "        arr[-1] %= 10\n",
    "        arr.append(1)\n",
    "\n",
    "    arr.reverse()\n",
    "    return arr\n",
    "\n",
    "num1 = [1, 2, 3, 5]\n",
    "num2 = [7, 7]\n",
    "print(sum_two_nums(num1, num2) == [2, 0, 0])\n",
    "\n",
    "num1 = [1, 2, 3]\n",
    "num2 = [7, 7]\n",
    "print(sum_two_nums(num1, num2))"
   ]
  },
  {
   "cell_type": "markdown",
   "metadata": {},
   "source": [
    "**Тесты:**"
   ]
  },
  {
   "cell_type": "code",
   "execution_count": 2,
   "metadata": {},
   "outputs": [],
   "source": [
    "num1 = [1, 2, 3]\n",
    "num2 = [7, 7]\n",
    "assert sum_two_nums(num1, num2) == [2, 0, 0]\n",
    "\n",
    "num1 = [1, 2, 3]\n",
    "num2 = [7, 7]\n",
    "assert sum_two_nums(num2, num1) == [2, 0, 0]"
   ]
  },
  {
   "cell_type": "markdown",
   "metadata": {},
   "source": [
    "### Задача 2: Объеденяй и не властвуй\n",
    "\n",
    "На вход подан список intervals, где intervals[ i ] = [$start_i$, $stop_i$]. Объедените все пересекающиеся интервалы и верните список непересекающихся интервалов, покрывающий все интервалы из intervals."
   ]
  },
  {
   "cell_type": "code",
   "execution_count": 56,
   "metadata": {},
   "outputs": [
    {
     "name": "stdout",
     "output_type": "stream",
     "text": [
      "[[1, 3], [2, 6], [8, 10], [15, 18]]\n",
      "[[1, 6], [8, 10], [15, 18]]\n",
      "[[1, 6], [8, 10], [15, 18]]\n"
     ]
    },
    {
     "data": {
      "text/plain": [
       "[[1, 6], [8, 10], [15, 18]]"
      ]
     },
     "execution_count": 56,
     "metadata": {},
     "output_type": "execute_result"
    }
   ],
   "source": [
    "def merge_intervals(intervals: list[list[int]]) -> list[list[int]]:\n",
    "    intervals.sort()\n",
    "    i = 0\n",
    "    while True:\n",
    "        if intervals[i][1] > intervals[i+1][0]:\n",
    "            intervals[i][1] = intervals[i+1][1]\n",
    "            intervals.pop(i+1)\n",
    "            i -= 1\n",
    "\n",
    "        i += 1\n",
    "        if i >= len(intervals) - 1:\n",
    "            break\n",
    "    return intervals\n"
   ]
  },
  {
   "cell_type": "markdown",
   "metadata": {},
   "source": [
    "**Тесты:**"
   ]
  },
  {
   "cell_type": "code",
   "execution_count": 57,
   "metadata": {},
   "outputs": [
    {
     "name": "stdout",
     "output_type": "stream",
     "text": [
      "[[1, 3], [2, 6], [8, 10], [15, 18]]\n",
      "[[1, 6], [8, 10], [15, 18]]\n",
      "[[1, 6], [8, 10], [15, 18]]\n"
     ]
    }
   ],
   "source": [
    "intervals = [[1,3],[2,6],[8,10],[15,18]]\n",
    "assert merge_intervals(intervals) == [[1,6],[8,10],[15,18]]"
   ]
  },
  {
   "cell_type": "markdown",
   "metadata": {},
   "source": [
    "### Задача 3: Удалим дубликаты\n",
    "\n",
    "Дан список nums, отсортированный в неубывающем порядке. Ваша задача удалить дублирующиеся элементы **на месте** так, чтобы каждый уникальный элемент массива имел лишь одно вхождение. При этом относительный порядок следования элементов должен остаться без изменений."
   ]
  },
  {
   "cell_type": "code",
   "execution_count": 21,
   "metadata": {},
   "outputs": [
    {
     "name": "stdout",
     "output_type": "stream",
     "text": [
      "[2, 1, 1, 1, 1, 1, 1, 2, 3, 4, 3, 3, 1, 2]\n",
      "[1, 1, 1, 1, 1, 1, 2, 3, 4, 3, 3, 1, 2]\n",
      "[1, 1, 1, 1, 1, 2, 3, 4, 3, 3, 1, 2]\n",
      "[1, 1, 1, 1, 2, 3, 4, 3, 3, 1, 2]\n",
      "[1, 1, 1, 2, 3, 4, 3, 3, 1, 2]\n",
      "[1, 1, 2, 3, 4, 3, 3, 1, 2]\n",
      "[1, 2, 3, 4, 3, 3, 1, 2]\n",
      "[2, 3, 4, 3, 3, 1, 2]\n",
      "[3, 4, 3, 3, 1, 2]\n",
      "[4, 3, 3, 1, 2]\n",
      "[4, 3, 3, 1, 2]\n",
      "[4, 3, 1, 2]\n",
      "[4, 3, 1, 2]\n",
      "[4, 3, 1, 2]\n"
     ]
    }
   ],
   "source": [
    "def remove_duplicates(nums: list[int]) -> None:\n",
    "    # nums.sort()\n",
    "    i = 0\n",
    "    while True:\n",
    "        if nums.count(nums[i]) > 1:\n",
    "            nums.pop(i)\n",
    "            i -= 1\n",
    "        i += 1\n",
    "        if i == len(nums):\n",
    "            break\n",
    "        print(a)\n",
    "\n",
    "\n",
    "a = [1, 2, 1, 1, 1, 1, 1, 1, 2, 3, 4, 3, 3, 1, 2]\n",
    "remove_duplicates(a)"
   ]
  },
  {
   "cell_type": "markdown",
   "metadata": {},
   "source": [
    "**Тесты:**"
   ]
  },
  {
   "cell_type": "code",
   "execution_count": 22,
   "metadata": {},
   "outputs": [
    {
     "name": "stdout",
     "output_type": "stream",
     "text": [
      "[4, 3, 1, 2]\n",
      "[4, 3, 1, 2]\n"
     ]
    }
   ],
   "source": [
    "nums = [1, 1, 2]\n",
    "\n",
    "remove_duplicates(nums)\n",
    "assert nums == [1, 2]"
   ]
  },
  {
   "cell_type": "markdown",
   "metadata": {},
   "source": [
    "### Задача 4: Уникальные пути\n",
    "\n",
    "Вам дано двумерное поле размера m X n. В левом верхнем углу (grid[0][0]) расположен робот. Робот старается добраться до правого нижнего угла (grid[-1][-1]). Робот может ходить только вниз или вправо. \n",
    "\n",
    "Свободные клетки и препятствия помечены в массиве grid 0 и 1 соответственно. Пути робот из верхнего левого угла в правый нижний угол могут проходить только через свободные клетки. \n",
    "\n",
    "Ваша задача - вычислить максимальное возможное количество уникальных путей из левого верхнего угла в правый нижний угол."
   ]
  },
  {
   "cell_type": "code",
   "execution_count": 39,
   "metadata": {},
   "outputs": [
    {
     "name": "stdout",
     "output_type": "stream",
     "text": [
      "[2, 1, 0, 0]\n",
      "[2, 1, 0, 1]\n",
      "[2, 2, 2, 2]\n",
      "0\n"
     ]
    },
    {
     "data": {
      "text/plain": [
       "0"
      ]
     },
     "execution_count": 39,
     "metadata": {},
     "output_type": "execute_result"
    }
   ],
   "source": [
    "def compute_unique_pathes(grid:list[list[int]]) -> int:\n",
    "    grid[0][0] = 2\n",
    "    for i in range(1, len(grid)):\n",
    "        if grid[i][0] != 1:\n",
    "            grid[i][0] = 2\n",
    "        elif grid[i][0] == 1:\n",
    "            break\n",
    "    \n",
    "    for i in range(1, len(grid[0])):\n",
    "        if grid[0][i] != 1:\n",
    "            grid [0][i] = 2\n",
    "        elif grid [0][i] == 1:\n",
    "            break\n",
    "\n",
    "    for i in range(1, len(grid[0])):\n",
    "        for j in range(1, len(grid)):\n",
    "            if grid[j][i] != 1:\n",
    "                if grid[j-1][i] != 1:\n",
    "                    grid[j][i] += grid[j-1][i]\n",
    "                if grid[j][i-1] != 1:\n",
    "                    grid[j][i] += grid[j][i-1]\n",
    "\n",
    "    for i in grid:\n",
    "        print(i)\n",
    "    answer = grid[-1][-1] - 2\n",
    "    print(answer)\n",
    "    return answer\n",
    "\n",
    "grid = [\n",
    "    [0, 1, 0, 0],\n",
    "    [0, 1, 0, 1],\n",
    "    [0, 0, 0, 0]\n",
    "]\n",
    "\n",
    "compute_unique_pathes(grid)"
   ]
  },
  {
   "cell_type": "markdown",
   "metadata": {},
   "source": [
    "**Тесты:**"
   ]
  },
  {
   "cell_type": "code",
   "execution_count": 40,
   "metadata": {},
   "outputs": [
    {
     "name": "stdout",
     "output_type": "stream",
     "text": [
      "[2, 2, 2]\n",
      "[2, 1, 2]\n",
      "[2, 2, 4]\n",
      "2\n"
     ]
    }
   ],
   "source": [
    "grid = [\n",
    "    [0, 0, 0],\n",
    "    [0, 1, 0],\n",
    "    [0, 0, 0]\n",
    "]\n",
    "\n",
    "assert compute_unique_pathes(grid) == 2"
   ]
  },
  {
   "cell_type": "markdown",
   "metadata": {},
   "source": [
    "### Задача 5: Игра в прыжки\n",
    "\n",
    "Вам дан список jumps, состоящий из целых чисел, индексирующийся с нуля и имеющий длину n. Вы начинаете движение с позиции jumps[0]. Каждый элемент списка jumps[i] представляет собой длину максимального прыжка вперед с позиции i: если вы находитесь в позиции i, вы можете прыжком переместиться на любую позицию от i до i + jumps[i].\n",
    "\n",
    "Ваша задача - определить минимальное число прыжков, необходимое для достижения позиции n - 1."
   ]
  },
  {
   "cell_type": "code",
   "execution_count": 66,
   "metadata": {},
   "outputs": [
    {
     "data": {
      "text/plain": [
       "2"
      ]
     },
     "execution_count": 66,
     "metadata": {},
     "output_type": "execute_result"
    }
   ],
   "source": [
    "def jump(jumps: list[int]) -> int:\n",
    "    amount = [99999] * len(jumps)\n",
    "    amount[0] = 0\n",
    "    for i in range(len(jumps)):\n",
    "        if i + amount[i] > len(jumps):\n",
    "                continue\n",
    "        for j in range(i + 1, i + 1 + jumps[i]):\n",
    "            if j > len(jumps):\n",
    "                break\n",
    "            \n",
    "            if amount[i] + 1 < amount[j]:\n",
    "                amount[j] = amount[i] + 1\n",
    "\n",
    "    return amount[-2]\n",
    "\n",
    "jumps = [2,3,1,1,4]\n",
    "jump(jumps)"
   ]
  },
  {
   "cell_type": "markdown",
   "metadata": {},
   "source": [
    "**Тесты:**"
   ]
  },
  {
   "cell_type": "code",
   "execution_count": 65,
   "metadata": {},
   "outputs": [],
   "source": [
    "jumps = [2,3,1,1,4]\n",
    "assert jump(jumps) == 2"
   ]
  }
 ],
 "metadata": {
  "kernelspec": {
   "display_name": "Python 3",
   "language": "python",
   "name": "python3"
  },
  "language_info": {
   "codemirror_mode": {
    "name": "ipython",
    "version": 3
   },
   "file_extension": ".py",
   "mimetype": "text/x-python",
   "name": "python",
   "nbconvert_exporter": "python",
   "pygments_lexer": "ipython3",
   "version": "3.11.1"
  },
  "orig_nbformat": 4
 },
 "nbformat": 4,
 "nbformat_minor": 2
}
