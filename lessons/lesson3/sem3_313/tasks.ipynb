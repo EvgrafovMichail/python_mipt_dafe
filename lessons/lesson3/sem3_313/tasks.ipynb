{
 "cells": [
  {
   "cell_type": "code",
   "execution_count": 2,
   "metadata": {},
   "outputs": [],
   "source": [
    "from typing import Iterable, Any"
   ]
  },
  {
   "cell_type": "markdown",
   "metadata": {},
   "source": [
    "### Разминка: методы через срезы\n",
    "\n",
    "Значительную часть модифицирующих методов списков можно реализовать через срезы. Ваша задача реализовать аналоги методов append(), extend(), insert(), reverse(), используя только срезы."
   ]
  },
  {
   "cell_type": "code",
   "execution_count": 3,
   "metadata": {},
   "outputs": [],
   "source": [
    "def my_append(list_instance: list, x: Any) -> None:\n",
    "    list_instance+=[x]\n",
    "\n",
    "def my_extend(list_instance: list, expansion: Iterable) -> None:\n",
    "    list_instance+=list(expansion)\n",
    "\n",
    "\n",
    "def my_insert(list_instance: list, i: int, elem: Any) -> None:\n",
    "    list_instance=list_instance[i:i]=elem\n",
    "\n",
    "def my_reverse(list_instance: list) -> None:\n",
    "    list_instance[:]=list_instance[::-1]\n",
    "# не можем без квадратных скобок, потому что иначе создастся локальная переменная"
   ]
  },
  {
   "cell_type": "markdown",
   "metadata": {},
   "source": [
    "### Задача 1: Сложение\n",
    "\n",
    "На вход подаются два списка, репрезентирующие числа в десятичной системе счисления. Элементы списков - числа от 0 до 9, представляющие значения разрядов числа. Самый левый разряд - самый больший. Т.е. число 123 будет представлено списком [1, 2, 3]. Ваша задача - вычислить сумму переданных чисел и вернуть список, представляюзщий эту сумму. "
   ]
  },
  {
   "cell_type": "code",
   "execution_count": 34,
   "metadata": {},
   "outputs": [],
   "source": [
    "def sum_two_nums(num1: list[int], num2: list[int]) -> list[int]:\n",
    "    if len(num1) <= len(num2):\n",
    "        k = num1[::-1]\n",
    "        p = num2\n",
    "    else:\n",
    "        k = num2[::-1]\n",
    "        p = num1\n",
    "    for i in range(abs(len(num1) - len(num2))):\n",
    "        k.append(0)\n",
    "    k=k[::-1]\n",
    "    razr=0\n",
    "    for i in range(len(k)-1,-1,-1):\n",
    "        sum=k[i]+p[i]+razr\n",
    "        if sum%10 == sum:\n",
    "            k[i]=sum\n",
    "            razr=0\n",
    "        else:\n",
    "            k[i]=sum%10\n",
    "            razr=1\n",
    "    return k\n"
   ]
  },
  {
   "cell_type": "markdown",
   "metadata": {},
   "source": [
    "**Тесты:**"
   ]
  },
  {
   "cell_type": "code",
   "execution_count": 39,
   "metadata": {},
   "outputs": [],
   "source": [
    "num1 = [1, 2, 3]\n",
    "num2 = [7, 7]\n",
    "\n",
    "assert sum_two_nums(num1, num2) == [2, 0, 0]\n",
    "assert sum_two_nums(num2, num1) == [2, 0, 0]"
   ]
  },
  {
   "cell_type": "markdown",
   "metadata": {},
   "source": [
    "### Задача 2: Объеденяй и не властвуй\n",
    "\n",
    "На вход подан список intervals, где intervals[ i ] = [$start_i$, $stop_i$]. Объедените все пересекающиеся интервалы и верните список непересекающихся интервалов, покрывающий все интервалы из intervals."
   ]
  },
  {
   "cell_type": "code",
   "execution_count": 1,
   "metadata": {},
   "outputs": [],
   "source": [
    "def merge_intervals(intervals: list[list[int]]) -> list[list[int]]:\n",
    "    start,end=intervals[0]\n",
    "    i=1\n",
    "    intervals.sort()\n",
    "    izmenil_inter=[intervals[0]]\n",
    "    for start1,end1 in intervals[1:]:\n",
    "\n",
    "        if start1<=end:\n",
    "            izmenil_inter[i-1][1]=end1\n",
    "\n",
    "        else:\n",
    "            izmenil_inter.append([start1,end1])\n",
    "            i+=1\n",
    "        end=end1\n",
    "    return izmenil_inter"
   ]
  },
  {
   "cell_type": "markdown",
   "metadata": {},
   "source": [
    "**Тесты:**"
   ]
  },
  {
   "cell_type": "code",
   "execution_count": 2,
   "metadata": {},
   "outputs": [],
   "source": [
    "intervals = [[1,3],[2,6],[8,10],[15,18]]\n",
    "assert merge_intervals(intervals) == [[1,6],[8,10],[15,18]]"
   ]
  },
  {
   "cell_type": "markdown",
   "metadata": {},
   "source": [
    "### Задача 3: Удалим дубликаты\n",
    "\n",
    "Дан список nums, отсортированный в неубывающем порядке. Ваша задача удалить дублирующиеся элементы **на месте** так, чтобы каждый уникальный элемент массива имел лишь одно вхождение. При этом относительный порядок следования элементов должен остаться без изменений."
   ]
  },
  {
   "cell_type": "code",
   "execution_count": 3,
   "metadata": {},
   "outputs": [],
   "source": [
    "def remove_duplicates(nums: list[int]) -> None:\n",
    "    k = nums[0]\n",
    "\n",
    "    for i in range(1, len(nums)):\n",
    "        if nums[i] == nums[i - 1]:\n",
    "            nums[i - 1] = nums[0]\n",
    "    nums.sort(reverse=False)\n",
    "\n",
    "    for i in range(len(nums)):\n",
    "        if nums[i] != k:\n",
    "            nums[:] = nums[i - 1:]\n",
    "            break\n",
    "    return nums"
   ]
  },
  {
   "cell_type": "markdown",
   "metadata": {},
   "source": [
    "**Тесты:**"
   ]
  },
  {
   "cell_type": "code",
   "execution_count": 4,
   "metadata": {},
   "outputs": [],
   "source": [
    "nums = [1, 1, 2]\n",
    "\n",
    "remove_duplicates(nums)\n",
    "assert nums == [1, 2]"
   ]
  },
  {
   "cell_type": "markdown",
   "metadata": {},
   "source": [
    "### Задача 4: Уникальные пути\n",
    "\n",
    "Вам дано двумерное поле размера m X n. В левом верхнем углу (grid[0][0]) расположен робот. Робот старается добраться до правого нижнего угла (grid[-1][-1]). Робот может ходить только вниз или вправо. \n",
    "\n",
    "Свободные клетки и препятствия помечены в массиве grid 0 и 1 соответственно. Пути робот из верхнего левого угла в правый нижний угол могут проходить только через свободные клетки. \n",
    "\n",
    "Ваша задача - вычислить максимальное возможное количество уникальных путей из левого верхнего угла в правый нижний угол."
   ]
  },
  {
   "cell_type": "code",
   "execution_count": 1,
   "metadata": {},
   "outputs": [],
   "source": [
    "def compute_unique_pathes(grid:list[list[int]]) -> int:\n",
    "    for i in range(len(grid)):\n",
    "        for j in range(len(grid[i])):\n",
    "            if grid[i][j]<=0:\n",
    "                if i==0 and j ==0:\n",
    "                    grid[0][0]= -1\n",
    "                else:\n",
    "                    if grid[i][j-1]<0:\n",
    "                        grid[i][j]+=grid[i][j-1]\n",
    "                    if i>0:\n",
    "                        if grid[i-1][j]<0:\n",
    "                            grid[i][j]+=grid[i-1][j]\n",
    "    answer = -1*grid[-1][-1]\n",
    "    return answer"
   ]
  },
  {
   "cell_type": "code",
   "execution_count": 2,
   "metadata": {},
   "outputs": [],
   "source": [
    "grid = [\n",
    "    [0, 0, 0],\n",
    "    [0, 1, 0],\n",
    "    [0, 0, 0]\n",
    "]\n",
    "\n",
    "assert compute_unique_pathes(grid) == 2"
   ]
  },
  {
   "cell_type": "markdown",
   "metadata": {},
   "source": [
    "### Задача 5: Игра в прыжки\n",
    "\n",
    "Вам дан список jumps, состоящий из целых чисел, индексирующийся с нуля и имеющий длину n. Вы начинаете движение с позиции jumps[0]. Каждый элемент списка jumps[i] представляет собой длину максимального прыжка вперед с позиции i: если вы находитесь в позиции i, вы можете прыжком переместиться на любую позицию от i до i + jumps[i].\n",
    "\n",
    "Ваша задача - определить минимальное число прыжков, необходимое для достижения позиции n - 1."
   ]
  },
  {
   "cell_type": "code",
   "execution_count": 3,
   "metadata": {},
   "outputs": [],
   "source": [
    "def jump(jumps: list[int]) -> int:\n",
    "    #что за жесть, как это вообще решать..."
   ]
  },
  {
   "cell_type": "markdown",
   "metadata": {},
   "source": [
    "**Тесты:**"
   ]
  },
  {
   "cell_type": "code",
   "execution_count": 4,
   "metadata": {},
   "outputs": [
    {
     "ename": "ValueError",
     "evalue": "max() arg is an empty sequence",
     "output_type": "error",
     "traceback": [
      "\u001b[1;31m---------------------------------------------------------------------------\u001b[0m",
      "\u001b[1;31mValueError\u001b[0m                                Traceback (most recent call last)",
      "\u001b[1;32mc:\\Users\\dabiz\\PycharmProjects\\python_mipt_dafe-1\\lessons\\lesson3\\sem3_313\\tasks.ipynb Cell 22\u001b[0m line \u001b[0;36m2\n\u001b[0;32m      <a href='vscode-notebook-cell:/c%3A/Users/dabiz/PycharmProjects/python_mipt_dafe-1/lessons/lesson3/sem3_313/tasks.ipynb#X31sZmlsZQ%3D%3D?line=0'>1</a>\u001b[0m jumps \u001b[39m=\u001b[39m [\u001b[39m2\u001b[39m,\u001b[39m3\u001b[39m,\u001b[39m1\u001b[39m,\u001b[39m1\u001b[39m,\u001b[39m4\u001b[39m]\n\u001b[1;32m----> <a href='vscode-notebook-cell:/c%3A/Users/dabiz/PycharmProjects/python_mipt_dafe-1/lessons/lesson3/sem3_313/tasks.ipynb#X31sZmlsZQ%3D%3D?line=1'>2</a>\u001b[0m \u001b[39massert\u001b[39;00m jump(jumps) \u001b[39m==\u001b[39m \u001b[39m2\u001b[39m\n",
      "\u001b[1;32mc:\\Users\\dabiz\\PycharmProjects\\python_mipt_dafe-1\\lessons\\lesson3\\sem3_313\\tasks.ipynb Cell 22\u001b[0m line \u001b[0;36m7\n\u001b[0;32m      <a href='vscode-notebook-cell:/c%3A/Users/dabiz/PycharmProjects/python_mipt_dafe-1/lessons/lesson3/sem3_313/tasks.ipynb#X31sZmlsZQ%3D%3D?line=4'>5</a>\u001b[0m n \u001b[39m=\u001b[39m \u001b[39mlen\u001b[39m(jumps)\n\u001b[0;32m      <a href='vscode-notebook-cell:/c%3A/Users/dabiz/PycharmProjects/python_mipt_dafe-1/lessons/lesson3/sem3_313/tasks.ipynb#X31sZmlsZQ%3D%3D?line=5'>6</a>\u001b[0m \u001b[39mwhile\u001b[39;00m (i \u001b[39m<\u001b[39m n\u001b[39m-\u001b[39m\u001b[39m1\u001b[39m):\n\u001b[1;32m----> <a href='vscode-notebook-cell:/c%3A/Users/dabiz/PycharmProjects/python_mipt_dafe-1/lessons/lesson3/sem3_313/tasks.ipynb#X31sZmlsZQ%3D%3D?line=6'>7</a>\u001b[0m     \u001b[39mif\u001b[39;00m (i \u001b[39m+\u001b[39m \u001b[39mmax\u001b[39;49m(jumps[:i])) \u001b[39m<\u001b[39m n\u001b[39m-\u001b[39m\u001b[39m1\u001b[39m:\n\u001b[0;32m      <a href='vscode-notebook-cell:/c%3A/Users/dabiz/PycharmProjects/python_mipt_dafe-1/lessons/lesson3/sem3_313/tasks.ipynb#X31sZmlsZQ%3D%3D?line=7'>8</a>\u001b[0m         i \u001b[39m+\u001b[39m\u001b[39m=\u001b[39m \u001b[39mmax\u001b[39m(jumps[:i])\n\u001b[0;32m      <a href='vscode-notebook-cell:/c%3A/Users/dabiz/PycharmProjects/python_mipt_dafe-1/lessons/lesson3/sem3_313/tasks.ipynb#X31sZmlsZQ%3D%3D?line=8'>9</a>\u001b[0m         cnt \u001b[39m+\u001b[39m\u001b[39m=\u001b[39m \u001b[39m1\u001b[39m\n",
      "\u001b[1;31mValueError\u001b[0m: max() arg is an empty sequence"
     ]
    }
   ],
   "source": [
    "jumps = [2,3,1,1,4]\n",
    "assert jump(jumps) == 2"
   ]
  }
 ],
 "metadata": {
  "kernelspec": {
   "display_name": "Python 3",
   "language": "python",
   "name": "python3"
  },
  "language_info": {
   "codemirror_mode": {
    "name": "ipython",
    "version": 3
   },
   "file_extension": ".py",
   "mimetype": "text/x-python",
   "name": "python",
   "nbconvert_exporter": "python",
   "pygments_lexer": "ipython3",
   "version": "3.11.5"
  },
  "orig_nbformat": 4
 },
 "nbformat": 4,
 "nbformat_minor": 2
}
