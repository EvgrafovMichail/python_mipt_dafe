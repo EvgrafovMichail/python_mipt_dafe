{
 "cells": [
  {
   "cell_type": "code",
   "execution_count": 1,
   "metadata": {},
   "outputs": [],
   "source": [
    "from typing import Iterable, Any"
   ]
  },
  {
   "cell_type": "markdown",
   "metadata": {},
   "source": [
    "### Разминка: методы через срезы\n",
    "\n",
    "Значительную часть модифицирующих методов списков можно реализовать через срезы. Ваша задача реализовать аналоги методов append(), extend(), insert(), reverse(), используя только срезы."
   ]
  },
  {
   "cell_type": "code",
   "execution_count": 2,
   "metadata": {},
   "outputs": [],
   "source": [
    "def my_append(list_instance: list, x: Any) -> None:\n",
    "    list_instance += [x]\n",
    "\n",
    "def my_extend(\n",
    "    list_instance: list, expansion: Iterable\n",
    ") -> None:\n",
    "    list_instance += list(expansion)\n",
    "\n",
    "def my_insert(list_instance: list, i: int, elem: Any) -> None:\n",
    "    list_instance[:] = list_instance[:i] + [elem] + list_instance[i:]\n",
    "\n",
    "def my_reverse(list_instance: list) -> None:\n",
    "    list_instance[:] = list_instance[::-1]"
   ]
  },
  {
   "cell_type": "markdown",
   "metadata": {},
   "source": [
    "### Задача 1: Сложение\n",
    "\n",
    "На вход подаются два списка, репрезентирующие числа в десятичной системе счисления. Элементы списков - числа от 0 до 9, представляющие значения разрядов числа. Самый левый разряд - самый больший. Т.е. число 123 будет представлено списком [1, 2, 3]. Ваша задача - вычислить сумму переданных чисел и вернуть список, представляюзщий эту сумму. "
   ]
  },
  {
   "cell_type": "code",
   "execution_count": 3,
   "metadata": {},
   "outputs": [],
   "source": [
    "def sum_two_nums(num1: list[int], num2: list[int]) -> list[int]:\n",
    "    num1.reverse()\n",
    "    num2.reverse()\n",
    "    res = max(num1, num2, key=len)\n",
    "    second = min(num1, num2, key=len)\n",
    "\n",
    "    additional_rank = 0\n",
    "    for indx, val in enumerate(res):\n",
    "        if indx < len(second):\n",
    "            cur_val = second[indx] + additional_rank\n",
    "            additional_rank = (res[indx] + cur_val) // 10\n",
    "        else:\n",
    "            cur_val = additional_rank\n",
    "            additional_rank = 0\n",
    "            \n",
    "        res[indx] = (res[indx] + cur_val) % 10\n",
    "    \n",
    "    return res[::-1]"
   ]
  },
  {
   "cell_type": "markdown",
   "metadata": {},
   "source": [
    "**Тесты:**"
   ]
  },
  {
   "cell_type": "code",
   "execution_count": 4,
   "metadata": {},
   "outputs": [],
   "source": [
    "num1 = [1, 2, 3]\n",
    "num2 = [7, 7]\n",
    "\n",
    "assert sum_two_nums(num1, num2) == [2, 0, 0]\n",
    "# assert sum_two_nums(num2, num1) == [2, 0, 0]"
   ]
  },
  {
   "cell_type": "markdown",
   "metadata": {},
   "source": [
    "### Задача 2: Объеденяй и не властвуй\n",
    "\n",
    "На вход подан список intervals, где intervals[ i ] = [$start_i$, $stop_i$]. Объедените все пересекающиеся интервалы и верните список непересекающихся интервалов, покрывающий все интервалы из intervals."
   ]
  },
  {
   "cell_type": "code",
   "execution_count": 5,
   "metadata": {},
   "outputs": [],
   "source": [
    "def merge_intervals(intervals: list[list[int]]) -> list[list[int]]:\n",
    "    intervals.sort()\n",
    "    left, right = 0, 0\n",
    "    res = []\n",
    "    \n",
    "    while right < len(intervals):\n",
    "        if intervals[left][1] >= intervals[right][0]:\n",
    "            right += 1\n",
    "        else:\n",
    "            res.append([intervals[left][0], intervals[right - 1][1]])\n",
    "            left = right\n",
    "    res.append([intervals[left][0], intervals[right - 1][1]])\n",
    "            \n",
    "    return res"
   ]
  },
  {
   "cell_type": "markdown",
   "metadata": {},
   "source": [
    "**Тесты:**"
   ]
  },
  {
   "cell_type": "code",
   "execution_count": 6,
   "metadata": {},
   "outputs": [],
   "source": [
    "intervals = [[2, 6], [1,3], [8,10], [15,18]]\n",
    "merge_intervals(intervals)\n",
    "assert merge_intervals(intervals) == [[1,6],[8,10],[15,18]]"
   ]
  },
  {
   "cell_type": "markdown",
   "metadata": {},
   "source": [
    "### Задача 3: Удалим дубликаты\n",
    "\n",
    "Дан список nums, отсортированный в неубывающем порядке. Ваша задача удалить дублирующиеся элементы **на месте** так, чтобы каждый уникальный элемент массива имел лишь одно вхождение. При этом относительный порядок следования элементов должен остаться без изменений."
   ]
  },
  {
   "cell_type": "code",
   "execution_count": 7,
   "metadata": {},
   "outputs": [],
   "source": [
    "def remove_duplicates(nums: list[int]) -> None:\n",
    "    left, right = 0, 0\n",
    "    while right < len(nums):\n",
    "        while nums[left] == nums[right]:\n",
    "            if right == len(nums) - 1:\n",
    "                break\n",
    "            right += 1\n",
    "\n",
    "        if nums[left] == nums[right]:\n",
    "            break\n",
    "            \n",
    "        left += 1\n",
    "        nums[left], nums[right] = nums[right], nums[left]\n",
    "        right += 1\n",
    "\n",
    "    nums[:] = nums[:left + 1]"
   ]
  },
  {
   "cell_type": "markdown",
   "metadata": {},
   "source": [
    "**Тесты:**"
   ]
  },
  {
   "cell_type": "code",
   "execution_count": 8,
   "metadata": {},
   "outputs": [],
   "source": [
    "nums = [1, 1, 2]\n",
    "\n",
    "remove_duplicates(nums)\n",
    "assert nums == [1, 2]"
   ]
  },
  {
   "cell_type": "markdown",
   "metadata": {},
   "source": [
    "### Задача 4: Уникальные пути\n",
    "\n",
    "Вам дано двумерное поле размера m X n. В левом верхнем углу (grid[0][0]) расположен робот. Робот старается добраться до правого нижнего угла (grid[-1][-1]). Робот может ходить только вниз или вправо. \n",
    "\n",
    "Свободные клетки и препятствия помечены в массиве grid 0 и 1 соответственно. Пути робот из верхнего левого угла в правый нижний угол могут проходить только через свободные клетки. \n",
    "\n",
    "Ваша задача - вычислить максимальное возможное количество уникальных путей из левого верхнего угла в правый нижний угол."
   ]
  },
  {
   "cell_type": "code",
   "execution_count": 26,
   "metadata": {},
   "outputs": [],
   "source": [
    "def compute_unique_pathes(grid:list[list[int]]) -> int:\n",
    "    answer = 0\n",
    "    \n",
    "    for i in range(len(grid[0])):\n",
    "        grid[0][i] = -1\n",
    "    for j in range(len(grid)):\n",
    "        grid[j][0] = -1\n",
    "\n",
    "    for i in range(1, len(grid[0])):\n",
    "        for j in range(1, len(grid)):\n",
    "            if grid[i][j] == 1:\n",
    "                continue\n",
    "            \n",
    "            grid[i][j] = ((grid[i-1][j] != 1) * grid[i-1][j] \n",
    "                          + (grid[i][j-1] != 1) * grid[i][j-1])\n",
    "            \n",
    "    answer = -grid[-1][-1]\n",
    "    return answer"
   ]
  },
  {
   "cell_type": "markdown",
   "metadata": {},
   "source": [
    "**Тесты:**"
   ]
  },
  {
   "cell_type": "code",
   "execution_count": 28,
   "metadata": {},
   "outputs": [],
   "source": [
    "grid = [\n",
    "    [0, 0, 0],\n",
    "    [0, 1, 0],\n",
    "    [0, 0, 0]\n",
    "]\n",
    "\n",
    "assert compute_unique_pathes(grid) == 2"
   ]
  },
  {
   "cell_type": "markdown",
   "metadata": {},
   "source": [
    "### Задача 5: Игра в прыжки\n",
    "\n",
    "Вам дан список jumps, состоящий из целых чисел, индексирующийся с нуля и имеющий длину n. Вы начинаете движение с позиции jumps[0]. Каждый элемент списка jumps[i] представляет собой длину максимального прыжка вперед с позиции i: если вы находитесь в позиции i, вы можете прыжком переместиться на любую позицию от i до i + jumps[i].\n",
    "\n",
    "Ваша задача - определить минимальное число прыжков, необходимое для достижения позиции n - 1."
   ]
  },
  {
   "cell_type": "code",
   "execution_count": 36,
   "metadata": {},
   "outputs": [],
   "source": [
    "def jump(jumps: list[int]) -> int:\n",
    "    max_reach, count, i = 0, 0, 0\n",
    "    while (i < len(jumps)) and (max_reach < len(jumps) - 1):\n",
    "        if (i + jumps[i]) > max_reach:\n",
    "            max_reach = i + jumps[i]\n",
    "            count += 1\n",
    "        i += 1\n",
    "    return count"
   ]
  },
  {
   "cell_type": "markdown",
   "metadata": {},
   "source": [
    "**Тесты:**"
   ]
  },
  {
   "cell_type": "code",
   "execution_count": 42,
   "metadata": {},
   "outputs": [
    {
     "name": "stdout",
     "output_type": "stream",
     "text": [
      "2\n"
     ]
    }
   ],
   "source": [
    "jumps = [2,3,1,1,4]\n",
    "\n",
    "assert jump(jumps) == 2"
   ]
  },
  {
   "cell_type": "code",
   "execution_count": null,
   "metadata": {},
   "outputs": [],
   "source": []
  }
 ],
 "metadata": {
  "kernelspec": {
   "display_name": "Python 3 (ipykernel)",
   "language": "python",
   "name": "python3"
  },
  "language_info": {
   "codemirror_mode": {
    "name": "ipython",
    "version": 3
   },
   "file_extension": ".py",
   "mimetype": "text/x-python",
   "name": "python",
   "nbconvert_exporter": "python",
   "pygments_lexer": "ipython3",
   "version": "3.11.5"
  }
 },
 "nbformat": 4,
 "nbformat_minor": 4
}
