{
  "cells": [
    {
      "cell_type": "code",
      "execution_count": null,
      "metadata": {
        "id": "BXa2iaRRqmxI"
      },
      "outputs": [],
      "source": [
        "import pathlib"
      ]
    },
    {
      "cell_type": "markdown",
      "metadata": {
        "id": "aCunz-xnAMds"
      },
      "source": [
        "Модуль pathlib упрощает работу с путями и файлами. Позволяет создавать, изменять, удалять и переименововать файлы. Проводить различные операции с путями и получать инофрмацию о них. Проводить проверки на наличие файлов и директорий и т.д. "
      ]
    },
    {
      "cell_type": "markdown",
      "metadata": {
        "id": "phKm_pgjA-0q"
      },
      "source": [
        "# Создание путей"
      ]
    },
    {
      "cell_type": "code",
      "execution_count": null,
      "metadata": {
        "colab": {
          "base_uri": "https://localhost:8080/"
        },
        "id": "klgzqfCEA5k9",
        "outputId": "efc8ba01-ad4b-41bf-d23c-0e5500191da9"
      },
      "outputs": [],
      "source": [
        "current_dir = pathlib.Path.cwd() # Возвращает путь объекта директории в которой мы сейчас находимся\n",
        "home_dir = pathlib.Path.home() # Возвращает путь объекта домашней директории\n",
        "\n",
        "print(current_dir)\n",
        "print(home_dir)"
      ]
    },
    {
      "cell_type": "code",
      "execution_count": null,
      "metadata": {
        "colab": {
          "base_uri": "https://localhost:8080/"
        },
        "id": "uEZo7ccQBoj5",
        "outputId": "4dce9810-cdf5-4ca3-bc59-b3f4cf74d436"
      },
      "outputs": [],
      "source": [
        "outpath = pathlib.Path.cwd() / 'output' / 'output.xlsx' # / оператор объединения частей пути в составной путь\n",
        "print(outpath)"
      ]
    },
    {
      "cell_type": "markdown",
      "metadata": {
        "id": "JEAzTAe1CLeb"
      },
      "source": [
        "Засчет перегрузки оператора / код становится понятным и читабельным."
      ]
    },
    {
      "cell_type": "markdown",
      "metadata": {
        "id": "CJKnl2ByDKDU"
      },
      "source": [
        "Пример такой же операции в другой python библиотеке."
      ]
    },
    {
      "cell_type": "code",
      "execution_count": null,
      "metadata": {
        "colab": {
          "base_uri": "https://localhost:8080/"
        },
        "id": "PKEvnXTUDVaS",
        "outputId": "b50b2447-af4d-414e-a9df-3884b15efc55"
      },
      "outputs": [],
      "source": [
        "import os\n",
        "outpath_file = os.path.join(os.path.join(os.getcwd(), 'output'), \"out.xlsx\")\n",
        "print(outpath_file)"
      ]
    },
    {
      "cell_type": "markdown",
      "metadata": {
        "id": "l3erPixxD72Y"
      },
      "source": [
        "Также важная особенность библиотеки pathlib, то что вместо представлении пути в виде обычной строки он создает отдельный объект Path, что позволяет использовать различные методы заранее прописанные в объекте Path и перегрузку оператора. "
      ]
    },
    {
      "cell_type": "code",
      "execution_count": null,
      "metadata": {
        "colab": {
          "base_uri": "https://localhost:8080/"
        },
        "id": "ntSYKBboCFwd",
        "outputId": "b0000ef6-3f63-43ce-db85-75b4dabab83a"
      },
      "outputs": [],
      "source": [
        "type(outpath)"
      ]
    },
    {
      "cell_type": "markdown",
      "metadata": {
        "id": "asYszzq5JI8M"
      },
      "source": [
        "Способы инициализации класса Path."
      ]
    },
    {
      "cell_type": "code",
      "execution_count": null,
      "metadata": {
        "colab": {
          "base_uri": "https://localhost:8080/"
        },
        "id": "t3Nv4EhaHohO",
        "outputId": "4d1735d6-22bb-4f56-9cb4-1c486e615e34"
      },
      "outputs": [],
      "source": [
        "animal = pathlib.Path('shelter', 'dog') # При помощи строк\n",
        "print(animal)\n",
        "\n",
        "animal = pathlib.Path(animal, 'doberman') # При помощи строк и объектов Path\n",
        "print(animal)\n",
        "\n",
        "animal = pathlib.Path(pathlib.Path.home(), 'animals', animal)\n",
        "print(animal)"
      ]
    },
    {
      "cell_type": "markdown",
      "metadata": {
        "id": "OoAT5GpbEwXZ"
      },
      "source": [
        "# Параметры пути."
      ]
    },
    {
      "cell_type": "code",
      "execution_count": null,
      "metadata": {
        "colab": {
          "base_uri": "https://localhost:8080/"
        },
        "id": "c1qo4D3vCX65",
        "outputId": "7a0a05cf-a867-4942-807a-5d759b5b05d9"
      },
      "outputs": [],
      "source": [
        "python_path = pathlib.Path(pathlib.Path().cwd(), 'apps', 'python.exe')\n",
        "print(python_path)\n",
        "print(python_path.name) # Возвращает имя файла\n",
        "print(python_path.suffix) # Возвращяет тип файла"
      ]
    },
    {
      "cell_type": "code",
      "execution_count": null,
      "metadata": {
        "colab": {
          "base_uri": "https://localhost:8080/"
        },
        "id": "iHigMrCHLghb",
        "outputId": "893095a9-5371-4cfd-bb39-855607bc0d03"
      },
      "outputs": [],
      "source": [
        "java_path = python_path.with_name('java.exe') # Изменяет название файла\n",
        "apk_path = python_path.with_suffix('.apk') # Изменяет тип файла\n",
        "print(python_path)\n",
        "print(java_path)\n",
        "print(apk_path)"
      ]
    },
    {
      "cell_type": "code",
      "execution_count": null,
      "metadata": {
        "colab": {
          "base_uri": "https://localhost:8080/"
        },
        "id": "ARohd-8MMFKB",
        "outputId": "a420e800-e3b5-4d4e-d9bf-01b7159e6cec"
      },
      "outputs": [],
      "source": [
        "print(python_path.parent) # Возвращает родителя файла или директории (Поднимается на уровень выше)\n",
        "print(python_path.parent.parent)"
      ]
    },
    {
      "cell_type": "markdown",
      "metadata": {
        "id": "mAOFFx_Kth_h"
      },
      "source": [
        "# Работа с файлами и директориями"
      ]
    },
    {
      "cell_type": "code",
      "execution_count": null,
      "metadata": {
        "id": "Ydgpgj7Bz37_"
      },
      "outputs": [],
      "source": [
        "import zipfile\n",
        "with zipfile.ZipFile('ocean.zip', 'r') as zip_ref:\n",
        "    zip_ref.extractall('')"
      ]
    },
    {
      "cell_type": "code",
      "execution_count": null,
      "metadata": {
        "colab": {
          "base_uri": "https://localhost:8080/"
        },
        "id": "9dirQ4z7tnhs",
        "outputId": "bccedb37-9c2f-493b-8c19-f3a8ff7bd5a1"
      },
      "outputs": [],
      "source": [
        "for child in pathlib.Path().cwd().iterdir(): #Создает генератор, который возвращает пути всех файлов и директорий содержашихся в конкретной директории\n",
        "  print(child)"
      ]
    },
    {
      "cell_type": "code",
      "execution_count": null,
      "metadata": {
        "colab": {
          "base_uri": "https://localhost:8080/"
        },
        "id": "zy0MikiRtqaX",
        "outputId": "2a8773cd-9d64-477a-8948-20aa7394d82b"
      },
      "outputs": [],
      "source": [
        "print(pathlib.Path('ocean', 'tides.txt').exists()) # Проверка содержится ли файл в директории \n",
        "print(pathlib.Path('ocean', 'tide.txt').exists())"
      ]
    },
    {
      "cell_type": "code",
      "execution_count": null,
      "metadata": {
        "id": "9SUMlQZ5t-_8"
      },
      "outputs": [],
      "source": [
        "cur_path = pathlib.Path().cwd()\n",
        "new_dir = cur_path / 'ocean' / 'plants'\n",
        "new_dir.mkdir() # Создает пустую папку"
      ]
    },
    {
      "cell_type": "code",
      "execution_count": null,
      "metadata": {
        "id": "xxtL_z5Gwymy"
      },
      "outputs": [],
      "source": [
        "new_file = new_dir / 'laminaria.txt'\n",
        "new_file.touch() # Создает пустой файл"
      ]
    },
    {
      "cell_type": "code",
      "execution_count": null,
      "metadata": {
        "colab": {
          "base_uri": "https://localhost:8080/"
        },
        "id": "SMdiMzTYxNej",
        "outputId": "85ee4f9b-30d4-46b9-b771-e308017b87d7"
      },
      "outputs": [],
      "source": [
        "old_name = pathlib.Path().cwd() / 'ocean' / 'animal' / 'fish' / 'shark.txt'\n",
        "new_name = pathlib.Path().cwd() / 'ocean' / 'animal' / 'fish' / 'dolphin.txt'\n",
        "old_name.rename(new_name) # Меняет название файла"
      ]
    },
    {
      "cell_type": "code",
      "execution_count": null,
      "metadata": {
        "id": "KZ3ApCqVyqYH"
      },
      "outputs": [],
      "source": [
        "trash_dir = pathlib.Path().cwd() / 'trash'\n",
        "trash_dir.mkdir()\n",
        "trash_file = trash_dir /'trash.txt'\n",
        "trash_file.touch()"
      ]
    },
    {
      "cell_type": "code",
      "execution_count": null,
      "metadata": {
        "colab": {
          "base_uri": "https://localhost:8080/",
          "height": 294
        },
        "id": "nrbQUkcgziPI",
        "outputId": "35fb9bf7-dc60-49db-b57b-dce0b315f730"
      },
      "outputs": [],
      "source": [
        "trash_dir.rmdir()"
      ]
    },
    {
      "cell_type": "code",
      "execution_count": null,
      "metadata": {
        "id": "qonZDZHFzqqg"
      },
      "outputs": [],
      "source": [
        "trash_file.unlink()"
      ]
    },
    {
      "cell_type": "code",
      "execution_count": null,
      "metadata": {
        "id": "OOvNs3A8zxSf"
      },
      "outputs": [],
      "source": [
        "trash_dir.rmdir()"
      ]
    },
    {
      "cell_type": "code",
      "execution_count": null,
      "metadata": {
        "id": "PcEslID5AToP"
      },
      "outputs": [],
      "source": [
        "import shutil"
      ]
    },
    {
      "cell_type": "code",
      "execution_count": null,
      "metadata": {
        "colab": {
          "base_uri": "https://localhost:8080/",
          "height": 35
        },
        "id": "Ts3afD0_Auyc",
        "outputId": "48bc52fa-9f4c-4d00-de93-2e2de00e8701"
      },
      "outputs": [],
      "source": [
        "shutil.copy(pathlib.Path('ocean', 'plants', 'laminaria.txt'), pathlib.Path('ocean'))"
      ]
    },
    {
      "cell_type": "markdown",
      "metadata": {
        "id": "Obgaj41brk43"
      },
      "source": [
        "# Методы glob и rglob"
      ]
    },
    {
      "cell_type": "code",
      "execution_count": null,
      "metadata": {
        "colab": {
          "base_uri": "https://localhost:8080/"
        },
        "id": "c6XmXmbejqic",
        "outputId": "7a558ea3-6638-451e-d02f-5dbd130a44b1"
      },
      "outputs": [],
      "source": [
        "for txt_path in pathlib.Path(\"ocean\").glob(\"*.txt\"):\n",
        "    print(txt_path)"
      ]
    },
    {
      "cell_type": "code",
      "execution_count": null,
      "metadata": {
        "colab": {
          "base_uri": "https://localhost:8080/"
        },
        "id": "oavskwTgsk_N",
        "outputId": "a8a6c0c7-a3a7-4529-9beb-b30fc9985ec5"
      },
      "outputs": [],
      "source": [
        "for txt_path in pathlib.Path(\"ocean\").glob(\"**/*.txt\"):\n",
        "    print(txt_path)"
      ]
    },
    {
      "cell_type": "code",
      "execution_count": null,
      "metadata": {
        "colab": {
          "base_uri": "https://localhost:8080/"
        },
        "id": "Ce03oAhm0T2V",
        "outputId": "5ac06728-6407-4b95-87f9-30f7564e4d88"
      },
      "outputs": [],
      "source": [
        "for txt_path in pathlib.Path(\"ocean\").rglob(\"*.txt\"):\n",
        "    print(txt_path)"
      ]
    },
    {
      "cell_type": "markdown",
      "metadata": {
        "id": "nea1iAwy06K3"
      },
      "source": [
        "# Задачи"
      ]
    },
    {
      "cell_type": "markdown",
      "metadata": {
        "id": "UDnrKdLK1Ht3"
      },
      "source": [
        "1.Рассортировать все файлы по типу.\n",
        "\n",
        "2.Удалить папку и все элементы содержащиеся в ней.\n",
        "\n",
        "3.Произвести копирование папки.\n"
      ]
    },
    {
      "cell_type": "code",
      "execution_count": null,
      "metadata": {
        "id": "9gYKlMLm-1pW"
      },
      "outputs": [],
      "source": []
    }
  ],
  "metadata": {
    "colab": {
      "collapsed_sections": [
        "Obgaj41brk43"
      ],
      "provenance": []
    },
    "kernelspec": {
      "display_name": "Python 3",
      "name": "python3"
    },
    "language_info": {
      "codemirror_mode": {
        "name": "ipython",
        "version": 3
      },
      "file_extension": ".py",
      "mimetype": "text/x-python",
      "name": "python",
      "nbconvert_exporter": "python",
      "pygments_lexer": "ipython3",
      "version": "3.11.8"
    }
  },
  "nbformat": 4,
  "nbformat_minor": 0
}
