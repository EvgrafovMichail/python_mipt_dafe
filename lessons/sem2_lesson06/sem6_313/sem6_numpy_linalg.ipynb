{
 "cells": [
  {
   "cell_type": "markdown",
   "metadata": {},
   "source": [
    "# Семинар 6. Линейная алгебра в NumPy\n",
    "\n",
    "Очень часто различные научные вычисления и алгоритмы связаны с операциями линейной алгебры: перемножение матриц и векторов, вычисление обратных матриц, вычисление собственных значений матрицы, осуществление различных разложений матриц и т.д. Все эти операции играют важную роль, например, в методах оптимизации или глубинном обучении. Именно поэтому основные алгоритмы линейной алгебры были реализованы в виде специального подмодуля библиотеки NumPy - `linalg` (сокращение от *linear algebra*). В сегодняшнем семинаре мы посмотрим на основной функционал этого модуля.\n",
    "\n",
    "**Необходимые импорты:**"
   ]
  },
  {
   "cell_type": "code",
   "execution_count": 1,
   "metadata": {},
   "outputs": [],
   "source": [
    "import numpy as np\n",
    "\n",
    "np.random.seed(42)"
   ]
  },
  {
   "cell_type": "markdown",
   "metadata": {},
   "source": [
    "## Слияние и деление массивов\n",
    "\n",
    "Но прежде чем перейти к изучению подмодуля `linalg`, рассмотрим пару полезных функций слияния и разделения матриц. Функции слияния нескольких матриц в одну могут оказаться полезными по ряду причин. Это может быть, как оптимизация вычислений, ведь некоторые функции способны обрабатывать батчи матриц, следовательно, целесообразно объединить матрицы в один батч и передать в такую функцию, чтобы избежать использования циклов. Также это может потребоваться, как необходимый шаг выполнения некоторого алгоритма. Например, для получения расширенной матрицы, мы можем захотеть объединить матрицу коэффициентов с вектором свободных частей.\n",
    "\n",
    "На прошлом занятии вы познакомились с функцией `np.append`, которая позволяет дописывать значения в конце существующего массива. Похожая на неё функция `np.concatenate` позволяет осуществить те же самые действия. По большому счету, существенной разницы между этими функциями нет, за тем исключением, что в `np.concatenate` вы можете передать аргумент `out`, со значением которого мы знакомились на одном из первых семинаров. Важно отметить тот факт, что объединяемые массивы должны иметь одну и ту же размерность (одно и тоже значение атрибута `ndim`)."
   ]
  },
  {
   "cell_type": "code",
   "execution_count": 2,
   "metadata": {},
   "outputs": [
    {
     "name": "stdout",
     "output_type": "stream",
     "text": [
      "array_1d:\n",
      "[-4  9]\n",
      "\n",
      "array_2d:\n",
      "[[ 4  0]\n",
      " [-3 -4]]\n",
      "\n",
      "concatenate-no-axis:\n",
      "[-4  9  4  0 -3 -4]\n",
      "\n",
      "concatenate-with-axis:\n",
      "[[ 4  0]\n",
      " [-3 -4]\n",
      " [-4  9]]\n",
      "\n",
      "append-no-axis:\n",
      "[-4  9  4  0 -3 -4]\n",
      "\n",
      "append-with-axis:\n",
      "[[-4  4  0]\n",
      " [ 9 -3 -4]]\n"
     ]
    }
   ],
   "source": [
    "array_1d = np.random.randint(-10, 10, size=2)\n",
    "array_2d = np.random.randint(-10, 10, size=(2, 2))\n",
    "\n",
    "print(\n",
    "    f\"array_1d:\\n{array_1d}\",\n",
    "    f\"array_2d:\\n{array_2d}\",\n",
    "    f\"concatenate-no-axis:\\n\"\n",
    "    f\"{np.concatenate((array_1d, array_2d), axis=None)}\",\n",
    "    f\"concatenate-with-axis:\\n\"\n",
    "    f\"{np.concatenate((array_2d, array_1d[np.newaxis, ...]), axis=0)}\",\n",
    "    f\"append-no-axis:\\n\"\n",
    "    f\"{np.append(array_1d, array_2d, axis=None)}\",\n",
    "    f\"append-with-axis:\\n\"\n",
    "    f\"{np.append(array_1d[..., np.newaxis], array_2d, axis=1)}\",\n",
    "    sep=\"\\n\\n\",\n",
    ")"
   ]
  },
  {
   "cell_type": "markdown",
   "metadata": {},
   "source": [
    "Как вы видите, с помощью добавления новых размерностей и указания аргумента axis мы можем регулировать, как именно значения массивов будут объединяться, и какой формы будет результирующий массив. Однако при работе с матрицами нам не нужен такой уровень гибкости, поскольку мы будем хотеть приписывать или столбцы (`axis=1`), или строки (`axis=0`). Специально для этой цели в NumPy есть пара функций `np.hstack` (сокращение от *horizontal stacking*) и `np.vstack` (аналогично, *vertical stacking*)."
   ]
  },
  {
   "cell_type": "code",
   "execution_count": 3,
   "metadata": {},
   "outputs": [
    {
     "name": "stdout",
     "output_type": "stream",
     "text": [
      "array_1d:\n",
      "[8 0]\n",
      "\n",
      "array_2d:\n",
      "[[ 0 -7]\n",
      " [-3 -8]]\n",
      "\n",
      "hstack 1d to 2d:\n",
      "[[ 0 -7  8]\n",
      " [-3 -8  0]]\n",
      "\n",
      "hstack 2d to 1d:\n",
      "[[ 8  0 -7]\n",
      " [ 0 -3 -8]]\n",
      "\n",
      "vstack 1d to 2d:\n",
      "[[ 0 -7]\n",
      " [-3 -8]\n",
      " [ 8  0]]\n",
      "\n",
      "vstack 2d to 1d:\n",
      "[[ 8  0]\n",
      " [ 0 -7]\n",
      " [-3 -8]]\n"
     ]
    }
   ],
   "source": [
    "array_1d = np.random.randint(-10, 10, size=2)\n",
    "array_2d = np.random.randint(-10, 10, size=(2, 2))\n",
    "\n",
    "print(\n",
    "    f\"array_1d:\\n{array_1d}\",\n",
    "    f\"array_2d:\\n{array_2d}\",\n",
    "    \"hstack 1d to 2d:\\n\"\n",
    "    f\"{np.hstack((array_2d, array_1d[..., np.newaxis]))}\",\n",
    "    \"hstack 2d to 1d:\\n\"\n",
    "    f\"{np.hstack((array_1d[..., np.newaxis], array_2d))}\",\n",
    "    \"vstack 1d to 2d:\\n\"\n",
    "    f\"{np.vstack((array_2d, array_1d))}\",\n",
    "    \"vstack 2d to 1d:\\n\"\n",
    "    f\"{np.vstack((array_1d, array_2d))}\",\n",
    "    sep=\"\\n\\n\",\n",
    ")"
   ]
  },
  {
   "cell_type": "markdown",
   "metadata": {},
   "source": [
    "Очевидно, если есть возможность слияние массивов в один, также существует возможность разделения одно массива на несколько массивов. Начнем с первого антипода - антипод функции `np.concatenate` - `np.split`. С помощью данной функции вы можете разбить переданный массив на несколько подмассивов по заданному правилу вдоль заданного направления."
   ]
  },
  {
   "cell_type": "code",
   "execution_count": 4,
   "metadata": {},
   "outputs": [],
   "source": [
    "def convert_npsplit_to_string(\n",
    "    parts: list[np.ndarray],\n",
    ") -> str:\n",
    "    return \",\\n\".join(\n",
    "        [str(part) for part in parts]\n",
    "    )"
   ]
  },
  {
   "cell_type": "code",
   "execution_count": 5,
   "metadata": {},
   "outputs": [
    {
     "name": "stdout",
     "output_type": "stream",
     "text": [
      "array:\n",
      "[[ -9   1  -5  -9]\n",
      " [-10   1   1   6]\n",
      " [ -1   5   4   4]\n",
      " [  8   1   9  -8]\n",
      " [ -6   8  -4  -2]\n",
      " [ -4   7  -7   3]]\n",
      "\n",
      "split-use-int-rule:\n",
      "[[ -9   1  -5  -9]\n",
      " [-10   1   1   6]],\n",
      "[[-1  5  4  4]\n",
      " [ 8  1  9 -8]],\n",
      "[[-6  8 -4 -2]\n",
      " [-4  7 -7  3]]\n",
      "\n",
      "split-use-slice-rule:\n",
      "[[-9  1 -5 -9]],\n",
      "[[-10   1   1   6]\n",
      " [ -1   5   4   4]\n",
      " [  8   1   9  -8]],\n",
      "[[-6  8 -4 -2]\n",
      " [-4  7 -7  3]]\n",
      "\n",
      "split-use-axis:\n",
      "[[ -9   1]\n",
      " [-10   1]\n",
      " [ -1   5]\n",
      " [  8   1]\n",
      " [ -6   8]\n",
      " [ -4   7]],\n",
      "[[-5 -9]\n",
      " [ 1  6]\n",
      " [ 4  4]\n",
      " [ 9 -8]\n",
      " [-4 -2]\n",
      " [-7  3]]\n"
     ]
    }
   ],
   "source": [
    "array = np.random.randint(-10, 10, size=(6, 4))\n",
    "\n",
    "print(\n",
    "    f\"array:\\n{array}\",\n",
    "    \"split-use-int-rule:\\n\"\n",
    "    f\"{convert_npsplit_to_string(np.split(array, 3))}\",\n",
    "    \"split-use-slice-rule:\\n\"\n",
    "    f\"{convert_npsplit_to_string(np.split(array, [1, 4]))}\",\n",
    "    \"split-use-axis:\\n\"\n",
    "    f\"{convert_npsplit_to_string(np.split(array, 2, axis=1))}\",\n",
    "    sep=\"\\n\\n\",\n",
    ")"
   ]
  },
  {
   "cell_type": "markdown",
   "metadata": {},
   "source": [
    "Также аналоги-разделители определены и для функций `np.hstack` и `np.vstack` - `np.hsplit` и `np.vsplit`. Обе эти функции аналогичны функции `np.split` с фиксированным значением аргумента axis: axis=0 для vsplit, axis=1 для hsplit."
   ]
  },
  {
   "cell_type": "code",
   "execution_count": 6,
   "metadata": {},
   "outputs": [
    {
     "name": "stdout",
     "output_type": "stream",
     "text": [
      "array:\n",
      "[[ 7 -2 -9  9]\n",
      " [ 4 -4  1 -3]\n",
      " [ 4 -8  3  6]\n",
      " [-7  7 -3 -7]\n",
      " [-9 -5 -1 -7]\n",
      " [ 7  1 -9 -1]]\n",
      "\n",
      "vsplit:\n",
      "[[ 7 -2 -9  9]\n",
      " [ 4 -4  1 -3]],\n",
      "[[ 4 -8  3  6]\n",
      " [-7  7 -3 -7]],\n",
      "[[-9 -5 -1 -7]\n",
      " [ 7  1 -9 -1]]\n",
      "\n",
      "hsplit:\n",
      "[[ 7]\n",
      " [ 4]\n",
      " [ 4]\n",
      " [-7]\n",
      " [-9]\n",
      " [ 7]],\n",
      "[[-2 -9]\n",
      " [-4  1]\n",
      " [-8  3]\n",
      " [ 7 -3]\n",
      " [-5 -1]\n",
      " [ 1 -9]],\n",
      "[[ 9]\n",
      " [-3]\n",
      " [ 6]\n",
      " [-7]\n",
      " [-7]\n",
      " [-1]]\n"
     ]
    }
   ],
   "source": [
    "array = np.random.randint(-10, 10, size=(6, 4))\n",
    "\n",
    "print(\n",
    "    f\"array:\\n{array}\",\n",
    "    \"vsplit:\\n\"\n",
    "    f\"{convert_npsplit_to_string(np.vsplit(array, 3))}\",\n",
    "    \"hsplit:\\n\"\n",
    "    f\"{convert_npsplit_to_string(np.hsplit(array, [1, 3]))}\",\n",
    "    sep=\"\\n\\n\",\n",
    ")"
   ]
  },
  {
   "cell_type": "markdown",
   "metadata": {},
   "source": [
    "## Операции с матрицами\n",
    "\n",
    "Начнем изучение возможностей NumPy по работе с операциями линейной алгебры с функционала, доступного без подключения подмодуля `linalg`. А именно - рассмотрим все возможные произведения.\n",
    "\n",
    "### Оператор @ и скалярные произведения\n",
    "\n",
    "Начиная с версии 3.5 в Python был добавлен новый оператор - @, который в контексте массивов NumPy имеет смысл обычного произведения матриц:"
   ]
  },
  {
   "cell_type": "code",
   "execution_count": 7,
   "metadata": {},
   "outputs": [
    {
     "name": "stdout",
     "output_type": "stream",
     "text": [
      "vector1:\n",
      "[-7  3  5]\n",
      "\n",
      "vector2:\n",
      "[ 4 -3  3]\n",
      "\n",
      "matrix1:\n",
      "[[ -3   5   2]\n",
      " [  7   4   2]\n",
      " [ -2   4   2]\n",
      " [-10  -4  -2]]\n",
      "\n",
      "matrix2:\n",
      "[[-10   1  -3   0]\n",
      " [  8   6  -3  -8]\n",
      " [ -8 -10  -6  -1]]\n"
     ]
    }
   ],
   "source": [
    "vector1 = np.random.randint(-10, 10, size=3)\n",
    "vector2 = np.random.randint(-10, 10, size=3)\n",
    "\n",
    "matrix1 = np.random.randint(-10, 10, size=(4, 3))\n",
    "matrix2 = np.random.randint(-10, 10, size=(3, 4))\n",
    "\n",
    "print(\n",
    "    f\"vector1:\\n{vector1}\",\n",
    "    f\"vector2:\\n{vector2}\",\n",
    "    f\"matrix1:\\n{matrix1}\",\n",
    "    f\"matrix2:\\n{matrix2}\",\n",
    "    sep=\"\\n\\n\",\n",
    ")"
   ]
  },
  {
   "cell_type": "code",
   "execution_count": 8,
   "metadata": {},
   "outputs": [
    {
     "name": "stdout",
     "output_type": "stream",
     "text": [
      "vector @ vector:\n",
      "-22\n",
      "\n",
      "vector1 @ matrix2:\n",
      "[ 54 -39 -18 -29]\n",
      "\n",
      "matrix1 @ vector2:\n",
      "[-21  22 -14 -34]\n",
      "\n",
      "matrix @ matrix:\n",
      "[[ 54   7 -18 -42]\n",
      " [-54  11 -45 -34]\n",
      " [ 36   2 -18 -34]\n",
      " [ 84 -14  54  34]]\n"
     ]
    }
   ],
   "source": [
    "print(\n",
    "    f\"vector @ vector:\\n{vector1 @ vector2}\",\n",
    "    f\"vector1 @ matrix2:\\n{vector1 @ matrix2}\",\n",
    "    f\"matrix1 @ vector2:\\n{matrix1 @ vector2}\",\n",
    "    f\"matrix @ matrix:\\n{matrix1 @ matrix2}\",\n",
    "    sep=\"\\n\\n\",\n",
    ")"
   ]
  },
  {
   "cell_type": "markdown",
   "metadata": {},
   "source": [
    "Из данных примеров видно, что одномерный массив задает как вектор-строки, так и вектор-столбцы, а оператора @ относится к одномерным массивам, как к произведениям вектора-строки на вектор-столбец, т.е. как к обычному скалярному произведению векторов. Но как быть, если мы хотим получить матрицу при выполнении операции @? Т.е., как быть, если нам необходимо осуществить произведение вектор-столбца на вектор-строку? Для решения данной проблемы существует два решения: манипуляция с размерностями и функция `np.outer`. Ниже рассмотрены оба подхода."
   ]
  },
  {
   "cell_type": "code",
   "execution_count": 9,
   "metadata": {},
   "outputs": [
    {
     "name": "stdout",
     "output_type": "stream",
     "text": [
      "vector1:\n",
      "[-4 -2 -4]\n",
      "\n",
      "vector2:\n",
      "[-2 -3  1]\n",
      "\n",
      "shape manipulation:\n",
      "[[ 8 12 -4]\n",
      " [ 4  6 -2]\n",
      " [ 8 12 -4]]\n",
      "\n",
      "np.outer:\n",
      "[[ 8 12 -4]\n",
      " [ 4  6 -2]\n",
      " [ 8 12 -4]]\n"
     ]
    }
   ],
   "source": [
    "vector1 = np.random.randint(-10, 10, size=3)\n",
    "vector2 = np.random.randint(-10, 10, size=3)\n",
    "\n",
    "print(\n",
    "    f\"vector1:\\n{vector1}\",\n",
    "    f\"vector2:\\n{vector2}\",\n",
    "    \"shape manipulation:\\n\"\n",
    "    f\"{vector1[..., np.newaxis] @ vector2[np.newaxis, ...]}\",\n",
    "    f\"np.outer:\\n{np.outer(vector1, vector2)}\",\n",
    "    sep=\"\\n\\n\",\n",
    ")"
   ]
  },
  {
   "cell_type": "markdown",
   "metadata": {},
   "source": [
    "Как и в случае с векторизованными операциями, оператор @ имеет функциональную форму `np.matmul`, с помощью которой можно указать буфер записи результата.\n",
    "\n",
    "### Векторное произведение\n",
    "\n",
    "Векторное произведение не имеет операторной записи, но имеет функциональную реализациюв в виде функции `np.cross`. Функция принимает на вход массивы различных размерностей и имеет возможности указывать измерения массивов, вдоль которых расположены векторы для осуществления операций."
   ]
  },
  {
   "cell_type": "code",
   "execution_count": 10,
   "metadata": {},
   "outputs": [
    {
     "name": "stdout",
     "output_type": "stream",
     "text": [
      "vector:\n",
      "[ -9 -10   5]\n",
      "\n",
      "pack of vectors:\n",
      "[[ -6  -8   1]\n",
      " [ -3  -8 -10]\n",
      " [ -8  -6   4]]\n",
      "\n",
      "cross product:\n",
      "[[  30  -21   12]\n",
      " [ 140 -105   42]\n",
      " [ -10   -4  -26]]\n"
     ]
    }
   ],
   "source": [
    "vector = np.random.randint(-10, 10, size=3)\n",
    "pack_of_vectors = np.random.randint(-10, 10, size=(3, 3))\n",
    "\n",
    "print(\n",
    "    f\"vector:\\n{vector}\",\n",
    "    f\"pack of vectors:\\n{pack_of_vectors}\",\n",
    "    f\"cross product:\\n{np.cross(vector, pack_of_vectors, axis=-1)}\",\n",
    "    sep=\"\\n\\n\",\n",
    ")"
   ]
  },
  {
   "cell_type": "markdown",
   "metadata": {},
   "source": [
    "### Задание 1. Смешанное произведение\n",
    "\n",
    "Итак, в NumPy есть скалярное и векторное произведение. Но, к сожалению, нет смешанного произведения векторов. Чтобы исправить это упущение, реализуем функцию для вычисления смешанного произведения, заложив туда возможность вычислять смешанное произведение для целого батча векторов. Итак, необходимо реализовать функцию, на вход которой подается или три вектора, или три матрицы. В случае векторов результат выполнения функции - число - смешанное произведение векторов. В случае матриц результат - n чисел - смешанные произведения. n - число векторов в матрицах.\n",
    "\n",
    "В случае если матрицы имеют разные размеры, необходимо возбудить исключение `ShapeMismatchError`. В случае, если хотя бы одна из переданных матриц имеет размерность, большую двух, необходимо возбудить исключение `ShapeMismatchError`.\n",
    "\n",
    "Замечание, считаем, что вектора в матрице храняться вдоль измерения axis=1.\n",
    "\n",
    "**Напоминание**\n",
    "\n",
    "Смешнным прозведением векторов $(\\vec{a}, \\vec{b}, \\vec{c})$ называют скалярное прозведение векторов $(\\vec{a}, \\vec{h})$, где вектор $\\vec{h} = \\vec{b} \\times \\vec{c}$ - векторное произведение векторов $\\vec{b}, \\vec{c}$.\n",
    "\n",
    "**Необходимые импорты**:"
   ]
  },
  {
   "cell_type": "code",
   "execution_count": 11,
   "metadata": {},
   "outputs": [],
   "source": [
    "from typing import Union\n",
    "from numbers import Real"
   ]
  },
  {
   "cell_type": "markdown",
   "metadata": {},
   "source": [
    "**Программная реализация**:"
   ]
  },
  {
   "cell_type": "code",
   "execution_count": 12,
   "metadata": {},
   "outputs": [],
   "source": [
    "class ShapeMismatchError(Exception):\n",
    "    pass"
   ]
  },
  {
   "cell_type": "code",
   "execution_count": 13,
   "metadata": {},
   "outputs": [],
   "source": [
    "def get_mixed_product(\n",
    "    vec1: np.ndarray,\n",
    "    vec2: np.ndarray,\n",
    "    vec3: np.ndarray,\n",
    ") -> Union[np.ndarray, Real]:\n",
    "    # ваш код\n",
    "    \n",
    "    return 0"
   ]
  },
  {
   "cell_type": "markdown",
   "metadata": {},
   "source": [
    "**Тесты**:"
   ]
  },
  {
   "cell_type": "code",
   "execution_count": 14,
   "metadata": {},
   "outputs": [],
   "source": [
    "vec1 = np.arange(3)\n",
    "vec2 = np.array([1, 0, 0])\n",
    "vec3 = np.array([0, 1, 0])\n",
    "\n",
    "result = get_mixed_product(vec1, vec2, vec3)\n",
    "assert result == 2\n",
    "\n",
    "result = get_mixed_product(\n",
    "    np.repeat(vec1[np.newaxis, ...], 3, axis=0),\n",
    "    np.repeat(vec2[np.newaxis, ...], 3, axis=0),\n",
    "    np.repeat(vec3[np.newaxis, ...], 3, axis=0),\n",
    ")\n",
    "assert np.all(result == np.full_like(vec1, fill_value=2))\n",
    "\n",
    "try:\n",
    "    get_mixed_product(\n",
    "        np.repeat(vec1[np.newaxis, ...], 3, axis=0),\n",
    "        vec2,\n",
    "        vec3,\n",
    "    )\n",
    "\n",
    "except ShapeMismatchError:\n",
    "    pass\n",
    "\n",
    "else:\n",
    "    assert False, \"exception expected\"\n",
    "\n",
    "try:\n",
    "    get_mixed_product(\n",
    "        vec1[np.newaxis, np.newaxis, ...],\n",
    "        vec2,\n",
    "        vec3,\n",
    "    )\n",
    "\n",
    "except ShapeMismatchError:\n",
    "    pass\n",
    "\n",
    "else:\n",
    "    assert False, \"exception expected\""
   ]
  },
  {
   "cell_type": "markdown",
   "metadata": {},
   "source": [
    "### Вычисление основных чисел матриц\n",
    "\n",
    "**Норма**\n",
    "\n",
    "Во многих задач полезным бывает вычислить норму вектора, для последующей нормировки этого вектора. Для этой цели стоит использовать функцию `np.linalg.norm`, которая обладает очень широким функционалом и позволяет вычислять как нормы векторов, так и нормы матриц. Причем, с помощью аргумента `ord` вы можете выбрать, какую именно норму следует вычислить. По умолчанию будет вычислена знакомая вам со школы l2-норма для векторов. В общем же случае эта норма носит название Евклидовой нормы или нормы Фробениуса. Также у этой функции есть аргумент `axis`, благодаря которому вы получаете возможноть вычисления нормы вдоль указанных измерений массива. "
   ]
  },
  {
   "cell_type": "code",
   "execution_count": 15,
   "metadata": {},
   "outputs": [
    {
     "name": "stdout",
     "output_type": "stream",
     "text": [
      "matrix:\n",
      "[[  3  -8 -10]\n",
      " [ -6   3  -4]\n",
      " [ -2   4   4]]\n",
      "\n",
      "matrix norm:\n",
      "16.431676725154983\n",
      "\n",
      "vectors' norms\n",
      "[13.15294644  7.81024968  6.        ]\n",
      "\n",
      "custom vectors' norm:\n",
      "[13.15294644  7.81024968  6.        ]\n"
     ]
    }
   ],
   "source": [
    "matrix = np.random.randint(-10, 10, size=(3, 3))\n",
    "\n",
    "print(\n",
    "    f\"matrix:\\n{matrix}\",\n",
    "    f\"matrix norm:\\n{np.linalg.norm(matrix)}\",\n",
    "    f\"vectors' norms\\n{np.linalg.norm(matrix, axis=-1)}\",\n",
    "    \"custom vectors' norm:\\n\"\n",
    "    f\"{np.sqrt(np.sum(matrix ** 2, axis=-1))}\",\n",
    "    sep=\"\\n\\n\",\n",
    ")"
   ]
  },
  {
   "cell_type": "markdown",
   "metadata": {},
   "source": [
    "**Ранг**\n",
    "\n",
    "Для выполнения ряда операций требуется определение ранга матрицы. Например, определение ранга матрицы может быть необходимым перед обращением матрицы во время решения матричных уравнений. В NumPy определение ранга матрицы осуществляется с помощью функции `np.linalg.matrix_rank`, в основе которой лежит алгоритм сингулярного разложения матриц."
   ]
  },
  {
   "cell_type": "code",
   "execution_count": 16,
   "metadata": {},
   "outputs": [
    {
     "name": "stdout",
     "output_type": "stream",
     "text": [
      "full-rank matrix:\n",
      "[[2 0 0 0]\n",
      " [0 2 0 0]\n",
      " [0 0 4 0]\n",
      " [0 0 0 1]]\n",
      "\n",
      "not full-rank matrix:\n",
      "[[2 0 0 0]\n",
      " [0 0 0 0]\n",
      " [0 0 4 0]\n",
      " [0 0 0 1]]\n",
      "\n",
      "full-rank matrix rank:\n",
      "4\n",
      "\n",
      "not full-rank matrix rank:\n",
      "3\n"
     ]
    }
   ],
   "source": [
    "matrix_full_rank = np.diag(np.random.randint(1, 5, size=4))\n",
    "matrix_not_full_rank = matrix_full_rank.copy()\n",
    "matrix_not_full_rank[1, 1] = 0\n",
    "\n",
    "print(\n",
    "    f\"full-rank matrix:\\n{matrix_full_rank}\",\n",
    "    f\"not full-rank matrix:\\n{matrix_not_full_rank}\",\n",
    "    \"full-rank matrix rank:\\n\"\n",
    "    f\"{np.linalg.matrix_rank(matrix_full_rank)}\",\n",
    "    \"not full-rank matrix rank:\\n\"\n",
    "    f\"{np.linalg.matrix_rank(matrix_not_full_rank)}\",\n",
    "    sep=\"\\n\\n\",\n",
    ")"
   ]
  },
  {
   "cell_type": "markdown",
   "metadata": {},
   "source": [
    "**Детерминант**\n",
    "\n",
    "Детерминант матрицы является ее очень важной численной характеристикой. Вычисление детерминанта в NumPy возможно с помощью функции `np.linalg.det`. Однако, поскольку вычисление детерминанта связано с вычислениями произведений, в стех случаях, когда матрица является очень большой, а её элементы - это очень большие числа, в функции `np.linalg.det` может произайти переполнение, и посчитанное значение нельзя будет использовать в дальнейших вычислениях. С этой целью в NumPy реализована специальная функция `np.linalg.slogdet`, которая возвращает знак детерминанта и натуральный логарифм его модуля."
   ]
  },
  {
   "cell_type": "code",
   "execution_count": 17,
   "metadata": {},
   "outputs": [
    {
     "name": "stdout",
     "output_type": "stream",
     "text": [
      "matrix:\n",
      "[[3 0 0 0]\n",
      " [0 3 0 0]\n",
      " [0 0 4 0]\n",
      " [0 0 0 3]]\n",
      "\n",
      "det:\n",
      "108.00000000000003\n",
      "\n",
      "slogdet:\n",
      "SlogdetResult(sign=1.0, logabsdet=4.68213122712422)\n"
     ]
    }
   ],
   "source": [
    "matrix = np.diag(np.random.randint(1, 5, size=4))\n",
    "\n",
    "print(\n",
    "    f\"matrix:\\n{matrix}\",\n",
    "    f\"det:\\n{np.linalg.det(matrix)}\",\n",
    "    f\"slogdet:\\n{np.linalg.slogdet(matrix)}\",\n",
    "    sep=\"\\n\\n\",\n",
    ")"
   ]
  },
  {
   "cell_type": "markdown",
   "metadata": {},
   "source": [
    "**Собственные числа**\n",
    "\n",
    "Собственные числа и собственные векторы матрицы также являются очень важным ее показателем. Их вычисление может быть полезно, как для общего анализа некоторого линейного оператора, так и в качества важного шага в каком-либо алгоритме. Например, вычисление собственных чисел является выжным шагом при выполнении алгоритма поиска особых точек изображения. Вычисление собственных чисел реализуется с помощью функции `numpy.linalg.eig`."
   ]
  },
  {
   "cell_type": "code",
   "execution_count": 18,
   "metadata": {},
   "outputs": [
    {
     "name": "stdout",
     "output_type": "stream",
     "text": [
      "matrix:\n",
      "[[1 0 0 0]\n",
      " [0 4 0 0]\n",
      " [0 0 1 0]\n",
      " [0 0 0 4]]\n",
      "\n",
      "eigen values:\n",
      "[1. 4. 1. 4.]\n",
      "\n",
      "eigen vectors:\n",
      "[[1. 0. 0. 0.]\n",
      " [0. 1. 0. 0.]\n",
      " [0. 0. 1. 0.]\n",
      " [0. 0. 0. 1.]]\n"
     ]
    }
   ],
   "source": [
    "matrix = np.diag(np.random.randint(1, 5, size=4))\n",
    "eigen_values, eigen_vectors = np.linalg.eig(matrix)\n",
    "\n",
    "print(\n",
    "    f\"matrix:\\n{matrix}\",\n",
    "    f\"eigen values:\\n{eigen_values}\",\n",
    "    f\"eigen vectors:\\n{eigen_vectors}\",\n",
    "    sep=\"\\n\\n\",\n",
    ")"
   ]
  },
  {
   "cell_type": "markdown",
   "metadata": {},
   "source": [
    "## Системы уравнений\n",
    "\n",
    "Разумеется, одной из важных частей линейной алгебры являются линейные уравнения. Поэтому часть функционала подмодуля `linalg` посвящена решению именно этой проблемы. В этом блоке мы рассмотрим основыные функции, которые могут оказаться полезными при решении практических задач.\n",
    "\n",
    "**Обращение матрицы**\n",
    "\n",
    "При решении многих задач возникает необходимость в вычислении обратной матрицы. Такая задача, например, может возникать при вычислении коэффициентов МНК, о чем мы поговорим ниже. В NumPy вычисление обратной матрицы возможно с помощью специальной функции `np.linalg.inv`"
   ]
  },
  {
   "cell_type": "code",
   "execution_count": 19,
   "metadata": {},
   "outputs": [
    {
     "name": "stdout",
     "output_type": "stream",
     "text": [
      "matrix:\n",
      "[[-7 -6 -4]\n",
      " [ 2  4  0]\n",
      " [-7  2 -4]]\n",
      "\n",
      "matrix inverse:\n",
      "[[ 0.25   0.5   -0.25 ]\n",
      " [-0.125  0.     0.125]\n",
      " [-0.5   -0.875  0.25 ]]\n",
      "\n",
      "product:\n",
      "[[1. 0. 0.]\n",
      " [0. 1. 0.]\n",
      " [0. 0. 1.]]\n"
     ]
    }
   ],
   "source": [
    "matrix = np.random.randint(-10, 10, size=(3, 3))\n",
    "matrix_inv = np.linalg.inv(matrix)\n",
    "\n",
    "print(\n",
    "    f\"matrix:\\n{matrix}\",\n",
    "    f\"matrix inverse:\\n{matrix_inv}\",\n",
    "    f\"product:\\n{np.round(matrix_inv @ matrix, 2)}\",\n",
    "    sep=\"\\n\\n\",\n",
    ")"
   ]
  },
  {
   "cell_type": "markdown",
   "metadata": {},
   "source": [
    "**Решение системы линейных уравнений**\n",
    "\n",
    "В части случаев имеется возможность получения точного аналитического решения системы линейных уравнений. В этих случаях система линейных уравнений может быть решена с помощью специальной функции `np.linalg.solve`. Аргументами функции являются матрица коэффициентов и столбец правой части.\n",
    "\n",
    "Для примера рассмотрим решение системы линейных уравнений:\n",
    "\n",
    "$$\n",
    "\\begin{equation*}\n",
    " \\begin{cases}\n",
    "   x_1 + 2x_2 = 1 \\\\\n",
    "   3x_1 + 5x_2 = 2\n",
    " \\end{cases}\n",
    "\\end{equation*}\n",
    "$$"
   ]
  },
  {
   "cell_type": "code",
   "execution_count": 20,
   "metadata": {},
   "outputs": [
    {
     "name": "stdout",
     "output_type": "stream",
     "text": [
      "x1 = -1.0, x2 = 1.0\n"
     ]
    }
   ],
   "source": [
    "equation_matrix = np.array([[1, 2], [3, 5]])\n",
    "right_part = np.array([1, 2])\n",
    "\n",
    "solution = np.linalg.solve(equation_matrix, right_part)\n",
    "print(\n",
    "    \", \".join([\n",
    "        f\"x{i + 1} = {np.round(solution[i], 2)}\"\n",
    "        for i in range(solution.size)\n",
    "    ])\n",
    ")"
   ]
  },
  {
   "cell_type": "markdown",
   "metadata": {},
   "source": [
    "**МНК**\n",
    "\n",
    "Стоит отметить, что далеко не всегда существует возможность нахождения точного решения системы линейных уравнений. В реальной задаче может существовать большое количество уравнений, протеворечащих друг другу. В таких условиях ищется оптимальное решение системы, в смысле минимизации некоторой ошибки. Собственно, такая постановка задачи очень напоминает нам постановку задачи МНК. На самом деле МНК можно использовать в качестве метода вычисления оптимального решения системы линейных уравнений, а потому этот алгоритм также реализован в NumPy.\n",
    "\n",
    "В примере ниже мы рассмотрим функционал NumPy для решения классической задачи, в которой используется МНК - восстановление линейной зависимости.\n",
    "\n",
    "Предположим, что у нас есть несколько тестовых точек, и мы пытаемся по ним восстановить исходную зависимость вида:\n",
    "$$y = ax + b, $$\n",
    "\n",
    "где $a$ и $b$ - искомые коэффициенты.\n",
    "\n",
    "Пусть известны следующие координаты точек:"
   ]
  },
  {
   "cell_type": "code",
   "execution_count": 21,
   "metadata": {},
   "outputs": [],
   "source": [
    "abscissa = np.array([0, 1, 2, 3])\n",
    "ordinates = np.array([-1, 0.2, 0.9, 2.1])"
   ]
  },
  {
   "cell_type": "markdown",
   "metadata": {},
   "source": [
    "Для использования функции `np.linalg.lstsq` необходимо составить матрицу коэффициентов системы линейных уравнений. Т.е. мы должны свести задачу к решению системы линейных уравнений относительно переменных $a$ и $b$. Обладая указанными выше точками запишем следующую систему:\n",
    "\n",
    "$$\n",
    "\\begin{equation*}\n",
    " \\begin{cases}\n",
    "   ax_1 + b = y_1 \\Rightarrow b = -1 \\\\\n",
    "   ax_2 + b = y_2 \\Rightarrow a + b = 0.2 \\\\\n",
    "   ax_3 + b = y_3 \\Rightarrow 2a + b = 0.9\\\\\n",
    "   ax_4 + b = y_4 \\Rightarrow 3a + b = 2.1\n",
    " \\end{cases}\n",
    "\\end{equation*}\n",
    "$$\n",
    "\n",
    "Итак, займемся построением матрицы системы."
   ]
  },
  {
   "cell_type": "code",
   "execution_count": 22,
   "metadata": {},
   "outputs": [
    {
     "name": "stdout",
     "output_type": "stream",
     "text": [
      "exiation_matrix:\n",
      "[[0 1]\n",
      " [1 1]\n",
      " [2 1]\n",
      " [3 1]]\n",
      "\n",
      "incline: 1.0\n",
      "shift: -0.95\n"
     ]
    }
   ],
   "source": [
    "equation_matrix = np.vstack((abscissa, np.ones_like(abscissa))).T\n",
    "print(f\"exiation_matrix:\\n{equation_matrix}\", end=\"\\n\\n\")\n",
    "\n",
    "coefficients = np.linalg.lstsq(\n",
    "    equation_matrix, ordinates, rcond=None\n",
    ")[0]\n",
    "\n",
    "print(\n",
    "    f\"incline: {np.round(coefficients[0], 2)}\",\n",
    "    f\"shift: {np.round(coefficients[1], 2)}\",\n",
    "    sep=\"\\n\",\n",
    ")"
   ]
  },
  {
   "cell_type": "markdown",
   "metadata": {},
   "source": [
    "### Задачние 2. МНК\n",
    "\n",
    "До этого мы рассматривали вычисление коэффициентов МНК с позиции минимизации ошибки. Однако есть еще один, более алгебраический подход к решению проблемы восстановления регрессионной зависимости. В случае МНК для линейной функции мы пытаемся восстановить зависимость вида:\n",
    "\n",
    "$$y = ax + b$$\n",
    "\n",
    "Восстановление этой зависимости можно переформулировать, как поиск коэффициентов нашей функции в функциональном базисе $\\{1, x\\}$, т.е. мы ищем ортогональную проекцию нашей функции $f(x)$ на пространство функций с базисом $\\{1, x\\}$. \n",
    "\n",
    "Обозначим за вектор $\\vec{c}$ наш вектор коэффициентов, $A$ - матрица системы, составленная из наблюдений, $\\vec{b}$ - вектор-столбец наблюдаемых значений функции. Имеем: \n",
    "\n",
    "- $A\\vec{c}$ - ортогональная проекция  \n",
    "- $\\vec{b}$ - фактическое значение  \n",
    "- $A\\vec{c} - \\vec{b}$ - ортогональная составляющая, т.е. вектор, перпендикулярный всем векторам, к которым было применено преобразование $A$\n",
    "\n",
    "Отсюда следует, что для любого вектора $\\vec{y}$ справедливо:\n",
    "\n",
    "$$(A\\vec{y})^T(A\\vec{c} - \\vec{b}) = 0$$\n",
    "\n",
    "Т.е. ортогональная проекция перпендикулярна ортогональной соствляющей, что логично. Поскольку равеноство выполняется для любого $\\vec{y}$ раскроем скобки и избавимся от $\\vec{y}$:\n",
    "\n",
    "$$A^TA\\vec{c} - A^T\\vec{b} = 0$$\n",
    "$$A^TA\\vec{c} = A^T\\vec{b}$$\n",
    "$$\\vec{c} = (A^TA)^{-1}A^T\\vec{b}$$\n",
    "\n",
    "Таким образом, мы получили алгоритм вычисления коэффициентов разложения. Т.е. решили задачу восстановления зависимости.\n",
    "\n",
    "**Часть 1**\n",
    "\n",
    "Реализуйте описанный алгоритм вычисления коэффициентов регрессии в виде функции. На вход функции подаются массивы абсцисс и ординат. На выходе - массив коэффициентов. Если размеры массивов не совпадают, необходимо возбудить исключение `ShapeMismatchError`.\n",
    "\n",
    "**Программная реализация**:"
   ]
  },
  {
   "cell_type": "code",
   "execution_count": 23,
   "metadata": {},
   "outputs": [],
   "source": [
    "class ShapeMismatchError(Exception):\n",
    "    pass"
   ]
  },
  {
   "cell_type": "code",
   "execution_count": 24,
   "metadata": {},
   "outputs": [],
   "source": [
    "def get_lsm_coefficients(\n",
    "    abscissa: np.ndarray,\n",
    "    ordinates: np.ndarray,\n",
    ") -> np.ndarray:\n",
    "    # ваш код\n",
    "\n",
    "    return np.zeros_like(abscissa)"
   ]
  },
  {
   "cell_type": "markdown",
   "metadata": {},
   "source": [
    "**Тесты**:"
   ]
  },
  {
   "cell_type": "code",
   "execution_count": 25,
   "metadata": {},
   "outputs": [],
   "source": [
    "abscissa = np.array([0, 1, 2, 3])\n",
    "ordinates = np.array([-1, 0.2, 0.9, 2.1])\n",
    "\n",
    "coefficients = get_lsm_coefficients(abscissa, ordinates)\n",
    "assert np.allclose(coefficients, np.array([1, -0.95]))\n",
    "\n",
    "try:\n",
    "    get_lsm_coefficients(abscissa, np.ones(abscissa.size + 1))\n",
    "\n",
    "except ShapeMismatchError:\n",
    "    pass\n",
    "\n",
    "else:\n",
    "    assert False, \"exception expected\""
   ]
  },
  {
   "cell_type": "markdown",
   "metadata": {},
   "source": [
    "**Часть 2**\n",
    "\n",
    "Построение зависимости лишено смысла, если не иметь никакой оценки качества полученных результатов. Одним из показателей качества может выступать коэффициент детерминации, который позволяет опреелить долю дисперсии, которую удалось описать нашей зависимостью. Соответственно, чем выше знчение коэффициента, тем большую долю шума в данных нам удалось описать построенной зависимостью, и тем достоверней результаты. Коэффициент детерминации определяется следующим образом:\n",
    "\n",
    "$$R^2 = 1 - \\frac{\\sum^n_{i=1}{(y_i - ax_i - b)^2}}{\\sum^n_{i=1}{(y_i - \\overline{y})^2}}$$\n",
    "\n",
    "Реализуйте функцию, которая бы вычисляла коэффициент детерминации, по переданной выборке и полученным коэффициентам.\n",
    "\n",
    "**Функция**:"
   ]
  },
  {
   "cell_type": "code",
   "execution_count": 26,
   "metadata": {},
   "outputs": [],
   "source": [
    "def get_determination(\n",
    "    abscissa: np.ndarray,\n",
    "    ordinates: np.ndarray,\n",
    "    coefficients: np.ndarray,\n",
    ") -> float:\n",
    "    # ваш код\n",
    "    return 0"
   ]
  },
  {
   "cell_type": "markdown",
   "metadata": {},
   "source": [
    "**Тест**:"
   ]
  },
  {
   "cell_type": "code",
   "execution_count": 27,
   "metadata": {},
   "outputs": [],
   "source": [
    "assert np.isclose(\n",
    "    get_determination(abscissa, ordinates, coefficients),\n",
    "    0.99,\n",
    "    atol=1e-4,\n",
    ")"
   ]
  }
 ],
 "metadata": {
  "kernelspec": {
   "display_name": "venv",
   "language": "python",
   "name": "python3"
  },
  "language_info": {
   "codemirror_mode": {
    "name": "ipython",
    "version": 3
   },
   "file_extension": ".py",
   "mimetype": "text/x-python",
   "name": "python",
   "nbconvert_exporter": "python",
   "pygments_lexer": "ipython3",
   "version": "3.11.1"
  }
 },
 "nbformat": 4,
 "nbformat_minor": 2
}
