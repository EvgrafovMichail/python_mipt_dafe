{
 "cells": [
  {
   "cell_type": "markdown",
   "id": "b0b60028",
   "metadata": {},
   "source": [
    "# Реализация своего контекстного менеджера\n",
    "\n",
    "Пусть в начале работы файла задаётся точность вычислений с \n",
    "плавающей точкой (например, 3 знака после запятой)\n",
    "\n",
    "И пусть где-то по ходу выполнения программы нам необходимо\n",
    "повысить точность вычислений (например, до 6-ти знаков после запятой)\n",
    "\n",
    "Как это можно сделать?"
   ]
  },
  {
   "cell_type": "code",
   "execution_count": 1,
   "id": "2ee4bd58",
   "metadata": {},
   "outputs": [
    {
     "name": "stdout",
     "output_type": "stream",
     "text": [
      "0.333\n",
      "current precise: 3\n",
      "0.333333\n",
      "current precise: 6\n"
     ]
    }
   ],
   "source": [
    "from contextlib import contextmanager       # для создания собственного контекстного менеджера\n",
    "                                            # можно использовать декоратор @contextmanager\n",
    "from decimal import Decimal, getcontext\n",
    "\n",
    "\n",
    "# пример регулировки точности вычислений\n",
    "getcontext().prec = 3\n",
    "\n",
    "result = Decimal('3') / Decimal('9') \n",
    "print(result)\n",
    "\n",
    "print(\"current precise:\", getcontext().prec)\n",
    "\n",
    "getcontext().prec = 6\n",
    "\n",
    "result = Decimal('3') / Decimal('9') \n",
    "print(result)\n",
    "\n",
    "print(\"current precise:\", getcontext().prec)"
   ]
  },
  {
   "cell_type": "code",
   "execution_count": null,
   "id": "33ce868a",
   "metadata": {},
   "outputs": [],
   "source": []
  },
  {
   "cell_type": "code",
   "execution_count": null,
   "id": "0e586459",
   "metadata": {},
   "outputs": [],
   "source": []
  },
  {
   "cell_type": "markdown",
   "id": "47c5cd4e",
   "metadata": {},
   "source": [
    "# Геометрическая прогрессия\n",
    "\n",
    "Напишите бесконечный генератор геометрической прогрессии.\n",
    "В качестве параметров генератор должен принимать:  \n",
    "- первый член прогрессии\n",
    "- шаг прогрессии"
   ]
  },
  {
   "cell_type": "code",
   "execution_count": null,
   "id": "a1dbd960",
   "metadata": {},
   "outputs": [],
   "source": []
  },
  {
   "cell_type": "code",
   "execution_count": null,
   "id": "1322283c",
   "metadata": {},
   "outputs": [],
   "source": []
  },
  {
   "cell_type": "markdown",
   "id": "1b317e5a",
   "metadata": {},
   "source": [
    "# Генератор range для чисел с плавающей точкой\n",
    "\n",
    "Напишите генератор - аналог range, который генерирует арифметическую\n",
    "прогрессию, принимая 1, 2 или аргумента:  \n",
    "- stop: последний (недостигаемый) член прогрессии\n",
    "- start: первый член прогрессии (по умолчанию равен нулю) \n",
    "- step: шаг арифметической прогрессии (по умолчанию равен 1) "
   ]
  },
  {
   "cell_type": "code",
   "execution_count": null,
   "id": "1eddc515",
   "metadata": {},
   "outputs": [],
   "source": []
  },
  {
   "cell_type": "code",
   "execution_count": null,
   "id": "c118dd7f",
   "metadata": {},
   "outputs": [],
   "source": []
  },
  {
   "cell_type": "markdown",
   "id": "0e50efe0",
   "metadata": {},
   "source": [
    "# Собственная реализация map()"
   ]
  },
  {
   "cell_type": "code",
   "execution_count": 3,
   "id": "f5851e10",
   "metadata": {},
   "outputs": [
    {
     "name": "stdout",
     "output_type": "stream",
     "text": [
      "3\t:\t9\n",
      "7\t:\t49\n",
      "-2\t:\t4\n",
      "9\t:\t81\n",
      "-3\t:\t9\n",
      "6\t:\t36\n",
      "--------------------\n",
      "3  * 3  = 9 \n",
      "7  * -1 = -7\n",
      "-2 * 0  = 0 \n",
      "9  * 4  = 36\n"
     ]
    }
   ],
   "source": [
    "# примеры работы map()\n",
    "vector1 = [3, 7, -2, 9, -3, 6]\n",
    "squares = map(lambda x: x**2, vector1)\n",
    "for num, sq in zip(vector1, squares):\n",
    "    print(num, \":\", sq, sep=\"\\t\")\n",
    "\n",
    "print(\"\".center(20, \"-\"))\n",
    "\n",
    "vector2 = [3, -1, 0, 4]\n",
    "prods = map(lambda x, y: x * y, vector1, vector2)\n",
    "for num1, num2, pr in zip(vector1, vector2, prods):\n",
    "    width = 2\n",
    "    num1 = str(num1).center(width)\n",
    "    num2 = str(num2).center(width)\n",
    "    pr = str(pr).center(width)\n",
    "    print(f\"{num1} * {num2} = {pr}\")"
   ]
  },
  {
   "cell_type": "markdown",
   "id": "90231b0d",
   "metadata": {},
   "source": [
    "Напишите функцию `my_map`, которая будет возвращать генератор\n",
    "результатов применения функции func к итерируемым объектам"
   ]
  },
  {
   "cell_type": "code",
   "execution_count": null,
   "id": "121c0d82",
   "metadata": {},
   "outputs": [],
   "source": []
  },
  {
   "cell_type": "code",
   "execution_count": null,
   "id": "577e35fc",
   "metadata": {},
   "outputs": [],
   "source": []
  },
  {
   "cell_type": "markdown",
   "id": "de56aa9b",
   "metadata": {},
   "source": [
    "## Сделайте map управляемым\n",
    "\n",
    "Напишите функцию `my_map()` с дополнительными именованными аргументами 'type' и 'fill_value'.  \n",
    "\n",
    "Если 'type' равен MapTypes.SHORTEST, то my_map должен работать как и встроенный map, обрезая все пришедшие коллекции по длине самой короткой коллекции.   \n",
    "\n",
    "Если 'type' равен MapTypes.LONGEST, то все коллекции расширяются до длины самой длинной коллекции, а недостающие значения заоплняются значением 'fill_value'."
   ]
  },
  {
   "cell_type": "code",
   "execution_count": 4,
   "id": "0f930faa",
   "metadata": {},
   "outputs": [],
   "source": [
    "from enum import Enum\n",
    "from itertools import zip_longest\n",
    "\n",
    "\n",
    "class MapTypes(Enum):\n",
    "    SHORTEST = 'short'\n",
    "    LONGEST = 'long'\n"
   ]
  },
  {
   "cell_type": "code",
   "execution_count": null,
   "id": "49b53ae5",
   "metadata": {},
   "outputs": [],
   "source": []
  },
  {
   "cell_type": "code",
   "execution_count": null,
   "id": "d9654d69",
   "metadata": {},
   "outputs": [],
   "source": []
  },
  {
   "cell_type": "markdown",
   "id": "1ef76164",
   "metadata": {},
   "source": [
    "# Циклический генератор"
   ]
  },
  {
   "cell_type": "markdown",
   "id": "a79e62a0",
   "metadata": {},
   "source": [
    "Напишите функцию, которая на вход получает коллекцию и возвращает генератор, последовательно возвращающий элементы коллекции, а после возврата последнего элемента коллекции последующий вызов генератора вернёт первый элемент коллекции, второй, и т.д.\n"
   ]
  },
  {
   "cell_type": "code",
   "execution_count": 5,
   "id": "5b1d7d33",
   "metadata": {},
   "outputs": [],
   "source": [
    "# Пример:\n",
    "# chars = ['a', 'b', 'c']\n",
    "# generator_chars = circ_generator(chars)\n",
    "# print(next(generator_chars))  # 'a'\n",
    "# print(next(generator_chars))  # 'b'\n",
    "# print(next(generator_chars))  # 'c'\n",
    "# print(next(generator_chars))  # 'a'\n",
    "# print(next(generator_chars))  # 'b'\n",
    "# print(next(generator_chars))  # 'c'\n",
    "# print(next(generator_chars))  # 'a'"
   ]
  },
  {
   "cell_type": "code",
   "execution_count": null,
   "id": "dbb6dcda",
   "metadata": {},
   "outputs": [],
   "source": []
  },
  {
   "cell_type": "code",
   "execution_count": null,
   "id": "2552189f",
   "metadata": {},
   "outputs": [],
   "source": []
  },
  {
   "cell_type": "markdown",
   "id": "7eff66b3",
   "metadata": {},
   "source": [
    "## Реализуйте свой спиннер:\n",
    "\n",
    "Интересная статья на тему индикаторов: https://dtf.ru/flood/174240-progress-bar-ili-spinner-chto-i-kogda-ispolzovat?ysclid=lorrg51syv550654720"
   ]
  },
  {
   "cell_type": "code",
   "execution_count": 6,
   "id": "eb84de3b",
   "metadata": {},
   "outputs": [],
   "source": [
    "def wheel(time_limit: float, pause: float):\n",
    "    \"\"\" Отрисовка спиннера.\n",
    "\n",
    "        Печатает на экран надпись: 'Thinking: <symbol>',\n",
    "        где вместо <symbol> последовательно появляются знаки: \\, |, /, -, \n",
    "        что создаёт эффект вращения.\n",
    "\n",
    "        Вход:\n",
    "            time_limit: float\n",
    "                время (в секундах), в течение которого должна производиться отрисовка спиннера\n",
    "            pause: float\n",
    "                время (в секундах) задержки между сменой символов спиннера\n",
    "        \n",
    "        Выход:\n",
    "            None\n",
    "    \"\"\"\n",
    "    pass"
   ]
  },
  {
   "cell_type": "code",
   "execution_count": null,
   "id": "46962e8b",
   "metadata": {},
   "outputs": [],
   "source": []
  },
  {
   "cell_type": "code",
   "execution_count": null,
   "id": "578fa172",
   "metadata": {},
   "outputs": [],
   "source": []
  },
  {
   "cell_type": "code",
   "execution_count": null,
   "id": "9eab6768",
   "metadata": {},
   "outputs": [],
   "source": []
  }
 ],
 "metadata": {
  "kernelspec": {
   "display_name": "Python 3 (ipykernel)",
   "language": "python",
   "name": "python3"
  },
  "language_info": {
   "codemirror_mode": {
    "name": "ipython",
    "version": 3
   },
   "file_extension": ".py",
   "mimetype": "text/x-python",
   "name": "python",
   "nbconvert_exporter": "python",
   "pygments_lexer": "ipython3",
   "version": "3.9.13"
  },
  "toc": {
   "base_numbering": 1,
   "nav_menu": {},
   "number_sections": true,
   "sideBar": true,
   "skip_h1_title": false,
   "title_cell": "Table of Contents",
   "title_sidebar": "Contents",
   "toc_cell": false,
   "toc_position": {},
   "toc_section_display": true,
   "toc_window_display": false
  }
 },
 "nbformat": 4,
 "nbformat_minor": 5
}
