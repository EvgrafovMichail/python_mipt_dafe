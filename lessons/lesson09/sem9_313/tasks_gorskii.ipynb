{
 "cells": [
  {
   "cell_type": "markdown",
   "metadata": {},
   "source": [
    "# Функции: избранные темы"
   ]
  },
  {
   "cell_type": "markdown",
   "id": "b0b60028",
   "metadata": {},
   "source": [
    "## Вступление: контекстные менеджеры\n",
    "\n",
    "В Python по умолчанию задана некоторая точность вычисления чисел с плавающей точкой, которая, что логично, может отличаться от требуемой для решения конкретной задачи точности. Для пример, будет рассматривать точность вычислений в библиотеке **decimal**.\n",
    "\n",
    "Предположим, нас устраивает точность вычислений по умолчанию в этой библиотеке, но для некоторых расчетов мы бы хотели использовать повышенную или пониженную точность и только для них. Как нам быть? Тут-то нам на помощь и придут контекстные менеджеры.\n",
    "\n",
    "В этом примере мы поговорим о контекстных менеджерах и напишем свой менеджер для установки точности вычислений, которые будет работать примерно так:\n",
    "\n",
    "```python\n",
    "with set_precision(5):\n",
    "    ...\n",
    "```"
   ]
  },
  {
   "cell_type": "code",
   "execution_count": 1,
   "id": "2ee4bd58",
   "metadata": {},
   "outputs": [],
   "source": [
    "from decimal import Decimal, getcontext\n",
    "from contextlib import contextmanager\n",
    "from typing import Generator\n",
    "\n",
    "\n",
    "@contextmanager\n",
    "def set_precision(precision: int) -> Generator[None, None, None]:\n",
    "    precision = int(precision)\n",
    "\n",
    "    if precision < 0:\n",
    "        raise ValueError(\"precision should be not negative integer\")\n",
    "    \n",
    "    # сохранение контекста\n",
    "    precision_old = getcontext().prec\n",
    "    getcontext().prec = precision\n",
    "\n",
    "    # возвращение управления\n",
    "    try:\n",
    "        yield\n",
    "    \n",
    "    # восстановвление контекста\n",
    "    finally:\n",
    "        getcontext().prec = precision_old\n",
    "        \n"
   ]
  },
  {
   "cell_type": "markdown",
   "id": "47c5cd4e",
   "metadata": {},
   "source": [
    "## Разминка: геометрическая прогрессия\n",
    "\n",
    "Напишите бесконечный генератор геометрической прогрессии. В качестве параметров генератор должен принимать:  \n",
    "- первый член прогрессии\n",
    "- шаг прогрессии"
   ]
  },
  {
   "cell_type": "code",
   "execution_count": 2,
   "id": "1322283c",
   "metadata": {},
   "outputs": [
    {
     "data": {
      "text/plain": [
       "0"
      ]
     },
     "execution_count": 2,
     "metadata": {},
     "output_type": "execute_result"
    }
   ],
   "source": [
    "class Body:\n",
    "    def __init__(self) -> None: ...\n",
    "    def leg(self) -> None: ...\n",
    "    def kill(self) -> None: ...\n",
    "\n",
    "\n",
    "class Body:\n",
    "    def __init__(self) -> None:\n",
    "        pass\n",
    "    def leg(self) -> None:\n",
    "        return 1\n",
    "    def kill(self) -> None:\n",
    "        return 0\n",
    "\n",
    "\n",
    "b = Body()\n",
    "b.kill()"
   ]
  },
  {
   "cell_type": "markdown",
   "id": "1b317e5a",
   "metadata": {},
   "source": [
    "## Задание 1: float_range\n",
    "\n",
    "Необходимо создать аналог range(), который генерирует арифметическую прогрессию. Ниже приведены примеры использования:\n",
    "\n",
    "*Пример 1*:\n",
    "\n",
    "```python\n",
    "for i in float_range(stop=5):\n",
    "    print(i)\n",
    "```\n",
    "\n",
    "*Вывод*:\n",
    "```console\n",
    "0\n",
    "1\n",
    "2\n",
    "3\n",
    "4\n",
    "```\n",
    "___\n",
    "*Пример 2*:\n",
    "\n",
    "```python\n",
    "for i in float_range(stop=1, step=0.5):\n",
    "    print(i)\n",
    "```\n",
    "\n",
    "*Вывод*:\n",
    "```console\n",
    "0\n",
    "0.5\n",
    "```\n",
    "___\n",
    "*Пример 3*:\n",
    "\n",
    "```python\n",
    "for i in float_range(start=1, stop=-1, step=-0.5):\n",
    "    print(i)\n",
    "```\n",
    "\n",
    "*Вывод*:\n",
    "```console\n",
    "1\n",
    "0.5\n",
    "0\n",
    "-0.5\n",
    "```"
   ]
  },
  {
   "cell_type": "code",
   "execution_count": 95,
   "id": "c118dd7f",
   "metadata": {},
   "outputs": [],
   "source": [
    "from typing import Generator\n",
    "\n",
    "def float_range(*, stop: float, start: float = 0, step: float = 1) -> Generator[float, None, None]:\n",
    "    stop, start, step = map(float, locals().values())\n",
    "    sign = step / abs(step)\n",
    "\n",
    "    while sign*start < sign*stop:\n",
    "        yield start\n",
    "        start += step"
   ]
  },
  {
   "cell_type": "code",
   "execution_count": 98,
   "id": "5bcebc47",
   "metadata": {},
   "outputs": [
    {
     "name": "stdout",
     "output_type": "stream",
     "text": [
      "10.0\n",
      "9.5\n",
      "9.0\n",
      "8.5\n",
      "8.0\n",
      "7.5\n"
     ]
    }
   ],
   "source": [
    "for i in float_range(stop=7, start=10, step=-0.5):\n",
    "    print(i)"
   ]
  },
  {
   "cell_type": "markdown",
   "id": "0e50efe0",
   "metadata": {},
   "source": [
    "## Задание 2: свой map"
   ]
  },
  {
   "cell_type": "markdown",
   "id": "90231b0d",
   "metadata": {},
   "source": [
    "### Часть 1: копируем map\n",
    "\n",
    "Реализуйте аналог функции map, полностью копирующий ее поведение. Саму map использовать нельзя."
   ]
  },
  {
   "cell_type": "code",
   "execution_count": 26,
   "id": "121c0d82",
   "metadata": {},
   "outputs": [
    {
     "data": {
      "text/plain": [
       "2"
      ]
     },
     "execution_count": 26,
     "metadata": {},
     "output_type": "execute_result"
    }
   ],
   "source": [
    "from typing import Callable, Typevar, Generator, Iterable, Any\n",
    "\n",
    "\n",
    "def rar(*iterables: Iterable[Any]) -> Generator[tuple[Any], None, None]:\n",
    "    '''\n",
    "    I prefer rar than zip\n",
    "    ''' \n",
    "\n",
    "    mn_len = min(iterables, key=len)\n",
    "\n",
    "    for i in range(len(mn_len)):\n",
    "        res = tuple(iterable[i] for iterable in iterables)\n",
    "        yield res\n",
    "\n",
    "\n",
    "T = Typevar(\"T\")\n",
    "V = Typevar(\"V\")\n",
    "def karta_krest_krest(func: Callable[[T], V], *iterables: Iterable[T]) -> Generator[V, None, None]:\n",
    "    '''\n",
    "    What is map? It is karta_✝✝!\n",
    "    '''\n",
    "\n",
    "    for item in rar(*iterables):\n",
    "        yield func(*item)"
   ]
  },
  {
   "cell_type": "markdown",
   "id": "577e35fc",
   "metadata": {},
   "source": [
    "### Часть 2: дополняем map\n",
    "\n",
    "Добавьте возможность управлять поведением вашего map'a: сделайте так, чтобы map имела возможность не только обрезать последовательности, но и дополнять короткие последовательности до динных. \n",
    "\n",
    "Совет: функция **zip_longest** из библиотеки **itertools** может оказаться полезной."
   ]
  },
  {
   "cell_type": "code",
   "execution_count": 33,
   "id": "0f930faa",
   "metadata": {},
   "outputs": [],
   "source": [
    "from enum import Enum\n",
    "from itertools import zip_longest\n",
    "\n",
    "\n",
    "class MapTypes(Enum):\n",
    "    SHORTEST = 'short'\n",
    "    LONGEST = 'long'\n"
   ]
  },
  {
   "cell_type": "code",
   "execution_count": 56,
   "id": "49b53ae5",
   "metadata": {},
   "outputs": [],
   "source": [
    "from typing import Callable, TypeVar, Generator, Iterable, Any\n",
    "\n",
    "\n",
    "def rar_versta(*iterables: Iterable[Any], fill: bool = False, fill_value: Any = None) -> Generator[tuple[Any], None, None]:\n",
    "    '''\n",
    "    I prefer rar_versta than zip_longest\n",
    "    ''' \n",
    "\n",
    "    if not iterables:\n",
    "        raise ValueError(\"iterables must not be empty\")\n",
    "\n",
    "    i_len = len(max(iterables, key=len)) if fill else len(min(iterables, key=len))\n",
    "\n",
    "    for i in range(i_len):\n",
    "        res = tuple(iterable[i] if i < len(iterable) else fill_value\n",
    "                    for iterable in iterables)\n",
    "        yield res\n",
    "\n",
    "\n",
    "T = TypeVar(\"T\")\n",
    "V = TypeVar(\"V\")\n",
    "def karta_rusi_krest_krest(func: Callable[[T], V], *iterables: Iterable[T],\n",
    "                           type: MapTypes = MapTypes.SHORTEST, fill_value: T | None = None) -> Generator[V, None, None]:\n",
    "    '''\n",
    "    What is upgraded map? It is karta_rusi-✝✝!\n",
    "    '''\n",
    "\n",
    "    if not iterables:\n",
    "        raise ValueError(\"iterables must not be empty\")\n",
    "\n",
    "    fill = type == MapTypes.LONGEST\n",
    "    items = rar_versta(*iterables, fill=fill, fill_value=fill_value)\n",
    "\n",
    "    for item in items:\n",
    "        yield func(*item)"
   ]
  },
  {
   "cell_type": "markdown",
   "id": "1ef76164",
   "metadata": {},
   "source": [
    "## Задание 3: Спиннер"
   ]
  },
  {
   "cell_type": "markdown",
   "id": "a79e62a0",
   "metadata": {},
   "source": [
    "### Часть 1: генератор\n",
    "\n",
    "Напишите функцию, которая на вход получает коллекцию и возвращает генератор, последовательно возвращающий элементы коллекции, а после возврата последнего элемента коллекции очередной вызов генератора приведет к зацикливанию.\n",
    "\n",
    "\n",
    "*Пример*:\n",
    "\n",
    "```python\n",
    "generator = generate_circle('abc')\n",
    "\n",
    "print(next(generator))\n",
    "print(next(generator))\n",
    "print(next(generator))\n",
    "print(next(generator))\n",
    "print(next(generator))\n",
    "```\n",
    "*Вывод*:\n",
    "```console\n",
    "a\n",
    "b\n",
    "c\n",
    "a\n",
    "b\n",
    "```"
   ]
  },
  {
   "cell_type": "code",
   "execution_count": 1,
   "id": "5b1d7d33",
   "metadata": {},
   "outputs": [],
   "source": [
    "from typing import Generator\n",
    "\n",
    "\n",
    "def generate_circle(spiner_string: str = \"abc\") -> Generator[str, None, None]:\n",
    "    spiner_string = str(spiner_string)\n",
    "\n",
    "    if not spiner_string:\n",
    "        raise ValueError(\"spiner string must not be empty\")\n",
    "\n",
    "    current_step = -1\n",
    "\n",
    "    while True:\n",
    "        current_step += 1\n",
    "        if current_step == len(spiner_string):\n",
    "            current_step = 0\n",
    "\n",
    "        yield spiner_string[current_step]"
   ]
  },
  {
   "cell_type": "markdown",
   "id": "7eff66b3",
   "metadata": {},
   "source": [
    "### Часть 2: Колесо Сансары\n",
    "\n",
    "Используя генератор из предыдущего раздела, реализуйте функцию, которая отображает на экране спиннер для индикации загрузки.\n",
    "\n",
    "Отрисовка спиннера печатает на экран надпись: Thinking: \\<symbol\\>, где вместо \\<symbol\\> последовательно появляются знаки: \\, |, /, -, что создаёт эффект вращения.\n",
    "\n",
    "Вход функции: \n",
    "- time_limit - время (в секундах), в течение которого должна производиться отрисовка спиннера;\n",
    "- pause - время (в секундах) задержки между сменой символов спиннера;\n",
    "\n",
    "Интересная статья на тему индикаторов: https://dtf.ru/flood/174240-progress-bar-ili-spinner-chto-i-kogda-ispolzovat?ysclid=lorrg51syv550654720"
   ]
  },
  {
   "cell_type": "code",
   "execution_count": 2,
   "id": "eb84de3b",
   "metadata": {},
   "outputs": [],
   "source": [
    "import time\n",
    "\n",
    "\n",
    "def load_water_from_Baikal(time_limit: float = 4.0, pause: float = 1.0) -> None:\n",
    "    '''\n",
    "    Baikal water is strongest weapon against lizards, but we could load it :(\n",
    "    '''\n",
    "\n",
    "    time_limit = float(time_limit)\n",
    "    pause = float(pause)\n",
    "\n",
    "    spiner_string = \"|/-\\\\\"\n",
    "\n",
    "    gen = generate_circle(spiner_string)\n",
    "    amount_itteration = int(time_limit/pause)\n",
    "    message = \"Water from Baikal is loading: \"\n",
    "\n",
    "    if amount_itteration < 1:\n",
    "        time.sleep(pause)\n",
    "    else:\n",
    "        for _ in range(amount_itteration):\n",
    "            time.sleep(pause)\n",
    "            print(message, f\"{next(gen)}\", end=\"\\r\", flush=True)"
   ]
  },
  {
   "cell_type": "code",
   "execution_count": null,
   "id": "00b7845c",
   "metadata": {},
   "outputs": [],
   "source": [
    "load_water_from_Baikal()"
   ]
  }
 ],
 "metadata": {
  "kernelspec": {
   "display_name": "Python 3 (ipykernel)",
   "language": "python",
   "name": "python3"
  },
  "language_info": {
   "codemirror_mode": {
    "name": "ipython",
    "version": 3
   },
   "file_extension": ".py",
   "mimetype": "text/x-python",
   "name": "python",
   "nbconvert_exporter": "python",
   "pygments_lexer": "ipython3",
   "version": "3.11.5"
  },
  "toc": {
   "base_numbering": 1,
   "nav_menu": {},
   "number_sections": true,
   "sideBar": true,
   "skip_h1_title": false,
   "title_cell": "Table of Contents",
   "title_sidebar": "Contents",
   "toc_cell": false,
   "toc_position": {},
   "toc_section_display": true,
   "toc_window_display": false
  }
 },
 "nbformat": 4,
 "nbformat_minor": 5
}
