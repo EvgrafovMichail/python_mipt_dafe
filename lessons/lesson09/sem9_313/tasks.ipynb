{
 "cells": [
  {
   "cell_type": "markdown",
   "metadata": {},
   "source": [
    "# Функции: избранные темы"
   ]
  },
  {
   "cell_type": "markdown",
   "id": "b0b60028",
   "metadata": {},
   "source": [
    "## Вступление: контекстные менеджеры\n",
    "\n",
    "В Python по умолчанию задана некоторая точность вычисления чисел с плавающей точкой, которая, что логично, может отличаться от требуемой для решения конкретной задачи точности. Для пример, будет рассматривать точность вычислений в библиотеке **decimal**.\n",
    "\n",
    "Предположим, нас устраивает точность вычислений по умолчанию в этой библиотеке, но для некоторых расчетов мы бы хотели использовать повышенную или пониженную точность и только для них. Как нам быть? Тут-то нам на помощь и придут контекстные менеджеры.\n",
    "\n",
    "В этом примере мы поговорим о контекстных менеджерах и напишем свой менеджер для установки точности вычислений, которые будет работать примерно так:\n",
    "\n",
    "```python\n",
    "with set_precision(5):\n",
    "    ...\n",
    "```"
   ]
  },
  {
   "cell_type": "code",
   "execution_count": 1,
   "id": "2ee4bd58",
   "metadata": {},
   "outputs": [],
   "source": [
    "from decimal import Decimal, getcontext\n",
    "from contextlib import contextmanager\n",
    "\n",
    "\n",
    "# наш код"
   ]
  },
  {
   "cell_type": "markdown",
   "id": "47c5cd4e",
   "metadata": {},
   "source": [
    "## Разминка: геометрическая прогрессия\n",
    "\n",
    "Напишите бесконечный генератор геометрической прогрессии. В качестве параметров генератор должен принимать:  \n",
    "- первый член прогрессии\n",
    "- шаг прогрессии"
   ]
  },
  {
   "cell_type": "code",
   "execution_count": 2,
   "id": "1322283c",
   "metadata": {},
   "outputs": [],
   "source": [
    "# ваш код"
   ]
  },
  {
   "cell_type": "markdown",
   "id": "1b317e5a",
   "metadata": {},
   "source": [
    "## Задание 1: float_range\n",
    "\n",
    "Необходимо создать аналог range(), который генерирует арифметическую прогрессию. Ниже приведены примеры использования:\n",
    "\n",
    "*Пример 1*:\n",
    "\n",
    "```python\n",
    "for i in float_range(stop=5):\n",
    "    print(i)\n",
    "```\n",
    "\n",
    "*Вывод*:\n",
    "```console\n",
    "0\n",
    "1\n",
    "2\n",
    "3\n",
    "4\n",
    "```\n",
    "___\n",
    "*Пример 2*:\n",
    "\n",
    "```python\n",
    "for i in float_range(stop=1, step=0.5):\n",
    "    print(i)\n",
    "```\n",
    "\n",
    "*Вывод*:\n",
    "```console\n",
    "0\n",
    "0.5\n",
    "```\n",
    "___\n",
    "*Пример 3*:\n",
    "\n",
    "```python\n",
    "for i in float_range(start=1, stop=-1, step=-0.5):\n",
    "    print(i)\n",
    "```\n",
    "\n",
    "*Вывод*:\n",
    "```console\n",
    "1\n",
    "0.5\n",
    "0\n",
    "-0.5\n",
    "```"
   ]
  },
  {
   "cell_type": "code",
   "execution_count": 3,
   "id": "c118dd7f",
   "metadata": {},
   "outputs": [],
   "source": [
    "# ваш код"
   ]
  },
  {
   "cell_type": "markdown",
   "id": "0e50efe0",
   "metadata": {},
   "source": [
    "## Задание 2: свой map"
   ]
  },
  {
   "cell_type": "markdown",
   "id": "90231b0d",
   "metadata": {},
   "source": [
    "### Часть 1: копируем map\n",
    "\n",
    "Реализуйте аналог функции map, полностью копирующий ее поведение. Саму map использовать нельзя."
   ]
  },
  {
   "cell_type": "code",
   "execution_count": 4,
   "id": "121c0d82",
   "metadata": {},
   "outputs": [],
   "source": [
    "# ваш код"
   ]
  },
  {
   "cell_type": "markdown",
   "id": "577e35fc",
   "metadata": {},
   "source": [
    "### Часть 2: дополняем map\n",
    "\n",
    "Добавьте возможность управлять поведением вашего map'a: сделайте так, чтобы map имела возможность не только обрезать последовательности, но и дополнять короткие последовательности до динных. \n",
    "\n",
    "Совет: функция **zip_longest** из библиотеки **itertools** может оказаться полезной."
   ]
  },
  {
   "cell_type": "code",
   "execution_count": 4,
   "id": "0f930faa",
   "metadata": {},
   "outputs": [],
   "source": [
    "from enum import Enum\n",
    "from itertools import zip_longest\n",
    "\n",
    "\n",
    "class MapTypes(Enum):\n",
    "    SHORTEST = 'short'\n",
    "    LONGEST = 'long'\n"
   ]
  },
  {
   "cell_type": "code",
   "execution_count": 5,
   "id": "49b53ae5",
   "metadata": {},
   "outputs": [],
   "source": [
    "# ваш код"
   ]
  },
  {
   "cell_type": "markdown",
   "id": "1ef76164",
   "metadata": {},
   "source": [
    "## Задание 3: Спиннер"
   ]
  },
  {
   "cell_type": "markdown",
   "id": "a79e62a0",
   "metadata": {},
   "source": [
    "### Часть 1: генератор\n",
    "\n",
    "Напишите функцию, которая на вход получает коллекцию и возвращает генератор, последовательно возвращающий элементы коллекции, а после возврата последнего элемента коллекции очередной вызов генератора приведет к зацикливанию.\n",
    "\n",
    "\n",
    "*Пример*:\n",
    "\n",
    "```python\n",
    "generator = generate_circle('abc')\n",
    "\n",
    "print(next(generator))\n",
    "print(next(generator))\n",
    "print(next(generator))\n",
    "print(next(generator))\n",
    "print(next(generator))\n",
    "```\n",
    "*Вывод*:\n",
    "```console\n",
    "a\n",
    "b\n",
    "c\n",
    "a\n",
    "b\n",
    "```"
   ]
  },
  {
   "cell_type": "code",
   "execution_count": 6,
   "id": "5b1d7d33",
   "metadata": {},
   "outputs": [],
   "source": [
    "# ваш код"
   ]
  },
  {
   "cell_type": "markdown",
   "id": "7eff66b3",
   "metadata": {},
   "source": [
    "### Часть 2: Колесо Сансары\n",
    "\n",
    "Используя генератор из предыдущего раздела, реализуйте функцию, которая отображает на экране спиннер для индикации загрузки.\n",
    "\n",
    "Отрисовка спиннера печатает на экран надпись: Thinking: \\<symbol\\>, где вместо \\<symbol\\> последовательно появляются знаки: \\, |, /, -, что создаёт эффект вращения.\n",
    "\n",
    "Вход функции: \n",
    "- time_limit - время (в секундах), в течение которого должна производиться отрисовка спиннера;\n",
    "- pause - время (в секундах) задержки между сменой символов спиннера;\n",
    "\n",
    "Интересная статья на тему индикаторов: https://dtf.ru/flood/174240-progress-bar-ili-spinner-chto-i-kogda-ispolzovat?ysclid=lorrg51syv550654720"
   ]
  },
  {
   "cell_type": "code",
   "execution_count": 7,
   "id": "eb84de3b",
   "metadata": {},
   "outputs": [],
   "source": [
    "# ваш код"
   ]
  }
 ],
 "metadata": {
  "kernelspec": {
   "display_name": "Python 3 (ipykernel)",
   "language": "python",
   "name": "python3"
  },
  "language_info": {
   "codemirror_mode": {
    "name": "ipython",
    "version": 3
   },
   "file_extension": ".py",
   "mimetype": "text/x-python",
   "name": "python",
   "nbconvert_exporter": "python",
   "pygments_lexer": "ipython3",
   "version": "3.11.1"
  },
  "toc": {
   "base_numbering": 1,
   "nav_menu": {},
   "number_sections": true,
   "sideBar": true,
   "skip_h1_title": false,
   "title_cell": "Table of Contents",
   "title_sidebar": "Contents",
   "toc_cell": false,
   "toc_position": {},
   "toc_section_display": true,
   "toc_window_display": false
  }
 },
 "nbformat": 4,
 "nbformat_minor": 5
}
