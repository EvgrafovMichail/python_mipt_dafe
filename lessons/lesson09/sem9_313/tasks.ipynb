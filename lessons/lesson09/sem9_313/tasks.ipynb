{
 "cells": [
  {
   "cell_type": "markdown",
   "metadata": {},
   "source": [
    "# Функции: избранные темы"
   ]
  },
  {
   "cell_type": "markdown",
   "id": "b0b60028",
   "metadata": {},
   "source": [
    "## Вступление: контекстные менеджеры\n",
    "\n",
    "В Python по умолчанию задана некоторая точность вычисления чисел с плавающей точкой, которая, что логично, может отличаться от требуемой для решения конкретной задачи точности. Для пример, будет рассматривать точность вычислений в библиотеке **decimal**.\n",
    "\n",
    "Предположим, нас устраивает точность вычислений по умолчанию в этой библиотеке, но для некоторых расчетов мы бы хотели использовать повышенную или пониженную точность и только для них. Как нам быть? Тут-то нам на помощь и придут контекстные менеджеры.\n",
    "\n",
    "В этом примере мы поговорим о контекстных менеджерах и напишем свой менеджер для установки точности вычислений, которые будет работать примерно так:\n",
    "\n",
    "```python\n",
    "with set_precision(5):\n",
    "    ...\n",
    "```"
   ]
  },
  {
   "cell_type": "code",
   "execution_count": 3,
   "id": "2ee4bd58",
   "metadata": {},
   "outputs": [],
   "source": [
    "from typing import Generator\n",
    "from decimal import getcontext\n",
    "from contextlib import contextmanager\n",
    "\n",
    "@contextmanager\n",
    "def set_precision(precision: int) -> Generator[None, None, None]:\n",
    "    precision = int(precision)\n",
    "\n",
    "    if precision < 1:\n",
    "        ValueError('precision should be positive integer')\n",
    "\n",
    "    # сохранение контекста\n",
    "    precision_old = getcontext().prec\n",
    "    getcontext().prec = precision\n",
    "\n",
    "    # возвращение управления\n",
    "    try:\n",
    "        yield\n",
    "\n",
    "    # восстановление контекста\n",
    "    finally:\n",
    "        getcontext().prec = precision_old\n",
    "        print('restore precision')"
   ]
  },
  {
   "cell_type": "code",
   "execution_count": 12,
   "metadata": {},
   "outputs": [
    {
     "name": "stdout",
     "output_type": "stream",
     "text": [
      "1.1544117647058822\n"
     ]
    }
   ],
   "source": [
    "with set_precision(54):\n",
    "    print(3.14/2.72)"
   ]
  },
  {
   "cell_type": "markdown",
   "id": "47c5cd4e",
   "metadata": {},
   "source": [
    "## Разминка: геометрическая прогрессия\n",
    "\n",
    "Напишите бесконечный генератор геометрической прогрессии. В качестве параметров генератор должен принимать:  \n",
    "- первый член прогрессии\n",
    "- шаг прогрессии"
   ]
  },
  {
   "cell_type": "code",
   "execution_count": 15,
   "id": "1322283c",
   "metadata": {},
   "outputs": [],
   "source": [
    "from typing import Generator\n",
    "\n",
    "\n",
    "def generate_geometry_progression(\n",
    "    start: float = 1,\n",
    "    step: float = 1\n",
    ") -> Generator[float, None, None]:\n",
    "    current_member, step = float(start), float(step)\n",
    "\n",
    "    while True:\n",
    "        yield current_member \n",
    "        current_member *= step"
   ]
  },
  {
   "cell_type": "code",
   "execution_count": 16,
   "metadata": {},
   "outputs": [
    {
     "name": "stdout",
     "output_type": "stream",
     "text": [
      "1.0\n",
      "0.5\n",
      "0.25\n",
      "0.125\n",
      "0.0625\n"
     ]
    }
   ],
   "source": [
    "generator = generate_geometry_progression(step = 0.5)\n",
    "for i in range(5):\n",
    "    print(next(generator))"
   ]
  },
  {
   "cell_type": "markdown",
   "id": "1b317e5a",
   "metadata": {},
   "source": [
    "## Задание 1: float_range\n",
    "\n",
    "Необходимо создать аналог range(), который генерирует арифметическую прогрессию. Ниже приведены примеры использования:\n",
    "\n",
    "*Пример 1*:\n",
    "\n",
    "```python\n",
    "for i in float_range(stop=5):\n",
    "    print(i)\n",
    "```\n",
    "\n",
    "*Вывод*:\n",
    "```console\n",
    "0\n",
    "1\n",
    "2\n",
    "3\n",
    "4\n",
    "```\n",
    "___\n",
    "*Пример 2*:\n",
    "\n",
    "```python\n",
    "for i in float_range(stop=1, step=0.5):\n",
    "    print(i)\n",
    "```\n",
    "\n",
    "*Вывод*:\n",
    "```console\n",
    "0\n",
    "0.5\n",
    "```\n",
    "___\n",
    "*Пример 3*:\n",
    "\n",
    "```python\n",
    "for i in float_range(start=1, stop=-1, step=-0.5):\n",
    "    print(i)\n",
    "```\n",
    "\n",
    "*Вывод*:\n",
    "```console\n",
    "1\n",
    "0.5\n",
    "0\n",
    "-0.5\n",
    "```"
   ]
  },
  {
   "cell_type": "code",
   "execution_count": 12,
   "id": "c118dd7f",
   "metadata": {},
   "outputs": [],
   "source": [
    "from typing import Generator\n",
    "\n",
    "\n",
    "def float_range(\n",
    "    start = 0,\n",
    "    stop = 1,\n",
    "    step = 1\n",
    ") -> Generator[float, None, None]:\n",
    "\n",
    "    current_number, stop, step = float(start), float(stop), float(step)\n",
    "\n",
    "    if ((start >= stop) and (step > 0)) or ((start <= stop) and (step < 0)) or (step == 0):\n",
    "        raise ValueError('you are loh')\n",
    "\n",
    "    if start <= stop:\n",
    "        while current_number < stop:\n",
    "            yield current_number\n",
    "            current_number += step\n",
    "    else:\n",
    "        while current_number > stop:\n",
    "            yield current_number\n",
    "            current_number += step"
   ]
  },
  {
   "cell_type": "code",
   "execution_count": 29,
   "metadata": {},
   "outputs": [
    {
     "name": "stdout",
     "output_type": "stream",
     "text": [
      "1.0\n",
      "0.5\n",
      "0.0\n",
      "-0.5\n"
     ]
    }
   ],
   "source": [
    "for i in float_range(start=1, stop=-1, step=-0.5):\n",
    "    print(i)"
   ]
  },
  {
   "cell_type": "markdown",
   "id": "0e50efe0",
   "metadata": {},
   "source": [
    "## Задание 2: свой map"
   ]
  },
  {
   "cell_type": "markdown",
   "id": "90231b0d",
   "metadata": {},
   "source": [
    "### Часть 1: копируем map\n",
    "\n",
    "Реализуйте аналог функции map, полностью копирующий ее поведение. Саму map использовать нельзя."
   ]
  },
  {
   "cell_type": "code",
   "execution_count": 19,
   "id": "121c0d82",
   "metadata": {},
   "outputs": [],
   "source": [
    "from typing import Iterable\n",
    "\n",
    "def my_map(\n",
    "    func, # Почему не дает задать через func: function????\n",
    "    *args: Iterable\n",
    ") -> Generator:\n",
    "\n",
    "    for arg in zip(*args):\n",
    "        yield func(*arg)"
   ]
  },
  {
   "cell_type": "markdown",
   "id": "577e35fc",
   "metadata": {},
   "source": [
    "### Часть 2: дополняем map\n",
    "\n",
    "Добавьте возможность управлять поведением вашего map'a: сделайте так, чтобы map имела возможность не только обрезать последовательности, но и дополнять короткие последовательности до динных. \n",
    "\n",
    "Совет: функция **zip_longest** из библиотеки **itertools** может оказаться полезной."
   ]
  },
  {
   "cell_type": "code",
   "execution_count": 21,
   "id": "0f930faa",
   "metadata": {},
   "outputs": [],
   "source": [
    "from enum import Enum\n",
    "from itertools import zip_longest\n",
    "\n",
    "\n",
    "class MapTypes(Enum):\n",
    "    SHORTEST = 'short'\n",
    "    LONGEST = 'long'\n"
   ]
  },
  {
   "cell_type": "code",
   "execution_count": 24,
   "id": "49b53ae5",
   "metadata": {},
   "outputs": [],
   "source": [
    "from typing import Iterable\n",
    "\n",
    "def my_map(\n",
    "    func, \n",
    "    type: MapTypes = MapTypes.SHORTEST,\n",
    "    *args: Iterable\n",
    ") -> Generator:\n",
    "\n",
    "    if type==MapTypes.LONGEST:\n",
    "        for arg in zip_longest(*args):\n",
    "            yield func(*arg)\n",
    "\n",
    "    else:\n",
    "        for arg in zip(*args):\n",
    "            yield func(*arg)"
   ]
  },
  {
   "cell_type": "markdown",
   "id": "1ef76164",
   "metadata": {},
   "source": [
    "## Задание 3: Спиннер"
   ]
  },
  {
   "cell_type": "markdown",
   "id": "a79e62a0",
   "metadata": {},
   "source": [
    "### Часть 1: генератор\n",
    "\n",
    "Напишите функцию, которая на вход получает коллекцию и возвращает генератор, последовательно возвращающий элементы коллекции, а после возврата последнего элемента коллекции очередной вызов генератора приведет к зацикливанию.\n",
    "\n",
    "\n",
    "*Пример*:\n",
    "\n",
    "```python\n",
    "generator = generate_circle('abc')\n",
    "\n",
    "print(next(generator))\n",
    "print(next(generator))\n",
    "print(next(generator))\n",
    "print(next(generator))\n",
    "print(next(generator))\n",
    "```\n",
    "*Вывод*:\n",
    "```console\n",
    "a\n",
    "b\n",
    "c\n",
    "a\n",
    "b\n",
    "```"
   ]
  },
  {
   "cell_type": "code",
   "execution_count": 11,
   "id": "5b1d7d33",
   "metadata": {},
   "outputs": [],
   "source": [
    "from typing import Generator\n",
    "\n",
    "def generate_circle(\n",
    "    input: Iterable\n",
    ") -> Generator[chr, None, None]:\n",
    "\n",
    "    while True:\n",
    "        for elem in input:\n",
    "            yield elem"
   ]
  },
  {
   "cell_type": "code",
   "execution_count": 37,
   "metadata": {},
   "outputs": [
    {
     "name": "stdout",
     "output_type": "stream",
     "text": [
      "p\n",
      "e\n",
      "n\n",
      "i\n",
      "s\n",
      "p\n",
      "e\n",
      "n\n",
      "i\n",
      "s\n"
     ]
    }
   ],
   "source": [
    "generator = generate_circle('penis')\n",
    "\n",
    "for i in range(10):\n",
    "    print(next(generator))"
   ]
  },
  {
   "cell_type": "markdown",
   "id": "7eff66b3",
   "metadata": {},
   "source": [
    "### Часть 2: Колесо Сансары\n",
    "\n",
    "Используя генератор из предыдущего раздела, реализуйте функцию, которая отображает на экране спиннер для индикации загрузки.\n",
    "\n",
    "Отрисовка спиннера печатает на экран надпись: Thinking: \\<symbol\\>, где вместо \\<symbol\\> последовательно появляются знаки: \\, |, /, -, что создаёт эффект вращения.\n",
    "\n",
    "Вход функции: \n",
    "- time_limit - время (в секундах), в течение которого должна производиться отрисовка спиннера;\n",
    "- pause - время (в секундах) задержки между сменой символов спиннера;\n",
    "\n",
    "Интересная статья на тему индикаторов: https://dtf.ru/flood/174240-progress-bar-ili-spinner-chto-i-kogda-ispolzovat?ysclid=lorrg51syv550654720"
   ]
  },
  {
   "cell_type": "code",
   "execution_count": 14,
   "id": "eb84de3b",
   "metadata": {},
   "outputs": [
    {
     "name": "stdout",
     "output_type": "stream",
     "text": [
      "|\n",
      "/\n",
      "-\n",
      "\\\n",
      "|\n",
      "/\n",
      "-\n",
      "\\\n",
      "|\n",
      "/\n",
      "-\n",
      "\\\n",
      "|\n",
      "/\n",
      "-\n",
      "\\\n",
      "|\n",
      "/\n",
      "-\n",
      "\\\n"
     ]
    }
   ],
   "source": [
    "from typing import Generator\n",
    "from time import time\n",
    "\n",
    "def generate_circles(\n",
    "    time_limit: float,\n",
    "    pause: float\n",
    ") -> Generator[str, None, None]:\n",
    "\n",
    "    time_limit, pause = float(time_limit), float(pause)\n",
    "    generator = generate_circle(\"|/-\\|/-\" + chr(92))\n",
    "\n",
    "    for i in float_range(stop = time_limit, step = pause):\n",
    "        print(next(generator))"
   ]
  }
 ],
 "metadata": {
  "kernelspec": {
   "display_name": "Python 3 (ipykernel)",
   "language": "python",
   "name": "python3"
  },
  "language_info": {
   "codemirror_mode": {
    "name": "ipython",
    "version": 3
   },
   "file_extension": ".py",
   "mimetype": "text/x-python",
   "name": "python",
   "nbconvert_exporter": "python",
   "pygments_lexer": "ipython3",
   "version": "3.11.5"
  },
  "toc": {
   "base_numbering": 1,
   "nav_menu": {},
   "number_sections": true,
   "sideBar": true,
   "skip_h1_title": false,
   "title_cell": "Table of Contents",
   "title_sidebar": "Contents",
   "toc_cell": false,
   "toc_position": {},
   "toc_section_display": true,
   "toc_window_display": false
  }
 },
 "nbformat": 4,
 "nbformat_minor": 5
}
