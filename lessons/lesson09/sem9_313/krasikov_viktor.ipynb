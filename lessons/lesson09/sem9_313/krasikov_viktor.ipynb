{
 "cells": [
  {
   "cell_type": "markdown",
   "metadata": {},
   "source": [
    "# Функции: избранные темы"
   ]
  },
  {
   "cell_type": "markdown",
   "id": "b0b60028",
   "metadata": {},
   "source": [
    "## Вступление: контекстные менеджеры\n",
    "\n",
    "В Python по умолчанию задана некоторая точность вычисления чисел с плавающей точкой, которая, что логично, может отличаться от требуемой для решения конкретной задачи точности. Для пример, будет рассматривать точность вычислений в библиотеке **decimal**.\n",
    "\n",
    "Предположим, нас устраивает точность вычислений по умолчанию в этой библиотеке, но для некоторых расчетов мы бы хотели использовать повышенную или пониженную точность и только для них. Как нам быть? Тут-то нам на помощь и придут контекстные менеджеры.\n",
    "\n",
    "В этом примере мы поговорим о контекстных менеджерах и напишем свой менеджер для установки точности вычислений, которые будет работать примерно так:\n",
    "\n",
    "```python\n",
    "with set_precision(5):\n",
    "    ...\n",
    "```"
   ]
  },
  {
   "cell_type": "code",
   "execution_count": 10,
   "id": "2ee4bd58",
   "metadata": {},
   "outputs": [],
   "source": [
    "from decimal import Decimal, getcontext\n",
    "from contextlib import contextmanager\n",
    "from typing import Generator\n",
    "\n",
    "\n",
    "@contextmanager\n",
    "def set_precision(precision: int) -> Generator[None, None, None]:\n",
    "    precision = int(precision)\n",
    "\n",
    "    if precision < 1:\n",
    "        raise ValueError(\"precision should be non negative integer\")\n",
    "\n",
    "    #сохранение контекста\n",
    "    precision_old = getcontext().prec\n",
    "    getcontext().prec = precision\n",
    "\n",
    "    #возвращение управления\n",
    "    try:\n",
    "        yield\n",
    "\n",
    "    #восстановление контекста\n",
    "    finally:\n",
    "        getcontext().prec = precision_old\n",
    "        print('restire precision')"
   ]
  },
  {
   "cell_type": "code",
   "execution_count": 11,
   "id": "9f7c8b21",
   "metadata": {},
   "outputs": [
    {
     "name": "stdout",
     "output_type": "stream",
     "text": [
      "1.154411764705882352941176471\n",
      "28\n",
      "1.1544117647058823529411764705882352941176470588235294117647058823529411764705882352941176470588235294117647058823529411764705882\n",
      "restire precision\n"
     ]
    },
    {
     "ename": "Exception",
     "evalue": "",
     "output_type": "error",
     "traceback": [
      "\u001b[0;31m---------------------------------------------------------------------------\u001b[0m",
      "\u001b[0;31mException\u001b[0m                                 Traceback (most recent call last)",
      "\u001b[1;32m/Users/kapji/Documents/MIPT/python_mipt_dafe/lessons/lesson9/sem9_313/tasks.ipynb Cell 4\u001b[0m line \u001b[0;36m8\n\u001b[1;32m      <a href='vscode-notebook-cell:/Users/kapji/Documents/MIPT/python_mipt_dafe/lessons/lesson9/sem9_313/tasks.ipynb#X24sZmlsZQ%3D%3D?line=5'>6</a>\u001b[0m \u001b[39mwith\u001b[39;00m set_precision(\u001b[39m128\u001b[39m):\n\u001b[1;32m      <a href='vscode-notebook-cell:/Users/kapji/Documents/MIPT/python_mipt_dafe/lessons/lesson9/sem9_313/tasks.ipynb#X24sZmlsZQ%3D%3D?line=6'>7</a>\u001b[0m     \u001b[39mprint\u001b[39m(num1 \u001b[39m/\u001b[39m num2)\n\u001b[0;32m----> <a href='vscode-notebook-cell:/Users/kapji/Documents/MIPT/python_mipt_dafe/lessons/lesson9/sem9_313/tasks.ipynb#X24sZmlsZQ%3D%3D?line=7'>8</a>\u001b[0m     \u001b[39mraise\u001b[39;00m \u001b[39mException\u001b[39;00m\n",
      "\u001b[0;31mException\u001b[0m: "
     ]
    }
   ],
   "source": [
    "\n",
    "num1, num2 = Decimal('3.14'), Decimal('2.72')\n",
    "print(num1 / num2)\n",
    "\n",
    "print(getcontext().prec)\n",
    "\n",
    "with set_precision(128):\n",
    "    print(num1 / num2)\n",
    "    raise Exception\n",
    "\n"
   ]
  },
  {
   "cell_type": "markdown",
   "id": "47c5cd4e",
   "metadata": {},
   "source": [
    "## Разминка: геометрическая прогрессия\n",
    "\n",
    "Напишите бесконечный генератор геометрической прогрессии. В качестве параметров генератор должен принимать:  \n",
    "- первый член прогрессии\n",
    "- шаг прогрессии"
   ]
  },
  {
   "cell_type": "code",
   "execution_count": 12,
   "id": "1322283c",
   "metadata": {},
   "outputs": [],
   "source": [
    "from typing import Generator\n",
    "\n",
    "\n",
    "def generate_geometry_progression(\n",
    "    start: float = 1,\n",
    "    step: float = 1\n",
    ") -> Generator[float, None, None]:\n",
    "    start, step = float(start), float(step)\n",
    "\n",
    "    current_member = start\n",
    "\n",
    "    while True:\n",
    "        yield current_member\n",
    "        current_member *= step"
   ]
  },
  {
   "cell_type": "code",
   "execution_count": 13,
   "id": "aa3c5d0a",
   "metadata": {},
   "outputs": [
    {
     "name": "stdout",
     "output_type": "stream",
     "text": [
      "1.0\n",
      "0.5\n",
      "0.25\n",
      "0.125\n",
      "0.0625\n"
     ]
    }
   ],
   "source": [
    "generator = generate_geometry_progression(step=0.5)\n",
    "\n",
    "for i in range(5):\n",
    "    print(next(generator))"
   ]
  },
  {
   "cell_type": "markdown",
   "id": "1b317e5a",
   "metadata": {},
   "source": [
    "## Задание 1: float_range\n",
    "\n",
    "Необходимо создать аналог range(), который генерирует арифметическую прогрессию. Ниже приведены примеры использования:\n",
    "\n",
    "*Пример 1*:\n",
    "\n",
    "```python\n",
    "for i in float_range(stop=5):\n",
    "    print(i)\n",
    "```\n",
    "\n",
    "*Вывод*:\n",
    "```console\n",
    "0\n",
    "1\n",
    "2\n",
    "3\n",
    "4\n",
    "```\n",
    "___\n",
    "*Пример 2*:\n",
    "\n",
    "```python\n",
    "for i in float_range(stop=1, step=0.5):\n",
    "    print(i)\n",
    "```\n",
    "\n",
    "*Вывод*:\n",
    "```console\n",
    "0\n",
    "0.5\n",
    "```\n",
    "___\n",
    "*Пример 3*:\n",
    "\n",
    "```python\n",
    "for i in float_range(start=1, stop=-1, step=-0.5):\n",
    "    print(i)\n",
    "```\n",
    "\n",
    "*Вывод*:\n",
    "```console\n",
    "1\n",
    "0.5\n",
    "0\n",
    "-0.5\n",
    "```"
   ]
  },
  {
   "cell_type": "code",
   "execution_count": 27,
   "id": "c118dd7f",
   "metadata": {},
   "outputs": [],
   "source": [
    "def float_range(start=0, stop=None, step=1) -> Generator[float, None, None]:\n",
    "    if stop is None:\n",
    "        raise ValueError(\"stop is not given\")\n",
    "\n",
    "    if any([type(start) not in (int, float), type(stop) not in (int, float), type(step) not in (int, float)]):\n",
    "        raise ValueError(\"invalid value is given\")\n",
    "\n",
    "    if step == 0:\n",
    "        raise ValueError(\"step can't be 0\")\n",
    "    elif stop < start and step > 0:\n",
    "        raise ValueError(\"stop is less than start and step is non negative\")\n",
    "    elif stop > start and step < 0:\n",
    "        raise ValueError(\"stop is more than start and step is non positive\")\n",
    "\n",
    "    current_member = start\n",
    "\n",
    "    while True:\n",
    "        yield current_member\n",
    "        current_member += step\n",
    "\n",
    "        if abs(current_member) >= abs(stop):\n",
    "            break"
   ]
  },
  {
   "cell_type": "code",
   "execution_count": 28,
   "id": "843e2b2d",
   "metadata": {},
   "outputs": [
    {
     "name": "stdout",
     "output_type": "stream",
     "text": [
      "0\n",
      "1\n",
      "2\n",
      "3\n",
      "4\n",
      "\n",
      "\n",
      "0\n",
      "0.5\n",
      "\n",
      "\n",
      "1\n",
      "0.5\n",
      "0.0\n",
      "-0.5\n",
      "\n",
      "\n"
     ]
    }
   ],
   "source": [
    "for i in float_range(stop=5):\n",
    "    print(i)\n",
    "print(\"\\n\")\n",
    "\n",
    "for i in float_range(stop=1, step=0.5):\n",
    "    print(i)\n",
    "print(\"\\n\")\n",
    "\n",
    "for i in float_range(start=1, stop=-1, step=-0.5):\n",
    "    print(i)\n",
    "print(\"\\n\")"
   ]
  },
  {
   "cell_type": "markdown",
   "id": "0e50efe0",
   "metadata": {},
   "source": [
    "## Задание 2: свой map"
   ]
  },
  {
   "cell_type": "markdown",
   "id": "90231b0d",
   "metadata": {},
   "source": [
    "### Часть 1: копируем map\n",
    "\n",
    "Реализуйте аналог функции map, полностью копирующий ее поведение. Саму map использовать нельзя."
   ]
  },
  {
   "cell_type": "code",
   "execution_count": 22,
   "id": "121c0d82",
   "metadata": {},
   "outputs": [],
   "source": [
    "def custom_map(func, *arguments):\n",
    "    for args in zip(*arguments):\n",
    "        yield func(*args)"
   ]
  },
  {
   "cell_type": "code",
   "execution_count": 27,
   "metadata": {},
   "outputs": [
    {
     "name": "stdout",
     "output_type": "stream",
     "text": [
      "[2, 4, 6, 8, 10, 12, 14]\n"
     ]
    },
    {
     "ename": "TypeError",
     "evalue": "<lambda>() takes 1 positional argument but 2 were given",
     "output_type": "error",
     "traceback": [
      "\u001b[0;31m---------------------------------------------------------------------------\u001b[0m",
      "\u001b[0;31mTypeError\u001b[0m                                 Traceback (most recent call last)",
      "\u001b[1;32m/Users/kapji/Documents/MIPT/python_mipt_dafe/lessons/lesson9/sem9_313/tasks.ipynb Cell 14\u001b[0m line \u001b[0;36m5\n\u001b[1;32m      <a href='vscode-notebook-cell:/Users/kapji/Documents/MIPT/python_mipt_dafe/lessons/lesson9/sem9_313/tasks.ipynb#X31sZmlsZQ%3D%3D?line=1'>2</a>\u001b[0m l2 \u001b[39m=\u001b[39m [\u001b[39m4\u001b[39m,\u001b[39m6\u001b[39m,\u001b[39m7\u001b[39m,\u001b[39m89\u001b[39m,\u001b[39m9\u001b[39m]\n\u001b[1;32m      <a href='vscode-notebook-cell:/Users/kapji/Documents/MIPT/python_mipt_dafe/lessons/lesson9/sem9_313/tasks.ipynb#X31sZmlsZQ%3D%3D?line=2'>3</a>\u001b[0m \u001b[39mprint\u001b[39m(\u001b[39mlist\u001b[39m(custom_map(\u001b[39mlambda\u001b[39;00m x: x\u001b[39m*\u001b[39m\u001b[39m2\u001b[39m, l1)))\n\u001b[0;32m----> <a href='vscode-notebook-cell:/Users/kapji/Documents/MIPT/python_mipt_dafe/lessons/lesson9/sem9_313/tasks.ipynb#X31sZmlsZQ%3D%3D?line=4'>5</a>\u001b[0m \u001b[39mprint\u001b[39m(\u001b[39mlist\u001b[39;49m(\u001b[39mmap\u001b[39;49m(\u001b[39mlambda\u001b[39;49;00m x: x\u001b[39m*\u001b[39;49m\u001b[39m2\u001b[39;49m, l1, l2)))\n",
      "\u001b[0;31mTypeError\u001b[0m: <lambda>() takes 1 positional argument but 2 were given"
     ]
    }
   ],
   "source": [
    "l1 = [1,2,3,4,5,6,7]\n",
    "print(list(custom_map(lambda x: x*2, l1)))\n",
    "\n",
    "print(list(map(lambda x: x*2, l1)))"
   ]
  },
  {
   "cell_type": "markdown",
   "id": "577e35fc",
   "metadata": {},
   "source": [
    "### Часть 2: дополняем map\n",
    "\n",
    "Добавьте возможность управлять поведением вашего map'a: сделайте так, чтобы map имела возможность не только обрезать последовательности, но и дополнять короткие последовательности до динных. \n",
    "\n",
    "Совет: функция **zip_longest** из библиотеки **itertools** может оказаться полезной."
   ]
  },
  {
   "cell_type": "code",
   "execution_count": 28,
   "id": "0f930faa",
   "metadata": {},
   "outputs": [],
   "source": [
    "from enum import Enum\n",
    "from itertools import zip_longest\n",
    "\n",
    "\n",
    "class MapTypes(Enum):\n",
    "    SHORTEST = 'short'\n",
    "    LONGEST = 'long'\n"
   ]
  },
  {
   "cell_type": "code",
   "execution_count": 34,
   "id": "49b53ae5",
   "metadata": {},
   "outputs": [],
   "source": [
    "def custom_map2(func, *arguments, type=MapTypes.SHORTEST, fill_value):\n",
    "    if type is MapTypes.SHORTEST:\n",
    "        for args in zip(*arguments):\n",
    "            yield func(*args)\n",
    "    else:\n",
    "        for args in zip_longest(*arguments, fillvalue=fill_value):\n",
    "            yield func(*args)"
   ]
  },
  {
   "cell_type": "code",
   "execution_count": 36,
   "metadata": {},
   "outputs": [
    {
     "name": "stdout",
     "output_type": "stream",
     "text": [
      "[70, 50, 16, 76, 210, 212, 214]\n"
     ]
    }
   ],
   "source": [
    "l1 = [1,2,3,4,5,6,7]\n",
    "l2 = [34,23,5,34]\n",
    "print(list(custom_map2(lambda x, y: (x+y)*2, l1, l2, type=MapTypes.LONGEST, fill_value=100)))"
   ]
  },
  {
   "cell_type": "markdown",
   "id": "1ef76164",
   "metadata": {},
   "source": [
    "## Задание 3: Спиннер"
   ]
  },
  {
   "cell_type": "markdown",
   "id": "a79e62a0",
   "metadata": {},
   "source": [
    "### Часть 1: генератор\n",
    "\n",
    "Напишите функцию, которая на вход получает коллекцию и возвращает генератор, последовательно возвращающий элементы коллекции, а после возврата последнего элемента коллекции очередной вызов генератора приведет к зацикливанию.\n",
    "\n",
    "\n",
    "*Пример*:\n",
    "\n",
    "```python\n",
    "generator = generate_circle('abc')\n",
    "\n",
    "print(next(generator))\n",
    "print(next(generator))\n",
    "print(next(generator))\n",
    "print(next(generator))\n",
    "print(next(generator))\n",
    "```\n",
    "*Вывод*:\n",
    "```console\n",
    "a\n",
    "b\n",
    "c\n",
    "a\n",
    "b\n",
    "```"
   ]
  },
  {
   "cell_type": "code",
   "execution_count": 1,
   "id": "5b1d7d33",
   "metadata": {},
   "outputs": [],
   "source": [
    "from typing import Generator\n",
    "\n",
    "def generate_circle(sequence) -> Generator:\n",
    "    if sequence in (int, float):\n",
    "        sequence = str(sequence)\n",
    "\n",
    "    current_symbol = sequence[0]\n",
    "    sequence_len = len(sequence)\n",
    "    i = 1\n",
    "\n",
    "    while True:\n",
    "        yield current_symbol\n",
    "        current_symbol = sequence[i]\n",
    "        i = (i + 1) % sequence_len"
   ]
  },
  {
   "cell_type": "code",
   "execution_count": 4,
   "metadata": {},
   "outputs": [
    {
     "name": "stdout",
     "output_type": "stream",
     "text": [
      "1\n",
      "2\n",
      "4\n",
      "4\n",
      "2465\n",
      "21\n",
      "1\n",
      "2\n",
      "4\n",
      "4\n"
     ]
    }
   ],
   "source": [
    "generator = generate_circle()\n",
    "\n",
    "for _ in range(10):\n",
    "    print(next(generator))"
   ]
  },
  {
   "cell_type": "markdown",
   "id": "7eff66b3",
   "metadata": {},
   "source": [
    "### Часть 2: Колесо Сансары\n",
    "\n",
    "Используя генератор из предыдущего раздела, реализуйте функцию, которая отображает на экране спиннер для индикации загрузки.\n",
    "\n",
    "Отрисовка спиннера печатает на экран надпись: Thinking: \\<symbol\\>, где вместо \\<symbol\\> последовательно появляются знаки: \\, |, /, -, что создаёт эффект вращения.\n",
    "\n",
    "Вход функции: \n",
    "- time_limit - время (в секундах), в течение которого должна производиться отрисовка спиннера;\n",
    "- pause - время (в секундах) задержки между сменой символов спиннера;\n",
    "\n",
    "Интересная статья на тему индикаторов: https://dtf.ru/flood/174240-progress-bar-ili-spinner-chto-i-kogda-ispolzovat?ysclid=lorrg51syv550654720"
   ]
  },
  {
   "cell_type": "code",
   "execution_count": 65,
   "id": "eb84de3b",
   "metadata": {},
   "outputs": [],
   "source": [
    "import time\n",
    "from typing import Generator\n",
    "\n",
    "def Sansara_circle(time_limit=2, pause=0.1) -> Generator:\n",
    "    # if not(time_limit in (int, float) and pause in (int, float)):\n",
    "    #     raise ValueError(\"wrong input\")\n",
    "\n",
    "    number = int(time_limit / pause)\n",
    "    sequence = \"|/-\\\\\"\n",
    "    seq_len = len(sequence)\n",
    "\n",
    "    for i in range(number):\n",
    "        time.sleep(pause)\n",
    "        print(f\"Thinking: {sequence[i % seq_len]}\\r\", end=\"\")"
   ]
  },
  {
   "cell_type": "code",
   "execution_count": 67,
   "metadata": {},
   "outputs": [
    {
     "name": "stdout",
     "output_type": "stream",
     "text": [
      "Thinking: \\\r"
     ]
    }
   ],
   "source": [
    "Sansara_circle(5, 0.3)"
   ]
  }
 ],
 "metadata": {
  "kernelspec": {
   "display_name": "Python 3 (ipykernel)",
   "language": "python",
   "name": "python3"
  },
  "language_info": {
   "codemirror_mode": {
    "name": "ipython",
    "version": 3
   },
   "file_extension": ".py",
   "mimetype": "text/x-python",
   "name": "python",
   "nbconvert_exporter": "python",
   "pygments_lexer": "ipython3",
   "version": "3.11.1"
  },
  "toc": {
   "base_numbering": 1,
   "nav_menu": {},
   "number_sections": true,
   "sideBar": true,
   "skip_h1_title": false,
   "title_cell": "Table of Contents",
   "title_sidebar": "Contents",
   "toc_cell": false,
   "toc_position": {},
   "toc_section_display": true,
   "toc_window_display": false
  }
 },
 "nbformat": 4,
 "nbformat_minor": 5
}
