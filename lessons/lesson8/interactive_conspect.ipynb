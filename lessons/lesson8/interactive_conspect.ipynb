{
 "cells": [
  {
   "cell_type": "markdown",
   "metadata": {},
   "source": [
    "# Декораторы\n",
    "\n",
    "В данной лекции речь пойдет о декораторах, о цели их использования и способах создания. Однако, прежде, чем начать этот разговор, нам необходимо вспомнить материал [прошлой лекции](../lesson7/interactive_conspect.ipynb), посвященный облостям видимости вложенным функциям.\n",
    "\n",
    "## Области видимости: повторение\n",
    "\n",
    "Начнем детальное знакомство с замыканиям с небольшого уточнения информации об областях видимости. На прошлой лекции мы разобрались, что у любой функции есть свое пространство имен, которое можно представить, как перечень переменных, используемых в теле функции - локальных переменных. Пространство имен создается при каждом вызове функции и уничтожается в момент завершения выполнения функции. Переменные, которые определены на уровне модуля, являются глобальными переменнами по отношению к данной функции. При этом в теле функции можно получить доступ к глобальным переменным:"
   ]
  },
  {
   "cell_type": "code",
   "execution_count": 1,
   "metadata": {},
   "outputs": [],
   "source": [
    "var_global = 5\n",
    "\n",
    "def print_vars(var_local: int) -> None:\n",
    "    print(f'{var_local = };')\n",
    "    print(f'{var_global = };')"
   ]
  },
  {
   "cell_type": "code",
   "execution_count": 2,
   "metadata": {},
   "outputs": [
    {
     "name": "stdout",
     "output_type": "stream",
     "text": [
      "var_local = 10;\n",
      "var_global = 5;\n"
     ]
    }
   ],
   "source": [
    "print_vars(10)"
   ]
  },
  {
   "cell_type": "markdown",
   "metadata": {},
   "source": [
    "Если глобальная переменная является объектом изменяемого типа данных, действия в теле функции могут привести к изменению значения данной глобальной переменной. Однако стоит понимать, что нового объекта создано не будет. Вы не можете осуществить перепревязку глобальной переменной в теле функции. Подобные попытки приведут лишь к созданию локальной переменной, с тем же идентефикатором, что и глобальная переменная, в теле функции. Локальная переменная будет связана с новым объектом в памяти, время жизни которого ограничено телом функции. Данная локальная переменная в теле функции будет перекрывать своим именем имя глобальной переменной. При этом глобальная переменная никак не изменится. Эти положения иллюстрируются следующим примером:"
   ]
  },
  {
   "cell_type": "code",
   "execution_count": 4,
   "metadata": {},
   "outputs": [],
   "source": [
    "list_global = [1, 2]\n",
    "\n",
    "\n",
    "def print_list_info(list_value: list, list_name: str) -> None:\n",
    "    print(\n",
    "        f'{list_name} value: {list_value};',\n",
    "        f'{list_name} id: {id(list_value)};',\n",
    "        sep='\\n',\n",
    "        end='\\n\\n',\n",
    "    )\n",
    "\n",
    "\n",
    "def change_list() -> None:\n",
    "    list_global = list(range(10))\n",
    "    print_list_info(list_global, 'list_global')"
   ]
  },
  {
   "cell_type": "code",
   "execution_count": 5,
   "metadata": {},
   "outputs": [
    {
     "name": "stdout",
     "output_type": "stream",
     "text": [
      "list_global value: [1, 2];\n",
      "list_global id: 140667361610688;\n",
      "\n",
      "list_global value: [0, 1, 2, 3, 4, 5, 6, 7, 8, 9];\n",
      "list_global id: 140667119931264;\n",
      "\n",
      "list_global value: [1, 2];\n",
      "list_global id: 140667361610688;\n",
      "\n"
     ]
    }
   ],
   "source": [
    "print_list_info(list_global, 'list_global')\n",
    "change_list()\n",
    "print_list_info(list_global, 'list_global')"
   ]
  },
  {
   "cell_type": "markdown",
   "metadata": {},
   "source": [
    "Более того, Python не определяет динамически, является ли переменная локальной или нет. Данная информация определяется в момент определения функции и остается неизменной на протяжении всей жизни программы. Отсюда следует, что любая переменная в теле функции является или глобальной, или локальной, она не может быть локальной в одних случая, а глобальной - в других, или быть до определенного момента глобальной, а потом локальной. Переменная считается локальной, если является операндом оператора присваивания в любой форме (как простой, так и составной). Данное положение можно проиллюстрировать следующим примером:"
   ]
  },
  {
   "cell_type": "code",
   "execution_count": 13,
   "metadata": {},
   "outputs": [],
   "source": [
    "some_number = 9\n",
    "\n",
    "\n",
    "def func1(num: int) -> None:\n",
    "    print(f'{num = };')\n",
    "    print(f'{some_number = };')\n",
    "    print('')\n",
    "\n",
    "\n",
    "def func2(num: int) -> None:\n",
    "    some_number = 6\n",
    "    print(f'{num = };')\n",
    "    print(f'{some_number = };')\n",
    "    print('')\n",
    "\n",
    "\n",
    "def func3(num: int) -> None:\n",
    "    print(f'{num = };')\n",
    "    print(f'{some_number = };')\n",
    "    some_number = 6\n",
    "    print('')"
   ]
  },
  {
   "cell_type": "code",
   "execution_count": 14,
   "metadata": {},
   "outputs": [
    {
     "name": "stdout",
     "output_type": "stream",
     "text": [
      "num = 3;\n",
      "some_number = 9;\n",
      "\n",
      "num = 3;\n",
      "some_number = 6;\n",
      "\n",
      "num = 3;\n"
     ]
    },
    {
     "ename": "UnboundLocalError",
     "evalue": "local variable 'some_number' referenced before assignment",
     "output_type": "error",
     "traceback": [
      "\u001b[0;31m---------------------------------------------------------------------------\u001b[0m",
      "\u001b[0;31mUnboundLocalError\u001b[0m                         Traceback (most recent call last)",
      "\u001b[0;32m/tmp/ipykernel_6252/2469376657.py\u001b[0m in \u001b[0;36m<module>\u001b[0;34m\u001b[0m\n\u001b[1;32m      1\u001b[0m \u001b[0mfunc1\u001b[0m\u001b[0;34m(\u001b[0m\u001b[0;36m3\u001b[0m\u001b[0;34m)\u001b[0m\u001b[0;34m\u001b[0m\u001b[0;34m\u001b[0m\u001b[0m\n\u001b[1;32m      2\u001b[0m \u001b[0mfunc2\u001b[0m\u001b[0;34m(\u001b[0m\u001b[0;36m3\u001b[0m\u001b[0;34m)\u001b[0m\u001b[0;34m\u001b[0m\u001b[0;34m\u001b[0m\u001b[0m\n\u001b[0;32m----> 3\u001b[0;31m \u001b[0mfunc3\u001b[0m\u001b[0;34m(\u001b[0m\u001b[0;36m3\u001b[0m\u001b[0;34m)\u001b[0m\u001b[0;34m\u001b[0m\u001b[0;34m\u001b[0m\u001b[0m\n\u001b[0m",
      "\u001b[0;32m/tmp/ipykernel_6252/3164014442.py\u001b[0m in \u001b[0;36mfunc3\u001b[0;34m(num)\u001b[0m\n\u001b[1;32m     17\u001b[0m \u001b[0;32mdef\u001b[0m \u001b[0mfunc3\u001b[0m\u001b[0;34m(\u001b[0m\u001b[0mnum\u001b[0m\u001b[0;34m:\u001b[0m \u001b[0mint\u001b[0m\u001b[0;34m)\u001b[0m \u001b[0;34m->\u001b[0m \u001b[0;32mNone\u001b[0m\u001b[0;34m:\u001b[0m\u001b[0;34m\u001b[0m\u001b[0;34m\u001b[0m\u001b[0m\n\u001b[1;32m     18\u001b[0m     \u001b[0mprint\u001b[0m\u001b[0;34m(\u001b[0m\u001b[0;34mf'{num = };'\u001b[0m\u001b[0;34m)\u001b[0m\u001b[0;34m\u001b[0m\u001b[0;34m\u001b[0m\u001b[0m\n\u001b[0;32m---> 19\u001b[0;31m     \u001b[0mprint\u001b[0m\u001b[0;34m(\u001b[0m\u001b[0;34mf'{some_number = };'\u001b[0m\u001b[0;34m)\u001b[0m\u001b[0;34m\u001b[0m\u001b[0;34m\u001b[0m\u001b[0m\n\u001b[0m\u001b[1;32m     20\u001b[0m     \u001b[0msome_number\u001b[0m \u001b[0;34m=\u001b[0m \u001b[0;36m6\u001b[0m\u001b[0;34m\u001b[0m\u001b[0;34m\u001b[0m\u001b[0m\n\u001b[1;32m     21\u001b[0m     \u001b[0mprint\u001b[0m\u001b[0;34m(\u001b[0m\u001b[0;34m''\u001b[0m\u001b[0;34m)\u001b[0m\u001b[0;34m\u001b[0m\u001b[0;34m\u001b[0m\u001b[0m\n",
      "\u001b[0;31mUnboundLocalError\u001b[0m: local variable 'some_number' referenced before assignment"
     ]
    }
   ],
   "source": [
    "func1(3)\n",
    "func2(3)\n",
    "func3(3)"
   ]
  },
  {
   "cell_type": "markdown",
   "metadata": {},
   "source": [
    "Как мы видим любая попытка перепривязки или составного присваивания в теле функции делает переменную локальной. Чтобы избежать подобного поведения и получить возможность изменять глобальные переменные в теле функции, существует специальное слово **global**, явно сообщающее интерпретатору, что переменная является глобальной и поиска данного имени должен осуществляться на уровне модуля. Исправим функцию из примера выше:"
   ]
  },
  {
   "cell_type": "code",
   "execution_count": 16,
   "metadata": {},
   "outputs": [],
   "source": [
    "def func3(num: int) -> None:\n",
    "    global some_number\n",
    "\n",
    "    print(f'{num = };')\n",
    "    print(f'{some_number = };')\n",
    "    some_number = 6\n",
    "    print('')"
   ]
  },
  {
   "cell_type": "code",
   "execution_count": 17,
   "metadata": {},
   "outputs": [
    {
     "name": "stdout",
     "output_type": "stream",
     "text": [
      "num = 3;\n",
      "some_number = 9;\n",
      "\n",
      "some_number = 6;\n"
     ]
    }
   ],
   "source": [
    "func3(3)\n",
    "\n",
    "print(f'{some_number = };')"
   ]
  },
  {
   "cell_type": "markdown",
   "metadata": {},
   "source": [
    "Аналогичная ситуация складывается и с вложенными функциями - функциями, определенными в телах других функций. Вложенная функция может иметь доступ к переменным, находящимся в области видимости внешней функции, т.е. функции, в которую данная функция вложена. Однако любые попытки перепривязки приводят к тому, что внешние переменная воспринимаются интерпретатором как локальные. Данное положение можно проиллюстрировать следующим примером:"
   ]
  },
  {
   "cell_type": "code",
   "execution_count": 18,
   "metadata": {},
   "outputs": [],
   "source": [
    "from typing import Callable\n",
    "\n",
    "\n",
    "def outer_func1(num: int) -> Callable:\n",
    "    outer_num = num\n",
    "\n",
    "    def inner_func(num: int) -> None:\n",
    "        print(f'inner {num = };')\n",
    "        print(f'{outer_num = };')\n",
    "        print('')\n",
    "\n",
    "    print(f'{outer_num = };', end='\\n\\n')\n",
    "\n",
    "    return inner_func\n",
    "\n",
    "\n",
    "def outer_func2(num: int) -> Callable:\n",
    "    outer_num = num\n",
    "\n",
    "    def inner_func(num: int) -> None:\n",
    "        print(f'inner {num = };')\n",
    "        print(f'{outer_num = };')\n",
    "        outer_num = 5\n",
    "        print('')\n",
    "\n",
    "    print(f'{outer_num = };', end='\\n\\n')\n",
    "\n",
    "    return inner_func"
   ]
  },
  {
   "cell_type": "code",
   "execution_count": 19,
   "metadata": {},
   "outputs": [
    {
     "name": "stdout",
     "output_type": "stream",
     "text": [
      "outer_num = 10;\n",
      "\n",
      "outer_num = 10;\n",
      "\n",
      "inner num = 3;\n",
      "outer_num = 10;\n",
      "\n",
      "inner num = 3;\n"
     ]
    },
    {
     "ename": "UnboundLocalError",
     "evalue": "local variable 'outer_num' referenced before assignment",
     "output_type": "error",
     "traceback": [
      "\u001b[0;31m---------------------------------------------------------------------------\u001b[0m",
      "\u001b[0;31mUnboundLocalError\u001b[0m                         Traceback (most recent call last)",
      "\u001b[0;32m/tmp/ipykernel_6252/1330043198.py\u001b[0m in \u001b[0;36m<module>\u001b[0;34m\u001b[0m\n\u001b[1;32m      3\u001b[0m \u001b[0;34m\u001b[0m\u001b[0m\n\u001b[1;32m      4\u001b[0m \u001b[0minner_func1\u001b[0m\u001b[0;34m(\u001b[0m\u001b[0;36m3\u001b[0m\u001b[0;34m)\u001b[0m\u001b[0;34m\u001b[0m\u001b[0;34m\u001b[0m\u001b[0m\n\u001b[0;32m----> 5\u001b[0;31m \u001b[0minner_func2\u001b[0m\u001b[0;34m(\u001b[0m\u001b[0;36m3\u001b[0m\u001b[0;34m)\u001b[0m\u001b[0;34m\u001b[0m\u001b[0;34m\u001b[0m\u001b[0m\n\u001b[0m",
      "\u001b[0;32m/tmp/ipykernel_6252/2971057007.py\u001b[0m in \u001b[0;36minner_func\u001b[0;34m(num)\u001b[0m\n\u001b[1;32m     20\u001b[0m     \u001b[0;32mdef\u001b[0m \u001b[0minner_func\u001b[0m\u001b[0;34m(\u001b[0m\u001b[0mnum\u001b[0m\u001b[0;34m:\u001b[0m \u001b[0mint\u001b[0m\u001b[0;34m)\u001b[0m \u001b[0;34m->\u001b[0m \u001b[0;32mNone\u001b[0m\u001b[0;34m:\u001b[0m\u001b[0;34m\u001b[0m\u001b[0;34m\u001b[0m\u001b[0m\n\u001b[1;32m     21\u001b[0m         \u001b[0mprint\u001b[0m\u001b[0;34m(\u001b[0m\u001b[0;34mf'inner {num = };'\u001b[0m\u001b[0;34m)\u001b[0m\u001b[0;34m\u001b[0m\u001b[0;34m\u001b[0m\u001b[0m\n\u001b[0;32m---> 22\u001b[0;31m         \u001b[0mprint\u001b[0m\u001b[0;34m(\u001b[0m\u001b[0;34mf'{outer_num = };'\u001b[0m\u001b[0;34m)\u001b[0m\u001b[0;34m\u001b[0m\u001b[0;34m\u001b[0m\u001b[0m\n\u001b[0m\u001b[1;32m     23\u001b[0m         \u001b[0mouter_num\u001b[0m \u001b[0;34m=\u001b[0m \u001b[0;36m5\u001b[0m\u001b[0;34m\u001b[0m\u001b[0;34m\u001b[0m\u001b[0m\n\u001b[1;32m     24\u001b[0m         \u001b[0mprint\u001b[0m\u001b[0;34m(\u001b[0m\u001b[0;34m''\u001b[0m\u001b[0;34m)\u001b[0m\u001b[0;34m\u001b[0m\u001b[0;34m\u001b[0m\u001b[0m\n",
      "\u001b[0;31mUnboundLocalError\u001b[0m: local variable 'outer_num' referenced before assignment"
     ]
    }
   ],
   "source": [
    "inner_func1 = outer_func1(10)\n",
    "inner_func2 = outer_func2(10)\n",
    "\n",
    "inner_func1(3)\n",
    "inner_func2(3)"
   ]
  },
  {
   "cell_type": "markdown",
   "metadata": {},
   "source": [
    "Для решения данной проблемы, по аналогии с global, было введено специальное слово **nonlocal**, которое явно сообщает интепретатору, что используемое имя содержится в одной из внешних функций. В отличие от global, поиск нужного имени осуществляется последовательно во всех функциях, в которые была вложена данная функция, но не на уровне модуля. Имя это ввиду исправим функции из предыдущего примера:"
   ]
  },
  {
   "cell_type": "code",
   "execution_count": 25,
   "metadata": {},
   "outputs": [],
   "source": [
    "def outer_func2(num: int) -> Callable:\n",
    "    outer_num = num\n",
    "\n",
    "    def inner_func(num: int) -> None:\n",
    "        nonlocal outer_num\n",
    "\n",
    "        print(f'inner {num = };')\n",
    "        print(f'{outer_num = };')\n",
    "        outer_num = 5\n",
    "        print('')\n",
    "\n",
    "    print(f'{outer_num = };', end='\\n\\n')\n",
    "\n",
    "    return inner_func"
   ]
  },
  {
   "cell_type": "code",
   "execution_count": 26,
   "metadata": {},
   "outputs": [
    {
     "name": "stdout",
     "output_type": "stream",
     "text": [
      "outer_num = 10;\n",
      "\n",
      "inner num = 3;\n",
      "outer_num = 10;\n",
      "\n"
     ]
    }
   ],
   "source": [
    "inner_func2 = outer_func2(10)\n",
    "inner_func2(3)"
   ]
  },
  {
   "cell_type": "markdown",
   "metadata": {},
   "source": [
    "## Замыкания\n",
    "\n",
    "Все вложенные функции из примеров выше, использовавшие нелокальные переменная, являются замыканиями. Формально замыкание можно определить следующим образом: замыкание - это функция с расширенной областью видимости, которая охватывает все неглобальные переменные, на которые есть ссылки в теле функции, хотя они в нем не определены. Т.е. замыкания - это такие функции, которые могут обращаться к неглобальными переменным, определенным вне их тела. \n",
    "\n",
    "Давайте рассмотрим более содержательный пример использования замыкания. Допустим мы хотим создать функцию счетчик, которая будет хранить в себе актуальную информацию о количестве вызовов, обновлять и возвращать ее при каждом новом вызове. Сама по себе эта функция несет мало пользы, поэтому допустим что она является частью большой и важной системы, а вызывающая сторона использует эту информацию для учета каких-то статистик. Как бы могла выглядеть эта функция-счетчик?\n",
    "\n",
    "Мы не можем поместить переменную, хранящую информацию о количестве вызовов в тело нашей функции-счетчика, поскольку пространство имен каждый раз создается заново, а значит не сохраняет никакой информации о предыдущих вызовах. Первое, что приходит в голову - сделать переменную-счетчик глобальной:"
   ]
  },
  {
   "cell_type": "code",
   "execution_count": 27,
   "metadata": {},
   "outputs": [],
   "source": [
    "counter = 0\n",
    "\n",
    "\n",
    "def count() -> int:\n",
    "    global counter\n",
    "    \n",
    "    counter += 1\n",
    "    return counter"
   ]
  },
  {
   "cell_type": "code",
   "execution_count": 34,
   "metadata": {},
   "outputs": [
    {
     "data": {
      "text/plain": [
       "7"
      ]
     },
     "execution_count": 34,
     "metadata": {},
     "output_type": "execute_result"
    }
   ],
   "source": [
    "count()"
   ]
  },
  {
   "cell_type": "markdown",
   "metadata": {},
   "source": [
    "Отлично! Это работает! Но что если мы захотим создать два независимых счетчика, которые бы могли подсчитывать вызовы и хранить информацию независимо друг от друга?"
   ]
  },
  {
   "cell_type": "code",
   "execution_count": 35,
   "metadata": {},
   "outputs": [],
   "source": [
    "counter1 = count\n",
    "counter2 = count"
   ]
  },
  {
   "cell_type": "code",
   "execution_count": 36,
   "metadata": {},
   "outputs": [
    {
     "name": "stdout",
     "output_type": "stream",
     "text": [
      "8\n",
      "9\n"
     ]
    }
   ],
   "source": [
    "print(counter1())\n",
    "print(counter2())"
   ]
  },
  {
   "cell_type": "markdown",
   "metadata": {},
   "source": [
    "В этом случае мы помним предыдущие состояния функции. Более того, каждый вызов \"независимого счетчика\" влияет на состояние остальных счетчиков. Т.е. использование глобальных переменных нашу проблему не решает. В такие моменты замыкания и становятся достаточно полезными интсрументами:"
   ]
  },
  {
   "cell_type": "code",
   "execution_count": 37,
   "metadata": {},
   "outputs": [],
   "source": [
    "from typing import Callable\n",
    "\n",
    "\n",
    "def make_counter() -> Callable[[], int]:\n",
    "    counter = 0\n",
    "\n",
    "    def count() -> int:\n",
    "        nonlocal counter\n",
    "        counter += 1\n",
    "\n",
    "        return counter\n",
    "    \n",
    "    return count"
   ]
  },
  {
   "cell_type": "code",
   "execution_count": 38,
   "metadata": {},
   "outputs": [
    {
     "name": "stdout",
     "output_type": "stream",
     "text": [
      "counter1: 4;\n",
      "counter1: 6;\n"
     ]
    }
   ],
   "source": [
    "counter1 = make_counter()\n",
    "counter2 = make_counter()\n",
    "\n",
    "for i in range(3):\n",
    "    counter1()\n",
    "\n",
    "for i in range(5):\n",
    "    counter2()\n",
    "\n",
    "print(f'counter1: {counter1()};')\n",
    "print(f'counter1: {counter2()};')"
   ]
  },
  {
   "cell_type": "markdown",
   "metadata": {},
   "source": [
    "Теперь создание функции счетчика происходит в момент выполнения программы посредством вызова функции `make_counter()`, в теле которой объявляется переменная `counter` и функция `count()`. Функция `count()` является замыканием, поскольку она вложена в функцию make_counter() и использует в своем теле внешние неглобальные переменные - counter, - для хранения и обновления информации о количестве вызовов. Функции подобные `make_counter()` называются \"фабриками\", посколько позволяют \"производить\" некоторые объекты по ходу выполнения программы - в нашем случае, функции-счетчики. \n",
    "\n",
    "Данный подход полностью решает поставленную проблему: мы можем создавать функции-счетчики, которые позволяют получать информацию о текущем количестве вызовов, при необходимости мы можем создать сколько угодно независимых счетчиков. Однако данный подход также должен вызвать у вас ряд вопросов в числе которых: а где же хранится информация о количестве вызовов? Ведь переменная `counter` определена в теле функции make_counter, а значит является локальной переменной, т.к. должна быть уничтожена после выполнения функции. Но почему-то этого не происходит, и мы по-прежнему имеем к ней доступ через замыкание.\n",
    "\n",
    "Это происходит потому что внутри функции `count` переменная `counter` является свободной переменной, т.е. несвязанной локальной областью видимости. Мы можем наглядно в этом убедиться, произведя инспекцию нашей функции:"
   ]
  },
  {
   "cell_type": "code",
   "execution_count": 39,
   "metadata": {},
   "outputs": [
    {
     "name": "stdout",
     "output_type": "stream",
     "text": [
      "local variables: ()\n",
      "free variables: ('counter',)\n"
     ]
    }
   ],
   "source": [
    "print(f'local variables: {counter1.__code__.co_varnames}')\n",
    "print(f'free variables: {counter1.__code__.co_freevars}')"
   ]
  },
  {
   "cell_type": "markdown",
   "metadata": {},
   "source": [
    "Python хранит откомпилировнаное тело функции в атрибуте `__code__`. Также в этом атрибуте хранится информация о локальных и свободных переменных. Как мы видим в примере выше переменная `counter` действительно является свободной переменной. Однако таким образом python сохраняет именно имена переменных, но где же хранится само значение?\n",
    "\n",
    "Привязка переменной counter сохраняется в специальном атрибуте `__closure__`(буквально - замыкание). Между элементами `__closure__` и именами, хранящимися в `__code__.co_freevars` существует взаимооднозначное соответствие. Элементами атрибута `__closure__` являются специальные ячейки (cells). У каждой ячейки есть атрибут `cell_content` - содержимое ячейки, именно в этом атрибуте и хранится значение свободной переменной. "
   ]
  },
  {
   "cell_type": "code",
   "execution_count": 41,
   "metadata": {},
   "outputs": [
    {
     "name": "stdout",
     "output_type": "stream",
     "text": [
      "counter1 closure: (<cell at 0x7fefac20e370: int object at 0x7fefb2030990>,)\n",
      "counter1 cell0 content: 4;\n"
     ]
    }
   ],
   "source": [
    "print(f'counter1 closure: {counter1.__closure__}')\n",
    "\n",
    "for i, cell in enumerate(counter1.__closure__):\n",
    "    print(f'counter1 cell{i} content: {cell.cell_contents};')"
   ]
  },
  {
   "cell_type": "markdown",
   "metadata": {},
   "source": [
    "Таким образом замыкания хранят значения свободных переменных в специальном кортеже и специальным образом. Именно поэтому мы можем продолжать использовать переменные внешних функций за пределами тела этих внешних по отношению к замыканию функций.\n",
    "\n",
    "Резюмируем: замыкание – это функция, которая запоминает привязки свободных переменных, существовавших на момент определения функции, так что их можно использовать впоследствии при вызове функции, когда область видимости, в которой она была определена, уже не существует."
   ]
  },
  {
   "cell_type": "markdown",
   "metadata": {},
   "source": [
    "## Декораторы\n",
    "\n",
    "Разобравшись с замыканием мы готовы к изучению декораторов. Декораторы - это вызываемый объект, который принимает другую функцию - декорируемую функцию, в качестве аргумента. Обычно декораторы используются, чтобы дополнить фнкционал уже существующих функций некоторым образом, в этом случае в результате применения декоратора исходная функция заменяется на результат вычисления декоратора. Также декораторы могу использоваться, чтобы осуществить некоторые дополнительные манипуляции с функцией по определенному общему сценарию.\n",
    "\n",
    "Рассмотрим следующий учебный пример:"
   ]
  },
  {
   "cell_type": "code",
   "execution_count": 42,
   "metadata": {},
   "outputs": [],
   "source": [
    "def my_decorator(func):\n",
    "    def wrapper(*args, **kwargs):\n",
    "        print('start function')\n",
    "        result = func(*args, **kwargs)\n",
    "        print('finished function')\n",
    "\n",
    "        return result\n",
    "    \n",
    "    return wrapper\n",
    "\n",
    "\n",
    "@my_decorator\n",
    "def do_something():\n",
    "    print('do_something')"
   ]
  },
  {
   "cell_type": "code",
   "execution_count": 43,
   "metadata": {},
   "outputs": [
    {
     "name": "stdout",
     "output_type": "stream",
     "text": [
      "start function\n",
      "do_something\n",
      "finished function\n"
     ]
    }
   ],
   "source": [
    "do_something()"
   ]
  },
  {
   "cell_type": "markdown",
   "metadata": {},
   "source": [
    "В данном примере мы реализовали просто декоратор - my_decorator. Данный декоратор принимает на вход функцию. В своем теле он определяет замыкание, которое использует данную функцию и выводит в стандартный поток вывода сообщения о начале вычислений и об их завершении. Также в замыкании происходит вызов декорируемой функции и возвращение результатов ее вычисления, что является распространненой практикой, поскольку декораторы именно дополняеют поведение функции, а не переопределяют его. Сам декоратор возвращает замыкание в качестве результата вычисления.\n",
    "\n",
    "Вызов декоратора, позволяющий применить его к нашей функции, является всего лишь синтаксической глазурью:\n",
    "\n",
    "```python\n",
    "@my_decorator\n",
    "def do_something():\n",
    "    ...\n",
    "```\n",
    "\n",
    "Формально, ничего не мешает нам применить декоратор следующим образом:"
   ]
  },
  {
   "cell_type": "code",
   "execution_count": 44,
   "metadata": {},
   "outputs": [],
   "source": [
    "def do_something():\n",
    "    print('do_something')\n",
    "\n",
    "do_something = my_decorator(do_something)"
   ]
  },
  {
   "cell_type": "code",
   "execution_count": 45,
   "metadata": {},
   "outputs": [
    {
     "name": "stdout",
     "output_type": "stream",
     "text": [
      "start function\n",
      "do_something\n",
      "finished function\n"
     ]
    }
   ],
   "source": [
    "do_something()"
   ]
  },
  {
   "cell_type": "markdown",
   "metadata": {},
   "source": [
    "Поскольку код применения декораторов из примеров выше эквивалентен, можно сделать следующий вывод: объект, возвращаемый декоратором заменяет собой декорируемую функцию. Это можно проверить, обратившись к имени функции после декорировнаия:"
   ]
  },
  {
   "cell_type": "code",
   "execution_count": 54,
   "metadata": {},
   "outputs": [
    {
     "data": {
      "text/plain": [
       "'wrapper'"
      ]
     },
     "execution_count": 54,
     "metadata": {},
     "output_type": "execute_result"
    }
   ],
   "source": [
    "do_something.__name__"
   ]
  },
  {
   "cell_type": "markdown",
   "metadata": {},
   "source": [
    "Т.е. функция `wrapper`, определенная в теле декоратора, действительно заменила собой исходный объект. Именно поэтому мы и определили замыкание с настолько общей сигнатурой. Ведь функция wrapper будет заменять собой любую декорируемую функцию, а значит должна обеспечить корректную работу функций с любыми сигнатурами. \n",
    "\n",
    "Из факта подобной замены следует, что затирается и сигнатура первоначально функции, а значит IDE не сможет предоставлять нам интеллектуальные подсказки о декорируемой функции, типах ее аргументов и возвращаемом значении. Чтобы это предотвратить, в стандартной библиотеки был реализован декоратор `wraps`, который позволяет сохранить информацию о декорированной функции.\n",
    "\n",
    "Чтобы посмотреть на использования описанного декоратора, давайте реализуем декоратор, распечатывающий информации о вызове функции: имя функции, с какими аргументами был совершен вызов, за какое время была выполнена фукнция."
   ]
  },
  {
   "cell_type": "code",
   "execution_count": 46,
   "metadata": {},
   "outputs": [],
   "source": [
    "import time\n",
    "\n",
    "from typing import Callable\n",
    "from functools import wraps\n",
    "\n",
    "\n",
    "def call_info(func) -> Callable:\n",
    "    @wraps(func)\n",
    "    def get_call_info(*args, **kwargs) -> Callable:\n",
    "        args_list = []\n",
    "\n",
    "        if args:\n",
    "            args_list.append(', '.join(str(arg) for arg in args))\n",
    "\n",
    "        if kwargs:\n",
    "            args_list.append(\n",
    "                ', '.join(f'{key}={val}' for key, val in kwargs.items())\n",
    "            )\n",
    "\n",
    "        args_str = ', '.join(args_list)\n",
    "\n",
    "        time_start = time.time()\n",
    "        result = func(*args, **kwargs)\n",
    "\n",
    "        print(\n",
    "            f'[CALL INFO]: {func.__name__}({args_str}) -> {result} '\n",
    "            f'|| {time.time() - time_start}'\n",
    "        )\n",
    "\n",
    "        return result\n",
    "\n",
    "    return get_call_info"
   ]
  },
  {
   "cell_type": "code",
   "execution_count": 47,
   "metadata": {},
   "outputs": [],
   "source": [
    "from time import sleep\n",
    "\n",
    "\n",
    "@call_info\n",
    "def do_something() -> None:\n",
    "    sleep(1)"
   ]
  },
  {
   "cell_type": "code",
   "execution_count": 50,
   "metadata": {},
   "outputs": [
    {
     "name": "stdout",
     "output_type": "stream",
     "text": [
      "[CALL INFO]: do_something() -> None || 1.0010740756988525\n"
     ]
    }
   ],
   "source": [
    "do_something()"
   ]
  },
  {
   "cell_type": "code",
   "execution_count": 51,
   "metadata": {},
   "outputs": [
    {
     "data": {
      "text/plain": [
       "'do_something'"
      ]
     },
     "execution_count": 51,
     "metadata": {},
     "output_type": "execute_result"
    }
   ],
   "source": [
    "do_something.__name__"
   ]
  },
  {
   "cell_type": "markdown",
   "metadata": {},
   "source": [
    "## Момент выполнения декораторов\n",
    "\n",
    "Декораторы выполняются в момент определения функций. Обычно, когда программа состоит из нескольких модулей (разбита на несколько файлов с расширением .py), вы импортируете декорированные функции из других модулей. В данной ситуации декоратор выполняется в момент импорта. Важно осознавать, что декоратор будет выполняться отдельно для каждой декорируемой функции. В качестве демонстрации этого принципа приведен следующий пример:"
   ]
  },
  {
   "cell_type": "code",
   "execution_count": 52,
   "metadata": {},
   "outputs": [
    {
     "name": "stdout",
     "output_type": "stream",
     "text": [
      "run decorate\n",
      "run decorate\n"
     ]
    }
   ],
   "source": [
    "def decorate(func):\n",
    "    print('run decorate')\n",
    "    return func\n",
    "\n",
    "\n",
    "@decorate\n",
    "def do_something() -> None:\n",
    "    print('do_something')\n",
    "\n",
    "\n",
    "@decorate\n",
    "def do_another_thing() -> None:\n",
    "    print('do_another_thing')"
   ]
  },
  {
   "cell_type": "code",
   "execution_count": 53,
   "metadata": {},
   "outputs": [
    {
     "name": "stdout",
     "output_type": "stream",
     "text": [
      "do_something\n"
     ]
    }
   ],
   "source": [
    "do_something()"
   ]
  },
  {
   "cell_type": "code",
   "execution_count": 54,
   "metadata": {},
   "outputs": [
    {
     "name": "stdout",
     "output_type": "stream",
     "text": [
      "do_another_thing\n"
     ]
    }
   ],
   "source": [
    "do_another_thing()"
   ]
  },
  {
   "cell_type": "markdown",
   "metadata": {},
   "source": [
    "Как вы видите сообщение о запуске декоратора было распечатано дважды в момент определения функции. Сами же функции выполняются только посредством явного вызова в коде. Этот пример интересен тем, что возвращаемым объектом декоратора служит исходная функция, а не замыкание, определяемое в теле. В контексте пример выше это кажется упрощением, но подобная техника может оказаться очень полезной, например для регистрации функций в общем реестре функций. Более практически полезный пример будет разберан на семинаре."
   ]
  },
  {
   "cell_type": "markdown",
   "metadata": {},
   "source": [
    "## Композиции декораторов\n",
    "\n",
    "При необходимости вы можете применять несколько декораторов к функции одновременно. "
   ]
  },
  {
   "cell_type": "code",
   "execution_count": 59,
   "metadata": {},
   "outputs": [],
   "source": [
    "def outer(func):\n",
    "    def wrapper(*args, **kwargs):\n",
    "        print('outer')\n",
    "        \n",
    "        result = func(*args, **kwargs)\n",
    "        return result\n",
    "    \n",
    "    return wrapper\n",
    "\n",
    "\n",
    "def inner(func):\n",
    "    def wrapper(*args, **kwargs):\n",
    "        print('inner')\n",
    "\n",
    "        result = func(*args, **kwargs)\n",
    "        return result\n",
    "    \n",
    "    return wrapper\n",
    "\n",
    "\n",
    "@inner\n",
    "@outer\n",
    "def do_something() -> None:\n",
    "    print('do_something')"
   ]
  },
  {
   "cell_type": "code",
   "execution_count": 60,
   "metadata": {},
   "outputs": [
    {
     "name": "stdout",
     "output_type": "stream",
     "text": [
      "inner\n",
      "outer\n",
      "do_something\n"
     ]
    }
   ],
   "source": [
    "do_something()"
   ]
  },
  {
   "cell_type": "markdown",
   "metadata": {},
   "source": [
    "Порядок применения декораторов в данном примере хорошо описывается следующим эквивалентным кодом:"
   ]
  },
  {
   "cell_type": "code",
   "execution_count": 57,
   "metadata": {},
   "outputs": [],
   "source": [
    "def do_something() -> None:\n",
    "    print('do_something')\n",
    "\n",
    "do_something = outer(inner(do_something))"
   ]
  },
  {
   "cell_type": "code",
   "execution_count": 58,
   "metadata": {},
   "outputs": [
    {
     "name": "stdout",
     "output_type": "stream",
     "text": [
      "outer\n",
      "inner\n",
      "do_something\n"
     ]
    }
   ],
   "source": [
    "do_something()"
   ]
  },
  {
   "cell_type": "markdown",
   "metadata": {},
   "source": [
    "## Параметризованные декораторы\n",
    "\n",
    "В некоторых ситуациях бывает полезно иметь возможность настраивать декоратор и передавать в него какие-либо значения помимо декорируемой функции. На этот случай все, что нам нужно сделать - реализовать параметризованный декоратор. Формально, параметризованный декоратор - не декоратор, а фабрика декораторов. Определение данного объекта выглядит следующим образом:"
   ]
  },
  {
   "cell_type": "code",
   "execution_count": 62,
   "metadata": {},
   "outputs": [],
   "source": [
    "import time\n",
    "\n",
    "from typing import Callable\n",
    "from functools import wraps\n",
    "\n",
    "\n",
    "def call_info(\n",
    "    use_arguments: bool = True,\n",
    "    fix_time: bool = True,\n",
    ") -> Callable:\n",
    "    def call_deco(func) -> Callable:\n",
    "        @wraps(func)\n",
    "        def get_call_info(*args, **kwargs) -> Callable:\n",
    "            args_list = []\n",
    "\n",
    "            if args and use_arguments:\n",
    "                args_list.append(', '.join(str(arg) for arg in args))\n",
    "\n",
    "            if kwargs and use_arguments:\n",
    "                args_list.append(\n",
    "                    ', '.join(f'{key}={val}' for key, val in kwargs.items())\n",
    "                )\n",
    "\n",
    "            args_str = ', '.join(args_list)\n",
    "\n",
    "            time_start = time.time()\n",
    "            result = func(*args, **kwargs)\n",
    "\n",
    "            dots = '...'\n",
    "\n",
    "            print(\n",
    "                f'[CALL INFO]: {func.__name__}'\n",
    "                f'({args_str if use_arguments else dots}) -> {result}'\n",
    "                f' || {time.time() - time_start if fix_time else dots}'\n",
    "            )\n",
    "\n",
    "            return result\n",
    "\n",
    "        return get_call_info\n",
    "    \n",
    "    return call_deco"
   ]
  },
  {
   "cell_type": "code",
   "execution_count": 63,
   "metadata": {},
   "outputs": [],
   "source": [
    "from random import randint\n",
    "from time import sleep\n",
    "\n",
    "\n",
    "@call_info()\n",
    "def sum_numbers(*args) -> float:\n",
    "    return sum(args)\n",
    "\n",
    "\n",
    "@call_info(fix_time=False)\n",
    "def invert_numbers(*args) -> list[float]:\n",
    "    return [\n",
    "        1 / i if i != 0 else i for i in args\n",
    "    ]\n",
    "\n",
    "\n",
    "@call_info(use_arguments=False)\n",
    "def do_something() -> None:\n",
    "    time_to_sleep = randint(1, 5)\n",
    "    sleep(time_to_sleep)\n",
    "\n",
    "    print('did something')"
   ]
  },
  {
   "cell_type": "code",
   "execution_count": 64,
   "metadata": {},
   "outputs": [
    {
     "name": "stdout",
     "output_type": "stream",
     "text": [
      "[CALL INFO]: sum_numbers(1, 2, 3, 4, 5) -> 15 || 6.4373016357421875e-06\n",
      "[CALL INFO]: invert_numbers(1, 2, 4, 0) -> [1.0, 0.5, 0.25, 0] || ...\n",
      "did something\n",
      "[CALL INFO]: do_something(...) -> None || 3.015892267227173\n"
     ]
    }
   ],
   "source": [
    "sum_numbers(1, 2, 3, 4, 5)\n",
    "invert_numbers(1, 2, 4, 0)\n",
    "do_something()"
   ]
  },
  {
   "cell_type": "markdown",
   "metadata": {},
   "source": [
    "В данных примерах использование декоратора выглядит как функциональный вызов. Это происходит потому что call_info не является декоратором сама по себе. Как было сказано ранее call_info - это фабрика декораторов, т.е. это функция, позволяющая создать декораторы в процессе выполнения программы. Созданные декоратор применяется к декорируемой функции.\n",
    "\n",
    "Менее употребимый, но эквивалентный код, помогающий улучшить понимание работы параметрического декоратора приведен ниже:"
   ]
  },
  {
   "cell_type": "code",
   "execution_count": 65,
   "metadata": {},
   "outputs": [],
   "source": [
    "from random import randint\n",
    "from time import sleep\n",
    "\n",
    "def do_something() -> None:\n",
    "    time_to_sleep = randint(1, 5)\n",
    "    sleep(time_to_sleep)\n",
    "\n",
    "    print('did something')\n",
    "\n",
    "do_something = call_info()(do_something)"
   ]
  },
  {
   "cell_type": "code",
   "execution_count": 66,
   "metadata": {},
   "outputs": [
    {
     "name": "stdout",
     "output_type": "stream",
     "text": [
      "did something\n",
      "[CALL INFO]: do_something() -> None || 3.002840280532837\n"
     ]
    }
   ],
   "source": [
    "do_something()"
   ]
  },
  {
   "cell_type": "markdown",
   "metadata": {},
   "source": [
    "И еще более подробно:"
   ]
  },
  {
   "cell_type": "code",
   "execution_count": 67,
   "metadata": {},
   "outputs": [],
   "source": [
    "from random import randint\n",
    "from time import sleep\n",
    "\n",
    "def do_something() -> None:\n",
    "    time_to_sleep = randint(1, 5)\n",
    "    sleep(time_to_sleep)\n",
    "\n",
    "    print('did something')\n",
    "\n",
    "wrapper = call_info()\n",
    "do_something = wrapper(do_something)"
   ]
  },
  {
   "cell_type": "code",
   "execution_count": 68,
   "metadata": {},
   "outputs": [
    {
     "name": "stdout",
     "output_type": "stream",
     "text": [
      "did something\n",
      "[CALL INFO]: do_something() -> None || 4.003225564956665\n"
     ]
    }
   ],
   "source": [
    "do_something()"
   ]
  },
  {
   "cell_type": "code",
   "execution_count": null,
   "metadata": {},
   "outputs": [],
   "source": []
  }
 ],
 "metadata": {
  "kernelspec": {
   "display_name": "Python 3",
   "language": "python",
   "name": "python3"
  },
  "language_info": {
   "codemirror_mode": {
    "name": "ipython",
    "version": 3
   },
   "file_extension": ".py",
   "mimetype": "text/x-python",
   "name": "python",
   "nbconvert_exporter": "python",
   "pygments_lexer": "ipython3",
   "version": "3.9.13"
  }
 },
 "nbformat": 4,
 "nbformat_minor": 2
}
