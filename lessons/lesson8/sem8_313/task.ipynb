{
 "cells": [
  {
   "cell_type": "markdown",
   "metadata": {},
   "source": [
    "# Декораторы"
   ]
  },
  {
   "cell_type": "markdown",
   "metadata": {},
   "source": [
    "# Задача 1: Суммы прогрессий\n",
    "\n",
    "Необходимо реализовать функционал для подсчета суммы первых n + 1 - членов арифметической и геометрической прогрессии с возможностями настройки шага и значения первого члена. n соответствует числу вызовов функции по подсчету суммы. \n",
    "\n",
    "Предполагаемые сценарии использования:\n",
    "\n",
    "```python\n",
    "\n",
    "sum_arithmetic = make_arithmetic_progression_sum(first_member=2, step=0.5)\n",
    "sum_geometric = make_geometric_progression_sum(first_member=1, step=0.5)\n",
    "\n",
    "print(sum_arithmetic())\n",
    "print(sum_arithmetic())\n",
    "print('')\n",
    "print(sum_geometric())\n",
    "print(sum_geometric())\n",
    "```\n",
    "\n",
    "*Вывод*:\n",
    "```console\n",
    "4.5\n",
    "7.5\n",
    "\n",
    "1.5\n",
    "1.75\n",
    "```"
   ]
  },
  {
   "cell_type": "code",
   "execution_count": 2,
   "metadata": {},
   "outputs": [
    {
     "name": "stdout",
     "output_type": "stream",
     "text": [
      "4.5\n",
      "7.5\n",
      "\n",
      "1.5\n",
      "1.75\n"
     ]
    }
   ],
   "source": [
    "def make_arithmetic_progression_sum(first_member: float, step: float):\n",
    "    calls_amount = 0\n",
    "    current_sum = first_member\n",
    "\n",
    "    def arithmetic_progression_sum() -> float:\n",
    "        nonlocal calls_amount, current_sum\n",
    "\n",
    "        calls_amount += 1\n",
    "        current_sum += step * calls_amount + first_member\n",
    "        return current_sum\n",
    "\n",
    "    return arithmetic_progression_sum\n",
    "\n",
    "\n",
    "def make_geometric_progression_sum(first_member: float, step: float):\n",
    "    last_member = first_member\n",
    "    current_sum = first_member\n",
    "\n",
    "    def geometric_progression_sum() -> float:\n",
    "        nonlocal last_member, current_sum\n",
    "\n",
    "        last_member *= step\n",
    "        current_sum += last_member\n",
    "        return current_sum\n",
    "\n",
    "    return geometric_progression_sum\n",
    "\n",
    "sum_arithmetic = make_arithmetic_progression_sum(first_member=2, step=0.5)\n",
    "sum_geometric = make_geometric_progression_sum(first_member=1, step=0.5)\n",
    "\n",
    "print(sum_arithmetic())\n",
    "print(sum_arithmetic())\n",
    "print('')\n",
    "print(sum_geometric())\n",
    "print(sum_geometric())"
   ]
  },
  {
   "cell_type": "markdown",
   "metadata": {},
   "source": [
    "# Задача 2: Среднее\n",
    "\n",
    "Предположим, что мы занимаемся инвестициями и у нас есть некоторый портфель акций. Каждый день наш портфель приносит нам некоторый доход или убыток. Мы задались целью: каждый день фиксированного периода определять средний доход (или убыток), который мы получаем. С этой целью мы реализовали функцию get_avg(), принимающую на вход значение заработка на сегодняшний день. Наша функция вычисляет среднее в течении определнного фиксированного периода, скажем, 30 дней, после чего обнуляется и начинает вычислять среднее заново, но уже по новым значениям. \n",
    "\n",
    "Также у нас есть друзья инвесторы, которые оценили разработанный нами функционал и хотели бы заполучить свой экземпляр функции get_avg, для подсчета своего дохода в течении интересующего их промежутка времени.\n",
    "\n",
    "Ваша задача: реализовать функционал, для получения произвольного числа независимых функций get_avg(). В момент создания функции сообщается длительность периода расчета среднего, по достижении которого среднее начинает расчитываться заново, а также наш начальный доход. При каждом вызове функции передается число - заработок в текущий день.\n",
    "\n",
    "Предполагаемые сценарии использования:\n",
    "\n",
    "```python\n",
    "\n",
    "get_avg1 = make_averager(accumulation_period=2)\n",
    "print(get_avg1(78))\n",
    "print(get_avg1(-17))\n",
    "print(get_avg1(52))\n",
    "```\n",
    "\n",
    "*Вывод*:\n",
    "```console\n",
    "78.0\n",
    "30.5\n",
    "52.0\n",
    "```"
   ]
  },
  {
   "cell_type": "code",
   "execution_count": 3,
   "metadata": {},
   "outputs": [
    {
     "name": "stdout",
     "output_type": "stream",
     "text": [
      "78.0\n",
      "30.5\n",
      "52.0\n"
     ]
    }
   ],
   "source": [
    "def make_averager(accumulation_period: int):\n",
    "    accumulation_period = int(accumulation_period)\n",
    "\n",
    "    if accumulation_period < 1:\n",
    "        raise ValueError(\"unexpected accumulative period\")\n",
    "    \n",
    "    sum_current = 0\n",
    "    day_current = 0\n",
    "\n",
    "    def count_avg_sum(number: float):\n",
    "        nonlocal sum_current, day_current\n",
    "        \n",
    "        day_current += 1\n",
    "        number = float(number)\n",
    "\n",
    "        if day_current > accumulation_period:\n",
    "            day_current = 1\n",
    "            sum_current = 0\n",
    "\n",
    "        sum_current += number\n",
    "\n",
    "        return sum_current / day_current\n",
    "\n",
    "    return count_avg_sum\n",
    "\n",
    "get_avg1 = make_averager(accumulation_period=2)\n",
    "print(get_avg1(78))\n",
    "print(get_avg1(-17))\n",
    "print(get_avg1(52))"
   ]
  },
  {
   "cell_type": "markdown",
   "metadata": {},
   "source": [
    "# Задача 3: Сбор статистик\n",
    "\n",
    "Предположим, что мы работаем в отделе аналитики некоторой компании. В компании также существуют другие отделы, которые разрабатывают некоторые функции для осуществления сложных вычислений. Также в нашей компании существует отдел планирования, который следит за исполнением сроков реализации той или иной функции, и в случае, если разработка затягивается, начинает торопить разработчиков. В таком случае разработчики пишут медленный код на скорую руку, что расстраивает заказчиков.\n",
    "\n",
    "Наша задача, как аналитиков, собрать статистику по проблемным функциям. Нас интересует количество вызовов функции, а также среднее время выполнения функции. Все статистики собираются в отдельную базу данных - специальный единый словарь. Более того, статистика должна собираться не для всех функций, а только для функций, зарегестрированных в базе данных. Затем эта информация будет передана начальству, чтобы в скорейшее время заняться переписанием долгих и популярных функций.\n",
    "\n",
    "Ваша задача реализовать функционал для регистрации функций в БД и сбора статистик. "
   ]
  },
  {
   "cell_type": "code",
   "execution_count": 3,
   "metadata": {},
   "outputs": [],
   "source": [
    "from functools import wraps\n",
    "import time\n",
    "\n",
    "functions_register = {}\n",
    "\n",
    "def func_register(func):\n",
    "    def wrapper(*args, **kwargs):\n",
    "        if func not in functions_register:\n",
    "            functions_register[func] = [0, 0]\n",
    "        \n",
    "        return func\n",
    "\n",
    "    return  wrapper\n",
    "\n",
    "\n",
    "def get_statistics(func):\n",
    "    if func not in functions_register:\n",
    "            raise RuntimeError(\n",
    "                f\"{func.__name__} is not registered\\\n",
    "                can not get statistics\"\n",
    "               )\n",
    "    \n",
    "    @wraps(func)\n",
    "    def wrapper(*args, **kwargs):\n",
    "        time_start = time.time()\n",
    "        func(*args, **kwargs)\n",
    "        time_end = time.time()\n",
    "\n",
    "        func_register[func][0] += time_end - time_start\n",
    "        func_register[func][0] += 1\n",
    "        return func\n",
    "    \n",
    "    return wrapper"
   ]
  },
  {
   "cell_type": "markdown",
   "metadata": {},
   "source": [
    "# Задача 4: наивный LRU-кэш\n",
    "\n",
    "Представим, что вы являетесь сотрудником департамента оптимизаций некоторой компании, занимающейся разработкой ПО для научных вычислений. Раздел аналитиков предоставил вам исследование, согласно которому значительная часть функций в вашей компании работает очень медленно и должна быть оптимизирована. Более того, согласно исследованию, вызовы этих функций в основном осуществляются с ограниченным множеством аргументов. Для оптимизации этих функций вы решили использовать LRU-кэш:\n",
    "\n",
    "- вы заранее фиксируете размер кэша - памяти, выделенной для хранения результатов вычислений функции;  \n",
    "- в кэше хранится следующая информация: аргументы вызова - результат;  \n",
    "- помимо этого для каждой пары хранится время их последнего вызова;  \n",
    "- в случае достижения объема кэша установленной границы удаляются значения, чьи времена последних вызовов являются самыми старыми;  \n",
    "\n",
    "Для применения данного подхода ко всем проблемным функциям, не переписывая сами функции, вы решили реализовать параметрический декоратор, т.к. для разных функций требуется разный размер кеша.\n",
    "\n",
    "Ваша задача: реализовать описанный декоратор."
   ]
  },
  {
   "cell_type": "code",
   "execution_count": 23,
   "metadata": {},
   "outputs": [
    {
     "ename": "TypeError",
     "evalue": "unsupported operand type(s) for +: 'dict' and 'dict'",
     "output_type": "error",
     "traceback": [
      "\u001b[0;31m---------------------------------------------------------------------------\u001b[0m",
      "\u001b[0;31mTypeError\u001b[0m                                 Traceback (most recent call last)",
      "\u001b[1;32m/Users/kapji/Documents/MIPT/python_mipt_dafe/lessons/lesson8/sem8_313/task.ipynb Cell 9\u001b[0m line \u001b[0;36m4\n\u001b[1;32m     <a href='vscode-notebook-cell:/Users/kapji/Documents/MIPT/python_mipt_dafe/lessons/lesson8/sem8_313/task.ipynb#X11sZmlsZQ%3D%3D?line=40'>41</a>\u001b[0m         \u001b[39mreturn\u001b[39;00m \u001b[39m1\u001b[39m\n\u001b[1;32m     <a href='vscode-notebook-cell:/Users/kapji/Documents/MIPT/python_mipt_dafe/lessons/lesson8/sem8_313/task.ipynb#X11sZmlsZQ%3D%3D?line=41'>42</a>\u001b[0m     \u001b[39mreturn\u001b[39;00m fib(number \u001b[39m-\u001b[39m \u001b[39m2\u001b[39m) \u001b[39m+\u001b[39m fib(number \u001b[39m-\u001b[39m \u001b[39m1\u001b[39m)\n\u001b[0;32m---> <a href='vscode-notebook-cell:/Users/kapji/Documents/MIPT/python_mipt_dafe/lessons/lesson8/sem8_313/task.ipynb#X11sZmlsZQ%3D%3D?line=43'>44</a>\u001b[0m \u001b[39mprint\u001b[39m(fib(\u001b[39m100\u001b[39;49m))\n",
      "\u001b[1;32m/Users/kapji/Documents/MIPT/python_mipt_dafe/lessons/lesson8/sem8_313/task.ipynb Cell 9\u001b[0m line \u001b[0;36m1\n\u001b[1;32m     <a href='vscode-notebook-cell:/Users/kapji/Documents/MIPT/python_mipt_dafe/lessons/lesson8/sem8_313/task.ipynb#X11sZmlsZQ%3D%3D?line=14'>15</a>\u001b[0m \u001b[39mfor\u001b[39;00m arg \u001b[39min\u001b[39;00m args:\n\u001b[1;32m     <a href='vscode-notebook-cell:/Users/kapji/Documents/MIPT/python_mipt_dafe/lessons/lesson8/sem8_313/task.ipynb#X11sZmlsZQ%3D%3D?line=15'>16</a>\u001b[0m     last_used_time \u001b[39m=\u001b[39m time\u001b[39m.\u001b[39mtime()\n\u001b[0;32m---> <a href='vscode-notebook-cell:/Users/kapji/Documents/MIPT/python_mipt_dafe/lessons/lesson8/sem8_313/task.ipynb#X11sZmlsZQ%3D%3D?line=16'>17</a>\u001b[0m     func_result \u001b[39m=\u001b[39m func(arg)\n\u001b[1;32m     <a href='vscode-notebook-cell:/Users/kapji/Documents/MIPT/python_mipt_dafe/lessons/lesson8/sem8_313/task.ipynb#X11sZmlsZQ%3D%3D?line=18'>19</a>\u001b[0m     \u001b[39mif\u001b[39;00m func_result \u001b[39min\u001b[39;00m founded_results:\n\u001b[1;32m     <a href='vscode-notebook-cell:/Users/kapji/Documents/MIPT/python_mipt_dafe/lessons/lesson8/sem8_313/task.ipynb#X11sZmlsZQ%3D%3D?line=19'>20</a>\u001b[0m         \u001b[39mpass\u001b[39;00m\n",
      "\u001b[1;32m/Users/kapji/Documents/MIPT/python_mipt_dafe/lessons/lesson8/sem8_313/task.ipynb Cell 9\u001b[0m line \u001b[0;36m4\n\u001b[1;32m     <a href='vscode-notebook-cell:/Users/kapji/Documents/MIPT/python_mipt_dafe/lessons/lesson8/sem8_313/task.ipynb#X11sZmlsZQ%3D%3D?line=39'>40</a>\u001b[0m \u001b[39mif\u001b[39;00m number \u001b[39m<\u001b[39m \u001b[39m2\u001b[39m:\n\u001b[1;32m     <a href='vscode-notebook-cell:/Users/kapji/Documents/MIPT/python_mipt_dafe/lessons/lesson8/sem8_313/task.ipynb#X11sZmlsZQ%3D%3D?line=40'>41</a>\u001b[0m     \u001b[39mreturn\u001b[39;00m \u001b[39m1\u001b[39m\n\u001b[0;32m---> <a href='vscode-notebook-cell:/Users/kapji/Documents/MIPT/python_mipt_dafe/lessons/lesson8/sem8_313/task.ipynb#X11sZmlsZQ%3D%3D?line=41'>42</a>\u001b[0m \u001b[39mreturn\u001b[39;00m fib(number \u001b[39m-\u001b[39;49m \u001b[39m2\u001b[39;49m) \u001b[39m+\u001b[39m fib(number \u001b[39m-\u001b[39m \u001b[39m1\u001b[39m)\n",
      "\u001b[1;32m/Users/kapji/Documents/MIPT/python_mipt_dafe/lessons/lesson8/sem8_313/task.ipynb Cell 9\u001b[0m line \u001b[0;36m1\n\u001b[1;32m     <a href='vscode-notebook-cell:/Users/kapji/Documents/MIPT/python_mipt_dafe/lessons/lesson8/sem8_313/task.ipynb#X11sZmlsZQ%3D%3D?line=14'>15</a>\u001b[0m \u001b[39mfor\u001b[39;00m arg \u001b[39min\u001b[39;00m args:\n\u001b[1;32m     <a href='vscode-notebook-cell:/Users/kapji/Documents/MIPT/python_mipt_dafe/lessons/lesson8/sem8_313/task.ipynb#X11sZmlsZQ%3D%3D?line=15'>16</a>\u001b[0m     last_used_time \u001b[39m=\u001b[39m time\u001b[39m.\u001b[39mtime()\n\u001b[0;32m---> <a href='vscode-notebook-cell:/Users/kapji/Documents/MIPT/python_mipt_dafe/lessons/lesson8/sem8_313/task.ipynb#X11sZmlsZQ%3D%3D?line=16'>17</a>\u001b[0m     func_result \u001b[39m=\u001b[39m func(arg)\n\u001b[1;32m     <a href='vscode-notebook-cell:/Users/kapji/Documents/MIPT/python_mipt_dafe/lessons/lesson8/sem8_313/task.ipynb#X11sZmlsZQ%3D%3D?line=18'>19</a>\u001b[0m     \u001b[39mif\u001b[39;00m func_result \u001b[39min\u001b[39;00m founded_results:\n\u001b[1;32m     <a href='vscode-notebook-cell:/Users/kapji/Documents/MIPT/python_mipt_dafe/lessons/lesson8/sem8_313/task.ipynb#X11sZmlsZQ%3D%3D?line=19'>20</a>\u001b[0m         \u001b[39mpass\u001b[39;00m\n",
      "\u001b[1;32m/Users/kapji/Documents/MIPT/python_mipt_dafe/lessons/lesson8/sem8_313/task.ipynb Cell 9\u001b[0m line \u001b[0;36m4\n\u001b[1;32m     <a href='vscode-notebook-cell:/Users/kapji/Documents/MIPT/python_mipt_dafe/lessons/lesson8/sem8_313/task.ipynb#X11sZmlsZQ%3D%3D?line=39'>40</a>\u001b[0m \u001b[39mif\u001b[39;00m number \u001b[39m<\u001b[39m \u001b[39m2\u001b[39m:\n\u001b[1;32m     <a href='vscode-notebook-cell:/Users/kapji/Documents/MIPT/python_mipt_dafe/lessons/lesson8/sem8_313/task.ipynb#X11sZmlsZQ%3D%3D?line=40'>41</a>\u001b[0m     \u001b[39mreturn\u001b[39;00m \u001b[39m1\u001b[39m\n\u001b[0;32m---> <a href='vscode-notebook-cell:/Users/kapji/Documents/MIPT/python_mipt_dafe/lessons/lesson8/sem8_313/task.ipynb#X11sZmlsZQ%3D%3D?line=41'>42</a>\u001b[0m \u001b[39mreturn\u001b[39;00m fib(number \u001b[39m-\u001b[39;49m \u001b[39m2\u001b[39;49m) \u001b[39m+\u001b[39m fib(number \u001b[39m-\u001b[39m \u001b[39m1\u001b[39m)\n",
      "    \u001b[0;31m[... skipping similar frames: fib at line 42 (47 times), lru_cahce.<locals>.func_func.<locals>.wrapper at line 17 (47 times)]\u001b[0m\n",
      "\u001b[1;32m/Users/kapji/Documents/MIPT/python_mipt_dafe/lessons/lesson8/sem8_313/task.ipynb Cell 9\u001b[0m line \u001b[0;36m1\n\u001b[1;32m     <a href='vscode-notebook-cell:/Users/kapji/Documents/MIPT/python_mipt_dafe/lessons/lesson8/sem8_313/task.ipynb#X11sZmlsZQ%3D%3D?line=14'>15</a>\u001b[0m \u001b[39mfor\u001b[39;00m arg \u001b[39min\u001b[39;00m args:\n\u001b[1;32m     <a href='vscode-notebook-cell:/Users/kapji/Documents/MIPT/python_mipt_dafe/lessons/lesson8/sem8_313/task.ipynb#X11sZmlsZQ%3D%3D?line=15'>16</a>\u001b[0m     last_used_time \u001b[39m=\u001b[39m time\u001b[39m.\u001b[39mtime()\n\u001b[0;32m---> <a href='vscode-notebook-cell:/Users/kapji/Documents/MIPT/python_mipt_dafe/lessons/lesson8/sem8_313/task.ipynb#X11sZmlsZQ%3D%3D?line=16'>17</a>\u001b[0m     func_result \u001b[39m=\u001b[39m func(arg)\n\u001b[1;32m     <a href='vscode-notebook-cell:/Users/kapji/Documents/MIPT/python_mipt_dafe/lessons/lesson8/sem8_313/task.ipynb#X11sZmlsZQ%3D%3D?line=18'>19</a>\u001b[0m     \u001b[39mif\u001b[39;00m func_result \u001b[39min\u001b[39;00m founded_results:\n\u001b[1;32m     <a href='vscode-notebook-cell:/Users/kapji/Documents/MIPT/python_mipt_dafe/lessons/lesson8/sem8_313/task.ipynb#X11sZmlsZQ%3D%3D?line=19'>20</a>\u001b[0m         \u001b[39mpass\u001b[39;00m\n",
      "\u001b[1;32m/Users/kapji/Documents/MIPT/python_mipt_dafe/lessons/lesson8/sem8_313/task.ipynb Cell 9\u001b[0m line \u001b[0;36m4\n\u001b[1;32m     <a href='vscode-notebook-cell:/Users/kapji/Documents/MIPT/python_mipt_dafe/lessons/lesson8/sem8_313/task.ipynb#X11sZmlsZQ%3D%3D?line=39'>40</a>\u001b[0m \u001b[39mif\u001b[39;00m number \u001b[39m<\u001b[39m \u001b[39m2\u001b[39m:\n\u001b[1;32m     <a href='vscode-notebook-cell:/Users/kapji/Documents/MIPT/python_mipt_dafe/lessons/lesson8/sem8_313/task.ipynb#X11sZmlsZQ%3D%3D?line=40'>41</a>\u001b[0m     \u001b[39mreturn\u001b[39;00m \u001b[39m1\u001b[39m\n\u001b[0;32m---> <a href='vscode-notebook-cell:/Users/kapji/Documents/MIPT/python_mipt_dafe/lessons/lesson8/sem8_313/task.ipynb#X11sZmlsZQ%3D%3D?line=41'>42</a>\u001b[0m \u001b[39mreturn\u001b[39;00m fib(number \u001b[39m-\u001b[39;49m \u001b[39m2\u001b[39;49m) \u001b[39m+\u001b[39;49m fib(number \u001b[39m-\u001b[39;49m \u001b[39m1\u001b[39;49m)\n",
      "\u001b[0;31mTypeError\u001b[0m: unsupported operand type(s) for +: 'dict' and 'dict'"
     ]
    }
   ],
   "source": [
    "import time, sys\n",
    "\n",
    "\n",
    "def lru_cahce(args_amount):\n",
    "\n",
    "    def func_func(func):\n",
    "\n",
    "        def wrapper(*args, **kwargs):\n",
    "            nonlocal args_amount\n",
    "            \n",
    "            founded_results = {}\n",
    "            min_last_time = time.time() + 9999999999999\n",
    "            result_last_time = None\n",
    "\n",
    "            for arg in args:\n",
    "                last_used_time = time.time()\n",
    "                func_result = func(arg)\n",
    "\n",
    "                if func_result in founded_results:\n",
    "                    pass\n",
    "                elif len(founded_results) < args_amount:\n",
    "                    founded_results[func_result] = (arg, last_used_time)\n",
    "                else:\n",
    "                    for result in founded_results:\n",
    "                        if result[1] < min_last_time:\n",
    "                            min_last_time = result[1]\n",
    "                            result_last_time = result\n",
    "                    founded_results[result_last_time] = (arg, last_used_time)\n",
    "\n",
    "            return \n",
    "        \n",
    "        return wrapper\n",
    "    \n",
    "    return func_func\n",
    "\n",
    "sys.setrecursionlimit(1000000000)\n",
    "\n",
    "@lru_cahce(args_amount=100)\n",
    "def fib(number):\n",
    "    if number < 2:\n",
    "        return 1\n",
    "    return fib(number - 2) + fib(number - 1)\n",
    "\n",
    "print(fib(100))"
   ]
  }
 ],
 "metadata": {
  "kernelspec": {
   "display_name": "Python 3",
   "language": "python",
   "name": "python3"
  },
  "language_info": {
   "codemirror_mode": {
    "name": "ipython",
    "version": 3
   },
   "file_extension": ".py",
   "mimetype": "text/x-python",
   "name": "python",
   "nbconvert_exporter": "python",
   "pygments_lexer": "ipython3",
   "version": "3.11.1"
  }
 },
 "nbformat": 4,
 "nbformat_minor": 2
}
