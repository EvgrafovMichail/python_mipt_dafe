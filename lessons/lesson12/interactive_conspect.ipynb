{
 "cells": [
  {
   "cell_type": "markdown",
   "metadata": {},
   "source": [
    "# Модули\n",
    "\n",
    "## Введение\n",
    "\n",
    "Среднестатистическая программа, реализованная на языке Python, состоит из нескольких исходных файлов с расширением *.py*. Каждый исходный файл является **модулем**. Обычно модули независимы друг от друга и могут быть использованы в вножестве различных программ в случаях необходимости. Модули, которые являются связанными друг с другом как в кодовой форме, так и в форме некоторой бизнес логики, часто хранятся в виде **пакетов** (англ. *package*) - древовидных иерархических модульных структур. Пример подобных структур вы могли видеть в [первой домашней работе](../../homeworks/hw1/description.md):\n",
    "\n",
    "```console\n",
    "lsm_project\n",
    "├───event_logger\n",
    "│   ├───__init__.py\n",
    "│   └───event_logger.py\n",
    "├───lsm\n",
    "│   ├───__init__.py\n",
    "│   ├───enumerations.py\n",
    "│   ├───functions.py\n",
    "│   └───models.py\n",
    "└───visualization.py\n",
    "```\n",
    "\n",
    "Помимо обычных модулей, реализованных на языке Python, также существуют **модули расширения** (англ. *extension modules*) - модули написанные на других языках программирования, например, на C для CPython, или на Java для Jython. Эти модули также могут быть использованы в вашем Python коде, и обычно пишутся с целью оптимизации тех частей кода, которые отрабатывают недостаточно быстро, или для расширения функционала самого Python и доступа к более нискому уровню абстракции.\n",
    "\n",
    "В этой лекции речь пойдет только о модулях, написанных на языке Python."
   ]
  },
  {
   "cell_type": "markdown",
   "metadata": {},
   "source": [
    "## Общие сведения\n",
    "\n",
    "Функции в Python - это отдельные объекты. Классы в Python - это отдельные объекты. Модули в Python, как это ни странно, также являются отдельными объектами. Корректно будет сказать, что модули в Python - это самостоятельные объекты, хранящие независимо именованные атрибуты. Код, описывающий модуль с именем `modul_name` обычно хранится в файле `module_name.py`.\n",
    "\n",
    "Поскольку модули - это объекты, вы можете работать с модулями так же, как и с другими объектами. Таким образом, модуль может быть передан в качестве аргумента при вызове функции:"
   ]
  },
  {
   "cell_type": "code",
   "execution_count": 3,
   "metadata": {},
   "outputs": [],
   "source": [
    "from typing import Any\n",
    "\n",
    "\n",
    "def print_object_info(obj: Any) -> None:\n",
    "    print(\n",
    "        f'object type: {type(obj).__name__}',\n",
    "        f'object value: {obj}',\n",
    "        sep='\\n',\n",
    "        end='\\n\\n'\n",
    "    )"
   ]
  },
  {
   "cell_type": "code",
   "execution_count": 4,
   "metadata": {},
   "outputs": [
    {
     "name": "stdout",
     "output_type": "stream",
     "text": [
      "object type: list\n",
      "object value: [0, 1, 2, 3, 4]\n",
      "\n",
      "object type: module\n",
      "object value: <module 'typing' from 'c:\\\\Users\\\\dabiz\\\\AppData\\\\Local\\\\Programs\\\\Python\\\\Python311\\\\Lib\\\\typing.py'>\n",
      "\n"
     ]
    }
   ],
   "source": [
    "import typing\n",
    "\n",
    "\n",
    "my_list = list(range(5))\n",
    "\n",
    "print_object_info(my_list)\n",
    "print_object_info(typing)"
   ]
  },
  {
   "cell_type": "markdown",
   "metadata": {},
   "source": [
    "Модуль может быть возвращен в качестве результата выполнения функции и привязан к переменной:"
   ]
  },
  {
   "cell_type": "code",
   "execution_count": 16,
   "metadata": {},
   "outputs": [],
   "source": [
    "from enum import Enum\n",
    "\n",
    "\n",
    "class Devices(Enum):\n",
    "    CPU = 'cpu'\n",
    "    GPU = 'gpu'"
   ]
  },
  {
   "cell_type": "code",
   "execution_count": 17,
   "metadata": {},
   "outputs": [],
   "source": [
    "from types import ModuleType\n",
    "from typing import Union\n",
    "\n",
    "\n",
    "def load_computition_module(\n",
    "    device: Union[str, Devices] = Devices.CPU\n",
    ") -> Union[ModuleType, None]:\n",
    "    if isinstance(device, str):\n",
    "        device = device.lower()\n",
    "\n",
    "    if device == Devices.CPU or device == Devices.CPU.value:\n",
    "        import modules_lesson.computitions.cpu as module\n",
    "        print('[INFO]: CPU computitions module was imported')\n",
    "        return module\n",
    "\n",
    "    if device == Devices.GPU or device == Devices.GPU.value:\n",
    "        import modules_lesson.computitions.gpu as module\n",
    "        print('[INFO]: GPU computitions module was imported')\n",
    "        return module\n",
    "    \n",
    "    raise ValueError(f'invalid device value: {device}')"
   ]
  },
  {
   "cell_type": "code",
   "execution_count": 18,
   "metadata": {},
   "outputs": [
    {
     "name": "stdout",
     "output_type": "stream",
     "text": [
      "[INFO]: CPU computitions module was imported\n",
      "[INFO]: GPU computitions module was imported\n"
     ]
    }
   ],
   "source": [
    "comp_cpu = load_computition_module('CPU')\n",
    "comp_gpu = load_computition_module(Devices.GPU)"
   ]
  },
  {
   "cell_type": "code",
   "execution_count": 28,
   "metadata": {},
   "outputs": [
    {
     "name": "stdout",
     "output_type": "stream",
     "text": [
      "Computing: \\;\n",
      "Computing: \\;\n"
     ]
    }
   ],
   "source": [
    "comp_cpu.compute()\n",
    "comp_gpu.compute()\n",
    "\n",
    "pass"
   ]
  },
  {
   "cell_type": "markdown",
   "metadata": {},
   "source": []
  },
  {
   "cell_type": "markdown",
   "metadata": {},
   "source": [
    "Модуль может являться элементом некоторой коллекции или атрибутам класса. Также модуль является хэшируемым объектом, т.е. модуль можно хранить в качестве элемента в словаре и множестве:"
   ]
  },
  {
   "cell_type": "code",
   "execution_count": 29,
   "metadata": {},
   "outputs": [
    {
     "name": "stdout",
     "output_type": "stream",
     "text": [
      "[INFO]: CPU computitions module was imported\n",
      "[INFO]: GPU computitions module was imported\n"
     ]
    }
   ],
   "source": [
    "computitions_modules = {\n",
    "    device.value: load_computition_module(device) \n",
    "    for device in Devices\n",
    "}"
   ]
  },
  {
   "cell_type": "code",
   "execution_count": 30,
   "metadata": {},
   "outputs": [
    {
     "name": "stdout",
     "output_type": "stream",
     "text": [
      "Computing: \\;\n",
      "Result = 42;\n"
     ]
    }
   ],
   "source": [
    "result = computitions_modules[Devices.GPU.value].compute()\n",
    "print(f'{result = };'.capitalize())"
   ]
  },
  {
   "cell_type": "markdown",
   "metadata": {},
   "source": [
    "## Ключевое слово import\n",
    "\n",
    "Вы можете использовать любой исходный Python-файл в качеству модуля путем выполнения утверждения **import** в нужном вам исходном файле. Конструкция **import** имеет следующий синтаксис:\n",
    "\n",
    "```python\n",
    "import module_name [as name][, ...]\n",
    "```\n",
    "\n",
    "Рассмотрим эту конструкцию подробнее. После ключевого слова **import** всегда следует спецификатор модуля `module_name` или несколько спецификаторов модулей, разделенных запятыми. Спецификатор модуля указывает, какой именно модуль должен быть использован в текущем модуле. В простейшем, наиболее частом случае `module_name` один и выступает в роли переменной, с которой будет связан объект-модуль после завершения операции импорта. В данном случае Python будет искать файл `module_name.py`, чтобы удовлетворить запросу на импорт. \n",
    "\n",
    "Рассмотрим пример:\n",
    "```python\n",
    "import module_name\n",
    "```\n",
    "\n",
    "В данном случае интерпретатор будет искать модуль module_name, полученный модуль будет связан с переменной module_name, определенной в текущей области видимости и в текущем пространстве имен.\n",
    "\n",
    "Помимо сказанного, module_name также может быть последовательностью идентефикаторов, разделенных точками, что позволяет осуществлять доступ к модулям из пакетов. Пример подобных импортов можно увидеть в листингах кода, приведенных выше.\n",
    "\n",
    "Также конструкция import включает в себя необязательную часть `as name`. В этом случае интерпретатор будет искать модуль module_name, и полученный модуль будет связан с переменной name.\n",
    "\n",
    "```python\n",
    "import module_name as name\n",
    "```"
   ]
  },
  {
   "cell_type": "markdown",
   "metadata": {},
   "source": [
    "## Тело модуля\n",
    "\n",
    "Тело модуля представляет собой непустое множество утверждений, хранящихся в исходном Python-файле. В Python нет специального синтаксиса для индикации модуля, поэтому любой валидный файл с разрешением *.py* может считаться таковым. Тело модуля выполняется в момент импорта данного модуля в текущей программе.\n",
    "\n",
    "*Пример - тело модуля [cpu.py](./modules_lesson/computitions/cpu.py)*:\n",
    "\n",
    "```python\n",
    "\"\"\"\n",
    "CPU computitions mock\n",
    "\"\"\"\n",
    "\n",
    "from time import time, sleep\n",
    "from itertools import cycle\n",
    "\n",
    "from modules_lesson.computitions.constants import (\n",
    "    WHEEL_SYMBOLS,\n",
    "    PAUSE_TIME,\n",
    "    RESULT_MOCK,\n",
    ")\n",
    "\n",
    "\n",
    "CPU_TIME = 10               # время вычисления на GPU\n",
    "\n",
    "\n",
    "def compute() -> None:\n",
    "    wheel = cycle(WHEEL_SYMBOLS)\n",
    "    time_start = time()\n",
    "\n",
    "    while time() - time_start < CPU_TIME:\n",
    "        print(f'\\rComputing: {next(wheel)};', end='')\n",
    "        sleep(PAUSE_TIME)\n",
    "\n",
    "    print('')\n",
    "\n",
    "    return RESULT_MOCK\n",
    "```"
   ]
  },
  {
   "cell_type": "markdown",
   "metadata": {},
   "source": [
    "## Атрибуты модуля\n",
    "\n",
    "В момент выполнения импорта происходит создание нового пространства имен, которое содержит все атрибуты модуля. Атрибутами модуля называются объекты, определенные в глобальной области видимости файла. Для доступа к атрибутам, используется тот же синтаксис, что мы видели при доступе к атрибутам класса: указывается имя переменной, связанной с модулем, а через точку указывается имя интересующего нас атрибута."
   ]
  },
  {
   "cell_type": "code",
   "execution_count": 31,
   "metadata": {},
   "outputs": [
    {
     "name": "stdout",
     "output_type": "stream",
     "text": [
      "Computing: \\;\n"
     ]
    }
   ],
   "source": [
    "import modules_lesson.computitions.gpu\n",
    "\n",
    "modules_lesson.computitions.gpu.compute()\n",
    "pass"
   ]
  },
  {
   "cell_type": "code",
   "execution_count": 32,
   "metadata": {},
   "outputs": [
    {
     "name": "stdout",
     "output_type": "stream",
     "text": [
      "Computing: \\;\n"
     ]
    }
   ],
   "source": [
    "import modules_lesson.computitions.gpu as gpu\n",
    "\n",
    "gpu.compute()\n",
    "pass"
   ]
  },
  {
   "cell_type": "markdown",
   "metadata": {},
   "source": [
    "Обычное назначение модулей - создавать и хранить атрибуты, для упорядочивания кода. В теле функции обычно определяются функции, пользовательские классы или глобальные переменные (проектные константы). Обычно в рамках одного модуля реализуются объекты тесно связанные друг с другом и решающие одну конкретную бизнес-задачу. Если данный модуль не планируется использоваться в качестве исполняемого скрипта, избегайте использование каких-либо операций в теле этого модуля, помимо определения атрибутов.\n",
    "\n",
    "По аналогии с классами, вы можете добавлять атрибуты в модуль из вне в процессе выполнения программы. Однако данная практика нежелательно, поскольку снижает выразительность и понятность вашей программы."
   ]
  },
  {
   "cell_type": "code",
   "execution_count": 33,
   "metadata": {},
   "outputs": [
    {
     "name": "stdout",
     "output_type": "stream",
     "text": [
      "1080 TI\n"
     ]
    }
   ],
   "source": [
    "gpu.GPU = '1080 TI'\n",
    "print(gpu.GPU)"
   ]
  },
  {
   "cell_type": "markdown",
   "metadata": {},
   "source": [
    "При выполнении импорта, интерпретатор определяет некоторые атрибуты модуля неявным образом, как только создается объект модуля. К числу таких атрибутов относится атрибут \\_\\_dict\\_\\_ - объект, напоминающий словарь, скоторым мы встречались и раньше. В этом атрибуте осуществляется хранение пространства имен модуля. Атрибут \\_\\_dict\\_\\_, в отличие от других атрибутов модуля, типа \\_\\_name\\_\\_ недоступен в теле модуля. Еще одним атрибутом, задающимся неявным образом, является атрибут \\_\\_file\\_\\_ - путь к файлу, в котором хранится модуль:"
   ]
  },
  {
   "cell_type": "code",
   "execution_count": 34,
   "metadata": {},
   "outputs": [
    {
     "name": "stdout",
     "output_type": "stream",
     "text": [
      "modules_lesson.computitions.gpu\n",
      "c:\\Users\\dabiz\\PycharmProjects\\python_mipt_dafe-3\\lessons\\lesson12\\modules_lesson\\computitions\\gpu.py\n"
     ]
    }
   ],
   "source": [
    "print(gpu.__name__)\n",
    "print(gpu.__file__)"
   ]
  },
  {
   "cell_type": "markdown",
   "metadata": {},
   "source": [
    "Попытка доступа к неопределенному атрибуту модуля завершится ошибкой AttributeError:"
   ]
  },
  {
   "cell_type": "code",
   "execution_count": 36,
   "metadata": {},
   "outputs": [
    {
     "name": "stdout",
     "output_type": "stream",
     "text": [
      "{'__name__': 'builtins', '__doc__': \"Built-in functions, types, exceptions, and other objects.\\n\\nThis module provides direct access to all 'built-in'\\nidentifiers of Python; for example, builtins.len is\\nthe full name for the built-in function len().\\n\\nThis module is not normally accessed explicitly by most\\napplications, but can be useful in modules that provide\\nobjects with the same name as a built-in value, but in\\nwhich the built-in of that name is also needed.\", '__package__': '', '__loader__': <class '_frozen_importlib.BuiltinImporter'>, '__spec__': ModuleSpec(name='builtins', loader=<class '_frozen_importlib.BuiltinImporter'>, origin='built-in'), '__build_class__': <built-in function __build_class__>, '__import__': <built-in function __import__>, 'abs': <built-in function abs>, 'all': <built-in function all>, 'any': <built-in function any>, 'ascii': <built-in function ascii>, 'bin': <built-in function bin>, 'breakpoint': <built-in function breakpoint>, 'callable': <built-in function callable>, 'chr': <built-in function chr>, 'compile': <built-in function compile>, 'delattr': <built-in function delattr>, 'dir': <built-in function dir>, 'divmod': <built-in function divmod>, 'eval': <built-in function eval>, 'exec': <built-in function exec>, 'format': <built-in function format>, 'getattr': <built-in function getattr>, 'globals': <built-in function globals>, 'hasattr': <built-in function hasattr>, 'hash': <built-in function hash>, 'hex': <built-in function hex>, 'id': <built-in function id>, 'input': <bound method Kernel.raw_input of <ipykernel.ipkernel.IPythonKernel object at 0x0000022091FF6490>>, 'isinstance': <built-in function isinstance>, 'issubclass': <built-in function issubclass>, 'iter': <built-in function iter>, 'aiter': <built-in function aiter>, 'len': <built-in function len>, 'locals': <built-in function locals>, 'max': <built-in function max>, 'min': <built-in function min>, 'next': <built-in function next>, 'anext': <built-in function anext>, 'oct': <built-in function oct>, 'ord': <built-in function ord>, 'pow': <built-in function pow>, 'print': <built-in function print>, 'repr': <built-in function repr>, 'round': <built-in function round>, 'setattr': <built-in function setattr>, 'sorted': <built-in function sorted>, 'sum': <built-in function sum>, 'vars': <built-in function vars>, 'None': None, 'Ellipsis': Ellipsis, 'NotImplemented': NotImplemented, 'False': False, 'True': True, 'bool': <class 'bool'>, 'memoryview': <class 'memoryview'>, 'bytearray': <class 'bytearray'>, 'bytes': <class 'bytes'>, 'classmethod': <class 'classmethod'>, 'complex': <class 'complex'>, 'dict': <class 'dict'>, 'enumerate': <class 'enumerate'>, 'filter': <class 'filter'>, 'float': <class 'float'>, 'frozenset': <class 'frozenset'>, 'property': <class 'property'>, 'int': <class 'int'>, 'list': <class 'list'>, 'map': <class 'map'>, 'object': <class 'object'>, 'range': <class 'range'>, 'reversed': <class 'reversed'>, 'set': <class 'set'>, 'slice': <class 'slice'>, 'staticmethod': <class 'staticmethod'>, 'str': <class 'str'>, 'super': <class 'super'>, 'tuple': <class 'tuple'>, 'type': <class 'type'>, 'zip': <class 'zip'>, '__debug__': True, 'BaseException': <class 'BaseException'>, 'BaseExceptionGroup': <class 'BaseExceptionGroup'>, 'Exception': <class 'Exception'>, 'GeneratorExit': <class 'GeneratorExit'>, 'KeyboardInterrupt': <class 'KeyboardInterrupt'>, 'SystemExit': <class 'SystemExit'>, 'ArithmeticError': <class 'ArithmeticError'>, 'AssertionError': <class 'AssertionError'>, 'AttributeError': <class 'AttributeError'>, 'BufferError': <class 'BufferError'>, 'EOFError': <class 'EOFError'>, 'ImportError': <class 'ImportError'>, 'LookupError': <class 'LookupError'>, 'MemoryError': <class 'MemoryError'>, 'NameError': <class 'NameError'>, 'OSError': <class 'OSError'>, 'ReferenceError': <class 'ReferenceError'>, 'RuntimeError': <class 'RuntimeError'>, 'StopAsyncIteration': <class 'StopAsyncIteration'>, 'StopIteration': <class 'StopIteration'>, 'SyntaxError': <class 'SyntaxError'>, 'SystemError': <class 'SystemError'>, 'TypeError': <class 'TypeError'>, 'ValueError': <class 'ValueError'>, 'Warning': <class 'Warning'>, 'FloatingPointError': <class 'FloatingPointError'>, 'OverflowError': <class 'OverflowError'>, 'ZeroDivisionError': <class 'ZeroDivisionError'>, 'BytesWarning': <class 'BytesWarning'>, 'DeprecationWarning': <class 'DeprecationWarning'>, 'EncodingWarning': <class 'EncodingWarning'>, 'FutureWarning': <class 'FutureWarning'>, 'ImportWarning': <class 'ImportWarning'>, 'PendingDeprecationWarning': <class 'PendingDeprecationWarning'>, 'ResourceWarning': <class 'ResourceWarning'>, 'RuntimeWarning': <class 'RuntimeWarning'>, 'SyntaxWarning': <class 'SyntaxWarning'>, 'UnicodeWarning': <class 'UnicodeWarning'>, 'UserWarning': <class 'UserWarning'>, 'BlockingIOError': <class 'BlockingIOError'>, 'ChildProcessError': <class 'ChildProcessError'>, 'ConnectionError': <class 'ConnectionError'>, 'FileExistsError': <class 'FileExistsError'>, 'FileNotFoundError': <class 'FileNotFoundError'>, 'InterruptedError': <class 'InterruptedError'>, 'IsADirectoryError': <class 'IsADirectoryError'>, 'NotADirectoryError': <class 'NotADirectoryError'>, 'PermissionError': <class 'PermissionError'>, 'ProcessLookupError': <class 'ProcessLookupError'>, 'TimeoutError': <class 'TimeoutError'>, 'IndentationError': <class 'IndentationError'>, 'IndexError': <class 'IndexError'>, 'KeyError': <class 'KeyError'>, 'ModuleNotFoundError': <class 'ModuleNotFoundError'>, 'NotImplementedError': <class 'NotImplementedError'>, 'RecursionError': <class 'RecursionError'>, 'UnboundLocalError': <class 'UnboundLocalError'>, 'UnicodeError': <class 'UnicodeError'>, 'BrokenPipeError': <class 'BrokenPipeError'>, 'ConnectionAbortedError': <class 'ConnectionAbortedError'>, 'ConnectionRefusedError': <class 'ConnectionRefusedError'>, 'ConnectionResetError': <class 'ConnectionResetError'>, 'TabError': <class 'TabError'>, 'UnicodeDecodeError': <class 'UnicodeDecodeError'>, 'UnicodeEncodeError': <class 'UnicodeEncodeError'>, 'UnicodeTranslateError': <class 'UnicodeTranslateError'>, 'ExceptionGroup': <class 'ExceptionGroup'>, 'EnvironmentError': <class 'OSError'>, 'IOError': <class 'OSError'>, 'WindowsError': <class 'OSError'>, 'open': <built-in function open>, 'copyright': Copyright (c) 2001-2023 Python Software Foundation.\n",
      "All Rights Reserved.\n",
      "\n",
      "Copyright (c) 2000 BeOpen.com.\n",
      "All Rights Reserved.\n",
      "\n",
      "Copyright (c) 1995-2001 Corporation for National Research Initiatives.\n",
      "All Rights Reserved.\n",
      "\n",
      "Copyright (c) 1991-1995 Stichting Mathematisch Centrum, Amsterdam.\n",
      "All Rights Reserved., 'credits':     Thanks to CWI, CNRI, BeOpen.com, Zope Corporation and a cast of thousands\n",
      "    for supporting Python development.  See www.python.org for more information., 'license': Type license() to see the full license text, 'help': Type help() for interactive help, or help(object) for help about object., 'execfile': <function execfile at 0x0000022090C134C0>, 'runfile': <function runfile at 0x0000022090D52AC0>, '__IPYTHON__': True, 'display': <function display at 0x000002208F76B240>, 'get_ipython': <bound method InteractiveShell.get_ipython of <ipykernel.zmqshell.ZMQInteractiveShell object at 0x0000022092012C90>>}\n"
     ]
    }
   ],
   "source": [
    "# gpu.compute_fast()\n",
    "print(gpu.__builtins__)"
   ]
  },
  {
   "cell_type": "markdown",
   "metadata": {},
   "source": [
    "## Модули и встроенные функции\n",
    "\n",
    "Как мы знаем, Python содержит большое количество встроенных объектов: функций и классов. Все эти объекты являются атрибутами предварительно загружаемого модуля builtins. Когда Python импортирует пользовательский модуль, интерпретатор автоматически заполняет атрибут \\_\\_builtins\\_\\_ данного модуля. Обозначенный атрибут или ссылается на модуль builtins или ссылается на его пространство имен, т.е. на builtins.\\_\\_dict\\_\\_.\n",
    "\n",
    "Если вы обращаетесь к какомо-то объекто по идентефикатору, который ни находится ни в одной из областей видимости данного модуля, Python не возбуждает исключение мгновенно. Вместо этого он осуществляет поиск нужного имени в трибуте \\_\\_builtins\\_\\_."
   ]
  },
  {
   "cell_type": "markdown",
   "metadata": {},
   "source": [
    "## Приватные атрибуты модуля\n",
    "\n",
    "Как и в случае с классами, ни один атрибут модуля не является истинно приватным. Однако, согласно известному соглашению, все объекты, чьи идентефикаторы начинаются с нижнего подчеркивания, считаются приватными. Старайтесь избегать прямого использование приватных атрибутов модулей в своем коде, особенно в случаях со сторонними библиотеками. Ведь, в большенстве случаем разработчики библиотеки гарантируют поддержку интерфейса или сообщают о его устаревании заранее, что не справедливо для реализации. Так, множество приватных атрибутов модулей библиотеки может меняться от релиза к релизу."
   ]
  },
  {
   "cell_type": "markdown",
   "metadata": {},
   "source": [
    "## Ключевое слово from\n",
    "\n",
    "Специальная конструкция **from** позволяет импортировать отдельные атрибуты модуля в текущее пространство имен. Конструкция from имеет две формы:\n",
    "\n",
    "```python\n",
    "from module_name import attrname [as name][, ...]   # первая форма\n",
    "from module_name import *                           # вторая форма\n",
    "```\n",
    "\n",
    "### Первая форма\n",
    "\n",
    "Как и прежде, `module_name` является спецификатором модуля, на нем мы останавливаться не будем. `attrname` - идентефикатор атрибута модуля module_name, или идентефикаторы атрибутов данного модуля, разделенные запятыми. В простейшем случае, attrname - единственны идентефикатор:\n",
    "\n",
    "```Python\n",
    "from module_name import attrname\n",
    "```\n",
    "\n",
    "В этом случае интерпретатор загружает атрибут attrname модуля module_name и связывает его с переменной attrname текущего простраства имен. Если с помощью конструкции `as name` явным образом указан идентефикатор импортируемого аргумента, attrname будет связан с переменной name текущего пространства имен:\n",
    "\n",
    "```Python\n",
    "from module_name import attrname as name\n",
    "```\n",
    "\n",
    "Вы можете импортировать сразу несколько атрибутов из одного модуля в рамках одного выполнения конструкции from. Если число импортируемых атрибутов столь велико, что не может быть корректно размещено в рамках одной физической строки, вы можете представить это физическую строку в виде многострочной логический строки путем использования круглых скобок:\n",
    "\n",
    "```Python\n",
    "from module_name import (\n",
    "    attrname1 as name1,\n",
    "    attrname2,\n",
    "    attrname3,\n",
    "    attrname4 as name4,\n",
    ")\n",
    "```\n",
    "\n",
    "### Вторая форма\n",
    "\n",
    "Данная форма может быть использована только на уровне модуля. В данном контексте звездочка обозначает импорт всех публичных атрибутов модуля в текущее пространство имен. Если в модуле, из которого осуществляется импорт, определен специальный атрибут \\_\\_all\\_\\_, равный списку атрибутов этого модуля, при выполнении данной формы импорта в текущее пространство имен будут перенесены значения из \\_\\_all\\_\\_.\n",
    "\n",
    "Опасайтесь использования этой форма импорта, поскольку импортированные значения могут перекрыть собой существующие переменные. Или наоборот, определяемые в дальнейшем переменные перекроют собой импортированные переменные, что приведет к путанице и дальнейшим сложностям с отладкой программы. "
   ]
  },
  {
   "cell_type": "code",
   "execution_count": 37,
   "metadata": {},
   "outputs": [
    {
     "data": {
      "text/plain": [
       "['c:\\\\Users\\\\dabiz\\\\PycharmProjects\\\\python_mipt_dafe-3\\\\lessons\\\\lesson12',\n",
       " 'c:\\\\Users\\\\dabiz\\\\AppData\\\\Local\\\\Programs\\\\Python\\\\Python311\\\\python311.zip',\n",
       " 'c:\\\\Users\\\\dabiz\\\\AppData\\\\Local\\\\Programs\\\\Python\\\\Python311\\\\DLLs',\n",
       " 'c:\\\\Users\\\\dabiz\\\\AppData\\\\Local\\\\Programs\\\\Python\\\\Python311\\\\Lib',\n",
       " 'c:\\\\Users\\\\dabiz\\\\AppData\\\\Local\\\\Programs\\\\Python\\\\Python311',\n",
       " '',\n",
       " 'C:\\\\Users\\\\dabiz\\\\AppData\\\\Roaming\\\\Python\\\\Python311\\\\site-packages',\n",
       " 'C:\\\\Users\\\\dabiz\\\\AppData\\\\Roaming\\\\Python\\\\Python311\\\\site-packages\\\\win32',\n",
       " 'C:\\\\Users\\\\dabiz\\\\AppData\\\\Roaming\\\\Python\\\\Python311\\\\site-packages\\\\win32\\\\lib',\n",
       " 'C:\\\\Users\\\\dabiz\\\\AppData\\\\Roaming\\\\Python\\\\Python311\\\\site-packages\\\\Pythonwin',\n",
       " 'c:\\\\Users\\\\dabiz\\\\AppData\\\\Local\\\\Programs\\\\Python\\\\Python311\\\\Lib\\\\site-packages']"
      ]
     },
     "execution_count": 37,
     "metadata": {},
     "output_type": "execute_result"
    }
   ],
   "source": [
    "import sys\n",
    "\n",
    "sys.path"
   ]
  }
 ],
 "metadata": {
  "kernelspec": {
   "display_name": "Python 3",
   "language": "python",
   "name": "python3"
  },
  "language_info": {
   "codemirror_mode": {
    "name": "ipython",
    "version": 3
   },
   "file_extension": ".py",
   "mimetype": "text/x-python",
   "name": "python",
   "nbconvert_exporter": "python",
   "pygments_lexer": "ipython3",
   "version": "3.11.5"
  }
 },
 "nbformat": 4,
 "nbformat_minor": 2
}
