{
 "cells": [
  {
   "cell_type": "markdown",
   "metadata": {},
   "source": [
    "# База данных\n",
    "\n",
    "### Преамбула\n",
    "\n",
    "Представим, что мы занимаемся разработкой высоконагруженного приложения. Большинство высоконагруженных приложений сегодня не обходятся без баз данных. С развитием микрисервисной архитектуры прямой доступ к базе данных стал считаться мовитоном, для этих целей обычно используются обертки вокруг баз данных, чтобы обеспечить безопасный доступ к данным нескольких сервисов. Нашей целью будет реализовать примитивную обертку.\n",
    "\n",
    "### Детальное описание\n",
    "\n",
    "Наше приложение, без привязки к какому-либо домену, предоставляет пользователю некоторые услуги. Чтобы получить доступ к этим услугам, пользователь должен зарегистрироваться. Во время регистрации пользователь должен придумать уникальный никнейм, придумать надежный пароль, привязать адрес своей электронной почты, указать дату рождения. Причем к предоставляемой информации существует ряд требований:\n",
    "\n",
    "- никнейм должен быть уникальный в контексте нечувствительности к кейсу;  \n",
    "- никнейм должен состоять не менее чем из 2 и не более чем из 10 допустимых символов; допустимыми символами считаются буквы английского алфавита в верхнем и нижнем регистре, а также цифры от 0 до 9; никнейм не может начинаться с цифры;  \n",
    "- пароль может состоять только из английских буквы в верхнем и нижнем регистре, цифр от 0 до 9 и из знаков пунктуации;  \n",
    "- пароль считается надежным, если его длина не меньше 8 символов; также пароль должен содержать цифры, английские буквы в верхнем и нижнем регистре, знаки препинания;  \n",
    "- почта должна быть уникальна - не разрешается привязывать более одного аккаунта к одному и тому же адресу;  \n",
    "- пользователь должен быть совершеннолетним, т.е. с его даты рождения должно пройти не менее 18 лет;  \n",
    "\n",
    "Если никнейм, пароль, почта или возраст не соответствуют установленным требованиям, регистрация пользователя заканчивается возбуждением исключения `ValueError`, в котором сообщается, что именно не соответсвует требованиям. Иначе, записи о пользователе присваивается уникальный идентефикатор, который используется микросервисами приложения для обмена данными. В базу данных заносится следующая информация:\n",
    "\n",
    "- уникальный идентефикатор;  \n",
    "- никнейм;  \n",
    "- пароль;  \n",
    "- электронная почта;  \n",
    "- дата рождения;  \n",
    "- время последней активности в приложении - сначала это дата регистрации;  \n",
    "\n",
    "Визуализация данных:\n",
    "\n",
    "|id|nickname|password|email|birthday|last action timestamp|\n",
    "|--|--|--|--|--|--|\n",
    "|1 |Alex| 1a2Bc!ef| alex@gmail.com| 2001-09-10 | 2023-10-13\n",
    "\n",
    "Существуют следующие сценарии взаимодействия микросервисов нашего приложения с данной базой данных:\n",
    "\n",
    "- добавление новой записи;  \n",
    "- запрос информации о записях по указанным индентификаторам;  \n",
    "- изменение никнейма, пароля или электронной почты по указанному идентефикатору; причем новые значения должны удовлетворять всем ограничениям, накладываемым на соответствующие данные;  \n",
    "- удаление записи из БД по указанному id;  \n",
    "- обновление поля last action timestamp по id;  \n",
    "\n",
    "Все действия, кроме удаления записи, сопровождаются обновлениям поля `last action timestamp` - запись текущего таймстемпа.\n",
    "\n",
    "Также, поскольку наше приложение - это стартап и мы не можем позволить себе вечное хранение огромного количества данных, наша обертка должна обладать функционалом для удаления данных пользователей, непроявляющих активность в течении полугода. Эта функция будет использоваться некторым внешним скедулером, передающим нам таймстемп относительно которого и вычисляются эти 6 месяцев. \n",
    "\n",
    "**Опционально:**\n",
    "\n",
    "- предусмотреть возможность бекапа - сохранение данных нашей питонячьей базы в текстовый файл;  \n",
    "- предусмотреть возможность восстановления нашей питонячьей базы данных из текстового файла;  "
   ]
  },
  {
   "cell_type": "markdown",
   "metadata": {},
   "source": [
    "-------------------------------------\n",
    "**Реализация**"
   ]
  },
  {
   "cell_type": "code",
   "execution_count": 6,
   "metadata": {},
   "outputs": [],
   "source": [
    "from dateutil.relativedelta import relativedelta\n",
    "from datetime import datetime, timedelta\n",
    "from typing import Iterable, Any\n",
    "from enum import Enum\n",
    "\n",
    "from string import (\n",
    "    ascii_lowercase,\n",
    "    ascii_uppercase,\n",
    "    punctuation,\n",
    "    digits,\n",
    ")"
   ]
  },
  {
   "cell_type": "code",
   "execution_count": 7,
   "metadata": {},
   "outputs": [],
   "source": [
    "class UserFields(Enum):\n",
    "    nickname = 0\n",
    "    password = 1\n",
    "    email = 2\n",
    "    birthday = 3\n",
    "    last_action_ = 4"
   ]
  },
  {
   "cell_type": "code",
   "execution_count": 8,
   "metadata": {},
   "outputs": [],
   "source": [
    "id_gen = 0\n",
    "\n",
    "data_base = {}\n",
    "names = set()\n",
    "emails = set()"
   ]
  },
  {
   "cell_type": "code",
   "execution_count": 9,
   "metadata": {},
   "outputs": [],
   "source": [
    "def is_valid_nickname(nickname: str) -> bool:\n",
    "    global names\n",
    "\n",
    "    if not isinstance(nickname, str):\n",
    "        raise TypeError(\n",
    "            f'Unexpected nickname type: {type(nickname).__name__}; '\n",
    "            'str type was expected;'\n",
    "        )\n",
    "\n",
    "    nickname = nickname.lower()\n",
    "\n",
    "    return all([\n",
    "        2 <= len(nickname) <= 10,\n",
    "        nickname.isalnum(),\n",
    "        not nickname[0].isdigit(),\n",
    "        nickname not in names,\n",
    "    ])"
   ]
  },
  {
   "cell_type": "code",
   "execution_count": 10,
   "metadata": {},
   "outputs": [],
   "source": [
    "def is_valid_password(password: str) -> bool:\n",
    "    if not isinstance(password, str):\n",
    "        raise TypeError(\n",
    "            f'Unexpected password type: {type(password).__name__}; '\n",
    "            'str type was expected;'\n",
    "        )\n",
    "    \n",
    "    password_set = set(password)\n",
    "\n",
    "    return all([\n",
    "        8 <= len(password),\n",
    "        password_set & set(ascii_lowercase),\n",
    "        password_set & set(ascii_uppercase),\n",
    "        password_set & set(digits),\n",
    "        password_set & set(punctuation),\n",
    "    ])"
   ]
  },
  {
   "cell_type": "code",
   "execution_count": null,
   "metadata": {},
   "outputs": [],
   "source": [
    "def is_valid_birthday(birthday: datetime):\n",
    "    current_date = datetime.now()\n",
    "    shifted_date = datetime(\n",
    "        datetime.now().year - 18, current_date.month, current_date.day\n",
    "    )\n",
    "\n",
    "    return birthday <= shifted_date"
   ]
  },
  {
   "cell_type": "code",
   "execution_count": null,
   "metadata": {},
   "outputs": [],
   "source": [
    "def add_new_user(description: list[Any]) -> None:\n",
    "    global id_gen, data_base, emails\n",
    "\n",
    "    if not isinstance(description, list):\n",
    "        raise TypeError(\n",
    "            f'Unexpected description type: {type(description).__name__}; '\n",
    "            'list type was expected;'\n",
    "        )\n",
    "    \n",
    "    if len(description) != 4:\n",
    "        raise TypeError(\n",
    "            f'Incorrect description len: {len(description)}; ')\n",
    "    \n",
    "    if not is_valid_nickname(description[UserFields.nickname.value]):\n",
    "        raise ValueError(\n",
    "            f'Invalid nickname: {description[UserFields.nickname.value]}')\n",
    "\n",
    "    if not is_valid_password(description[UserFields.password.value]):\n",
    "        raise ValueError(\n",
    "            f'Invalid password: {description[UserFields.password.value]}')\n",
    "    \n",
    "    if description[UserFields.email.value] in emails:\n",
    "        raise ValueError(\n",
    "            f'{description[UserFields.email.value]} already exists')\n",
    "    \n",
    "    base_date = datetime()\n",
    "\n",
    "    if age <= "
   ]
  },
  {
   "cell_type": "code",
   "execution_count": 11,
   "metadata": {},
   "outputs": [
    {
     "data": {
      "text/plain": [
       "True"
      ]
     },
     "execution_count": 11,
     "metadata": {},
     "output_type": "execute_result"
    }
   ],
   "source": [
    "is_valid_password()"
   ]
  }
 ],
 "metadata": {
  "kernelspec": {
   "display_name": "Python 3",
   "language": "python",
   "name": "python3"
  },
  "language_info": {
   "codemirror_mode": {
    "name": "ipython",
    "version": 3
   },
   "file_extension": ".py",
   "mimetype": "text/x-python",
   "name": "python",
   "nbconvert_exporter": "python",
   "pygments_lexer": "ipython3",
   "version": "3.11.1"
  }
 },
 "nbformat": 4,
 "nbformat_minor": 2
}
