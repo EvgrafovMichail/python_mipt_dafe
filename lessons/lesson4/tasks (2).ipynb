{
 "cells": [
  {
   "cell_type": "markdown",
   "metadata": {},
   "source": [
    "# Семинар: строки"
   ]
  },
  {
   "cell_type": "markdown",
   "metadata": {},
   "source": []
  },
  {
   "cell_type": "markdown",
   "metadata": {},
   "source": [
    "## Разминка\n",
    "\n",
    "Реализовать две функции: первая удаляет все цифры в строке, вторая - все буквы."
   ]
  },
  {
   "cell_type": "code",
   "execution_count": 16,
   "metadata": {},
   "outputs": [],
   "source": [
    "def delete_digits(string: str) -> str:\n",
    "    for elem in '0123456789':\n",
    "        string = string.replace(elem, '')\n",
    "    return string\n",
    "\n",
    "from string import *\n",
    "def delete_letters(string: str) -> str:\n",
    "    for elem in ascii_letters:\n",
    "        string = string.replace(elem, '')\n",
    "    return string"
   ]
  },
  {
   "cell_type": "markdown",
   "metadata": {},
   "source": [
    "**Тесты**:"
   ]
  },
  {
   "cell_type": "code",
   "execution_count": 17,
   "metadata": {},
   "outputs": [],
   "source": [
    "assert delete_digits('123abnd4FDhj32') == 'abndFDhj'\n",
    "assert delete_letters('123abnd4FDhj32') == '123432'"
   ]
  },
  {
   "cell_type": "markdown",
   "metadata": {},
   "source": [
    "## Задача 1: Наивный Шифр\n",
    "\n",
    "**Условие**:\n",
    "\n",
    "Мы решили зашифровать слово, состоящее из букв английского алфавита в нижнем регистре. Но поскольку наши познания в криптографии невелики для шифрования решено было использовать один из самых простых шифров: перестановка над английским алфавитом. Перестановка записывается следующим образом: заполняется список из 26 элементов; номер ячейки соответствует номеру буквы в полученной перестановке; содержимое ячейки - ASCII код буквы. Ваша задача - реализовать алгоритм, который будет шифровывать заданное слово по заданной перестановке.\n",
    "\n",
    "**Вход**:\n",
    "- word - строка, состоящая только из букв англиского алфавита в нижнем регистре;  \n",
    "- permutation - список, состоящий из 26 элементов; содержимое списка - ASCII-коды букв английского алфавита в нижнем регистре;\n",
    "\n",
    "**Выход**:\n",
    "\n",
    "- зашифрованное слово - строка;\n",
    "\n",
    "**Решение:**"
   ]
  },
  {
   "cell_type": "code",
   "execution_count": 104,
   "metadata": {},
   "outputs": [],
   "source": [
    "from string import *\n",
    "def encode(word: str, permutation: list[int]) -> str:\n",
    "    alp = ascii_lowercase\n",
    "    ans = ''\n",
    "    for elem in word:\n",
    "        ans += chr(permutation[alp.index(elem)])\n",
    "    return ans"
   ]
  },
  {
   "cell_type": "markdown",
   "metadata": {},
   "source": [
    "**Тесты**:"
   ]
  },
  {
   "cell_type": "code",
   "execution_count": 107,
   "metadata": {},
   "outputs": [
    {
     "data": {
      "text/plain": [
       "'zlllz'"
      ]
     },
     "execution_count": 107,
     "metadata": {},
     "output_type": "execute_result"
    }
   ],
   "source": [
    "permutation = [\n",
    "    122, 108, 99, 100, 101, 102, 103, 104, 105,\n",
    "    106, 107, 98, 109, 110, 108, 112, 113, 114,\n",
    "    115, 116, 117, 118, 119, 120, 121, 97\n",
    "]\n",
    "\n",
    "word = 'aboba'\n",
    "\n",
    "# assert 'zbobz' == encode(word, permutation)\n",
    "encode(word, permutation)"
   ]
  },
  {
   "cell_type": "markdown",
   "metadata": {},
   "source": [
    "**Объяснение:** в перестановке мы переставили буквы 'a' и 'z' местами."
   ]
  },
  {
   "cell_type": "markdown",
   "metadata": {},
   "source": [
    "## Задача 2: Переставь слова\n",
    "\n",
    "**Условие**:\n",
    "\n",
    "Дана последовательность символов: строка, состоящая из заглавных и строчных букв английского алфавита, знаков препинания и пробелов. Причем, строка составлена не самым грамотным пользователем, а потому количество пробелов между непробельными символами может быть произвольным. Также неисключено наличие пробелов в начале и в конце строки. Необходимо найти самое длинное слово в строке, самое короткое слово в строке и поменять их местами. В качестве ответа вернуть строку с переставленными словами. Пробелы между словами, а также в начале и конце строки необходимо оставить нетронутыми.\n",
    "\n",
    "Если слов одинковой длины несколько, необходимо взять первое встретевшееся.\n",
    "\n",
    "*Примечание*: словом считается любая последовательность символов, не содержащая пробелов.\n",
    "\n",
    "**Вход**:\n",
    "\n",
    "- строка, состоящая из букв английского алфавита, знаков препинания и пробелов;  \n",
    "\n",
    "**Выход:**\n",
    "\n",
    "- строка, в которой самое длинное слово и самое короткое слово переставлены;  \n",
    "\n",
    "**Решение**:"
   ]
  },
  {
   "cell_type": "code",
   "execution_count": 108,
   "metadata": {},
   "outputs": [],
   "source": [
    "def swap_words(sentence: str) -> str:\n",
    "    max_l = max(sentence.split(), key=len)\n",
    "    min_l = min(sentence.split(), key=len)\n",
    "    lex = []\n",
    "    num_space = 0\n",
    "    for elem in sentence:\n",
    "        if elem.isspace():\n",
    "            num_space += 1\n",
    "        else:\n",
    "            lex.append(str(num_space))\n",
    "            lex.append(elem)\n",
    "            num_space = 0\n",
    "    lex.append(str(num_space))\n",
    "    lex = [elem for elem in lex if elem != '0']\n",
    "    ans = [lex[0]]\n",
    "    for i in range(1, len(lex)):\n",
    "        if lex[i].isalpha() and ans[-1].isalpha():\n",
    "            ans[-1] += lex[i]\n",
    "        else:\n",
    "            ans.append(lex[i])\n",
    "    ind_min = ans.index(min_l)\n",
    "    ind_max = ans.index(max_l)\n",
    "    ans[ind_max] = min_l\n",
    "    ans[ind_min] = max_l\n",
    "    res = ''\n",
    "    for elem in ans:\n",
    "        if elem.isdigit():\n",
    "            res += ' ' * int(elem)\n",
    "        else:\n",
    "            res += elem\n",
    "    return res"
   ]
  },
  {
   "cell_type": "markdown",
   "metadata": {},
   "source": [
    "**Тесты:**"
   ]
  },
  {
   "cell_type": "code",
   "execution_count": 113,
   "metadata": {},
   "outputs": [
    {
     "data": {
      "text/plain": [
       "['',\n",
       " 'bb',\n",
       " 'c',\n",
       " '',\n",
       " '',\n",
       " '',\n",
       " '',\n",
       " 'a',\n",
       " 'b',\n",
       " '',\n",
       " 'c',\n",
       " '',\n",
       " '',\n",
       " 'dd',\n",
       " '',\n",
       " 'c',\n",
       " 'wwww']"
      ]
     },
     "execution_count": 113,
     "metadata": {},
     "output_type": "execute_result"
    }
   ],
   "source": [
    "assert ' dd b  c   a  ' == swap_words(' a b  c   dd  ')\n",
    "swap_words(' bb c     a b  c   dd  c wwww')\n",
    "' bb c     a b  c   dd  c wwww'.split(' ')"
   ]
  },
  {
   "cell_type": "markdown",
   "metadata": {},
   "source": [
    "## Задача 3: Правильная скобочная последовательность\n",
    "\n",
    "**Условие**:\n",
    "\n",
    "Правильная скобочная последовательность определяется следующим образом:\n",
    "\n",
    "- пустая строка - правильная скобочная последовательность;  \n",
    "- правильная скобочная последовательность, взятая в круглые скобки - правильная скобочная последовательность;  \n",
    "- правильная скобочная последовательность, к которой приписана слева или справа правильная скобочная последовательность — правильная скобочная последовательность;\n",
    "\n",
    "Итак, на вход подается строка, состоящая только из символов \"(\", \")\". Ваша задача - определить является ли поданная строка правильной скобочной последовательностью или нет.\n",
    "\n",
    "**Вход**:\n",
    "\n",
    "- sequence - строка, состоящая из круглых скобок;\n",
    "\n",
    "**Выход**:\n",
    "\n",
    "- булево значение, True, если строка - правильная скобочная последовательность, False - иначе;\n",
    "\n",
    "**Решение**:"
   ]
  },
  {
   "cell_type": "code",
   "execution_count": 114,
   "metadata": {},
   "outputs": [],
   "source": [
    "def is_correct_bracket_seq(sequence: str) -> bool:\n",
    "    if sequence.count('(') != sequence.count(')'):\n",
    "        return False\n",
    "    num_open = 0\n",
    "    for elem in sequence:\n",
    "        if elem == '(':\n",
    "            num_open += 1\n",
    "        else:\n",
    "            num_open -= 1\n",
    "        if num_open < 0:\n",
    "            return False\n",
    "    if num_open:\n",
    "        return False    \n",
    "    return True\n",
    "    pass"
   ]
  },
  {
   "cell_type": "markdown",
   "metadata": {},
   "source": [
    "**Тесты**:"
   ]
  },
  {
   "cell_type": "code",
   "execution_count": 116,
   "metadata": {},
   "outputs": [
    {
     "data": {
      "text/plain": [
       "False"
      ]
     },
     "execution_count": 116,
     "metadata": {},
     "output_type": "execute_result"
    }
   ],
   "source": [
    "assert is_correct_bracket_seq('')\n",
    "assert is_correct_bracket_seq('()()')\n",
    "assert not is_correct_bracket_seq(')(')\n",
    "\n",
    "is_correct_bracket_seq('((())))(()')"
   ]
  },
  {
   "cell_type": "markdown",
   "metadata": {},
   "source": [
    "## Задача 4: Странный калькулятор\n",
    "\n",
    "**Условие**:\n",
    "\n",
    "Назовем странным калькулятором калькулятор, который работает следующим образом:\n",
    "\n",
    "- на вход калькулятору подается строка, в которой описано некоторое алгебраическое выражение;  \n",
    "- операндами этого выражения являются исключительно целые числа, записанные в следующей форме: каждая цифра числа записана английским словом, обозначающим эту цифру; сами цифры, составляющие запись числа, записаны подряд. Например число десять будет иметь запись `onezero`;  \n",
    "- в состав строки входят только операторы сложения и умножения;  \n",
    "- операнды и операторы разделены пробелами;  \n",
    "- калькулятор вычисляет описанное таким образом выражение и вызвращает результат - целое число;   \n",
    "\n",
    "Ваша задача реализовать такой калькулятор.\n",
    "\n",
    "**Вход**:\n",
    "\n",
    "- строка, состоящая из слов 'zero', 'one', 'two', 'three', 'four', 'five', 'six', 'seven', 'eight', 'nine', символов '+' и '-' и пробелов;  \n",
    "\n",
    "**Выход**:\n",
    "\n",
    "- целое число - результат выполнения выражения;\n",
    "\n",
    "**Решение**:"
   ]
  },
  {
   "cell_type": "code",
   "execution_count": 128,
   "metadata": {},
   "outputs": [],
   "source": [
    "def calculate(expression: str) -> int:\n",
    "    oper = ['zero', 'one', 'two', 'three', 'four', 'five', 'six', 'seven', 'eight', 'nine']\n",
    "    for elem in oper:\n",
    "        expression = expression.replace(elem, str(oper.index(elem)))\n",
    "    expression = expression.replace(' ', '')\n",
    "    print(expression)\n",
    "    lex = []\n",
    "    num = ''\n",
    "    for i in range(len(expression)):\n",
    "        if i == 0 and i == '-':\n",
    "            num += '-'\n",
    "        else:\n",
    "            if expression[i] in '0123456789':\n",
    "                num += expression[i]\n",
    "            else:\n",
    "                if len(num):\n",
    "                    lex.append((num))\n",
    "                lex.append(expression[i])\n",
    "                num = ''\n",
    "    lex.append(num)\n",
    "    print(lex)\n",
    "    ans = 0\n",
    "    l = ''\n",
    "    for elem in lex:\n",
    "        if elem == '-':\n",
    "            if l == '-':\n",
    "                l = '+'\n",
    "            else:\n",
    "                l = '-'\n",
    "        elif elem == '+':\n",
    "            l = '+'\n",
    "        else:\n",
    "            if l == '-':\n",
    "                ans = ans - int(elem)\n",
    "                l = ''\n",
    "            else:\n",
    "                l = ''\n",
    "                ans = ans + int(elem)\n",
    "    print(ans)\n",
    "    return ans"
   ]
  },
  {
   "cell_type": "markdown",
   "metadata": {},
   "source": [
    "**Тесты**:"
   ]
  },
  {
   "cell_type": "code",
   "execution_count": 131,
   "metadata": {},
   "outputs": [
    {
     "name": "stdout",
     "output_type": "stream",
     "text": [
      "-1+2+35--10\n",
      "['-', '1', '+', '2', '+', '35', '-', '-', '10']\n",
      "46\n"
     ]
    }
   ],
   "source": [
    "assert calculate('-one + two + threefive - - onezero') == 46"
   ]
  },
  {
   "cell_type": "markdown",
   "metadata": {},
   "source": [
    "## Задача 5: Парсер\n",
    "\n",
    "Необходимо реализовать следующий алгоритм парсинга документов:\n",
    "\n",
    "- на вход алгоритму подается строка, которую необходимо распарсить, и пары специальных символов, которые поддерживаются парсером; например: \\</a>, \\<a>;  \n",
    "- строка состоит из специальных символов и строк, окруженных специальными символами;  \n",
    "- валидными считаются слова, которые заключены в правильную пару служебных символов, и служебные символы этой пары входят в список символов, поддерживаемых парсером; например, слово, заключенное в служебные символы: \\</a>word\\<a>, будет валидным, если \\</a> и \\<a> поддерживаются парсером - а слово, заключенное в служебные символы: \\</b>word\\<a> - не будет валидным ни в каком случае;  \n",
    "- парсер выделяет валидные слова, и сохраняет уникальные валидные слова в список;  \n",
    "\n",
    "Ваша задача - реализовать описанный алгоритм парсинга.\n",
    "\n",
    "**Вход:** \n",
    "\n",
    "- строка, состоящая из специальных символов следующего формата: \\<[ / ]english_letter>, - и из букв английского алфавита;  \n",
    "- список пар(кортежей) - валидных служебных конструкций;  \n",
    "\n",
    "**Выход**:\n",
    "\n",
    "- список уникальных валидных слов;  \n",
    "\n",
    "**Решение:**"
   ]
  },
  {
   "cell_type": "code",
   "execution_count": 62,
   "metadata": {},
   "outputs": [],
   "source": [
    "def parse(\n",
    "    string: str, valid_pairs: list[tuple[str, str]]\n",
    ") -> list[str]:\n",
    "    ans = []\n",
    "    ban = []\n",
    "    for elem in valid_pairs:\n",
    "        ban.append(elem[0])\n",
    "        ban.append(elem[1])\n",
    "    for elem in valid_pairs:\n",
    "        str1 = string.replace(elem[0], '+').replace(elem[1], '-')\n",
    "        a = ''\n",
    "        flag = 0\n",
    "        str2 = []\n",
    "        for i in range(len(str1)):\n",
    "            if flag:\n",
    "                if str1[i] == '-':\n",
    "                    str2.append(a)\n",
    "                    flag = 0\n",
    "                    a = ''\n",
    "                elif str1[i] == '+':\n",
    "                    a = ''\n",
    "                else:\n",
    "                    a += str1[i]\n",
    "            else:\n",
    "                if str1[i] == '+':\n",
    "                    flag = 1\n",
    "        for elem1 in str2:\n",
    "            f = 1\n",
    "            for ban1 in ban:\n",
    "                if ban1 in elem1:\n",
    "                    f = 0\n",
    "            if f:\n",
    "                if len(elem1) and elem1 not in ans:\n",
    "                    ans.append(elem1)\n",
    "    return ans"
   ]
  },
  {
   "cell_type": "markdown",
   "metadata": {},
   "source": [
    "**Тесты:**"
   ]
  },
  {
   "cell_type": "code",
   "execution_count": 63,
   "metadata": {},
   "outputs": [
    {
     "data": {
      "text/plain": [
       "['frozenset', 'list', '<C>']"
      ]
     },
     "execution_count": 63,
     "metadata": {},
     "output_type": "execute_result"
    }
   ],
   "source": [
    "string = (\n",
    "    \"</p><p><a>float</b></p><p><b>frozenset</b><c><c><c><C></c></b></a>\"\n",
    "    \"</p><p><c>list</c></p><p><b>list</b>\"\n",
    ")\n",
    "valid_pairs = [(\"<a>\", \"</a>\"), (\"<b>\", \"</b>\"), (\"<c>\", \"</c>\")]\n",
    "\n",
    "# assert parse(string, valid_pairs) == [\"frozenset\", \"list\"]\n",
    "parse(string, valid_pairs)"
   ]
  },
  {
   "cell_type": "markdown",
   "metadata": {},
   "source": [
    "## Задача 6: Умная консоль\n",
    "\n",
    "**Условие**:\n",
    "\n",
    "Вы работаете с консолью, которая имеет некий набор команд. Консоль достаточно умная и умеет исправлять ошибки пользователя, если ошибка незначительная. Незначительными считаются ошибки одного из трёх типов:\n",
    "\n",
    "- ввод одного лишнего символа;  \n",
    "- пропуск одного символа;  \n",
    "- один неправильно введенный символ; \n",
    "\n",
    "Притом описанные ошибки не должны вызывать неоднозначность. Так, например комманда \"gt\" с набором команд [cd, ls, git] будет восстановлена до команды git, но та же команда с набором команд [cd, ls, git, get] может соответствовать как команде \"get\", так и команде \"git\" и восстановлена не будет.\n",
    "\n",
    "Если команда написана с незначительной ошибкой, то консоль её автоматически исправляет и выполняет. Реализуйте алгоритм check_comand, который проверяет, выполнит ли консоль с заданным набором команд команду пользователя или нет.\n",
    "\n",
    "**Вход**:\n",
    "\n",
    "- user_comand - строка, команда, введенная пользователем;  \n",
    "- comands - список строк, команды, поддерживаемые консолью;  \n",
    "\n",
    "**Выход**:\n",
    "\n",
    "- булево значение: True, если команда будет выполнена, False - иначе;\n",
    "\n",
    "**Решение:**"
   ]
  },
  {
   "cell_type": "code",
   "execution_count": 2,
   "metadata": {},
   "outputs": [],
   "source": [
    "def check_comand(user_comand: str, comands: list[str]) -> bool:\n",
    "    miss = []\n",
    "    for elem in comands:\n",
    "        mistake = 0\n",
    "        f =0 \n",
    "        for i in range(len(user_comand)):\n",
    "            if user_comand[i] in elem:\n",
    "                f = 1\n",
    "                if i != elem.index(user_comand[i]):\n",
    "                    mistake += abs(i - elem.index(user_comand[i]))\n",
    "            else:\n",
    "                mistake += 1\n",
    "        if f:\n",
    "            mistake += abs(len(elem) - len(user_comand))\n",
    "            miss.append(mistake)\n",
    "        else:\n",
    "            miss.append(-1)\n",
    "    miss = [elem for elem in miss if elem >= 0]\n",
    "    print(miss)\n",
    "    if len(miss) == len(set(miss)):\n",
    "        return True\n",
    "    else:\n",
    "        return False"
   ]
  },
  {
   "cell_type": "markdown",
   "metadata": {},
   "source": [
    "**Тесты:**"
   ]
  },
  {
   "cell_type": "code",
   "execution_count": 3,
   "metadata": {},
   "outputs": [
    {
     "name": "stdout",
     "output_type": "stream",
     "text": [
      "[8, 1]\n",
      "[2, 2]\n"
     ]
    },
    {
     "ename": "AssertionError",
     "evalue": "",
     "output_type": "error",
     "traceback": [
      "\u001b[1;31m---------------------------------------------------------------------------\u001b[0m",
      "\u001b[1;31mAssertionError\u001b[0m                            Traceback (most recent call last)",
      "\u001b[1;32mc:\\Users\\ROG\\Desktop\\Programming\\Python\\python_mipt_dafe\\lessons\\lesson4\\tasks (2).ipynb Cell 31\u001b[0m line \u001b[0;36m2\n\u001b[0;32m      <a href='vscode-notebook-cell:/c%3A/Users/ROG/Desktop/Programming/Python/python_mipt_dafe/lessons/lesson4/tasks%20%282%29.ipynb#X42sZmlsZQ%3D%3D?line=0'>1</a>\u001b[0m \u001b[39massert\u001b[39;00m check_comand(\u001b[39m'\u001b[39m\u001b[39mabcd\u001b[39m\u001b[39m'\u001b[39m, [\u001b[39m'\u001b[39m\u001b[39mcd\u001b[39m\u001b[39m'\u001b[39m, \u001b[39m'\u001b[39m\u001b[39mls\u001b[39m\u001b[39m'\u001b[39m, \u001b[39m'\u001b[39m\u001b[39mgit\u001b[39m\u001b[39m'\u001b[39m, \u001b[39m'\u001b[39m\u001b[39mabed\u001b[39m\u001b[39m'\u001b[39m]) \n\u001b[1;32m----> <a href='vscode-notebook-cell:/c%3A/Users/ROG/Desktop/Programming/Python/python_mipt_dafe/lessons/lesson4/tasks%20%282%29.ipynb#X42sZmlsZQ%3D%3D?line=1'>2</a>\u001b[0m \u001b[39massert\u001b[39;00m  check_comand(\u001b[39m'\u001b[39m\u001b[39mgt\u001b[39m\u001b[39m'\u001b[39m, [\u001b[39m'\u001b[39m\u001b[39mcd\u001b[39m\u001b[39m'\u001b[39m, \u001b[39m'\u001b[39m\u001b[39mls\u001b[39m\u001b[39m'\u001b[39m, \u001b[39m'\u001b[39m\u001b[39mgit\u001b[39m\u001b[39m'\u001b[39m, \u001b[39m'\u001b[39m\u001b[39mget\u001b[39m\u001b[39m'\u001b[39m])\n",
      "\u001b[1;31mAssertionError\u001b[0m: "
     ]
    }
   ],
   "source": [
    "assert check_comand('abcd', ['cd', 'ls', 'git', 'abed']) \n",
    "assert  check_comand('gt', ['cd', 'ls', 'git', 'get'])"
   ]
  }
 ],
 "metadata": {
  "kernelspec": {
   "display_name": "Python 3",
   "language": "python",
   "name": "python3"
  },
  "language_info": {
   "codemirror_mode": {
    "name": "ipython",
    "version": 3
   },
   "file_extension": ".py",
   "mimetype": "text/x-python",
   "name": "python",
   "nbconvert_exporter": "python",
   "pygments_lexer": "ipython3",
   "version": "3.11.4"
  },
  "orig_nbformat": 4
 },
 "nbformat": 4,
 "nbformat_minor": 2
}
