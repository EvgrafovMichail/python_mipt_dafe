{
 "cells": [
  {
   "cell_type": "markdown",
   "metadata": {},
   "source": [
    "# Семинар: строки"
   ]
  },
  {
   "cell_type": "markdown",
   "metadata": {},
   "source": [
    "## Разминка\n",
    "\n",
    "Реализовать две функции: первая удаляет все цифры в строке, вторая - все буквы."
   ]
  },
  {
   "cell_type": "code",
   "execution_count": 4,
   "metadata": {},
   "outputs": [],
   "source": [
    "def delete_digits(string: str) -> str:\n",
    "    for i in '0123456789':\n",
    "        string = string.replace(i, '')\n",
    "    return string\n",
    "\n",
    "\n",
    "def delete_letters(string: str) -> str:\n",
    "    for i in 'abcdefghijklmnopqrstuvwxyzABCDEFGHIJKLMNOPQRSTUVWXYZ':\n",
    "        string = string.replace(i, '')\n",
    "    return string"
   ]
  },
  {
   "cell_type": "markdown",
   "metadata": {},
   "source": [
    "**Тесты**:"
   ]
  },
  {
   "cell_type": "code",
   "execution_count": 5,
   "metadata": {},
   "outputs": [],
   "source": [
    "assert delete_digits('123abnd4FDhj32') == 'abndFDhj'\n",
    "assert delete_letters('123abnd4FDhj32') == '123432'"
   ]
  },
  {
   "cell_type": "markdown",
   "metadata": {},
   "source": [
    "## Задача 1: Наивный Шифр\n",
    "\n",
    "**Условие**:\n",
    "\n",
    "Мы решили зашифровать слово, состоящее из букв английского алфавита в нижнем регистре. Но поскольку наши познания в криптографии невелики для шифрования решено было использовать один из самых простых шифров: перестановка над английским алфавитом. Перестановка записывается следующим образом: заполняется список из 26 элементов; номер ячейки соответствует номеру буквы в полученной перестановке; содержимое ячейки - ASCII код буквы. Ваша задача - реализовать алгоритм, который будет шифровывать заданное слово по заданной перестановке.\n",
    "\n",
    "**Вход**:\n",
    "- word - строка, состоящая только из букв англиского алфавита в нижнем регистре;  \n",
    "- permutation - список, состоящий из 26 элементов; содержимое списка - ASCII-коды букв английского алфавита в нижнем регистре;\n",
    "\n",
    "**Выход**:\n",
    "\n",
    "- зашифрованное слово - строка;\n",
    "\n",
    "**Решение:**"
   ]
  },
  {
   "cell_type": "code",
   "execution_count": 4,
   "metadata": {},
   "outputs": [
    {
     "name": "stdout",
     "output_type": "stream",
     "text": [
      "zsd\n"
     ]
    }
   ],
   "source": [
    "def encode(word: str, permutation: list[int]) -> str:\n",
    "    alphabet = 'abcdefghijklmnopqrstuvwxyz'\n",
    "    for i in word:\n",
    "        word = word.replace(i, alphabet[permutation[ord(i) - 97] - 97], 1)\n",
    "    return word\n",
    "\n",
    "\n",
    "permutation = [\n",
    "    122, 98, 99, 100, 101, 102, 103, 104, 105,\n",
    "    106, 107, 108, 109, 110, 111, 112, 113, 114,\n",
    "    115, 116, 117, 118, 119, 120, 121, 97\n",
    "]\n",
    "\n",
    "word = 'asd'\n",
    "\n",
    "print(encode(word, permutation))"
   ]
  },
  {
   "cell_type": "markdown",
   "metadata": {},
   "source": [
    "**Тесты**:"
   ]
  },
  {
   "cell_type": "code",
   "execution_count": 3,
   "metadata": {},
   "outputs": [],
   "source": [
    "permutation = [\n",
    "    122, 98, 99, 100, 101, 102, 103, 104, 105,\n",
    "    106, 107, 108, 109, 110, 111, 112, 113, 114,\n",
    "    115, 116, 117, 118, 119, 120, 121, 97\n",
    "]\n",
    "\n",
    "word = 'aboba'\n",
    "\n",
    "assert 'zbobz' == encode(word, permutation)"
   ]
  },
  {
   "cell_type": "markdown",
   "metadata": {},
   "source": [
    "**Объяснение:** в перестановке мы переставили буквы 'a' и 'z' местами."
   ]
  },
  {
   "cell_type": "markdown",
   "metadata": {},
   "source": [
    "## Задача 2: Переставь слова\n",
    "\n",
    "**Условие**:\n",
    "\n",
    "Дана последовательность символов: строка, состоящая из заглавных и строчных букв английского алфавита, знаков препинания и пробелов. Причем, строка составлена не самым грамотным пользователем, а потому количество пробелов между непробельными символами может быть произвольным. Также неисключено наличие пробелов в начале и в конце строки. Необходимо найти самое длинное слово в строке, самое короткое слово в строке и поменять их местами. В качестве ответа вернуть строку с переставленными словами. Пробелы между словами, а также в начале и конце строки необходимо оставить нетронутыми.\n",
    "\n",
    "Если слов одинковой длины несколько, необходимо взять первое встретевшееся.\n",
    "\n",
    "*Примечание*: словом считается любая последовательность символов, не содержащая пробелов.\n",
    "\n",
    "**Вход**:\n",
    "\n",
    "- строка, состоящая из букв английского алфавита, знаков препинания и пробелов;  \n",
    "\n",
    "**Выход:**\n",
    "\n",
    "- строка, в которой самое длинное слово и самое короткое слово переставлены;  \n",
    "\n",
    "**Решение**:"
   ]
  },
  {
   "cell_type": "code",
   "execution_count": 74,
   "metadata": {},
   "outputs": [
    {
     "name": "stdout",
     "output_type": "stream",
     "text": [
      " dd b  c   a  \n"
     ]
    }
   ],
   "source": [
    "def swap_words(sentence: str) -> str:\n",
    "    words = sentence.split()\n",
    "    longest = words[0]\n",
    "    shortest = words[0]\n",
    "\n",
    "    for word in words:\n",
    "        if len(word) > len(longest):\n",
    "            longest = word\n",
    "        if len(word) < len(shortest):\n",
    "            shortest = word\n",
    "    sentence = sentence.replace(longest, '9', 1)\n",
    "    sentence = sentence.replace(shortest, '0', 1)\n",
    "    sentence = sentence.replace('9', shortest, 1)\n",
    "    sentence = sentence.replace('0', longest, 1)\n",
    "    return sentence\n",
    "\n",
    "print(swap_words(' a b  c   dd  '))"
   ]
  },
  {
   "cell_type": "markdown",
   "metadata": {},
   "source": [
    "**Тесты:**"
   ]
  },
  {
   "cell_type": "code",
   "execution_count": 75,
   "metadata": {},
   "outputs": [],
   "source": [
    "assert ' dd b  c   a  ' == swap_words(' a b  c   dd  ')"
   ]
  },
  {
   "cell_type": "markdown",
   "metadata": {},
   "source": [
    "## Задача 3: Правильная скобочная последовательность\n",
    "\n",
    "**Условие**:\n",
    "\n",
    "Правильная скобочная последовательность определяется следующим образом:\n",
    "\n",
    "- пустая строка - правильная скобочная последовательность;  \n",
    "- правильная скобочная последовательность, взятая в круглые скобки - правильная скобочная последовательность;  \n",
    "- правильная скобочная последовательность, к которой приписана слева или справа правильная скобочная последовательность — правильная скобочная последовательность;\n",
    "\n",
    "Итак, на вход подается строка, состоящая только из символов \"(\", \")\". Ваша задача - определить является ли поданная строка правильной скобочной последовательностью или нет.\n",
    "\n",
    "**Вход**:\n",
    "\n",
    "- sequence - строка, состоящая из круглых скобок;\n",
    "\n",
    "**Выход**:\n",
    "\n",
    "- булево значение, True, если строка - правильная скобочная последовательность, False - иначе;\n",
    "\n",
    "**Решение**:"
   ]
  },
  {
   "cell_type": "code",
   "execution_count": 16,
   "metadata": {},
   "outputs": [],
   "source": [
    "def is_correct_bracket_seq(sequence: str) -> bool:\n",
    "    amount = 0\n",
    "    for i in sequence:\n",
    "        if i == \"(\":\n",
    "            amount += 1\n",
    "        else:\n",
    "            amount -= 1\n",
    "\n",
    "        if amount < 0:\n",
    "            return False\n",
    "        \n",
    "    return True"
   ]
  },
  {
   "cell_type": "markdown",
   "metadata": {},
   "source": [
    "**Тесты**:"
   ]
  },
  {
   "cell_type": "code",
   "execution_count": 15,
   "metadata": {},
   "outputs": [],
   "source": [
    "assert is_correct_bracket_seq('')\n",
    "assert is_correct_bracket_seq('()()')\n",
    "assert not is_correct_bracket_seq(')(')"
   ]
  },
  {
   "cell_type": "markdown",
   "metadata": {},
   "source": [
    "## Задача 4: Странный калькулятор\n",
    "\n",
    "**Условие**:\n",
    "\n",
    "Назовем странным калькулятором калькулятор, который работает следующим образом:\n",
    "\n",
    "- на вход калькулятору подается строка, в которой описано некоторое алгебраическое выражение;  \n",
    "- операндами этого выражения являются исключительно целые числа, записанные в следующей форме: каждая цифра числа записана английским словом, обозначающим эту цифру; сами цифры, составляющие запись числа, записаны подряд. Например число десять будет иметь запись `onezero`;  \n",
    "- в состав строки входят только операторы сложения и умножения;  \n",
    "- операнды и операторы разделены пробелами;  \n",
    "- калькулятор вычисляет описанное таким образом выражение и вызвращает результат - целое число;   \n",
    "\n",
    "Ваша задача реализовать такой калькулятор.\n",
    "\n",
    "**Вход**:\n",
    "\n",
    "- строка, состоящая из слов 'zero', 'one', 'two', 'three', 'four', 'five', 'six', 'seven', 'eight', 'nine', символов '+' и '-' и пробелов;  \n",
    "\n",
    "**Выход**:\n",
    "\n",
    "- целое число - результат выполнения выражения;\n",
    "\n",
    "**Решение**:"
   ]
  },
  {
   "cell_type": "code",
   "execution_count": 37,
   "metadata": {},
   "outputs": [
    {
     "data": {
      "text/plain": [
       "26"
      ]
     },
     "execution_count": 37,
     "metadata": {},
     "output_type": "execute_result"
    }
   ],
   "source": [
    "def calculate(expression: str) -> int:\n",
    "    for j in [(\"one\", \"1\"), (\"two\", \"2\"), (\"three\", \"3\"), (\"four\", \"4\"), (\"five\", \"5\"), (\"six\", \"6\"), (\"seven\", \"7\"), (\"eight\", \"8\"), (\"nine\", \"9\"), (\"zero\", \"0\")]:\n",
    "        expression = expression.replace(j[0], j[1])\n",
    "\n",
    "    l1 = expression.split(\" \")\n",
    "    answer = 0\n",
    "    is_first = True\n",
    "    for i in l1:\n",
    "        if is_first:\n",
    "            answer += int(i)\n",
    "            is_first = False\n",
    "            continue\n",
    "\n",
    "        if i == \"+\":\n",
    "            prefix = 1\n",
    "        elif i == \"-\":\n",
    "            prefix = -1\n",
    "        else:\n",
    "            answer += prefix * int(i)\n",
    "\n",
    "    return answer\n",
    "\n",
    "calculate('-one + two + threefive - onezero')"
   ]
  },
  {
   "cell_type": "markdown",
   "metadata": {},
   "source": [
    "**Тесты**:"
   ]
  },
  {
   "cell_type": "code",
   "execution_count": 38,
   "metadata": {},
   "outputs": [],
   "source": [
    "assert calculate('-one + two + threefive - onezero') == 26"
   ]
  },
  {
   "cell_type": "markdown",
   "metadata": {},
   "source": [
    "## Задача 5: Парсер\n",
    "\n",
    "Необходимо реализовать следующий алгоритм парсинга документов:\n",
    "\n",
    "- на вход алгоритму подается строка, которую необходимо распарсить, и пары специальных символов, которые поддерживаются парсером; например: \\</a>, \\<a>;  \n",
    "- строка состоит из специальных символов и строк, окруженных специальными символами;  \n",
    "- валидными считаются слова, которые заключены в правильную пару служебных символов, и служебные символы этой пары входят в список символов, поддерживаемых парсером; например, слово, заключенное в служебные символы: \\</a>word\\<a>, будет валидным, если \\</a> и \\<a> поддерживаются парсером - а слово, заключенное в служебные символы: \\</b>word\\<a> - не будет валидным ни в каком случае;  \n",
    "- парсер выделяет валидные слова, и сохраняет уникальные валидные слова в список;  \n",
    "\n",
    "Ваша задача - реализовать описанный алгоритм парсинга.\n",
    "\n",
    "**Вход:** \n",
    "\n",
    "- строка, состоящая из специальных символов следующего формата: \\<[ / ]english_letter>, - и из букв английского алфавита;  \n",
    "- список пар(кортежей) - валидных служебных конструкций;  \n",
    "\n",
    "**Выход**:\n",
    "\n",
    "- список уникальных валидных слов;  \n",
    "\n",
    "**Решение:**"
   ]
  },
  {
   "cell_type": "code",
   "execution_count": 26,
   "metadata": {},
   "outputs": [
    {
     "data": {
      "text/plain": [
       "[]"
      ]
     },
     "execution_count": 26,
     "metadata": {},
     "output_type": "execute_result"
    }
   ],
   "source": [
    "def parse(\n",
    "    string: str, valid_pairs: list[tuple[str, str]]\n",
    ") -> list[str]:\n",
    "    correct_words = []\n",
    "    i = 0\n",
    "\n",
    "    while i < len(string):\n",
    "        if string[i] == \"<\":\n",
    "            open_pair = \"\"\n",
    "            while string[i] != \">\":\n",
    "                open_pair += string[i]\n",
    "                i += 1\n",
    "            open_pair += \">\"\n",
    "            i += 1\n",
    "        \n",
    "\n",
    "        if i >= len(string):\n",
    "            break\n",
    "        if string[i] != \"<\":\n",
    "            word = \"\"\n",
    "            while string[i] != \"<\":\n",
    "                word += string[i]\n",
    "                i += 1\n",
    "        else:\n",
    "            continue\n",
    "        \n",
    "        \n",
    "        if string[i] == \"<\":\n",
    "            close_pair = \"\"\n",
    "            while string[i] != \">\":\n",
    "                close_pair += string[i]\n",
    "                i += 1\n",
    "            close_pair += \">\"\n",
    "            i += 1\n",
    "        \n",
    "        for j in range(len(valid_pairs)):\n",
    "            if open_pair in valid_pairs[j][0] and close_pair in valid_pairs[j][1]:\n",
    "                if word not in correct_words:\n",
    "                    correct_words.append(word)\n",
    "        \n",
    "        open_pair = close_pair\n",
    "        word = \"\"\n",
    "        \n",
    "    return correct_words\n",
    "    \n",
    "\n",
    "parse(\"<\\\\a>float<\\\\b>double<\\\\c>complex<c><b><a>\", [('<a>', '</a>'), ('<b>', '</b>'), ('<c>', '</c>')])"
   ]
  },
  {
   "cell_type": "markdown",
   "metadata": {},
   "source": [
    "**Тесты:**"
   ]
  },
  {
   "cell_type": "code",
   "execution_count": 27,
   "metadata": {},
   "outputs": [],
   "source": [
    "string = (\n",
    "    \"</p><p><a>float</b></p><p><b>frozenset</b>\"\n",
    "    \"</p><p><c>list</c></p><p><b>list</b>\"\n",
    ")\n",
    "valid_pairs = [(\"<a>\", \"</a>\"), (\"<b>\", \"</b>\"), (\"<c>\", \"</c>\")]\n",
    "\n",
    "assert parse(string, valid_pairs) == [\"frozenset\", \"list\"]"
   ]
  },
  {
   "cell_type": "markdown",
   "metadata": {},
   "source": [
    "## Задача 6: Умная консоль\n",
    "\n",
    "**Условие**:\n",
    "\n",
    "Вы работаете с консолью, которая имеет некий набор команд. Консоль достаточно умная и умеет исправлять ошибки пользователя, если ошибка незначительная. Незначительными считаются ошибки одного из трёх типов:\n",
    "\n",
    "- ввод одного лишнего символа;  \n",
    "- пропуск одного символа;  \n",
    "- один неправильно введенный символ; \n",
    "\n",
    "Притом описанные ошибки не должны вызывать неоднозначность. Так, например комманда \"gt\" с набором команд [cd, ls, git] будет восстановлена до команды git, но та же команда с набором команд [cd, ls, git, get] может соответствовать как команде \"get\", так и команде \"git\" и восстановлена не будет.\n",
    "\n",
    "Если команда написана с незначительной ошибкой, то консоль её автоматически исправляет и выполняет. Реализуйте алгоритм check_comand, который проверяет, выполнит ли консоль с заданным набором команд команду пользователя или нет.\n",
    "\n",
    "**Вход**:\n",
    "\n",
    "- user_comand - строка, команда, введенная пользователем;  \n",
    "- comands - список строк, команды, поддерживаемые консолью;  \n",
    "\n",
    "**Выход**:\n",
    "\n",
    "- булево значение: True, если команда будет выполнена, False - иначе;\n",
    "\n",
    "**Решение:**"
   ]
  },
  {
   "cell_type": "code",
   "execution_count": 29,
   "metadata": {},
   "outputs": [
    {
     "data": {
      "text/plain": [
       "1"
      ]
     },
     "execution_count": 29,
     "metadata": {},
     "output_type": "execute_result"
    }
   ],
   "source": [
    "def extra_symbol(user_comand, comand):\n",
    "    amount = 0\n",
    "    for k in range(len(comand)):\n",
    "        for j in range(k + amount, len(user_comand)):\n",
    "            if comand[k] == user_comand[j]:\n",
    "                break\n",
    "            else:\n",
    "                amount += 1\n",
    "            if amount > 1:\n",
    "                return 0\n",
    "    return 1\n",
    "\n",
    "def less_symbol(user_comand, comand):\n",
    "    amount = 0\n",
    "    for j in range(len(user_comand)):\n",
    "        for k in range(j + amount, len(comand)):\n",
    "            user_symbol = user_comand[j]\n",
    "            symbol = comand[k]\n",
    "            if user_symbol == symbol:\n",
    "                break\n",
    "            else:\n",
    "                amount += 1\n",
    "            if amount > 1:\n",
    "                return 0\n",
    "    return 1\n",
    "\n",
    "def wrong_symbol(user_comand, comand):\n",
    "    amount = 0\n",
    "    for i in range(len(comand)):\n",
    "        if user_comand[i] != comand[i]:\n",
    "            amount += 1\n",
    "        if amount > 1:\n",
    "            return 0\n",
    "    return 1\n",
    "\n",
    "def check_comand(user_comand: str, comands: list[str]) -> bool:\n",
    "    if user_comand in comands:\n",
    "        return 1\n",
    "    amount_of_suitable = 0\n",
    "    for comand in comands:\n",
    "        if len(user_comand) - len(comand) == 1:\n",
    "            amount_of_suitable += extra_symbol(user_comand, comand)\n",
    "        elif len(comand) - len(user_comand) == 1:\n",
    "            amount_of_suitable += less_symbol(user_comand, comand)\n",
    "        elif len(comand) == len(user_comand):\n",
    "            amount_of_suitable += wrong_symbol(user_comand, comand)\n",
    "        else:\n",
    "            continue\n",
    "    \n",
    "    if amount_of_suitable != 1:\n",
    "        return 0\n",
    "    return 1\n",
    "\n",
    "check_comand('cls', ['cd', 'ls', 'git']) "
   ]
  },
  {
   "cell_type": "markdown",
   "metadata": {},
   "source": [
    "**Тесты:**"
   ]
  },
  {
   "cell_type": "code",
   "execution_count": 32,
   "metadata": {},
   "outputs": [],
   "source": [
    "assert check_comand(\"get\", ['cd', 'get', 'git', 'ls']) \n",
    "assert check_comand(\"wget\", ['cd', 'get', 'ls', 'wget'])"
   ]
  }
 ],
 "metadata": {
  "kernelspec": {
   "display_name": "Python 3",
   "language": "python",
   "name": "python3"
  },
  "language_info": {
   "codemirror_mode": {
    "name": "ipython",
    "version": 3
   },
   "file_extension": ".py",
   "mimetype": "text/x-python",
   "name": "python",
   "nbconvert_exporter": "python",
   "pygments_lexer": "ipython3",
   "version": "3.11.1"
  },
  "orig_nbformat": 4
 },
 "nbformat": 4,
 "nbformat_minor": 2
}
