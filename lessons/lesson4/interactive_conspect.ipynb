{
 "cells": [
  {
   "cell_type": "markdown",
   "metadata": {},
   "source": [
    "# Типы данных: Строки"
   ]
  },
  {
   "cell_type": "markdown",
   "metadata": {},
   "source": [
    "## Определение строк\n",
    "\n",
    "На прошлой [лекции](../lesson3/conspect.md) мы начали изучать последовательность: обсудили определение последовательности в Python, обсудили методы, общие для последовательностей, а также рассмотрели таких представителей последовательностей, как список (tuple) и (list). Сегодня мы закончим изучение последовательностей рассмотрением строк. \n",
    "\n",
    "Строки - еще один встроенные тип данных. Строки - это неизменяемые последовательности, состоящие из символов, и используемые для предоставления текстовой информации. Строки предоставляют широкий функционал и большой набор методов, именно поэтому целесообразно обсуждать их отдельно.\n",
    "\n",
    "Начнем с определения строк в коде. В самом простом случае строки - это последовательность символов (в частности пустая), заключенная в одинарные или двойные кавычки:"
   ]
  },
  {
   "cell_type": "code",
   "execution_count": 1,
   "metadata": {},
   "outputs": [],
   "source": [
    "string1 = 'this is string literal'\n",
    "string2 = \"this is string literal too\""
   ]
  },
  {
   "cell_type": "markdown",
   "metadata": {},
   "source": [
    "Поддержка нескольких вариантов создания строкового литерала позволяет использовать неиспользованные( :) ) кавычки в самом литерале. Ну, или если вы убежденный фанат одного типа кавычек, вы все равно можете использовать из в самом литерале с помощью экранирования:"
   ]
  },
  {
   "cell_type": "code",
   "execution_count": 2,
   "metadata": {},
   "outputs": [
    {
     "name": "stdout",
     "output_type": "stream",
     "text": [
      "I'm iron man\n",
      "I'm iron man\n",
      "True\n"
     ]
    }
   ],
   "source": [
    "string1 = \"I'm iron man\"\n",
    "string2 = 'I\\'m iron man'\n",
    "\n",
    "print(string1, string2, sep='\\n')\n",
    "print(string1 == string2)"
   ]
  },
  {
   "cell_type": "markdown",
   "metadata": {},
   "source": [
    "*Интересный факт*: более предпочтительным считается использование одинарных кавычек. Однако, на работе вы все равно будете использовать те кавычки, которые прописаны в конфигурации форматтера.\n",
    "\n",
    "Вы также можете создавать многострочные строки (как бы странно это не звучало):"
   ]
  },
  {
   "cell_type": "code",
   "execution_count": 3,
   "metadata": {},
   "outputs": [
    {
     "name": "stdout",
     "output_type": "stream",
     "text": [
      "this is long multi string string\n",
      "and this line is its part\n",
      "\n",
      "this is long multi string string\n",
      "and this line is its part\n"
     ]
    }
   ],
   "source": [
    "string1 = \"this is long multi string string\\n\\\n",
    "and this line is its part\"\n",
    "\n",
    "string2 = (\n",
    "    \"this is long multi string string\\n\"\n",
    "    \"and this line is its part\"\n",
    ")\n",
    "\n",
    "print(string1, string2, sep='\\n\\n')"
   ]
  },
  {
   "cell_type": "markdown",
   "metadata": {},
   "source": [
    "Однако, данный подход к создание многострочных строк не приветствуется. Обычно для этих целей используются тройные кавычки:"
   ]
  },
  {
   "cell_type": "code",
   "execution_count": 4,
   "metadata": {},
   "outputs": [
    {
     "name": "stdout",
     "output_type": "stream",
     "text": [
      "This is very very long line\n",
      "Or not\n",
      "But I just wanted to demonstrate this kind of strings\n",
      "\n"
     ]
    }
   ],
   "source": [
    "string = \"\"\"\\\n",
    "This is very very long line\n",
    "Or not\n",
    "But I just wanted to demonstrate \\\n",
    "this kind of strings\n",
    "\"\"\"\n",
    "\n",
    "print(string)"
   ]
  },
  {
   "cell_type": "markdown",
   "metadata": {},
   "source": [
    "Вы часто можете увидеть подобные литералы в качестве многострочных комментариев:\n",
    "\n",
    "```Python\n",
    "def my_func(arg1, *args, kwarg1='word'):\n",
    "    \"\"\"\n",
    "    This function do usefull staff\n",
    "    \n",
    "    :arg1: is a number or None\n",
    "    :kwarg1: is a string, equals 'word' by default\n",
    "\n",
    "    :return: None\n",
    "    \"\"\"\n",
    "    ...\n",
    "```\n",
    "\n",
    "Необходимо обратить внимание на следующее обстоятельство: при создании многострочного строкового литерала с использованием тройных кавычек или с использованием реверс слеша, написание комментариев допустимо только после закрытия кавычек.\n",
    "\n",
    "Также обратите внимание, что в этом варианте у нас нет необходимости в добавлении специального символа перехода но новую строку '\\n', переход осуществляется автоматически при переходе на новую строку. Однако, если мы хотим перейти на новую физическую строку, но при этом продолжить писать на предыдущей физической строке, мы вынуждены использовать реверс-слеш.\n",
    "\n",
    "Помимо символа '\\n' существует ряд символов специального назначения (в англоязычной литературе они называются *escape sequences*). Вот некоторые из них, которые вы будете использовать чаще всего:\n",
    "\n",
    "|Символ|Описание|\n",
    "|--|--|\n",
    "|\\\\<newline>|продолжение написания на текуще физической строке, несмотря на фактическое наличие символа перехода на новую строку|\n",
    "|\\\\\\\\ |реверс слеш|\n",
    "|\\\\'|одинарная кавычка|\n",
    "|\\\\\"|двойная кавычка|\n",
    "|\\\\n|переход на новую строку|\n",
    "|\\\\t|таб|\n",
    "\n",
    "В обычных строках использование реверс-слеша без экранирования невозможно. Однако вы можете создать так называемую *сырую* строку, в которой все специальные символы теряют свое значение:"
   ]
  },
  {
   "cell_type": "code",
   "execution_count": 5,
   "metadata": {},
   "outputs": [
    {
     "name": "stdout",
     "output_type": "stream",
     "text": [
      "C:\\Users\\User\\Desktop\\teaching\n"
     ]
    }
   ],
   "source": [
    "raw_string = r'C:\\Users\\User\\Desktop\\teaching'\n",
    "\n",
    "print(raw_string)"
   ]
  },
  {
   "cell_type": "markdown",
   "metadata": {},
   "source": [
    "Создание сырых строк аналогично созданию обычных строк, единственное - необходимо написать букву r или R перед самим литералом. Обычно данный тип строк используется для определения путей к файлам. Однако, подобная практика не рекомендуется. Для данной цели используйте или модуль pathlib, или модуль os.path. "
   ]
  },
  {
   "cell_type": "markdown",
   "metadata": {},
   "source": [
    "## Строки как последовательности\n",
    "\n",
    "### Конкатенация и повторение\n",
    "\n",
    "Как упоминалось ранее, строки являются последовательностями. Из этого следует, что мы можем конкатенировать и повторять строки:"
   ]
  },
  {
   "cell_type": "code",
   "execution_count": 6,
   "metadata": {},
   "outputs": [
    {
     "name": "stdout",
     "output_type": "stream",
     "text": [
      "abobaabobaabobaabobaaboba\n",
      "aboba add this part\n"
     ]
    }
   ],
   "source": [
    "addition = \" add this part\"\n",
    "string = input('Enter some string: ')\n",
    "\n",
    "repeated = string * 5\n",
    "concatenated = string + addition\n",
    "\n",
    "print(repeated, concatenated, sep='\\n')"
   ]
  },
  {
   "cell_type": "markdown",
   "metadata": {},
   "source": [
    "Т.к. строки неизменяемы, любые операции со строками приводят к созданию нового объекта строки. Даже такие операции, как составное присваивание, не изменяют текущий объект, а создают новый и перепривязывают старую ссылку к новому объекту:"
   ]
  },
  {
   "cell_type": "code",
   "execution_count": 7,
   "metadata": {},
   "outputs": [
    {
     "name": "stdout",
     "output_type": "stream",
     "text": [
      "False\n"
     ]
    }
   ],
   "source": [
    "string = 'this is old string '\n",
    "id_old = id(string)\n",
    "\n",
    "string *= 5\n",
    "id_new = id(string)\n",
    "\n",
    "print(id_old == id_new)"
   ]
  },
  {
   "cell_type": "markdown",
   "metadata": {},
   "source": [
    "### Оператор in\n",
    "\n",
    "Также из того факта, что строки - последовательности, следует, что мы можем использовать оператор `in`, для проверки вхождения того или инога символа в строку:"
   ]
  },
  {
   "cell_type": "code",
   "execution_count": 8,
   "metadata": {},
   "outputs": [
    {
     "name": "stdout",
     "output_type": "stream",
     "text": [
      "True\n"
     ]
    }
   ],
   "source": [
    "string = 'what a wonderful world'\n",
    "print('a' in string)"
   ]
  },
  {
   "cell_type": "markdown",
   "metadata": {},
   "source": [
    "Но, что гораздо интереснее, с помощью оператора `in` мы также можем не просто проверить наличие одного символа в строке, но и наличие целой подстроки: "
   ]
  },
  {
   "cell_type": "code",
   "execution_count": 9,
   "metadata": {},
   "outputs": [
    {
     "name": "stdout",
     "output_type": "stream",
     "text": [
      "True\n"
     ]
    }
   ],
   "source": [
    "string = 'what a wonderful world'\n",
    "print('world' in string)"
   ]
  },
  {
   "cell_type": "markdown",
   "metadata": {},
   "source": [
    "### Индексирование\n",
    "\n",
    "Ну и наконец, поскольку строки - последовательности, мы можем их индексировать. Два важных момента: первое - поскольку строки неизменяемы, мы не можем изменять как значения отдельно взятых символов, так и значения подстрок; второе - индексирование строк аналогично индексированию списков и кортежей, т.е. мы можем использовать положительные и отрицательные целые числа и срезы. "
   ]
  },
  {
   "cell_type": "code",
   "execution_count": 10,
   "metadata": {},
   "outputs": [
    {
     "name": "stdout",
     "output_type": "stream",
     "text": [
      "h\n",
      "d\n",
      "dlrow lufrednow a tahw\n",
      "at a w\n",
      "\n",
      "String is immutable type so you can't change its value\n"
     ]
    }
   ],
   "source": [
    "string = 'what a wonderful world'\n",
    "\n",
    "print(\n",
    "    string[1],\n",
    "    string[-1],\n",
    "    string[::-1],\n",
    "    string[2:8],\n",
    "    sep='\\n',\n",
    "    end='\\n\\n'\n",
    ")\n",
    "\n",
    "try:\n",
    "    string[0] = 'W'\n",
    "\n",
    "except TypeError:\n",
    "    print(\n",
    "        'String is immutable type so you '\n",
    "        \"can't change its value\"\n",
    "    )"
   ]
  },
  {
   "cell_type": "markdown",
   "metadata": {},
   "source": [
    "## Методы строк\n",
    "\n",
    "Стоки обладают внушительным количетсвом методов. Описание всех этих методов превратилось бы в пересказывание документации, поэтому в данном разделе будут описаны часто используемые методы с основными сценариями их применения.\n",
    "\n",
    "Поскольку невозможно все время держать в голове сигнатуры всех методов, стоит отдельно упомянуть о встроенной функции `help()`, которая принимает на вход объект Python и возвращает его док-стринг. Большинство встроенных функций и методов встроенных типов данных имеют док-стринг, а потому вы можете спокойно использовать эту функцию для освежения в памяти сигнатур функций и их логики:"
   ]
  },
  {
   "cell_type": "code",
   "execution_count": 11,
   "metadata": {},
   "outputs": [
    {
     "name": "stdout",
     "output_type": "stream",
     "text": [
      "Help on built-in function id in module builtins:\n",
      "\n",
      "id(obj, /)\n",
      "    Return the identity of an object.\n",
      "    \n",
      "    This is guaranteed to be unique among simultaneously existing objects.\n",
      "    (CPython uses the object's memory address.)\n",
      "\n"
     ]
    }
   ],
   "source": [
    "help(id)"
   ]
  },
  {
   "cell_type": "markdown",
   "metadata": {},
   "source": [
    "### Манипуляции с регистром\n",
    "\n",
    "К методам, осуществляющим манипуляции с регистром относятся следующие методы: `upper()`, `lower()`, `title()` (еще к этой группе методов относятся методы `swapcase()` и `capitalize()`, но я не встречался с их использованием в продуктовом коде, поэтому изучение данных методов оставляю читателю). Давайте сначала разберемся с функционированием данных методов, а затем рассмотрим практический пример и мотивируем их изучение.\n",
    "\n",
    "**upper()**:"
   ]
  },
  {
   "cell_type": "code",
   "execution_count": 12,
   "metadata": {},
   "outputs": [
    {
     "name": "stdout",
     "output_type": "stream",
     "text": [
      "Help on method_descriptor:\n",
      "\n",
      "upper(self, /)\n",
      "    Return a copy of the string converted to uppercase.\n",
      "\n"
     ]
    }
   ],
   "source": [
    "help(str.upper)"
   ]
  },
  {
   "cell_type": "code",
   "execution_count": 13,
   "metadata": {},
   "outputs": [
    {
     "data": {
      "text/plain": [
       "'GVIDO VAN ROSSUM'"
      ]
     },
     "execution_count": 13,
     "metadata": {},
     "output_type": "execute_result"
    }
   ],
   "source": [
    "name_surname = 'Gvido Van Rossum'\n",
    "name_surname.upper()"
   ]
  },
  {
   "cell_type": "markdown",
   "metadata": {},
   "source": [
    "**lower()**:"
   ]
  },
  {
   "cell_type": "code",
   "execution_count": 14,
   "metadata": {},
   "outputs": [
    {
     "name": "stdout",
     "output_type": "stream",
     "text": [
      "Help on method_descriptor:\n",
      "\n",
      "lower(self, /)\n",
      "    Return a copy of the string converted to lowercase.\n",
      "\n"
     ]
    }
   ],
   "source": [
    "help(str.lower)"
   ]
  },
  {
   "cell_type": "code",
   "execution_count": 15,
   "metadata": {},
   "outputs": [
    {
     "data": {
      "text/plain": [
       "'gvido van rossum'"
      ]
     },
     "execution_count": 15,
     "metadata": {},
     "output_type": "execute_result"
    }
   ],
   "source": [
    "name_surname = 'Gvido Van Rossum'\n",
    "name_surname.lower()"
   ]
  },
  {
   "cell_type": "markdown",
   "metadata": {},
   "source": [
    "**title**:"
   ]
  },
  {
   "cell_type": "code",
   "execution_count": 53,
   "metadata": {},
   "outputs": [
    {
     "name": "stdout",
     "output_type": "stream",
     "text": [
      "Help on method_descriptor:\n",
      "\n",
      "title(self, /)\n",
      "    Return a version of the string where each word is titlecased.\n",
      "    \n",
      "    More specifically, words start with uppercased characters and all remaining\n",
      "    cased characters have lower case.\n",
      "\n"
     ]
    }
   ],
   "source": [
    "help(str.title)"
   ]
  },
  {
   "cell_type": "code",
   "execution_count": 54,
   "metadata": {},
   "outputs": [
    {
     "name": "stdout",
     "output_type": "stream",
     "text": [
      "Gvido Van Rossum\n",
      "Gvido Van Rossum\n"
     ]
    }
   ],
   "source": [
    "name_surname = 'gvido van rossum'\n",
    "name_surname_up = name_surname.upper()\n",
    "\n",
    "print(\n",
    "    name_surname.title(),\n",
    "    name_surname_up.title(),\n",
    "    sep='\\n'\n",
    ")"
   ]
  },
  {
   "cell_type": "markdown",
   "metadata": {},
   "source": [
    "**Пример на upper/lower**:\n",
    "\n",
    "Наверное, самое очевидное использование методов манипуляции с кейсом - сортировка слов в лексикографическом порядке. Поскольку при сортировки учитываются именно ASCII коды символов, попытка отсортировать список слов в разном регистре приведет к очевидному, но некорректному с точки зрения языка результату:"
   ]
  },
  {
   "cell_type": "code",
   "execution_count": 18,
   "metadata": {},
   "outputs": [
    {
     "name": "stdout",
     "output_type": "stream",
     "text": [
      "['Alabama', 'Appel', 'CIA', 'Paris', 'apple', 'border', 'two', 'zero']\n"
     ]
    }
   ],
   "source": [
    "words = ['CIA', 'border', 'Alabama', 'apple', 'Appel', 'zero', 'two', 'Paris']\n",
    "words.sort()\n",
    "\n",
    "print(words)"
   ]
  },
  {
   "cell_type": "markdown",
   "metadata": {},
   "source": [
    "Мы все-таки хотели бы видеть, чтобы, начинающиеся с одинаковых последовательностей символов, были близко друг к другу, причем имена собственные встречались раньше. Чтобы исправить данное недоразумение, мы можем перевести все слова в один регистр и только потом отсортировать:"
   ]
  },
  {
   "cell_type": "code",
   "execution_count": 19,
   "metadata": {},
   "outputs": [
    {
     "name": "stdout",
     "output_type": "stream",
     "text": [
      "['Alabama', 'Appel', 'apple', 'border', 'CIA', 'Paris', 'two', 'zero']\n"
     ]
    }
   ],
   "source": [
    "words = ['CIA', 'border', 'Alabama', 'apple', 'Appel', 'zero', 'two', 'Paris']\n",
    "words.sort(key=str.upper)\n",
    "\n",
    "print(words)"
   ]
  },
  {
   "cell_type": "markdown",
   "metadata": {},
   "source": [
    "Теперь мы имеем корректный с точки зрения языка результат."
   ]
  },
  {
   "cell_type": "markdown",
   "metadata": {},
   "source": [
    "**Сферический пример в вакууме**:\n",
    "\n",
    "Предположим у нас есть некоторый сервис. Прежде чем пользоваться нашим сервисом, пользователи должны зарегистироваться: предоставить информацию о почте, придумать имя пользователя и пароль. Мы сохраняем данную информацию в базе данных. Причем, мы не даем зарегистироваться пользователю, если пользователь придумал неуникальный никнейм или предоставил уже имеющийся в базе почтовый адрес. С точки зрения нашей системы никнеймы: `BaNaNa`, `Banana` и `banana` - одинаковые. Как быть? А вот как: "
   ]
  },
  {
   "cell_type": "code",
   "execution_count": 20,
   "metadata": {},
   "outputs": [],
   "source": [
    "from dataclasses import dataclass, asdict\n",
    "from typing import Union"
   ]
  },
  {
   "cell_type": "code",
   "execution_count": 21,
   "metadata": {},
   "outputs": [],
   "source": [
    "@dataclass\n",
    "class UserInfo:\n",
    "    username: str\n",
    "    email: str\n",
    "    password: str\n",
    "\n",
    "    def get_dict(self):\n",
    "        return {key: val for key, val in asdict(self).items()}\n",
    "\n",
    "\n",
    "class DataBase:\n",
    "    _name: str\n",
    "    _users: list[UserInfo] = []\n",
    "    _nicks_unique: list[str] = []\n",
    "    _emails_unique: list[str] = []\n",
    "\n",
    "    def __init__(self, db_name: str) -> None:\n",
    "        self._name = db_name\n",
    "\n",
    "    def add_users(self, new_users: list[UserInfo]) -> None:\n",
    "        for user in new_users:\n",
    "            self._add_user(user)\n",
    "\n",
    "    def _add_user(self, user: UserInfo) -> None:\n",
    "        if user.username.lower() in self._nicks_unique:\n",
    "            raise RuntimeError(\n",
    "                'username should be unique; '\n",
    "                f'user with nick: {user.username.lower()} '\n",
    "                'is already exist'\n",
    "            )\n",
    "        \n",
    "        if user.email in self._emails_unique:\n",
    "            raise RuntimeError(\n",
    "                'email should be unique; '\n",
    "                f'user with email: {user.email} is already exist'\n",
    "            )\n",
    "        \n",
    "        self._nicks_unique.append(user.username.lower())\n",
    "        self._emails_unique.append(user.email)\n",
    "        self._users.append(user)\n",
    "\n",
    "    @property\n",
    "    def table(self) -> list[dict]:\n",
    "        return [user.get_dict() for user in self._users]"
   ]
  },
  {
   "cell_type": "code",
   "execution_count": 22,
   "metadata": {},
   "outputs": [],
   "source": [
    "def print_database(database: DataBase) -> None:\n",
    "    for user_dict in database.table:\n",
    "        print(user_dict)"
   ]
  },
  {
   "cell_type": "code",
   "execution_count": 23,
   "metadata": {},
   "outputs": [
    {
     "name": "stdout",
     "output_type": "stream",
     "text": [
      "{'username': 'avshugan', 'email': 'avshugan.email@mail.ru', 'password': '12345678'}\n",
      "{'username': 'Ampiro', 'email': 'ampiro.email@gmail.com', 'password': 'qwerty228'}\n"
     ]
    }
   ],
   "source": [
    "data_base = DataBase('clients')\n",
    "print_database(data_base)\n",
    "\n",
    "new_users = [\n",
    "    UserInfo(\n",
    "        username='avshugan',\n",
    "        email='avshugan.email@mail.ru',\n",
    "        password='12345678'\n",
    "    ),\n",
    "    UserInfo(\n",
    "        username='Ampiro',\n",
    "        email='ampiro.email@gmail.com',\n",
    "        password='qwerty228'\n",
    "    )\n",
    "]\n",
    "data_base.add_users(new_users)\n",
    "print_database(data_base)"
   ]
  },
  {
   "cell_type": "code",
   "execution_count": 24,
   "metadata": {},
   "outputs": [
    {
     "ename": "RuntimeError",
     "evalue": "username should be unique; user with nick: ampiro is already exist",
     "output_type": "error",
     "traceback": [
      "\u001b[1;31m---------------------------------------------------------------------------\u001b[0m",
      "\u001b[1;31mRuntimeError\u001b[0m                              Traceback (most recent call last)",
      "\u001b[1;32mc:\\Users\\Michail\\Desktop\\mipt\\teaching\\general_course\\lessons\\lesson4\\interactive_conspect.ipynb Cell 44\u001b[0m line \u001b[0;36m9\n\u001b[0;32m      <a href='vscode-notebook-cell:/c%3A/Users/Michail/Desktop/mipt/teaching/general_course/lessons/lesson4/interactive_conspect.ipynb#Y150sZmlsZQ%3D%3D?line=0'>1</a>\u001b[0m new_users \u001b[39m=\u001b[39m [\n\u001b[0;32m      <a href='vscode-notebook-cell:/c%3A/Users/Michail/Desktop/mipt/teaching/general_course/lessons/lesson4/interactive_conspect.ipynb#Y150sZmlsZQ%3D%3D?line=1'>2</a>\u001b[0m     UserInfo(\n\u001b[0;32m      <a href='vscode-notebook-cell:/c%3A/Users/Michail/Desktop/mipt/teaching/general_course/lessons/lesson4/interactive_conspect.ipynb#Y150sZmlsZQ%3D%3D?line=2'>3</a>\u001b[0m         username\u001b[39m=\u001b[39m\u001b[39m'\u001b[39m\u001b[39mAMPIRO\u001b[39m\u001b[39m'\u001b[39m,\n\u001b[1;32m   (...)\u001b[0m\n\u001b[0;32m      <a href='vscode-notebook-cell:/c%3A/Users/Michail/Desktop/mipt/teaching/general_course/lessons/lesson4/interactive_conspect.ipynb#Y150sZmlsZQ%3D%3D?line=5'>6</a>\u001b[0m     )\n\u001b[0;32m      <a href='vscode-notebook-cell:/c%3A/Users/Michail/Desktop/mipt/teaching/general_course/lessons/lesson4/interactive_conspect.ipynb#Y150sZmlsZQ%3D%3D?line=6'>7</a>\u001b[0m ]\n\u001b[1;32m----> <a href='vscode-notebook-cell:/c%3A/Users/Michail/Desktop/mipt/teaching/general_course/lessons/lesson4/interactive_conspect.ipynb#Y150sZmlsZQ%3D%3D?line=8'>9</a>\u001b[0m data_base\u001b[39m.\u001b[39;49madd_users(new_users)\n",
      "\u001b[1;32mc:\\Users\\Michail\\Desktop\\mipt\\teaching\\general_course\\lessons\\lesson4\\interactive_conspect.ipynb Cell 44\u001b[0m line \u001b[0;36m2\n\u001b[0;32m     <a href='vscode-notebook-cell:/c%3A/Users/Michail/Desktop/mipt/teaching/general_course/lessons/lesson4/interactive_conspect.ipynb#Y150sZmlsZQ%3D%3D?line=19'>20</a>\u001b[0m \u001b[39mdef\u001b[39;00m \u001b[39madd_users\u001b[39m(\u001b[39mself\u001b[39m, new_users: \u001b[39mlist\u001b[39m[UserInfo]) \u001b[39m-\u001b[39m\u001b[39m>\u001b[39m \u001b[39mNone\u001b[39;00m:\n\u001b[0;32m     <a href='vscode-notebook-cell:/c%3A/Users/Michail/Desktop/mipt/teaching/general_course/lessons/lesson4/interactive_conspect.ipynb#Y150sZmlsZQ%3D%3D?line=20'>21</a>\u001b[0m     \u001b[39mfor\u001b[39;00m user \u001b[39min\u001b[39;00m new_users:\n\u001b[1;32m---> <a href='vscode-notebook-cell:/c%3A/Users/Michail/Desktop/mipt/teaching/general_course/lessons/lesson4/interactive_conspect.ipynb#Y150sZmlsZQ%3D%3D?line=21'>22</a>\u001b[0m         \u001b[39mself\u001b[39;49m\u001b[39m.\u001b[39;49m_add_user(user)\n",
      "\u001b[1;32mc:\\Users\\Michail\\Desktop\\mipt\\teaching\\general_course\\lessons\\lesson4\\interactive_conspect.ipynb Cell 44\u001b[0m line \u001b[0;36m2\n\u001b[0;32m     <a href='vscode-notebook-cell:/c%3A/Users/Michail/Desktop/mipt/teaching/general_course/lessons/lesson4/interactive_conspect.ipynb#Y150sZmlsZQ%3D%3D?line=23'>24</a>\u001b[0m \u001b[39mdef\u001b[39;00m \u001b[39m_add_user\u001b[39m(\u001b[39mself\u001b[39m, user: UserInfo) \u001b[39m-\u001b[39m\u001b[39m>\u001b[39m \u001b[39mNone\u001b[39;00m:\n\u001b[0;32m     <a href='vscode-notebook-cell:/c%3A/Users/Michail/Desktop/mipt/teaching/general_course/lessons/lesson4/interactive_conspect.ipynb#Y150sZmlsZQ%3D%3D?line=24'>25</a>\u001b[0m     \u001b[39mif\u001b[39;00m user\u001b[39m.\u001b[39musername\u001b[39m.\u001b[39mlower() \u001b[39min\u001b[39;00m \u001b[39mself\u001b[39m\u001b[39m.\u001b[39m_nicks_unique:\n\u001b[1;32m---> <a href='vscode-notebook-cell:/c%3A/Users/Michail/Desktop/mipt/teaching/general_course/lessons/lesson4/interactive_conspect.ipynb#Y150sZmlsZQ%3D%3D?line=25'>26</a>\u001b[0m         \u001b[39mraise\u001b[39;00m \u001b[39mRuntimeError\u001b[39;00m(\n\u001b[0;32m     <a href='vscode-notebook-cell:/c%3A/Users/Michail/Desktop/mipt/teaching/general_course/lessons/lesson4/interactive_conspect.ipynb#Y150sZmlsZQ%3D%3D?line=26'>27</a>\u001b[0m             \u001b[39m'\u001b[39m\u001b[39musername should be unique; \u001b[39m\u001b[39m'\u001b[39m\n\u001b[0;32m     <a href='vscode-notebook-cell:/c%3A/Users/Michail/Desktop/mipt/teaching/general_course/lessons/lesson4/interactive_conspect.ipynb#Y150sZmlsZQ%3D%3D?line=27'>28</a>\u001b[0m             \u001b[39mf\u001b[39m\u001b[39m'\u001b[39m\u001b[39muser with nick: \u001b[39m\u001b[39m{\u001b[39;00muser\u001b[39m.\u001b[39musername\u001b[39m.\u001b[39mlower()\u001b[39m}\u001b[39;00m\u001b[39m \u001b[39m\u001b[39m'\u001b[39m\n\u001b[0;32m     <a href='vscode-notebook-cell:/c%3A/Users/Michail/Desktop/mipt/teaching/general_course/lessons/lesson4/interactive_conspect.ipynb#Y150sZmlsZQ%3D%3D?line=28'>29</a>\u001b[0m             \u001b[39m'\u001b[39m\u001b[39mis already exist\u001b[39m\u001b[39m'\u001b[39m\n\u001b[0;32m     <a href='vscode-notebook-cell:/c%3A/Users/Michail/Desktop/mipt/teaching/general_course/lessons/lesson4/interactive_conspect.ipynb#Y150sZmlsZQ%3D%3D?line=29'>30</a>\u001b[0m         )\n\u001b[0;32m     <a href='vscode-notebook-cell:/c%3A/Users/Michail/Desktop/mipt/teaching/general_course/lessons/lesson4/interactive_conspect.ipynb#Y150sZmlsZQ%3D%3D?line=31'>32</a>\u001b[0m     \u001b[39mif\u001b[39;00m user\u001b[39m.\u001b[39memail \u001b[39min\u001b[39;00m \u001b[39mself\u001b[39m\u001b[39m.\u001b[39m_emails_unique:\n\u001b[0;32m     <a href='vscode-notebook-cell:/c%3A/Users/Michail/Desktop/mipt/teaching/general_course/lessons/lesson4/interactive_conspect.ipynb#Y150sZmlsZQ%3D%3D?line=32'>33</a>\u001b[0m         \u001b[39mraise\u001b[39;00m \u001b[39mRuntimeError\u001b[39;00m(\n\u001b[0;32m     <a href='vscode-notebook-cell:/c%3A/Users/Michail/Desktop/mipt/teaching/general_course/lessons/lesson4/interactive_conspect.ipynb#Y150sZmlsZQ%3D%3D?line=33'>34</a>\u001b[0m             \u001b[39m'\u001b[39m\u001b[39memail should be unique; \u001b[39m\u001b[39m'\u001b[39m\n\u001b[0;32m     <a href='vscode-notebook-cell:/c%3A/Users/Michail/Desktop/mipt/teaching/general_course/lessons/lesson4/interactive_conspect.ipynb#Y150sZmlsZQ%3D%3D?line=34'>35</a>\u001b[0m             \u001b[39mf\u001b[39m\u001b[39m'\u001b[39m\u001b[39muser with email: \u001b[39m\u001b[39m{\u001b[39;00muser\u001b[39m.\u001b[39memail\u001b[39m}\u001b[39;00m\u001b[39m is already exist\u001b[39m\u001b[39m'\u001b[39m\n\u001b[0;32m     <a href='vscode-notebook-cell:/c%3A/Users/Michail/Desktop/mipt/teaching/general_course/lessons/lesson4/interactive_conspect.ipynb#Y150sZmlsZQ%3D%3D?line=35'>36</a>\u001b[0m         )\n",
      "\u001b[1;31mRuntimeError\u001b[0m: username should be unique; user with nick: ampiro is already exist"
     ]
    }
   ],
   "source": [
    "new_users = [\n",
    "    UserInfo(\n",
    "        username='AMPIRO',\n",
    "        email='AMPIRO.email@yandex.ru',\n",
    "        password='notqw15erTY'\n",
    "    )\n",
    "]\n",
    "\n",
    "data_base.add_users(new_users)"
   ]
  },
  {
   "cell_type": "markdown",
   "metadata": {},
   "source": [
    "### Проверки символов\n",
    "\n",
    "К данным методом отсносятся следующие: `isalnum()`, `isalpha()`, `isdigit()`, `isspace()`, `istitle()` (на самостоятельное изучение предоставлены методы: `isupper()`, `islower()`, `isnumeric()`, `isprintable()`, `isidentifier()`, `isdecimal()`). Данные методы позволяют упростить проверку строки на удовлетворение всем условиям. \n",
    "\n",
    "**isalnum()**:"
   ]
  },
  {
   "cell_type": "code",
   "execution_count": 28,
   "metadata": {},
   "outputs": [
    {
     "name": "stdout",
     "output_type": "stream",
     "text": [
      "Help on method_descriptor:\n",
      "\n",
      "isalnum(self, /)\n",
      "    Return True if the string is an alpha-numeric string, False otherwise.\n",
      "    \n",
      "    A string is alpha-numeric if all characters in the string are alpha-numeric and\n",
      "    there is at least one character in the string.\n",
      "\n"
     ]
    }
   ],
   "source": [
    "help(str.isalnum)"
   ]
  },
  {
   "cell_type": "code",
   "execution_count": 29,
   "metadata": {},
   "outputs": [
    {
     "name": "stdout",
     "output_type": "stream",
     "text": [
      "True\n",
      "False\n",
      "False\n"
     ]
    }
   ],
   "source": [
    "string = 'ab123'\n",
    "print(string.isalnum())\n",
    "\n",
    "string = 'ab,!^'\n",
    "print(string.isalnum())\n",
    "\n",
    "string = 'hello world'\n",
    "print(string.isalnum())"
   ]
  },
  {
   "cell_type": "markdown",
   "metadata": {},
   "source": [
    "**isalpha()**:"
   ]
  },
  {
   "cell_type": "code",
   "execution_count": 30,
   "metadata": {},
   "outputs": [
    {
     "name": "stdout",
     "output_type": "stream",
     "text": [
      "Help on method_descriptor:\n",
      "\n",
      "isalpha(self, /)\n",
      "    Return True if the string is an alphabetic string, False otherwise.\n",
      "    \n",
      "    A string is alphabetic if all characters in the string are alphabetic and there\n",
      "    is at least one character in the string.\n",
      "\n"
     ]
    }
   ],
   "source": [
    "help(str.isalpha)"
   ]
  },
  {
   "cell_type": "code",
   "execution_count": 34,
   "metadata": {},
   "outputs": [
    {
     "name": "stdout",
     "output_type": "stream",
     "text": [
      "True\n",
      "False\n",
      "False\n"
     ]
    }
   ],
   "source": [
    "string = 'Hello'\n",
    "print(string.isalpha())\n",
    "\n",
    "string = '123'\n",
    "print(string.isalpha())\n",
    "\n",
    "string = 'Hello, world!'\n",
    "print(string.isalpha())"
   ]
  },
  {
   "cell_type": "markdown",
   "metadata": {},
   "source": [
    "**isdigit()**:"
   ]
  },
  {
   "cell_type": "code",
   "execution_count": 35,
   "metadata": {},
   "outputs": [
    {
     "name": "stdout",
     "output_type": "stream",
     "text": [
      "Help on method_descriptor:\n",
      "\n",
      "isdigit(self, /)\n",
      "    Return True if the string is a digit string, False otherwise.\n",
      "    \n",
      "    A string is a digit string if all characters in the string are digits and there\n",
      "    is at least one character in the string.\n",
      "\n"
     ]
    }
   ],
   "source": [
    "help(str.isdigit)"
   ]
  },
  {
   "cell_type": "code",
   "execution_count": 46,
   "metadata": {},
   "outputs": [
    {
     "name": "stdout",
     "output_type": "stream",
     "text": [
      "False\n",
      "True\n",
      "False\n",
      "False\n"
     ]
    }
   ],
   "source": [
    "string = 'Hello'\n",
    "print(string.isdigit())\n",
    "\n",
    "string = '123'\n",
    "print(string.isdigit())\n",
    "\n",
    "string = '-123'\n",
    "print(string.isdigit())\n",
    "\n",
    "string = 'Hello, world!'\n",
    "print(string.isdigit())"
   ]
  },
  {
   "cell_type": "markdown",
   "metadata": {},
   "source": [
    "**isspace()**:"
   ]
  },
  {
   "cell_type": "code",
   "execution_count": 47,
   "metadata": {},
   "outputs": [
    {
     "name": "stdout",
     "output_type": "stream",
     "text": [
      "Help on method_descriptor:\n",
      "\n",
      "isspace(self, /)\n",
      "    Return True if the string is a whitespace string, False otherwise.\n",
      "    \n",
      "    A string is whitespace if all characters in the string are whitespace and there\n",
      "    is at least one character in the string.\n",
      "\n"
     ]
    }
   ],
   "source": [
    "help(str.isspace)"
   ]
  },
  {
   "cell_type": "code",
   "execution_count": 49,
   "metadata": {},
   "outputs": [
    {
     "name": "stdout",
     "output_type": "stream",
     "text": [
      "True\n",
      "False\n"
     ]
    }
   ],
   "source": [
    "string = '\\n\\t    '\n",
    "print(string.isspace())\n",
    "\n",
    "string = '    aboba    '\n",
    "print(string.isspace())"
   ]
  },
  {
   "cell_type": "markdown",
   "metadata": {},
   "source": [
    "**istitle()**:"
   ]
  },
  {
   "cell_type": "code",
   "execution_count": 50,
   "metadata": {},
   "outputs": [
    {
     "name": "stdout",
     "output_type": "stream",
     "text": [
      "Help on method_descriptor:\n",
      "\n",
      "istitle(self, /)\n",
      "    Return True if the string is a title-cased string, False otherwise.\n",
      "    \n",
      "    In a title-cased string, upper- and title-case characters may only\n",
      "    follow uncased characters and lowercase characters only cased ones.\n",
      "\n"
     ]
    }
   ],
   "source": [
    "help(str.istitle)"
   ]
  },
  {
   "cell_type": "code",
   "execution_count": 55,
   "metadata": {},
   "outputs": [
    {
     "name": "stdout",
     "output_type": "stream",
     "text": [
      "True\n",
      "False\n",
      "False\n",
      "False\n"
     ]
    }
   ],
   "source": [
    "string = 'Bjarne Stroustrup'\n",
    "print(string.istitle())\n",
    "\n",
    "string = 'bjarne Stroustrup'\n",
    "print(string.istitle())\n",
    "\n",
    "string = 'Bjarne stroustrup'\n",
    "print(string.istitle())\n",
    "\n",
    "string = 'bjarne stroustrup'\n",
    "print(string.istitle())"
   ]
  },
  {
   "cell_type": "markdown",
   "metadata": {},
   "source": [
    "**Пример использования:**\n",
    "\n",
    "В данном примере я позволю себе сослаться на сферический пример в вакууме из предыдущего пункта. Просто теперь, используя данные методы, мы можем наложить более строгие ограничения на имена наших пользователей. Допустим, теперь мы требуем, чтобы уникальные ники состояли исключительно из букв английского алфавита и арабских цифр. В коде это будет выглядеть так:"
   ]
  },
  {
   "cell_type": "code",
   "execution_count": 58,
   "metadata": {},
   "outputs": [],
   "source": [
    "username = input()\n",
    "\n",
    "if not username.isalnum():\n",
    "    raise ValueError(\n",
    "        f'invalid username: {username}; '\n",
    "        'username should consist of digits and english letters'\n",
    "    )"
   ]
  },
  {
   "cell_type": "markdown",
   "metadata": {},
   "source": [
    "### Специальные методы форматирования\n",
    "\n",
    "Следующие методы относятся к специальным методом форматирования строки: `center()`, `ljust()`, `lstrip()`, `rjust()`, `rstrip()`, `strip()`."
   ]
  },
  {
   "cell_type": "markdown",
   "metadata": {},
   "source": [
    "**center()**:"
   ]
  },
  {
   "cell_type": "code",
   "execution_count": 59,
   "metadata": {},
   "outputs": [
    {
     "name": "stdout",
     "output_type": "stream",
     "text": [
      "Help on method_descriptor:\n",
      "\n",
      "center(self, width, fillchar=' ', /)\n",
      "    Return a centered string of length width.\n",
      "    \n",
      "    Padding is done using the specified fill character (default is a space).\n",
      "\n"
     ]
    }
   ],
   "source": [
    "help(str.center)"
   ]
  },
  {
   "cell_type": "code",
   "execution_count": 66,
   "metadata": {},
   "outputs": [
    {
     "name": "stdout",
     "output_type": "stream",
     "text": [
      "                               SUCCESSFULLY BUILD                               \n",
      "-------------------------------SUCCESSFULLY BUILD-------------------------------\n",
      "SUCCESSFULLY BUILD\n"
     ]
    }
   ],
   "source": [
    "string = 'SUCCESSFULLY BUILD'\n",
    "\n",
    "print(\n",
    "    string.center(80),\n",
    "    string.center(80, '-'),\n",
    "    string.center(10, '='),\n",
    "    sep='\\n'\n",
    ")"
   ]
  },
  {
   "cell_type": "markdown",
   "metadata": {},
   "source": [
    "**ljust() / rjust()**:"
   ]
  },
  {
   "cell_type": "code",
   "execution_count": 67,
   "metadata": {},
   "outputs": [
    {
     "name": "stdout",
     "output_type": "stream",
     "text": [
      "Help on method_descriptor:\n",
      "\n",
      "ljust(self, width, fillchar=' ', /)\n",
      "    Return a left-justified string of length width.\n",
      "    \n",
      "    Padding is done using the specified fill character (default is a space).\n",
      "\n"
     ]
    }
   ],
   "source": [
    "help(str.ljust)"
   ]
  },
  {
   "cell_type": "code",
   "execution_count": 70,
   "metadata": {},
   "outputs": [
    {
     "name": "stdout",
     "output_type": "stream",
     "text": [
      "Help on method_descriptor:\n",
      "\n",
      "rjust(self, width, fillchar=' ', /)\n",
      "    Return a right-justified string of length width.\n",
      "    \n",
      "    Padding is done using the specified fill character (default is a space).\n",
      "\n"
     ]
    }
   ],
   "source": [
    "help(str.rjust)"
   ]
  },
  {
   "cell_type": "code",
   "execution_count": 73,
   "metadata": {},
   "outputs": [
    {
     "name": "stdout",
     "output_type": "stream",
     "text": [
      "SUCCESSFULLY BUILD                                          \n",
      "SUCCESSFULLY BUILD..........................................\n",
      "SUCCESSFULLY BUILD\n",
      "\n",
      "                                          SUCCESSFULLY BUILD\n",
      "..........................................SUCCESSFULLY BUILD\n",
      "SUCCESSFULLY BUILD\n"
     ]
    }
   ],
   "source": [
    "string = 'SUCCESSFULLY BUILD'\n",
    "\n",
    "print(\n",
    "    string.ljust(60),\n",
    "    string.ljust(60, '.'),\n",
    "    string.ljust(10, '='),\n",
    "    sep='\\n',\n",
    "    end='\\n\\n'\n",
    ")\n",
    "\n",
    "print(\n",
    "    string.rjust(60),\n",
    "    string.rjust(60, '.'),\n",
    "    string.rjust(10, '='),\n",
    "    sep='\\n'\n",
    ")"
   ]
  },
  {
   "cell_type": "markdown",
   "metadata": {},
   "source": [
    "**Пример использования:**\n",
    "\n",
    "Данные методы могут оказаться полезными при логировании некоторой информации. Например, у вас выполняется некоторая долгая работа, чтобы понимать, что все в порядке, и ничего не вылетело, логично выводить в консоль или записывать в специальный файл отладочную информацию, которая может быть отформотирована специальным образом:"
   ]
  },
  {
   "cell_type": "code",
   "execution_count": 74,
   "metadata": {},
   "outputs": [],
   "source": [
    "from time import sleep"
   ]
  },
  {
   "cell_type": "code",
   "execution_count": 92,
   "metadata": {},
   "outputs": [],
   "source": [
    "def simulate_some_job() -> None:\n",
    "\n",
    "    success_status = 'SUCCESS'\n",
    "\n",
    "    print('START BUILDING'.center(80, '='))\n",
    "    message = 'compile files'\n",
    "    print(message.ljust(80, '.'), end='')\n",
    "    sleep(3)\n",
    "    message = message.ljust(80 - len(success_status), '.') + success_status\n",
    "    print('\\r' + message)\n",
    "    message = 'prepare libs'\n",
    "    print(message.ljust(80, '.'), end='')\n",
    "    sleep(1)\n",
    "    message = message.ljust(80 - len(success_status), '.') + success_status\n",
    "    print('\\r' + message)\n",
    "    message = 'link files'\n",
    "    print(message.ljust(80, '.'), end='')\n",
    "    sleep(2)\n",
    "    message = message.ljust(80 - len(success_status), '.') + success_status\n",
    "    print('\\r' + message)\n",
    "    print('SUCCESSFULLY BUILD'.center(80, '='))"
   ]
  },
  {
   "cell_type": "code",
   "execution_count": 93,
   "metadata": {},
   "outputs": [
    {
     "name": "stdout",
     "output_type": "stream",
     "text": [
      "=================================START BUILDING=================================\n",
      "compile files............................................................SUCCESS\n",
      "prepare libs.............................................................SUCCESS\n",
      "link files...............................................................SUCCESS\n",
      "===============================SUCCESSFULLY BUILD===============================\n"
     ]
    }
   ],
   "source": [
    "simulate_some_job()"
   ]
  },
  {
   "cell_type": "markdown",
   "metadata": {},
   "source": [
    "**strip()/ lstrip()/ rstrip()**:"
   ]
  },
  {
   "cell_type": "code",
   "execution_count": 94,
   "metadata": {},
   "outputs": [
    {
     "name": "stdout",
     "output_type": "stream",
     "text": [
      "Help on method_descriptor:\n",
      "\n",
      "strip(self, chars=None, /)\n",
      "    Return a copy of the string with leading and trailing whitespace removed.\n",
      "    \n",
      "    If chars is given and not None, remove characters in chars instead.\n",
      "\n"
     ]
    }
   ],
   "source": [
    "help(str.strip)"
   ]
  },
  {
   "cell_type": "code",
   "execution_count": 97,
   "metadata": {},
   "outputs": [
    {
     "name": "stdout",
     "output_type": "stream",
     "text": [
      "Help on method_descriptor:\n",
      "\n",
      "lstrip(self, chars=None, /)\n",
      "    Return a copy of the string with leading whitespace removed.\n",
      "    \n",
      "    If chars is given and not None, remove characters in chars instead.\n",
      "\n"
     ]
    }
   ],
   "source": [
    "help(str.lstrip)"
   ]
  },
  {
   "cell_type": "code",
   "execution_count": 100,
   "metadata": {},
   "outputs": [
    {
     "name": "stdout",
     "output_type": "stream",
     "text": [
      "Help on method_descriptor:\n",
      "\n",
      "rstrip(self, chars=None, /)\n",
      "    Return a copy of the string with trailing whitespace removed.\n",
      "    \n",
      "    If chars is given and not None, remove characters in chars instead.\n",
      "\n"
     ]
    }
   ],
   "source": [
    "help(str.rstrip)"
   ]
  },
  {
   "cell_type": "code",
   "execution_count": 102,
   "metadata": {},
   "outputs": [
    {
     "name": "stdout",
     "output_type": "stream",
     "text": [
      "aboba\n",
      "aboba  \n",
      "    aboba\n",
      "\n",
      "defgfed\n",
      "defgfedcba\n",
      "abcdefgfed\n",
      "\n"
     ]
    }
   ],
   "source": [
    "string = '    aboba  '\n",
    "print(\n",
    "    string.strip(),\n",
    "    string.lstrip(),\n",
    "    string.rstrip(),\n",
    "    sep='\\n',\n",
    "    end='\\n\\n'\n",
    ")\n",
    "\n",
    "string = 'abcdefgfedcba'\n",
    "print(\n",
    "    string.strip('abc'),\n",
    "    string.lstrip('abc'),\n",
    "    string.rstrip('abc'),\n",
    "    sep='\\n',\n",
    "    end='\\n\\n'\n",
    ")"
   ]
  },
  {
   "cell_type": "markdown",
   "metadata": {},
   "source": [
    "**Пример использования:**\n",
    "\n",
    "Данные методы могут оказаться полезными, когда, скажем, вам известно форматирование строки, и вы хотите извлечь из строки определенную информацию, однако в строке может встретиться случайное число ведущих пробелов. "
   ]
  },
  {
   "cell_type": "code",
   "execution_count": 106,
   "metadata": {},
   "outputs": [
    {
     "name": "stdout",
     "output_type": "stream",
     "text": [
      "     id\n",
      "1234567\n"
     ]
    }
   ],
   "source": [
    "id_position = slice(4, 11)\n",
    "string = '         id: 1234567; name: Mike'\n",
    "\n",
    "print(\n",
    "    string[id_position],\n",
    "    string.lstrip()[id_position],\n",
    "    sep='\\n'\n",
    ")"
   ]
  },
  {
   "cell_type": "markdown",
   "metadata": {},
   "source": [
    "### Деление и объединение\n",
    "\n",
    "К методам деления и объединения строк, которые мы будем рассматривать относятся следующие методы: `split()`, `join()`.\n",
    "\n",
    "**split()**:"
   ]
  },
  {
   "cell_type": "code",
   "execution_count": 107,
   "metadata": {},
   "outputs": [
    {
     "name": "stdout",
     "output_type": "stream",
     "text": [
      "Help on method_descriptor:\n",
      "\n",
      "split(self, /, sep=None, maxsplit=-1)\n",
      "    Return a list of the substrings in the string, using sep as the separator string.\n",
      "    \n",
      "      sep\n",
      "        The separator used to split the string.\n",
      "    \n",
      "        When set to None (the default value), will split on any whitespace\n",
      "        character (including \\\\n \\\\r \\\\t \\\\f and spaces) and will discard\n",
      "        empty strings from the result.\n",
      "      maxsplit\n",
      "        Maximum number of splits (starting from the left).\n",
      "        -1 (the default value) means no limit.\n",
      "    \n",
      "    Note, str.split() is mainly useful for data that has been intentionally\n",
      "    delimited.  With natural text that includes punctuation, consider using\n",
      "    the regular expression module.\n",
      "\n"
     ]
    }
   ],
   "source": [
    "help(str.split)"
   ]
  },
  {
   "cell_type": "code",
   "execution_count": 114,
   "metadata": {},
   "outputs": [
    {
     "name": "stdout",
     "output_type": "stream",
     "text": [
      "['Hello', 'wonderful', 'world', '!']\n",
      "['Hello', '', 'wonderful', 'world', '', '', '', '!']\n",
      "['Hello  ', 'nderful ', 'rld    !']\n",
      "['Hello', 'wonderful', 'world    !']\n"
     ]
    }
   ],
   "source": [
    "string = 'Hello  wonderful world    !'\n",
    "print(\n",
    "    string.split(),\n",
    "    string.split(' '),\n",
    "    string.split('wo'),\n",
    "    string.split(maxsplit=2),\n",
    "    sep='\\n'\n",
    ")"
   ]
  },
  {
   "cell_type": "markdown",
   "metadata": {},
   "source": [
    "**Пример использования:**\n",
    "\n",
    "Метод split() может показаться очень полезным, для разбиения текста на отдельные слова, что и было продемонстрировано выше. В частности, этот метод будет полезен вам на курсе по машинному обучению."
   ]
  },
  {
   "cell_type": "markdown",
   "metadata": {},
   "source": [
    "**join()**"
   ]
  },
  {
   "cell_type": "code",
   "execution_count": 115,
   "metadata": {},
   "outputs": [
    {
     "name": "stdout",
     "output_type": "stream",
     "text": [
      "Help on method_descriptor:\n",
      "\n",
      "join(self, iterable, /)\n",
      "    Concatenate any number of strings.\n",
      "    \n",
      "    The string whose method is called is inserted in between each given string.\n",
      "    The result is returned as a new string.\n",
      "    \n",
      "    Example: '.'.join(['ab', 'pq', 'rs']) -> 'ab.pq.rs'\n",
      "\n"
     ]
    }
   ],
   "source": [
    "help(str.join)"
   ]
  },
  {
   "cell_type": "code",
   "execution_count": 116,
   "metadata": {},
   "outputs": [
    {
     "name": "stdout",
     "output_type": "stream",
     "text": [
      "apple grape orange\n",
      "apple; grape; orange\n",
      "applegrapeorange\n"
     ]
    }
   ],
   "source": [
    "words = ['apple', 'grape', 'orange']\n",
    "print(\n",
    "    ' '.join(words),\n",
    "    '; '.join(words),\n",
    "    ''.join(words),\n",
    "    sep='\\n'\n",
    ")"
   ]
  },
  {
   "cell_type": "markdown",
   "metadata": {},
   "source": [
    "**Пример использования**:\n",
    "\n",
    "Данный метод может показаться полезным для формирования строк из перечислений для логирования или сообщений об ошибки. "
   ]
  },
  {
   "cell_type": "markdown",
   "metadata": {},
   "source": [
    "### Подстроки\n",
    "\n",
    "В данном разделе перечислены методы работы с подстроками.\n",
    "\n",
    "**endswith()/ startswith()**"
   ]
  },
  {
   "cell_type": "code",
   "execution_count": 117,
   "metadata": {},
   "outputs": [
    {
     "name": "stdout",
     "output_type": "stream",
     "text": [
      "Help on method_descriptor:\n",
      "\n",
      "endswith(...)\n",
      "    S.endswith(suffix[, start[, end]]) -> bool\n",
      "    \n",
      "    Return True if S ends with the specified suffix, False otherwise.\n",
      "    With optional start, test S beginning at that position.\n",
      "    With optional end, stop comparing S at that position.\n",
      "    suffix can also be a tuple of strings to try.\n",
      "\n"
     ]
    }
   ],
   "source": [
    "help(str.endswith)"
   ]
  },
  {
   "cell_type": "code",
   "execution_count": 120,
   "metadata": {},
   "outputs": [
    {
     "name": "stdout",
     "output_type": "stream",
     "text": [
      "Help on method_descriptor:\n",
      "\n",
      "startswith(...)\n",
      "    S.startswith(prefix[, start[, end]]) -> bool\n",
      "    \n",
      "    Return True if S starts with the specified prefix, False otherwise.\n",
      "    With optional start, test S beginning at that position.\n",
      "    With optional end, stop comparing S at that position.\n",
      "    prefix can also be a tuple of strings to try.\n",
      "\n"
     ]
    }
   ],
   "source": [
    "help(str.startswith)"
   ]
  },
  {
   "cell_type": "code",
   "execution_count": 125,
   "metadata": {},
   "outputs": [
    {
     "name": "stdout",
     "output_type": "stream",
     "text": [
      "True\n",
      "True\n",
      "False\n",
      "\n",
      "True\n",
      "True\n",
      "False\n",
      "\n"
     ]
    }
   ],
   "source": [
    "string = 'hello, world'\n",
    "\n",
    "print(\n",
    "    string.endswith('world'),\n",
    "    string.endswith('world', 6),\n",
    "    string.endswith('world', 6, 9),\n",
    "    sep='\\n',\n",
    "    end='\\n\\n'\n",
    ")\n",
    "\n",
    "print(\n",
    "    string.startswith('hello'),\n",
    "    string.startswith('hello', -12, -5),\n",
    "    string.startswith('hello', 6, 9),\n",
    "    sep='\\n',\n",
    "    end='\\n\\n'\n",
    ")"
   ]
  },
  {
   "cell_type": "markdown",
   "metadata": {},
   "source": [
    "**find()/ rfind()**:"
   ]
  },
  {
   "cell_type": "code",
   "execution_count": 126,
   "metadata": {},
   "outputs": [
    {
     "name": "stdout",
     "output_type": "stream",
     "text": [
      "Help on method_descriptor:\n",
      "\n",
      "find(...)\n",
      "    S.find(sub[, start[, end]]) -> int\n",
      "    \n",
      "    Return the lowest index in S where substring sub is found,\n",
      "    such that sub is contained within S[start:end].  Optional\n",
      "    arguments start and end are interpreted as in slice notation.\n",
      "    \n",
      "    Return -1 on failure.\n",
      "\n"
     ]
    }
   ],
   "source": [
    "help(str.find)"
   ]
  },
  {
   "cell_type": "code",
   "execution_count": 129,
   "metadata": {},
   "outputs": [
    {
     "name": "stdout",
     "output_type": "stream",
     "text": [
      "Help on method_descriptor:\n",
      "\n",
      "rfind(...)\n",
      "    S.rfind(sub[, start[, end]]) -> int\n",
      "    \n",
      "    Return the highest index in S where substring sub is found,\n",
      "    such that sub is contained within S[start:end].  Optional\n",
      "    arguments start and end are interpreted as in slice notation.\n",
      "    \n",
      "    Return -1 on failure.\n",
      "\n"
     ]
    }
   ],
   "source": [
    "help(str.rfind)"
   ]
  },
  {
   "cell_type": "code",
   "execution_count": 134,
   "metadata": {},
   "outputs": [
    {
     "name": "stdout",
     "output_type": "stream",
     "text": [
      "2\n",
      "4\n",
      "2\n",
      "-1\n",
      "\n",
      "4\n",
      "2\n",
      "4\n",
      "-1\n"
     ]
    }
   ],
   "source": [
    "string = 'banana'\n",
    "\n",
    "print(\n",
    "    string.find('na'),\n",
    "    string.find('na', 3),\n",
    "    string.find('na', -4),\n",
    "    string.find('na', 0, 3),\n",
    "    sep='\\n',\n",
    "    end='\\n\\n'\n",
    ")\n",
    "\n",
    "print(\n",
    "    string.rfind('na'),\n",
    "    string.rfind('na', 0, 5),\n",
    "    string.rfind('na', -4),\n",
    "    string.rfind('na', 0, 3),\n",
    "    sep='\\n'\n",
    ")"
   ]
  },
  {
   "cell_type": "markdown",
   "metadata": {},
   "source": [
    "**Использование**:\n",
    "\n",
    "Очевидно, для проверки, обладает ли строка тем или иным суффиксом/префиксом.\n",
    "\n",
    "**index()/ rindex()**:"
   ]
  },
  {
   "cell_type": "code",
   "execution_count": 135,
   "metadata": {},
   "outputs": [
    {
     "name": "stdout",
     "output_type": "stream",
     "text": [
      "Help on method_descriptor:\n",
      "\n",
      "index(...)\n",
      "    S.index(sub[, start[, end]]) -> int\n",
      "    \n",
      "    Return the lowest index in S where substring sub is found,\n",
      "    such that sub is contained within S[start:end].  Optional\n",
      "    arguments start and end are interpreted as in slice notation.\n",
      "    \n",
      "    Raises ValueError when the substring is not found.\n",
      "\n"
     ]
    }
   ],
   "source": [
    "help(str.index)"
   ]
  },
  {
   "cell_type": "code",
   "execution_count": 136,
   "metadata": {},
   "outputs": [
    {
     "name": "stdout",
     "output_type": "stream",
     "text": [
      "Help on method_descriptor:\n",
      "\n",
      "rindex(...)\n",
      "    S.rindex(sub[, start[, end]]) -> int\n",
      "    \n",
      "    Return the highest index in S where substring sub is found,\n",
      "    such that sub is contained within S[start:end].  Optional\n",
      "    arguments start and end are interpreted as in slice notation.\n",
      "    \n",
      "    Raises ValueError when the substring is not found.\n",
      "\n"
     ]
    }
   ],
   "source": [
    "help(str.rindex)"
   ]
  },
  {
   "cell_type": "code",
   "execution_count": 142,
   "metadata": {},
   "outputs": [
    {
     "name": "stdout",
     "output_type": "stream",
     "text": [
      "2\n",
      "4\n",
      "2\n",
      "substring not found\n",
      "\n",
      "4\n",
      "2\n",
      "4\n",
      "substring not found\n"
     ]
    }
   ],
   "source": [
    "string = 'banana'\n",
    "\n",
    "try:\n",
    "    print(\n",
    "        string.index('na'),\n",
    "        string.index('na', 3),\n",
    "        string.index('na', -4),\n",
    "        sep='\\n'\n",
    "    )\n",
    "    print(string.index('na', 0, 3))\n",
    "except ValueError as error:\n",
    "    print(str(error), end='\\n\\n')\n",
    "\n",
    "try:\n",
    "    print(\n",
    "        string.rindex('na'),\n",
    "        string.rindex('na', 0, 5),\n",
    "        string.rindex('na', -4),\n",
    "        sep='\\n'\n",
    "    )\n",
    "    print(string.rindex('na', 0, 3))\n",
    "except ValueError as error:\n",
    "    print(str(error))"
   ]
  },
  {
   "cell_type": "markdown",
   "metadata": {},
   "source": [
    "### replace()\n",
    "\n",
    "Метод replace не вошел ни в одну из категорий, но при этом является очень важным и частоиспользуемым."
   ]
  },
  {
   "cell_type": "code",
   "execution_count": 143,
   "metadata": {},
   "outputs": [
    {
     "name": "stdout",
     "output_type": "stream",
     "text": [
      "Help on method_descriptor:\n",
      "\n",
      "replace(self, old, new, count=-1, /)\n",
      "    Return a copy with all occurrences of substring old replaced by new.\n",
      "    \n",
      "      count\n",
      "        Maximum number of occurrences to replace.\n",
      "        -1 (the default value) means replace all occurrences.\n",
      "    \n",
      "    If the optional argument count is given, only the first count occurrences are\n",
      "    replaced.\n",
      "\n"
     ]
    }
   ],
   "source": [
    "help(str.replace)"
   ]
  },
  {
   "cell_type": "markdown",
   "metadata": {},
   "source": [
    "**Пример использования:**\n",
    "\n",
    "Вам пригодиться метод replace для наивной токенизации текстов в NLP(natural language processing). Для обучения некоторых глубоких моделей вам может потребоваться разбить текст на слова. Если сделать это с помощью split, то частью слов будут являться знаки препинания, что, разумеется, нежелательно. Тут вам и приходит на помощь метод replace, благодаря которому можно заменить нежелательные символы на пустые строки. "
   ]
  },
  {
   "cell_type": "code",
   "execution_count": 148,
   "metadata": {},
   "outputs": [
    {
     "name": "stdout",
     "output_type": "stream",
     "text": [
      "['This', 'is', 'a', 'real', 'text.', 'It', 'has', 'commas', 'and', 'dots.', 'For', 'example,', 'this', 'sentance', 'has', 'comma', 'and', 'dot.']\n",
      "\n",
      "This is a real text It has commas and dots For example this sentance has comma and dot\n",
      "['This', 'is', 'a', 'real', 'text', 'It', 'has', 'commas', 'and', 'dots', 'For', 'example', 'this', 'sentance', 'has', 'comma', 'and', 'dot']\n"
     ]
    }
   ],
   "source": [
    "string = (\n",
    "    'This is a real text. It has commas and dots. '\n",
    "    'For example, this sentance has comma and dot.'\n",
    ")\n",
    "\n",
    "print(string.split(), end='\\n\\n')\n",
    "\n",
    "delete_signs = ['.', ',']\n",
    "\n",
    "for delete_sign in delete_signs:\n",
    "    string = string.replace(delete_sign, '')\n",
    "\n",
    "print(\n",
    "    string,\n",
    "    string.split(),\n",
    "    sep='\\n'\n",
    ")"
   ]
  },
  {
   "cell_type": "markdown",
   "metadata": {},
   "source": [
    "## Наборы символов\n",
    "\n",
    "В модуле `string` стандартной библиотеки Python содержаться все необходимы наборы символов, которые могут быть вам полезны. Так, для примера выше вам не нужно создавать отдельный список с перечислением всех знаков пунктуации, а достаточно использовать соответствующий набор из модуля string.\n",
    "\n",
    "**Важно**: не перезаписывайте значения переменных из модуля string. Многие методы строк полагаются на эти константы, их перезапись может привести к плачевным последствиям в вашем коде. "
   ]
  },
  {
   "cell_type": "code",
   "execution_count": 149,
   "metadata": {},
   "outputs": [],
   "source": [
    "import string"
   ]
  },
  {
   "cell_type": "code",
   "execution_count": 151,
   "metadata": {},
   "outputs": [
    {
     "name": "stdout",
     "output_type": "stream",
     "text": [
      "abcdefghijklmnopqrstuvwxyzABCDEFGHIJKLMNOPQRSTUVWXYZ\n",
      "abcdefghijklmnopqrstuvwxyz\n",
      "ABCDEFGHIJKLMNOPQRSTUVWXYZ\n",
      "0123456789\n",
      "!\"#$%&'()*+,-./:;<=>?@[\\]^_`{|}~\n"
     ]
    }
   ],
   "source": [
    "print(\n",
    "    string.ascii_letters,\n",
    "    string.ascii_lowercase,\n",
    "    string.ascii_uppercase,\n",
    "    string.digits,\n",
    "    string.punctuation,\n",
    "    sep='\\n'\n",
    ")"
   ]
  },
  {
   "cell_type": "markdown",
   "metadata": {},
   "source": [
    "## Форматирование строк\n",
    "\n",
    "В Python существует возможность удобного форматирования строк: вставки в определенное место строки вычисленных значений в определенном формате. Данная возможность может быть очень полезна для целей логирования информации или создания полезных сообщений об ошибках. Форматирование строки может осуществляться несколькими способами: с помощью метода `format()`, который будет разобран в этом разделе, с помощью f-строк, и с помощью олдскульного С-подобного форматирования, которое мы рассматривать не будем."
   ]
  },
  {
   "cell_type": "code",
   "execution_count": 163,
   "metadata": {},
   "outputs": [],
   "source": [
    "from random import randint\n",
    "from typing import Any\n",
    "from enum import Enum\n",
    "\n",
    "class Statuses(Enum):\n",
    "    success = 'success'\n",
    "    fail = 'fail'"
   ]
  },
  {
   "cell_type": "code",
   "execution_count": 223,
   "metadata": {},
   "outputs": [],
   "source": [
    "def simulate_calculation(value):\n",
    "    time = randint(1, 20)\n",
    "    time_limit = 10\n",
    "\n",
    "    if time > time_limit:\n",
    "        return Statuses.fail, None, time\n",
    "\n",
    "    return Statuses.success, value, time "
   ]
  },
  {
   "cell_type": "markdown",
   "metadata": {},
   "source": [
    "### Форматирование в простейшем варианте"
   ]
  },
  {
   "cell_type": "code",
   "execution_count": 208,
   "metadata": {},
   "outputs": [
    {
     "name": "stdout",
     "output_type": "stream",
     "text": [
      "[INFO]: operation status: None; operation result: 15; taken time: Statuses.fail;\n"
     ]
    }
   ],
   "source": [
    "msg_template = (\n",
    "    '[INFO]: operation status: {}; operation result: {}; '\n",
    "    'taken time: {};'\n",
    ")\n",
    "\n",
    "result = simulate_calculation(42)\n",
    "print(msg_template.format(*result))"
   ]
  },
  {
   "cell_type": "code",
   "execution_count": 209,
   "metadata": {},
   "outputs": [
    {
     "name": "stdout",
     "output_type": "stream",
     "text": [
      "[INFO]: operation status: None; operation result: 20; taken time: Statuses.fail;\n"
     ]
    }
   ],
   "source": [
    "msg_template = (\n",
    "    '[INFO]: operation status: {2}; operation result: {1}; '\n",
    "    'taken time: {0};'\n",
    ")\n",
    "\n",
    "result = simulate_calculation(42)[::-1]\n",
    "print(msg_template.format(*result))"
   ]
  },
  {
   "cell_type": "code",
   "execution_count": 210,
   "metadata": {},
   "outputs": [
    {
     "name": "stdout",
     "output_type": "stream",
     "text": [
      "[INFO]: operation status: success; operation result: 2; taken time: 7.4;\n"
     ]
    }
   ],
   "source": [
    "msg_template = (\n",
    "    '[INFO]: operation status: {}; operation result: {[1]}; '\n",
    "    'taken time: {};'\n",
    ")\n",
    "\n",
    "print(msg_template.format('success', [1, 2], 7.4))"
   ]
  },
  {
   "cell_type": "code",
   "execution_count": 212,
   "metadata": {},
   "outputs": [
    {
     "name": "stdout",
     "output_type": "stream",
     "text": [
      "[INFO]: operation status: success; operation result: 42; taken time: 2;\n"
     ]
    }
   ],
   "source": [
    "msg_template = (\n",
    "    '[INFO]: operation status: {.value}; operation result: {}; '\n",
    "    'taken time: {};'\n",
    ")\n",
    "\n",
    "result = simulate_calculation(42)\n",
    "print(msg_template.format(*result))"
   ]
  },
  {
   "cell_type": "markdown",
   "metadata": {},
   "source": [
    "### Отступы"
   ]
  },
  {
   "cell_type": "code",
   "execution_count": 226,
   "metadata": {},
   "outputs": [
    {
     "name": "stdout",
     "output_type": "stream",
     "text": [
      "calculate()........................................................fail\n"
     ]
    }
   ],
   "source": [
    "msg_template = 'calculate(){.value:.>60}'\n",
    "status, _, _ = simulate_calculation(42)\n",
    "\n",
    "print(msg_template.format(status))"
   ]
  },
  {
   "cell_type": "code",
   "execution_count": 227,
   "metadata": {},
   "outputs": [
    {
     "name": "stdout",
     "output_type": "stream",
     "text": [
      "calculate()success.....................................................\n"
     ]
    }
   ],
   "source": [
    "msg_template = 'calculate(){.value:.<60}'\n",
    "status, _, _ = simulate_calculation(42)\n",
    "\n",
    "print(msg_template.format(status))"
   ]
  },
  {
   "cell_type": "code",
   "execution_count": 228,
   "metadata": {},
   "outputs": [
    {
     "name": "stdout",
     "output_type": "stream",
     "text": [
      "calculate()............................fail............................\n"
     ]
    }
   ],
   "source": [
    "msg_template = 'calculate(){.value:.^60}'\n",
    "status, _, _ = simulate_calculation(42)\n",
    "\n",
    "print(msg_template.format(status))"
   ]
  },
  {
   "cell_type": "markdown",
   "metadata": {},
   "source": [
    "### Точность"
   ]
  },
  {
   "cell_type": "code",
   "execution_count": 239,
   "metadata": {},
   "outputs": [
    {
     "name": "stdout",
     "output_type": "stream",
     "text": [
      "VALUE: 3.142;\n"
     ]
    }
   ],
   "source": [
    "msg_template = 'VALUE: {:.3f};'\n",
    "\n",
    "_, value, _ = simulate_calculation(3.141592)\n",
    "\n",
    "if value:\n",
    "    print(msg_template.format(value))"
   ]
  },
  {
   "cell_type": "code",
   "execution_count": 240,
   "metadata": {},
   "outputs": [
    {
     "name": "stdout",
     "output_type": "stream",
     "text": [
      "VALUE: 3.14;\n"
     ]
    }
   ],
   "source": [
    "msg_template = 'VALUE: {:.3g};'\n",
    "\n",
    "_, value, _ = simulate_calculation(3.141592)\n",
    "\n",
    "if value:\n",
    "    print(msg_template.format(value))"
   ]
  },
  {
   "cell_type": "code",
   "execution_count": 241,
   "metadata": {},
   "outputs": [
    {
     "name": "stdout",
     "output_type": "stream",
     "text": [
      "VALUE: str;\n"
     ]
    }
   ],
   "source": [
    "msg_template = 'VALUE: {:.3s};'\n",
    "\n",
    "_, value, _ = simulate_calculation('string')\n",
    "\n",
    "if value:\n",
    "    print(msg_template.format(value))"
   ]
  },
  {
   "cell_type": "markdown",
   "metadata": {},
   "source": [
    "### Вложенное форматирование"
   ]
  },
  {
   "cell_type": "code",
   "execution_count": 243,
   "metadata": {},
   "outputs": [
    {
     "name": "stdout",
     "output_type": "stream",
     "text": [
      "VALUE:     3.1416;\n",
      "VALUE:      3.142;\n",
      "VALUE:       3.14;\n"
     ]
    }
   ],
   "source": [
    "msg_template = 'VALUE: {number: >10.{precision}f};'\n",
    "\n",
    "print(msg_template.format(number=3.1415926, precision=4))\n",
    "print(msg_template.format(number=3.1415926, precision=3))\n",
    "print(msg_template.format(number=3.1415926, precision=2))"
   ]
  }
 ],
 "metadata": {
  "kernelspec": {
   "display_name": "Python 3",
   "language": "python",
   "name": "python3"
  },
  "language_info": {
   "codemirror_mode": {
    "name": "ipython",
    "version": 3
   },
   "file_extension": ".py",
   "mimetype": "text/x-python",
   "name": "python",
   "nbconvert_exporter": "python",
   "pygments_lexer": "ipython3",
   "version": "3.11.1"
  },
  "orig_nbformat": 4
 },
 "nbformat": 4,
 "nbformat_minor": 2
}
