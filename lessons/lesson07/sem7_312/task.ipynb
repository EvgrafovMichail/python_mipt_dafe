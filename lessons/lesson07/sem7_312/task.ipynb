{
 "cells": [
  {
   "cell_type": "markdown",
   "metadata": {},
   "source": [
    "# Паттерн стратегия через полноправные функции\n",
    "\n",
    "## Описание паттерна\n",
    "\n",
    "В книге «Паттерны проектирования» паттерн Стратегия описывается следующим образом:\n",
    "\n",
    "        Определить семейство алгоритмов, инкапсулировать каждый из\n",
    "        них и сделать их взаимозаменяемыми. Стратегия позволяет заменять\n",
    "        алгоритм независимо от использующих его клиентов.\n",
    "\n",
    "![image](strategy.png)"
   ]
  },
  {
   "cell_type": "markdown",
   "metadata": {},
   "source": [
    "Как следует из приведенной UML-даграммы, для реализации патерна авторы предлагают использовать все блага ООП, в частности, наследование, абстрактные классы, полиморфизм и пр. Однако из-за наличия в Python полноправных функций, этот паттерн может быть реализован и без использования столь сложных концепций. В этом на и предстоит убедиться."
   ]
  },
  {
   "cell_type": "markdown",
   "metadata": {},
   "source": [
    "## Задача\n",
    "\n",
    "Рассмотрим Интернет-магазин со следующими правилами формирования скидок:\n",
    "- заказчику, имеющему не менее 1000 баллов лояльности, предоставляется глобальная скидка 5 % на весь заказ;\n",
    "- на позиции, заказанные в количестве не менее 20 единиц в одном заказе, предоставляется скидка 10 %;\n",
    "- на заказы, содержащие не менее 10 различных позиций, предоставляется глобальная скидка 7 %.\n",
    "- к каждому заказу может быть применена только одна из данных скидок - скидка, дающая наибольший бонус.\n",
    "\n",
    "Также отдел аналитики нашего Интернет-магазина хочет собирать статистику по популярности использования каждой стратегии начисления скидки.\n",
    "\n",
    "Наша задача, используя структы ниже, реализовать механизм расчета оптимальной скидки для каждого заказа и сбора статистика для отдела аналитики."
   ]
  },
  {
   "cell_type": "markdown",
   "metadata": {},
   "source": [
    "**Структуры для выполнения**:"
   ]
  },
  {
   "cell_type": "code",
   "execution_count": 5,
   "metadata": {},
   "outputs": [],
   "source": [
    "from typing import Optional, Callable\n",
    "from dataclasses import dataclass"
   ]
  },
  {
   "cell_type": "code",
   "execution_count": 6,
   "metadata": {},
   "outputs": [],
   "source": [
    "@dataclass\n",
    "class Item:\n",
    "    label: str\n",
    "    price: float\n",
    "    amount: int"
   ]
  },
  {
   "cell_type": "code",
   "execution_count": 7,
   "metadata": {},
   "outputs": [],
   "source": [
    "@dataclass\n",
    "class Customer:\n",
    "    customer_id: int\n",
    "    username: str\n",
    "    loyalty_points: int"
   ]
  },
  {
   "cell_type": "code",
   "execution_count": 8,
   "metadata": {},
   "outputs": [],
   "source": [
    "class Order:\n",
    "    customer: Customer\n",
    "    order: list[Item]\n",
    "    price: float\n",
    "\n",
    "    def __init__(self, \n",
    "        customer: Customer,\n",
    "        order: list[Item]\n",
    "    ) -> None:\n",
    "        self.customer = customer\n",
    "        self.order = list(order)\n",
    "        self.price = sum(item.price * item.amount for item in self.order)"
   ]
  },
  {
   "cell_type": "code",
   "execution_count": 9,
   "metadata": {},
   "outputs": [],
   "source": [
    "\n",
    "def discount_for_1000_points(my_order) -> float:\n",
    "    if my_order.customer.loyality_points >= 1000:\n",
    "        return my_order.price * 0.05\n",
    "    return 0\n",
    "def discount_for_20_in_pos(my_order) -> float:\n",
    "    total_discount = 0\n",
    "    for element in my_order.order:\n",
    "        if element.amount >= 20:\n",
    "            total_discount += element.price * element.amount * 0.1\n",
    "    return total_discount\n",
    "def discount_for_10_poses(my_order) -> float:\n",
    "    if len(my_order.order) >= 10:\n",
    "        return my_order.price * 0.07\n",
    "    return 0\n",
    "\n",
    "popularity_counter = dict.fromkeys(\n",
    "    [discount_for_1000_points,\n",
    "    discount_for_20_in_pos,\n",
    "    discount_for_10_poses],\n",
    ")\n",
    "\n",
    "def manage_discounts(my_order: Order) -> float:\n",
    "    global popularity_counter\n",
    "    max_discount_price, max_discount_func = 0, None\n",
    "    \n",
    "    for discount in popularity_counter:\n",
    "        current_price = discount(my_order)\n",
    "        \n",
    "        if current_price > max_discount_price:\n",
    "            max_discount_price = current_price\n",
    "            max_discount_func = discount\n",
    "    \n",
    "    popularity_counter[max_discount_func] += 1\n",
    "    \n",
    "    return max_discount_price"
   ]
  },
  {
   "cell_type": "code",
   "execution_count": null,
   "metadata": {},
   "outputs": [],
   "source": []
  }
 ],
 "metadata": {
  "kernelspec": {
   "display_name": "Python 3",
   "language": "python",
   "name": "python3"
  },
  "language_info": {
   "codemirror_mode": {
    "name": "ipython",
    "version": 3
   },
   "file_extension": ".py",
   "mimetype": "text/x-python",
   "name": "python",
   "nbconvert_exporter": "python",
   "pygments_lexer": "ipython3",
   "version": "3.11.5"
  }
 },
 "nbformat": 4,
 "nbformat_minor": 2
}
