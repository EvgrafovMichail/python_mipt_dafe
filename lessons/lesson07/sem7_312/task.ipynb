{
 "cells": [
  {
   "cell_type": "markdown",
   "metadata": {},
   "source": [
    "# Паттерн стратегия через полноправные функции\n",
    "\n",
    "## Описание паттерна\n",
    "\n",
    "В книге «Паттерны проектирования» паттерн Стратегия описывается следующим образом:\n",
    "\n",
    "        Определить семейство алгоритмов, инкапсулировать каждый из\n",
    "        них и сделать их взаимозаменяемыми. Стратегия позволяет заменять\n",
    "        алгоритм независимо от использующих его клиентов.\n",
    "\n",
    "![image](strategy.png)"
   ]
  },
  {
   "cell_type": "markdown",
   "metadata": {},
   "source": [
    "Как следует из приведенной UML-даграммы, для реализации патерна авторы предлагают использовать все блага ООП, в частности, наследование, абстрактные классы, полиморфизм и пр. Однако из-за наличия в Python полноправных функций, этот паттерн может быть реализован и без использования столь сложных концепций. В этом на и предстоит убедиться."
   ]
  },
  {
   "cell_type": "markdown",
   "metadata": {},
   "source": [
    "## Задача\n",
    "\n",
    "Рассмотрим Интернет-магазин со следующими правилами формирования скидок:\n",
    "- заказчику, имеющему не менее 1000 баллов лояльности, предоставляется глобальная скидка 5 % на весь заказ;\n",
    "- на позиции, заказанные в количестве не менее 20 единиц в одном заказе, предоставляется скидка 10 %;\n",
    "- на заказы, содержащие не менее 10 различных позиций, предоставляется глобальная скидка 7 %.\n",
    "- к каждому заказу может быть применена только одна из данных скидок - скидка, дающая наибольший бонус.\n",
    "\n",
    "Также отдел аналитики нашего Интернет-магазина хочет собирать статистику по популярности использования каждой стратегии начисления скидки.\n",
    "\n",
    "Наша задача, используя структы ниже, реализовать механизм расчета оптимальной скидки для каждого заказа и сбора статистика для отдела аналитики."
   ]
  },
  {
   "cell_type": "markdown",
   "metadata": {},
   "source": [
    "**Структуры для выполнения**:"
   ]
  },
  {
   "cell_type": "code",
   "execution_count": 3,
   "metadata": {},
   "outputs": [],
   "source": [
    "from typing import Optional, Callable\n",
    "from dataclasses import dataclass"
   ]
  },
  {
   "cell_type": "code",
   "execution_count": 4,
   "metadata": {},
   "outputs": [],
   "source": [
    "@dataclass\n",
    "class Item:\n",
    "    label: str\n",
    "    price: float\n",
    "    amount: int"
   ]
  },
  {
   "cell_type": "code",
   "execution_count": 6,
   "metadata": {},
   "outputs": [],
   "source": [
    "@dataclass\n",
    "class Customer:\n",
    "    customer_id: int\n",
    "    username: str\n",
    "    loyalty_points: int"
   ]
  },
  {
   "cell_type": "code",
   "execution_count": 5,
   "metadata": {},
   "outputs": [],
   "source": [
    "class Order:\n",
    "    customer: Customer\n",
    "    order: list[Item]\n",
    "    price: float\n",
    "    promotion: Optional[Callable] = None\n",
    "\n",
    "    def __init__(self, \n",
    "        customer: Customer,\n",
    "        order: list[Item],\n",
    "        promotion: Optional[Callable] = None\n",
    "    ) -> None:\n",
    "        self.customer = customer\n",
    "        self.order = list(order)\n",
    "        self.promotion = promotion\n",
    "        self.price = self._compute_price()\n",
    "\n",
    "    def _compute_price(self) -> float:\n",
    "        price = sum(item.price * item.amount for item in self.order)\n",
    "\n",
    "        if self.promotion:\n",
    "            price -= self.promotion(self.order)\n",
    "\n",
    "        return price"
   ]
  },
  {
   "cell_type": "code",
   "execution_count": null,
   "metadata": {},
   "outputs": [],
   "source": []
  }
 ],
 "metadata": {
  "kernelspec": {
   "display_name": "Python 3",
   "language": "python",
   "name": "python3"
  },
  "language_info": {
   "codemirror_mode": {
    "name": "ipython",
    "version": 3
   },
   "file_extension": ".py",
   "mimetype": "text/x-python",
   "name": "python",
   "nbconvert_exporter": "python",
   "pygments_lexer": "ipython3",
   "version": "3.11.1"
  }
 },
 "nbformat": 4,
 "nbformat_minor": 2
}
