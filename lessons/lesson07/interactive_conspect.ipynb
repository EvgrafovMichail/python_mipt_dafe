{
 "cells": [
  {
   "cell_type": "markdown",
   "metadata": {},
   "source": [
    "# Функции\n",
    "\n",
    "## Введение\n",
    "\n",
    "Большая часть утверждений в типичной программе на Python представляют собой часть функций. Это не удивительно, ведь подобный подход обладает целым рядом приемуществ. Одно из самых очевидных преимуществ - структурирование. Организациия программы как набора функций позволяет вам увеличить понятность структуры и читаемость кода. Также в пользу подобной организации кода говорит и факт того, что код, помещенный в тело функции, может выполняться быстрее кода, находящегося на уровне модуля.\n",
    "\n",
    "Функция - это всего лишь набор утверждений, которые выполняются по определнному запросу - функциональному вызову. В Python существует большое количество встроенных функций.\n",
    "\n",
    "В Python функции являются такими же объектами, как целые числа или списки, а потому интерпретатор и работает с ними, как с обычными объектами. Так, например, вы можете передать одну функцию в качестве аргумента другой функции:"
   ]
  },
  {
   "cell_type": "code",
   "execution_count": 1,
   "metadata": {},
   "outputs": [],
   "source": [
    "from typing import Callable\n",
    "\n",
    "def do_something() -> None:\n",
    "    print('do something')\n",
    "\n",
    "\n",
    "def do_something_with_func(func: Callable) -> None:\n",
    "    print(f'do something with func: {func.__name__}')\n",
    "    do_something()"
   ]
  },
  {
   "cell_type": "code",
   "execution_count": 2,
   "metadata": {},
   "outputs": [
    {
     "name": "stdout",
     "output_type": "stream",
     "text": [
      "do something with func: do_something\n",
      "do something\n"
     ]
    }
   ],
   "source": [
    "do_something_with_func(do_something)"
   ]
  },
  {
   "cell_type": "markdown",
   "metadata": {},
   "source": [
    "Вы можете использовать одну функции, в качестве результата выполнения другой функции:"
   ]
  },
  {
   "cell_type": "code",
   "execution_count": 4,
   "metadata": {},
   "outputs": [],
   "source": [
    "def produce_func() -> Callable:\n",
    "    def do_something() -> None:\n",
    "        print('produced function')\n",
    "\n",
    "    return do_something"
   ]
  },
  {
   "cell_type": "code",
   "execution_count": 5,
   "metadata": {},
   "outputs": [
    {
     "name": "stdout",
     "output_type": "stream",
     "text": [
      "type: function;\n",
      "produced function\n"
     ]
    }
   ],
   "source": [
    "produced_func = produce_func()\n",
    "\n",
    "print(f'type: {type(produced_func).__name__};')\n",
    "produced_func()"
   ]
  },
  {
   "cell_type": "markdown",
   "metadata": {},
   "source": [
    "Функция может быть привязана к переменной:"
   ]
  },
  {
   "cell_type": "code",
   "execution_count": 7,
   "metadata": {},
   "outputs": [
    {
     "name": "stdout",
     "output_type": "stream",
     "text": [
      "do something\n",
      "do something\n"
     ]
    }
   ],
   "source": [
    "my_var = do_something\n",
    "\n",
    "do_something()\n",
    "my_var()"
   ]
  },
  {
   "cell_type": "markdown",
   "metadata": {},
   "source": [
    "Функция может быть элементом в некоторой коллекции:"
   ]
  },
  {
   "cell_type": "code",
   "execution_count": 8,
   "metadata": {},
   "outputs": [
    {
     "name": "stdout",
     "output_type": "stream",
     "text": [
      "value: 1; type: int\n",
      "value: 3.14; type: float\n",
      "value: string; type: str\n",
      "value: (1, 2); type: tuple\n",
      "value: <function do_something at 0x0000021658957060>; type: function\n"
     ]
    }
   ],
   "source": [
    "collection = [1, 3.14, 'string', (1, 2,), do_something]\n",
    "\n",
    "for elem in collection:\n",
    "    print(f'value: {str(elem)}; type: {type(elem).__name__}')"
   ]
  },
  {
   "cell_type": "markdown",
   "metadata": {},
   "source": [
    "Также, функции являются хэшируемыми (подумайте, почему), следовательно вы можете использовать функции в качестве ключей словаря. В примере ниже это свойство использовано для построение следующего словаря: ключ - это определенная математическая функция, значение - обратная к ней функция.\n",
    "\n",
    "*Пример*:"
   ]
  },
  {
   "cell_type": "code",
   "execution_count": 12,
   "metadata": {},
   "outputs": [
    {
     "name": "stdout",
     "output_type": "stream",
     "text": [
      "func: sin; inverse func: asin\n",
      "func: sinh; inverse func: asinh\n",
      "func: cos; inverse func: acos\n",
      "func: cosh; inverse func: acosh\n",
      "func: asin; inverse func: sin\n",
      "func: asinh; inverse func: sinh\n",
      "func: acos; inverse func: cos\n",
      "func: acosh; inverse func: cosh\n"
     ]
    }
   ],
   "source": [
    "import math\n",
    "\n",
    "functions = {\n",
    "    math.sin: math.asin, math.sinh: math.asinh,\n",
    "    math.cos: math.acos, math.cosh: math.acosh\n",
    "}\n",
    "\n",
    "for key, value in list(functions.items()):\n",
    "    functions[value] = key\n",
    "\n",
    "for key, value in functions.items():\n",
    "    print(f'func: {key.__name__}; inverse func: {value.__name__}')"
   ]
  },
  {
   "cell_type": "markdown",
   "metadata": {},
   "source": [
    "Исходя из вышеперечисленных свойств можно сказать, что функции - это полноправные объекты. Т.е. объекты - удовлетворяющие следующим условиям:\n",
    "\n",
    "- могут быть созданы во время выполнения программы;  \n",
    "- могут быть присвоены переменной или полюструктуры данных;  \n",
    "- могут быть переданы функциям в качестве аргумента;  \n",
    "- могут быть выозврщены как результат выполнения функций; "
   ]
  },
  {
   "cell_type": "markdown",
   "metadata": {},
   "source": [
    "## Определение пользовательских функций\n",
    "\n",
    "Как бы очевидно это ни было, но в Python существует возможность создания пользовательских функций.\n",
    "\n",
    "### Утверждение def\n",
    "\n",
    "Утверждение `def` - самый распространенный способ создания пользовательских функций. def - составное утверждение с единственным положением, которое в общем случае выглядит следующим образом:\n",
    "\n",
    "```python\n",
    "def function_identifier(parameters):\n",
    "    statements\n",
    "```\n",
    "\n",
    "Разберем по частями, что здесь происходит:\n",
    "\n",
    "- `function_identifier` - идентефикатор функции; это имя переменной, которая связывается с объектом-функции во время выполнения def;  \n",
    "- `parameters` - параметры функции, необязательный набор идентификаторов, разделенных запятыми, которые будут привязаны к объектам, переданным в момент вызова функции - аргументы функции; в простейшем случае, когда функция не обладает параметрами, т.е. не принимает ни одного аргумента при вызове, за идентефикатором следуют пустые круглые скобки:\n",
    "    ```python\n",
    "    def simple_func():\n",
    "        ...\n",
    "    ```\n",
    "\n",
    "    Параметры - локальные переменные функции, т.е. вы не можете обратиться к параметрам функции вне функции; при каждом вызове функции аргументы, переданные в функцию вызываемой стороной, связываются с данными локальными переменными и делают возможным использование тех или иных объектах в теле функции;\n",
    "\n",
    "- `statements` - непустотой набор утверждений, также известный, как тело функции; тело функции не выполяется в момент определения функции, но определяет набор команд, которые будут выполняться при каждом вызове функции, а также их последовательность;  \n",
    "\n",
    "### Подробнее про параметры\n",
    "\n",
    "Параметры функции именуют, а в случаю параметров со значениями по умолчанию еще и определяют, объекты, передаваемые в тело функции при каждом вызове. Эти переменные существуют и связываются с объектами в пространстве имен функции, которое создается заново при каждом вызове функции, и уничтожается при выходе из функции любым доступным способом (return, raise и т.д.). \n",
    "\n",
    "Параметры, которые являются простыми идентефикаторами, определяют **позиционные параметры**. Каждый вызов функции, содержащей позиционные параметры, должен сопровождаться передачей в эту функцию аргументов, соответствующих позиционным параметрам. За множеством (в том числе и пустым) позиционных параметров следует множество (в том числе и пустое) **необязательных параметров**. От позиционных параметров они отличаются лишь наличием значения по умолчанию:"
   ]
  },
  {
   "cell_type": "code",
   "execution_count": 18,
   "metadata": {},
   "outputs": [],
   "source": [
    "from typing import Any\n",
    "\n",
    "def print_args(arg1: Any, arg2: Any = \"hello\") -> None:\n",
    "    print(\n",
    "        f'positional argument value: {arg1}',\n",
    "        f'optional argiment value: {arg2}',\n",
    "        sep='\\n',\n",
    "        end='\\n\\n'\n",
    "    )"
   ]
  },
  {
   "cell_type": "code",
   "execution_count": 19,
   "metadata": {},
   "outputs": [
    {
     "name": "stdout",
     "output_type": "stream",
     "text": [
      "positional argument value: 1\n",
      "optional argiment value: hello\n",
      "\n",
      "positional argument value: 1\n",
      "optional argiment value: 2\n",
      "\n",
      "positional argument value: 1\n",
      "optional argiment value: 1\n",
      "\n",
      "print_args() missing 1 required positional argument: 'arg1'\n"
     ]
    }
   ],
   "source": [
    "print_args(1)\n",
    "print_args(1, arg2=2)\n",
    "print_args(arg2=1, arg1=1)\n",
    "\n",
    "try:\n",
    "    print_args(arg2='word')\n",
    "\n",
    "except TypeError as execinfo:\n",
    "    print(str(execinfo))"
   ]
  },
  {
   "cell_type": "markdown",
   "metadata": {},
   "source": [
    "Во время выполнения утверждения def выполняется каждое выражение для параметров по умолчанию, ссылка на результат этого выражения сохраняется в кортеж `__defaults__`, который является атрибутом функции-объекта. В этом кортеже хранится информация о значениях по умолчанию. Когда вызов функции не содержит аргумента, связываемого с параметром по умолчанию, переменная, соответствующая данному параметру, связывается с нужным значением из кортежа `__defaults__` в момент вызова. \n",
    "\n",
    "Отдельное внимание стоит уделить тому, что Python вычисляет значения по умолчанию всего один раз в момент выполнения def, **не** во время каждого вызова, как это присходит с привязкой параметров. Это значит, что в момент отсутствия необязательных аргументов при вызове, необязательные параметры привязываются к одним и тем же объектов. \n",
    "\n",
    "*Совет*:\n",
    "\n",
    "    Будьте осторожны при использовании изменяемых типов данных в качестве значений по умолчанию.\n",
    "\n",
    "*Пример*:"
   ]
  },
  {
   "cell_type": "code",
   "execution_count": 25,
   "metadata": {},
   "outputs": [],
   "source": [
    "from typing import Any\n",
    "\n",
    "# неправильный вариант\n",
    "def append_into_list(elem: Any, list_: list[Any] = []) -> list[Any]:\n",
    "    print(f'list id: {id(list_)};')\n",
    "    \n",
    "    list_.append(elem)\n",
    "    return list_"
   ]
  },
  {
   "cell_type": "code",
   "execution_count": 26,
   "metadata": {},
   "outputs": [
    {
     "name": "stdout",
     "output_type": "stream",
     "text": [
      "list id: 2295021836992;\n",
      "[1, 2, 1337]\n",
      "list id: 2295022181376;\n",
      "[42]\n",
      "list id: 2295022181376;\n",
      "[42, 3.14]\n"
     ]
    }
   ],
   "source": [
    "my_list = [1, 2]\n",
    "\n",
    "print(append_into_list(1337, my_list))\n",
    "print(append_into_list(42))\n",
    "print(append_into_list(3.14))"
   ]
  },
  {
   "cell_type": "code",
   "execution_count": 27,
   "metadata": {},
   "outputs": [],
   "source": [
    "from typing import Optional, Any\n",
    "\n",
    "# правильный вариант\n",
    "def append_elem(\n",
    "    elem: Any, list_: Optional[list[Any]] = None\n",
    ") -> list[Any]:\n",
    "    if not list_:\n",
    "        list_ = []\n",
    "\n",
    "    print(f'list id: {id(list_)}')\n",
    "\n",
    "    list_.append(elem)\n",
    "    return list_"
   ]
  },
  {
   "cell_type": "code",
   "execution_count": 29,
   "metadata": {},
   "outputs": [
    {
     "name": "stdout",
     "output_type": "stream",
     "text": [
      "list id: 2295021265216\n",
      "[1, 2, 1337]\n",
      "list id: 2295021836992\n",
      "[42]\n",
      "list id: 2295022240512\n",
      "[3.14]\n"
     ]
    }
   ],
   "source": [
    "my_list = [1, 2]\n",
    "\n",
    "print(append_elem(1337, my_list))\n",
    "print(append_elem(42))\n",
    "print(append_elem(3.14))"
   ]
  },
  {
   "cell_type": "markdown",
   "metadata": {},
   "source": [
    "Однако использование изменяемых типов данных в качестве значений по умолчанию может быть обосновано. Например, данный подход может быть использован для решения задачи кэширования."
   ]
  },
  {
   "cell_type": "code",
   "execution_count": 34,
   "metadata": {},
   "outputs": [],
   "source": [
    "def do_expensive_coputitions(arg: float, _cache: dict = {}) -> float:\n",
    "    if arg in _cache:\n",
    "        return _cache[arg]\n",
    "    \n",
    "    if len(_cache) == 3:\n",
    "        _cache.popitem()\n",
    "\n",
    "    _cache[arg] = arg * 123\n",
    "    print(_cache)\n",
    "\n",
    "    return arg * 123"
   ]
  },
  {
   "cell_type": "code",
   "execution_count": 35,
   "metadata": {},
   "outputs": [
    {
     "name": "stdout",
     "output_type": "stream",
     "text": [
      "{1: 123}\n",
      "{1: 123, 3.14: 386.22}\n",
      "{1: 123, 3.14: 386.22, 2.72: 334.56}\n",
      "{1: 123, 3.14: 386.22, 9.8: 1205.4}\n"
     ]
    }
   ],
   "source": [
    "do_expensive_coputitions(1)\n",
    "do_expensive_coputitions(3.14)\n",
    "do_expensive_coputitions(2.72)\n",
    "do_expensive_coputitions(9.8);"
   ]
  },
  {
   "cell_type": "markdown",
   "metadata": {},
   "source": [
    "После позиционных и необязательных параметров вы можете испоьзовать специальные формы параметров: **\\*args** и **\\*\\*kwargs**. Нет ничего особенного в идентефикаторах args и kwargs, это просто стоявшиеся в сообществе идентефикаторы, вы можете использовать любые имена на свое усмотрение. Если обе эти формы присутствуют, форма с двумя звездочками обязана следовать со формой с одинарной звездой. \n",
    "\n",
    "Аргумент \\*agrs означает, что вызов функции поддерживает наличие любого числа позиционных аргументов. В случае их наличия в вызове, эти аргменты сохраняются в кортежи, связываемый с именем args, и создаваемый при каждом вызове функции. "
   ]
  },
  {
   "cell_type": "code",
   "execution_count": 36,
   "metadata": {},
   "outputs": [],
   "source": [
    "def test_args(*args) -> None:\n",
    "    print(f'type: {type(args).__name__}')\n",
    "    print(f'value: {args}')"
   ]
  },
  {
   "cell_type": "code",
   "execution_count": 37,
   "metadata": {},
   "outputs": [
    {
     "name": "stdout",
     "output_type": "stream",
     "text": [
      "type: tuple\n",
      "value: ()\n",
      "type: tuple\n",
      "value: (1, 2, 3)\n",
      "type: tuple\n",
      "value: ('h', 'e', 'l', 'l', 'o')\n"
     ]
    }
   ],
   "source": [
    "test_args()\n",
    "test_args(1, 2, 3)\n",
    "test_args(*list('hello'))"
   ]
  },
  {
   "cell_type": "markdown",
   "metadata": {},
   "source": [
    "Аргумент \\*\\*kwargs означает, что вызов функции поддерживает наличие любого числа именованных аргументов. В случае их наличия, эти аргументы будут сохранены в словарь kwargs, который также создается при каждом вызове функции."
   ]
  },
  {
   "cell_type": "code",
   "execution_count": 42,
   "metadata": {},
   "outputs": [],
   "source": [
    "def test_kwargs(**kwargs) -> None:\n",
    "    print(f'type: {type(kwargs).__name__}')\n",
    "    print(f'value: {kwargs}')"
   ]
  },
  {
   "cell_type": "code",
   "execution_count": 43,
   "metadata": {},
   "outputs": [
    {
     "name": "stdout",
     "output_type": "stream",
     "text": [
      "type: dict\n",
      "value: {}\n",
      "type: dict\n",
      "value: {'a': 1, 'b': 2, 'c': 3}\n",
      "type: dict\n",
      "value: {'a': 'A', 'b': 'B'}\n"
     ]
    }
   ],
   "source": [
    "test_kwargs()\n",
    "test_kwargs(a=1, b=2, c=3)\n",
    "test_kwargs(**{'a': 'A', 'b': 'B'})"
   ]
  },
  {
   "cell_type": "markdown",
   "metadata": {},
   "source": [
    "Помимо вышеперечисленных параметров, в Python существует возможность создавать строго именованные параметры. По своиму виду они похожи на необязательные параметры, но в отличие от них помещаются за выражением *args:"
   ]
  },
  {
   "cell_type": "code",
   "execution_count": 44,
   "metadata": {},
   "outputs": [],
   "source": [
    "def test_nameonly(*, arg1='a', arg2='b'):\n",
    "    print(arg1, arg2)"
   ]
  },
  {
   "cell_type": "code",
   "execution_count": 47,
   "metadata": {},
   "outputs": [
    {
     "name": "stdout",
     "output_type": "stream",
     "text": [
      "1 2\n",
      "test_nameonly() takes 0 positional arguments but 2 were given\n"
     ]
    }
   ],
   "source": [
    "test_nameonly(arg1=1, arg2=2)\n",
    "\n",
    "try:\n",
    "    test_nameonly(1, 2)\n",
    "\n",
    "except TypeError as execinfo:\n",
    "    print(str(execinfo))"
   ]
  },
  {
   "cell_type": "markdown",
   "metadata": {},
   "source": [
    "## return\n",
    "\n",
    "Утверждение return используется для возврата значений из функции и может существовать только в теле функции. За return может как следовать любое выражение, так и не следовать ничего. В момент выполнения return выполнение тела функции завершается и контроль над потоком выполнения программы возвращается к вызывающей строне.\n",
    "\n",
    "В Python функция всегда что-то возвращает. Даже если тело функции не содержит return`а, она вернет None по достижению конца тела. Также функции возвращают None и в том случае, если за утверждением return ничего не следует."
   ]
  },
  {
   "cell_type": "code",
   "execution_count": 52,
   "metadata": {},
   "outputs": [],
   "source": [
    "from typing import Union\n",
    "\n",
    "def get_none() -> None:\n",
    "    pass\n",
    "\n",
    "def get_answer_to_main_question() -> int:\n",
    "    return 42\n",
    "\n",
    "def get_return_example(arg: int) -> Union[int, None]:\n",
    "    if arg % 2:\n",
    "        return 42"
   ]
  },
  {
   "cell_type": "code",
   "execution_count": 54,
   "metadata": {},
   "outputs": [
    {
     "name": "stdout",
     "output_type": "stream",
     "text": [
      "None\n",
      "42\n",
      "42\n",
      "None\n"
     ]
    }
   ],
   "source": [
    "print(\n",
    "    get_none(),\n",
    "    get_answer_to_main_question(),\n",
    "    get_return_example(1),\n",
    "    get_return_example(2),\n",
    "    sep='\\n'\n",
    ")"
   ]
  },
  {
   "cell_type": "markdown",
   "metadata": {},
   "source": [
    "## Передача аргументов\n",
    "\n",
    "В таких языках программирования, как C++, по умолчанию передача аргументов в функции осуществляется по значению. Т.е. во время вызова создается копия объекта, время жизни которого ограничено телом функции. В Python напротив передача аргументов в функции осуществляется по ссылке. Т.е. в момент вызова функции создается новая ссылка, которая связывает локальную для данной фукнции переменную с уже существующим объектом в памяти, переданным в момент вызова. Если объект имеет изменяемый тип данных, то модифицирующие операции над этим объектом в теле функции отразяется на его состоянии вне тела функции. Также вы можете осуществлять операции перепривзяки в теле функции, которые не отражаются на внешних по отношению к функции объектах."
   ]
  },
  {
   "cell_type": "code",
   "execution_count": 89,
   "metadata": {},
   "outputs": [],
   "source": [
    "from typing import Any\n",
    "\n",
    "\n",
    "def test_modification(target: Any, addition: Any) -> None:\n",
    "    target_type = type(target)\n",
    "\n",
    "    if not isinstance(addition, target_type):\n",
    "        try:\n",
    "            addition = target_type(addition)\n",
    "\n",
    "        except ValueError:\n",
    "            print(\n",
    "                f'impossible to cast {type(addition).__name__}'\n",
    "                f' to target type {target_type.__name__}'\n",
    "            )\n",
    "            return\n",
    "        \n",
    "    target += addition\n",
    "    print(f'target after addition: {target}')"
   ]
  },
  {
   "cell_type": "code",
   "execution_count": 91,
   "metadata": {},
   "outputs": [
    {
     "name": "stdout",
     "output_type": "stream",
     "text": [
      "target after addition: 10\n",
      "target after addition: (1, 2, 3, 42, 56)\n",
      "target after addition: [1, 2, 123]\n",
      "\n",
      "num after modification call: 5\n",
      "tuple after modification call: (1, 2, 3)\n",
      "list after modification call: [1, 2, 123]\n"
     ]
    }
   ],
   "source": [
    "num = 5\n",
    "my_tuple = (1, 2, 3)\n",
    "my_list = [1, 2]\n",
    "\n",
    "test_modification(num, 5)\n",
    "test_modification(my_tuple, (42, 56))\n",
    "test_modification(my_list, [123])\n",
    "\n",
    "print(\n",
    "    f'\\nnum after modification call: {num}',\n",
    "    f'tuple after modification call: {my_tuple}',\n",
    "    f'list after modification call: {my_list}',\n",
    "    sep='\\n'\n",
    ")"
   ]
  },
  {
   "cell_type": "markdown",
   "metadata": {},
   "source": [
    "При вызове функций аргументы связываются с параметрами следующим образом. Сначала происходит привязка обязательных параметров к позиционным аргументам. Порядок привязки определяется порядком следования аргуметов. Количество обязательных аргументов должно соответствовать количеству обязательных параметров. Затем происходит привязка необязательных параметров к необязательным аргументам, если таковые переданы. Если число опциональных аргуметов меньше числа опциональных параметров, происходит привязка только первых n параметров к арументам, остальные параметры связываются со своими значениями по умолчанию. Это поведение можно изменить, указав при вызове функции какому конкретно параметру вы хотите присвоить переданное значение. Затем произвольное количество неименованных аргументов помещается в *args. За *args может следовать любое число строго именованных параметров. Заключает сигнатуру функции форма **kwargs."
   ]
  },
  {
   "cell_type": "markdown",
   "metadata": {},
   "source": [
    "## Некоторые атрибуты функций\n",
    "\n",
    "Как было сказано выше, функции являются объектами, и как и у любых объектов, у функций есть ряд атрибутов. В данной лекции будут затронуты не все атрибуты, но при необходимости вы можете получить список всех атрибутов и методов с помощью интроспекции функций, используя встроенную утилиту `dir()`:"
   ]
  },
  {
   "cell_type": "code",
   "execution_count": 64,
   "metadata": {},
   "outputs": [],
   "source": [
    "def func():\n",
    "    pass"
   ]
  },
  {
   "cell_type": "code",
   "execution_count": 65,
   "metadata": {},
   "outputs": [
    {
     "data": {
      "text/plain": [
       "['__annotations__',\n",
       " '__builtins__',\n",
       " '__call__',\n",
       " '__class__',\n",
       " '__closure__',\n",
       " '__code__',\n",
       " '__defaults__',\n",
       " '__delattr__',\n",
       " '__dict__',\n",
       " '__dir__',\n",
       " '__doc__',\n",
       " '__eq__',\n",
       " '__format__',\n",
       " '__ge__',\n",
       " '__get__',\n",
       " '__getattribute__',\n",
       " '__getstate__',\n",
       " '__globals__',\n",
       " '__gt__',\n",
       " '__hash__',\n",
       " '__init__',\n",
       " '__init_subclass__',\n",
       " '__kwdefaults__',\n",
       " '__le__',\n",
       " '__lt__',\n",
       " '__module__',\n",
       " '__name__',\n",
       " '__ne__',\n",
       " '__new__',\n",
       " '__qualname__',\n",
       " '__reduce__',\n",
       " '__reduce_ex__',\n",
       " '__repr__',\n",
       " '__setattr__',\n",
       " '__sizeof__',\n",
       " '__str__',\n",
       " '__subclasshook__']"
      ]
     },
     "execution_count": 65,
     "metadata": {},
     "output_type": "execute_result"
    }
   ],
   "source": [
    "dir(func)"
   ]
  },
  {
   "cell_type": "markdown",
   "metadata": {},
   "source": [
    "### \\_\\_defaults\\_\\_\n",
    "\n",
    "\n",
    "Выше был затронут атрибут `__defaults__`, в котором хранятся значения для необязательных аргументов. При желании вы можете осуществить перепривязку этого атрибута, но делать это крайне не рекомендуется:"
   ]
  },
  {
   "cell_type": "code",
   "execution_count": 68,
   "metadata": {},
   "outputs": [
    {
     "name": "stdout",
     "output_type": "stream",
     "text": [
      "before rebinding: (1, 2, 3)\n",
      "after rebinding: (1, 2, 3)\n"
     ]
    }
   ],
   "source": [
    "print(f'before rebinding: {func.__defaults__}')\n",
    "\n",
    "func.__defaults__ = (1, 2, 3)\n",
    "\n",
    "print(f'after rebinding: {func.__defaults__}')"
   ]
  },
  {
   "cell_type": "markdown",
   "metadata": {},
   "source": [
    "### \\_\\_name\\_\\_\n",
    "\n",
    "Также в ячейках выше был использовн атрибут `__name__`, который хранит строку - имя функции. Вы также можете осуществлять его перепривязку."
   ]
  },
  {
   "cell_type": "code",
   "execution_count": 67,
   "metadata": {},
   "outputs": [
    {
     "name": "stdout",
     "output_type": "stream",
     "text": [
      "name before: func\n",
      "name after: new name\n"
     ]
    }
   ],
   "source": [
    "print(f'name before: {func.__name__}')\n",
    "\n",
    "func.__name__ = 'new name'\n",
    "\n",
    "print(f'name after: {func.__name__}')"
   ]
  },
  {
   "cell_type": "markdown",
   "metadata": {},
   "source": [
    "### \\_\\_doc\\_\\_\n",
    "\n",
    "Данные атрибу хранит в себе докстринг. По умолчанию, докстринг отсутствует, и значение атрибута равно None. Однако вы можете задать значение \\_\\_doc\\_\\_, используя операцию привязки, или в момент создания функции, используя строковый литерал в начале ее тела:"
   ]
  },
  {
   "cell_type": "code",
   "execution_count": 71,
   "metadata": {},
   "outputs": [],
   "source": [
    "def func() -> None:\n",
    "    \"this function do nothing\""
   ]
  },
  {
   "cell_type": "code",
   "execution_count": 72,
   "metadata": {},
   "outputs": [
    {
     "name": "stdout",
     "output_type": "stream",
     "text": [
      "this function do nothing\n"
     ]
    }
   ],
   "source": [
    "print(func.__doc__)"
   ]
  },
  {
   "cell_type": "markdown",
   "metadata": {},
   "source": [
    "Несложно понять, что обычно данная строка используется для документирования функций. Поскольку редко можно встретить функции, документация которых умещалась бы в одной физической строке, поэтому чазе всего докстринг задается в форме многострочного литерала. Причем за года существования языка сложилась определенная культура написания подобных документирующих строк:\n",
    "\n",
    "- в первой строке докстринга в одном коротком предложении должна описываться суть функции;  \n",
    "- далее идет блок описания параметров, возвращаемых значений и сторонних эффектов, отделенный от описания сути функции пустой строкой;  \n",
    "- каждое описание начинается на новой строке;  "
   ]
  },
  {
   "cell_type": "code",
   "execution_count": 73,
   "metadata": {},
   "outputs": [],
   "source": [
    "def sum_two_numbers(num1: float, num2: float) -> float:\n",
    "    \"\"\"\n",
    "    This function sums two floats\n",
    "\n",
    "    :param: num1 float - first agrument\n",
    "    :param: num2 float - second argument\n",
    "\n",
    "    :return: float - sum of arguments\n",
    "    \"\"\"\n",
    "\n",
    "    return num1 + num2"
   ]
  },
  {
   "cell_type": "markdown",
   "metadata": {},
   "source": [
    "Докстринг помогает другим программистам понять, что конкретно делает ваша функция. Также докстринг используется в качестве метаинформации интегрированными средами разработки для формирования всплывающих подсказок. Сам интерпретатор обращается к этому аргументу при вызове строенной функции `help()`. "
   ]
  },
  {
   "cell_type": "code",
   "execution_count": 74,
   "metadata": {},
   "outputs": [
    {
     "name": "stdout",
     "output_type": "stream",
     "text": [
      "Help on function sum_two_numbers in module __main__:\n",
      "\n",
      "sum_two_numbers(num1: float, num2: float) -> float\n",
      "    This function sums two floats\n",
      "    \n",
      "    :param: num1 float - first agrument\n",
      "    :param: num2 float - second argument\n",
      "    \n",
      "    :return: float - sum of arguments\n",
      "\n"
     ]
    }
   ],
   "source": [
    "help(sum_two_numbers)"
   ]
  },
  {
   "cell_type": "markdown",
   "metadata": {},
   "source": [
    "### \\_\\_annotations\\_\\_\n",
    "\n",
    "Данный атрибут содержит словарь с аннотациями параметров и возвращаемого значения. Аннотации - часть документации функции, которая позволяет вам упростить читабельность кода, а также его написание. В качестве аннотаций может быть использовано любое выражение, но чаше всего для аннотаций используют типы данных. Сам интерпретатор не использует аннотации ни для каких целей. При наличии аннотаций типов интерпретатор не будет автоматически проверять тип переданного в функцию значений и возбуждать какое-либо исключение. Аннотации - метаинформация, которая используется интегрированными средами разработки для высвечивания контекстных подсказок. Как минимум по этой причине не стоит принебрегать этим механизмом."
   ]
  },
  {
   "cell_type": "code",
   "execution_count": 75,
   "metadata": {},
   "outputs": [],
   "source": [
    "def print_string(string: str) -> None:\n",
    "    print(f'received string: {string}')"
   ]
  },
  {
   "cell_type": "code",
   "execution_count": 77,
   "metadata": {},
   "outputs": [
    {
     "name": "stdout",
     "output_type": "stream",
     "text": [
      "received string: hello world!\n",
      "received string: 1\n",
      "received string: [2, 3, 4]\n"
     ]
    }
   ],
   "source": [
    "print_string('hello world!')\n",
    "print_string(1)\n",
    "print_string([2, 3, 4])"
   ]
  },
  {
   "cell_type": "code",
   "execution_count": 78,
   "metadata": {},
   "outputs": [
    {
     "name": "stdout",
     "output_type": "stream",
     "text": [
      "{'string': <class 'str'>, 'return': None}\n"
     ]
    }
   ],
   "source": [
    "print(print_string.__annotations__)"
   ]
  },
  {
   "cell_type": "markdown",
   "metadata": {},
   "source": [
    "### Динамическое создание атрибутов\n",
    "\n",
    "Помимо предопределенных атрибутов, вы можете создавать новые атрибуты для ваших функций. В примере ниже создается специальный атрибут, для хранения информации о количестве вызовов функции:"
   ]
  },
  {
   "cell_type": "code",
   "execution_count": 85,
   "metadata": {},
   "outputs": [],
   "source": [
    "def func_with_counter() -> int:\n",
    "    if 'counter' not in func_with_counter.__dict__:\n",
    "        func_with_counter.counter = 0\n",
    "\n",
    "    func_with_counter.counter += 1\n",
    "    return func_with_counter.counter"
   ]
  },
  {
   "cell_type": "code",
   "execution_count": 86,
   "metadata": {},
   "outputs": [
    {
     "data": {
      "text/plain": [
       "1"
      ]
     },
     "execution_count": 86,
     "metadata": {},
     "output_type": "execute_result"
    }
   ],
   "source": [
    "func_with_counter()"
   ]
  },
  {
   "cell_type": "markdown",
   "metadata": {},
   "source": [
    "## Пространства имен\n",
    "\n",
    "Все параметры функции, а также переменные, которые определяются в теле функции, формируют пространство имено данной функции, которое также называют локальной областью видимости функции. Каждая из переменных, входящих в пространство имен функции, называется локальной переменной по отношению к этой функции. \n",
    "\n",
    "Переменные, которые не являются локальными по отношению к данной функции, называются глобальными по отношению к ней. Глобальные переменные обычно являются отрибутами модулей. Стоит понимать, что даже когда переменная внутри тела функции имеет то же имя, что и глобальная переменная, она все равно ссылается на внутреннюю переменную, а не на переменную из глобальной области видимости. В этой ситуации говорят, что локальная переменная скрывает глобальную. "
   ]
  },
  {
   "cell_type": "code",
   "execution_count": 94,
   "metadata": {},
   "outputs": [],
   "source": [
    "variable = 5\n",
    "\n",
    "def func() -> None:\n",
    "    variable = 42\n",
    "    print(f'inside func {variable = }')"
   ]
  },
  {
   "cell_type": "code",
   "execution_count": 95,
   "metadata": {},
   "outputs": [
    {
     "name": "stdout",
     "output_type": "stream",
     "text": [
      "inside func variable = 42\n",
      "outside func variable = 5\n"
     ]
    }
   ],
   "source": [
    "func()\n",
    "\n",
    "print(f'outside func {variable = }')"
   ]
  },
  {
   "cell_type": "markdown",
   "metadata": {},
   "source": [
    "### Ключевое слово global\n",
    "\n",
    "По умолчанию, все переменные определяемые внутри тела функции являются локальными. Однако в Python есть специально механизм, благодаря которому это поведение может быть переопределено, и глобальные переменные могут быть изменены в ходе вызова функции. Для этого достаточно использовать следующую команду в начале тела функции:\n",
    "\n",
    "```python\n",
    "global identifiers\n",
    "```\n",
    "\n",
    "identifiers - имена глобальных переменных, необходимых для использования, перечисленные через запятую."
   ]
  },
  {
   "cell_type": "code",
   "execution_count": 105,
   "metadata": {},
   "outputs": [],
   "source": [
    "call_counter = 0\n",
    "\n",
    "\n",
    "def do_something() -> None:\n",
    "    global call_counter\n",
    "\n",
    "    call_counter += 1\n",
    "    print('do some work')\n",
    "\n",
    "\n",
    "def do_another_things() -> None:\n",
    "    global call_counter\n",
    "\n",
    "    call_counter += 1\n",
    "    print('do another things')"
   ]
  },
  {
   "cell_type": "code",
   "execution_count": 106,
   "metadata": {},
   "outputs": [
    {
     "name": "stdout",
     "output_type": "stream",
     "text": [
      "call_counter = 0\n",
      "do some work\n",
      "do another things\n",
      "do another things\n",
      "call_counter = 3\n"
     ]
    }
   ],
   "source": [
    "print(f'{call_counter = }')\n",
    "\n",
    "do_something()\n",
    "do_another_things()\n",
    "do_another_things()\n",
    "\n",
    "print(f'{call_counter = }')"
   ]
  },
  {
   "cell_type": "markdown",
   "metadata": {},
   "source": [
    "В случае отсутствия global, вызов данных функций приводил бы к ошибке:"
   ]
  },
  {
   "cell_type": "code",
   "execution_count": 107,
   "metadata": {},
   "outputs": [],
   "source": [
    "def do_wrong_staff() -> None:\n",
    "    call_counter += 1\n",
    "    print('do wring staff')"
   ]
  },
  {
   "cell_type": "code",
   "execution_count": 108,
   "metadata": {},
   "outputs": [
    {
     "ename": "UnboundLocalError",
     "evalue": "cannot access local variable 'call_counter' where it is not associated with a value",
     "output_type": "error",
     "traceback": [
      "\u001b[1;31m---------------------------------------------------------------------------\u001b[0m",
      "\u001b[1;31mUnboundLocalError\u001b[0m                         Traceback (most recent call last)",
      "\u001b[1;32mc:\\Users\\Michail\\Desktop\\mipt\\teaching\\general_course\\lessons\\lesson7\\interactive_conspect.ipynb Cell 70\u001b[0m line \u001b[0;36m1\n\u001b[1;32m----> <a href='vscode-notebook-cell:/c%3A/Users/Michail/Desktop/mipt/teaching/general_course/lessons/lesson7/interactive_conspect.ipynb#Y244sZmlsZQ%3D%3D?line=0'>1</a>\u001b[0m do_wrong_staff()\n",
      "\u001b[1;32mc:\\Users\\Michail\\Desktop\\mipt\\teaching\\general_course\\lessons\\lesson7\\interactive_conspect.ipynb Cell 70\u001b[0m line \u001b[0;36m2\n\u001b[0;32m      <a href='vscode-notebook-cell:/c%3A/Users/Michail/Desktop/mipt/teaching/general_course/lessons/lesson7/interactive_conspect.ipynb#Y244sZmlsZQ%3D%3D?line=0'>1</a>\u001b[0m \u001b[39mdef\u001b[39;00m \u001b[39mdo_wrong_staff\u001b[39m() \u001b[39m-\u001b[39m\u001b[39m>\u001b[39m \u001b[39mNone\u001b[39;00m:\n\u001b[1;32m----> <a href='vscode-notebook-cell:/c%3A/Users/Michail/Desktop/mipt/teaching/general_course/lessons/lesson7/interactive_conspect.ipynb#Y244sZmlsZQ%3D%3D?line=1'>2</a>\u001b[0m     call_counter \u001b[39m+\u001b[39m\u001b[39m=\u001b[39m \u001b[39m1\u001b[39m\n\u001b[0;32m      <a href='vscode-notebook-cell:/c%3A/Users/Michail/Desktop/mipt/teaching/general_course/lessons/lesson7/interactive_conspect.ipynb#Y244sZmlsZQ%3D%3D?line=2'>3</a>\u001b[0m     \u001b[39mprint\u001b[39m(\u001b[39m'\u001b[39m\u001b[39mdo wring staff\u001b[39m\u001b[39m'\u001b[39m)\n",
      "\u001b[1;31mUnboundLocalError\u001b[0m: cannot access local variable 'call_counter' where it is not associated with a value"
     ]
    }
   ],
   "source": [
    "do_wrong_staff()"
   ]
  },
  {
   "cell_type": "markdown",
   "metadata": {},
   "source": [
    "Не рекомендуется использовать global для связывания некоторого состояния с некоторыми действиями, даже насмотря на наличие данной возможности. Для обозначенных целей рекомендуется использовать Объектно-Ориентированные подход и классы, которые мы рассмотрим позже."
   ]
  },
  {
   "cell_type": "markdown",
   "metadata": {},
   "source": [
    "### Вложенные функции и области видимости\n",
    "\n",
    "Вы можете определять одну функцию в теле другой. Функция, определяемая в теле другой функции, называется вложенной функцией, функция, в чьем теле происходит определение другой функции - внешней функцией по отношению к вложенной. В теле вложенной функции может осуществляться доступ к локальным переменном внешней функции, однако вы не можете перепривязывать их. "
   ]
  },
  {
   "cell_type": "code",
   "execution_count": 118,
   "metadata": {},
   "outputs": [],
   "source": [
    "def get_percents(*parts) -> list[float]:\n",
    "    total = sum(parts)\n",
    "\n",
    "    if not total:\n",
    "        print(\"can't compute percents\")\n",
    "        return\n",
    "    \n",
    "    def compute_percents(part: float) -> str:\n",
    "        return f'{part / total:.2%}'\n",
    "    \n",
    "    return ', '.join(compute_percents(part) for part in parts)"
   ]
  },
  {
   "cell_type": "code",
   "execution_count": 119,
   "metadata": {},
   "outputs": [
    {
     "data": {
      "text/plain": [
       "'16.67%, 33.33%, 50.00%'"
      ]
     },
     "execution_count": 119,
     "metadata": {},
     "output_type": "execute_result"
    }
   ],
   "source": [
    "get_percents(1, 2, 3)"
   ]
  },
  {
   "cell_type": "markdown",
   "metadata": {},
   "source": [
    "Вложенные функции, которые используют в своем теле локальные переменные внешних функций называются замыканиями. На замыканиях построены принципы создания декораторов, о чем мы поговорим в одной из следующих лекций.\n",
    "\n",
    "Если внешняя функция, содержащая замыкания, возвращает его в качестве результата выполнения, то эта внешняя функция является фабрикой. "
   ]
  },
  {
   "cell_type": "code",
   "execution_count": 120,
   "metadata": {},
   "outputs": [],
   "source": [
    "from typing import Callable\n",
    "\n",
    "\n",
    "def make_scaler(scale_factor: float = 1) -> Callable:\n",
    "    def scale(num: float):\n",
    "        return num * scale_factor\n",
    "    \n",
    "    return scale"
   ]
  },
  {
   "cell_type": "code",
   "execution_count": 121,
   "metadata": {},
   "outputs": [
    {
     "name": "stdout",
     "output_type": "stream",
     "text": [
      "10\n",
      "25\n"
     ]
    }
   ],
   "source": [
    "scaler_x2 = make_scaler(scale_factor=2)\n",
    "scaler_x5 = make_scaler(scale_factor=5)\n",
    "\n",
    "print(scaler_x2(5))\n",
    "print(scaler_x5(5))"
   ]
  },
  {
   "cell_type": "markdown",
   "metadata": {},
   "source": [
    "### Ключевое слово nonlocal\n",
    "\n",
    "Как было сказано выше, вы можете использовать, но не можете перепривязывать переменные внешней функции в теле вложенной функции. Однако в Python есть механизм, который позволяет вам это делать - ключевое слово nonlocal. nonlocal ведет себя похожим образом с global, только в отличие от gloabl, nonlocal осуществляет поиск походящих имен во внешних по отношению к данной функции функциях. Когда nonlocal встречатеся в функции, вложенной на несколько уровней, интерпретатор начинает поиск нужного имени, восходя по уровням вложенности до тех пор, пока нужно имя не будет найдено, или стек вложенности не будет исчерпан. В последнем случае возбуждается исключение."
   ]
  },
  {
   "cell_type": "code",
   "execution_count": 122,
   "metadata": {},
   "outputs": [],
   "source": [
    "def f():\n",
    "    var_f = 1\n",
    "    def g():\n",
    "        var_g = 2\n",
    "        def h():\n",
    "            nonlocal var_f\n",
    "            var_f += var_g\n",
    "\n",
    "        h()\n",
    "    g()\n",
    "    \n",
    "    print(f'{var_f = }')"
   ]
  },
  {
   "cell_type": "code",
   "execution_count": 123,
   "metadata": {},
   "outputs": [
    {
     "name": "stdout",
     "output_type": "stream",
     "text": [
      "var_f = 3\n"
     ]
    }
   ],
   "source": [
    "f()"
   ]
  },
  {
   "cell_type": "markdown",
   "metadata": {},
   "source": [
    "С помощью nonlocal вы можете создавать более гибкие и изощренные фабрики:"
   ]
  },
  {
   "cell_type": "code",
   "execution_count": 124,
   "metadata": {},
   "outputs": [],
   "source": [
    "from typing import Callable\n",
    "\n",
    "\n",
    "def make_counter(start: int = 0) -> Callable:\n",
    "    counter = start\n",
    "\n",
    "    def count() -> int:\n",
    "        nonlocal counter\n",
    "        counter += 1\n",
    "        return counter\n",
    "    \n",
    "    return count"
   ]
  },
  {
   "cell_type": "code",
   "execution_count": 125,
   "metadata": {},
   "outputs": [
    {
     "name": "stdout",
     "output_type": "stream",
     "text": [
      "counter0 : 1\n",
      "counter0 : 2\n",
      "counter0 : 3\n",
      "\n",
      "counter1 : 2\n",
      "counter1 : 3\n",
      "counter1 : 4\n",
      "counter1 : 5\n",
      "counter1 : 6\n"
     ]
    }
   ],
   "source": [
    "counter_0 = make_counter()\n",
    "counter_1 = make_counter(start=1)\n",
    "\n",
    "for i in range(3):\n",
    "    print(f'counter0 : {counter_0()}')\n",
    "\n",
    "print('')\n",
    "\n",
    "for i in range(5):\n",
    "    print(f'counter1 : {counter_1()}')"
   ]
  },
  {
   "cell_type": "markdown",
   "metadata": {},
   "source": [
    "Данные фабрики являются шагами в сторону ООП, поскольку позволяют связать с каждой версией счетчика определенные данные и изменять состояния функции после каждого вызова. "
   ]
  },
  {
   "cell_type": "markdown",
   "metadata": {},
   "source": []
  }
 ],
 "metadata": {
  "kernelspec": {
   "display_name": "Python 3",
   "language": "python",
   "name": "python3"
  },
  "language_info": {
   "codemirror_mode": {
    "name": "ipython",
    "version": 3
   },
   "file_extension": ".py",
   "mimetype": "text/x-python",
   "name": "python",
   "nbconvert_exporter": "python",
   "pygments_lexer": "ipython3",
   "version": "3.11.1"
  }
 },
 "nbformat": 4,
 "nbformat_minor": 2
}
