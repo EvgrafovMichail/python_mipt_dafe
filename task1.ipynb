{
 "cells": [
  {
   "cell_type": "markdown",
   "metadata": {},
   "source": [
    "# Декораторы"
   ]
  },
  {
   "cell_type": "markdown",
   "metadata": {},
   "source": [
    "# Задача 1: Суммы прогрессий\n",
    "\n",
    "Необходимо реализовать функционал для подсчета суммы первых n + 1 - членов арифметической и геометрической прогрессии с возможностями настройки шага и значения первого члена. n соответствует числу вызовов функции по подсчету суммы. \n",
    "\n",
    "Предполагаемые сценарии использования:\n",
    "\n",
    "```python\n",
    "\n",
    "sum_arithmetic = make_arithmetic_progression_sum(first_member=2, step=0.5)\n",
    "sum_geometric = make_geometric_progression_sum(first_member=1, step=0.5)\n",
    "\n",
    "print(sum_arithmetic())\n",
    "print(sum_arithmetic())\n",
    "print('')\n",
    "print(sum_geometric())\n",
    "print(sum_geometric())\n",
    "```\n",
    "\n",
    "*Вывод*:\n",
    "```console\n",
    "4.5\n",
    "7.5\n",
    "\n",
    "1.5\n",
    "1.75\n",
    "```"
   ]
  },
  {
   "cell_type": "code",
   "execution_count": 1,
   "metadata": {},
   "outputs": [],
   "source": [
    "def make_arithmetic_progression_sum(first_member: float, step: float):\n",
    "    # ваш код\n",
    "    last_member = first_member\n",
    "    def arithmetic_progression_sum():\n",
    "        nonlocal last_member\n",
    "        last_member += step\n",
    "        return last_member\n",
    "    return arithmetic_progression_sum\n",
    "    #pass\n",
    "\n",
    "\n",
    "def make_geometric_progression_sum(first_member: float, step: float):\n",
    "    last_member = first_member\n",
    "    def geometric_progression_sum():\n",
    "        nonlocal last_member\n",
    "        last_member *= step\n",
    "        return last_member\n",
    "    # ваш код\n",
    "    return geometric_progression_sum\n",
    "    pass"
   ]
  },
  {
   "cell_type": "code",
   "execution_count": 4,
   "metadata": {},
   "outputs": [],
   "source": [
    "geometric = make_geometric_progression_sum(2,5)"
   ]
  },
  {
   "cell_type": "code",
   "execution_count": 5,
   "metadata": {},
   "outputs": [
    {
     "ename": "TypeError",
     "evalue": "'NoneType' object is not callable",
     "output_type": "error",
     "traceback": [
      "\u001b[1;31m---------------------------------------------------------------------------\u001b[0m",
      "\u001b[1;31mTypeError\u001b[0m                                 Traceback (most recent call last)",
      "\u001b[1;32mc:\\Users\\hopit\\python_mipt_dafe\\task1.ipynb Cell 5\u001b[0m line \u001b[0;36m1\n\u001b[1;32m----> <a href='vscode-notebook-cell:/c%3A/Users/hopit/python_mipt_dafe/task1.ipynb#X13sZmlsZQ%3D%3D?line=0'>1</a>\u001b[0m geometric()\n",
      "\u001b[1;31mTypeError\u001b[0m: 'NoneType' object is not callable"
     ]
    }
   ],
   "source": [
    "geometric()"
   ]
  },
  {
   "cell_type": "markdown",
   "metadata": {},
   "source": [
    "# Задача 2: Среднее\n",
    "\n",
    "Предположим, что мы занимаемся инвистициями и у нас есть некоторый портфель акций. Каждый день наш портфель приносит нам некоторый доход или убыток. Мы задались целью: каждый день фиксированного периода определять средний доход (или убыток), который мы получаем. С этой целью мы реализовали функцию get_avg(), принимающую на вход значение заработка на сегодняшний день. Наша функция вычисляет среднее в течении определнного фиксированного периода, скажем, 30 дней, после чего обнуляется и начинает вычислять среднее заново, но уже по новым значениям. \n",
    "\n",
    "Также у нас есть друзья инвесторы, которые оценили разработанный нами функционал и хотели бы заполучить свой экземпляр функции get_avg, для подсчета своего дохода в течении интересующего их промежутка времени.\n",
    "\n",
    "Ваша задача: реализовать функционал, для получения произвольного числа независимых функций get_avg(). В момент создания функции сообщается длительность периода расчета среднего, по достижении которого среднее начинает расчитываться заново, а также наш начальный доход. При каждом вызове функции передается число - заработок в текущий день.\n",
    "\n",
    "Предполагаемые сценарии использования:\n",
    "\n",
    "```python\n",
    "\n",
    "get_avg1 = make_averager(accumulation_period=2)\n",
    "print(get_avg1(78))\n",
    "print(get_avg1(-17))\n",
    "print(get_avg1(52))\n",
    "```\n",
    "\n",
    "*Вывод*:\n",
    "```console\n",
    "78.0\n",
    "30.5\n",
    "52.0\n",
    "```"
   ]
  },
  {
   "cell_type": "code",
   "execution_count": 9,
   "metadata": {},
   "outputs": [],
   "source": [
    "# ваш код\n",
    "def make_averager(accumulation_period: int):\n",
    "    \n",
    "    avg_sum = 0\n",
    "    counter = 0\n",
    "\n",
    "    def calculate(num: int):\n",
    "\n",
    "        nonlocal counter\n",
    "        nonlocal avg_sum\n",
    "\n",
    "        if counter == accumulation_period:\n",
    "            counter = 0\n",
    "            avg_sum = 0\n",
    "\n",
    "        avg_sum += num\n",
    "        counter += 1\n",
    "        return avg_sum / counter\n",
    "    \n",
    "    return calculate"
   ]
  },
  {
   "cell_type": "code",
   "execution_count": 10,
   "metadata": {},
   "outputs": [
    {
     "name": "stdout",
     "output_type": "stream",
     "text": [
      "78.0\n",
      "30.5\n",
      "52.0\n"
     ]
    }
   ],
   "source": [
    "get_avg1 = make_averager(accumulation_period = 2)\n",
    "print(get_avg1(78))\n",
    "print(get_avg1(-17))\n",
    "print(get_avg1(52))"
   ]
  },
  {
   "cell_type": "markdown",
   "metadata": {},
   "source": [
    "# Задача 3: Сбор статистик\n",
    "\n",
    "Предположим, что мы работаем в отделе аналитики некоторой компании. В компании также существуют другие отделы, которые разрабатывают некоторые функции для осуществления сложных вычислений. Также в нашей компании существует отдел планирования, который следит за исполнением сроков реализации той или иной функции, и в случае, если разработка затягивается, начинает торопить разработчиков. В таком случае разработчики пишут медленный код на скорую руку, что расстраивает заказчиков.\n",
    "\n",
    "Наша задача, как аналитиков, собрать статистику по проблемным функциям. Нас интересует количество вызовов функции, а также среднее время выполнения функции. Все статистики собираются в отдельную базу данных - специальный единый словарь. Более того, статистика должна собираться не для всех функций, а только для функций, зарегестрированных в базе данных. Затем эта информация будет передана начальству, чтобы в скорейшее время заняться переписанием долгих и популярных функций.\n",
    "\n",
    "Ваша задача реализовать функционал для регистрации функций в БД и сбора статистик. "
   ]
  },
  {
   "cell_type": "code",
   "execution_count": 28,
   "metadata": {},
   "outputs": [],
   "source": [
    "import time\n",
    "from random import randint\n",
    "from functools import wraps\n",
    "\n",
    "functions_register = {}\n",
    "\n",
    "def register(func):\n",
    "    if func not in functions_register:\n",
    "        functions_register[func] = {\n",
    "            'time_avg' : 0,\n",
    "            'calls_count' : 0\n",
    "        }\n",
    "    return func\n",
    "\n",
    "def stats(func):\n",
    "    time_general = 0\n",
    "\n",
    "    @wraps(func)\n",
    "    def count_time(*args, **kwargs):\n",
    "\n",
    "        nonlocal time_general\n",
    "\n",
    "        t = time.time()\n",
    "\n",
    "        result = func(*args, **kwargs)\n",
    "\n",
    "        time_general += time.time() - t\n",
    "\n",
    "        if func in functions_register:\n",
    "            functions_register[func]['calls_count'] += 1\n",
    "            functions_register[func]['time_avg'] = (\n",
    "                time_general / functions_register[func]['calls_count']\n",
    "            )\n",
    "        return result\n",
    "    return count_time\n",
    "\n",
    "        \n",
    "@stats\n",
    "@register\n",
    "def do_something(*args):\n",
    "    timer = randint(1,10)\n",
    "    time.sleep(timer)\n",
    "    return timer\n",
    "\n",
    "# ваш код"
   ]
  },
  {
   "cell_type": "code",
   "execution_count": 29,
   "metadata": {},
   "outputs": [
    {
     "name": "stdout",
     "output_type": "stream",
     "text": [
      "{<function do_something at 0x0000021E1BAD1940>: {'time_avg': 9.000555515289307, 'calls_count': 1}}\n",
      "{<function do_something at 0x0000021E1BAD1940>: {'time_avg': 8.000717997550964, 'calls_count': 2}}\n"
     ]
    }
   ],
   "source": [
    "\n",
    "do_something()\n",
    "print(functions_register)\n",
    "do_something()\n",
    "print(functions_register)"
   ]
  },
  {
   "cell_type": "markdown",
   "metadata": {},
   "source": [
    "# Задача 4: наивный LRU-кэш\n",
    "\n",
    "Представим, что вы являетесь сотрудником департамента оптимизаций некоторой компании, занимающейся разработкой ПО для научных вычислений. Раздел аналитиков предоставил вам исследование, согласно которому значительная часть функций в вашей компании работает очень медленно и должна быть оптимизирована. Более того, согласно исследованию, вызовы этих функций в основном осуществляются с ограниченным множеством аргументов. Для оптимизации этих функций вы решили использовать LRU-кэш:\n",
    "\n",
    "- вы заранее фиксируете размер кэша - памяти, выделенной для хранения результатов вычислений функции;  \n",
    "- в кэше хранится следующая информация: аргументы вызова - результат;  \n",
    "- помимо этого для каждой пары хранится время их последнего вызова;  \n",
    "- в случае достижения объема кэша установленной границы удаляются значения, чьи времена последних вызовов являются самыми старыми;  \n",
    "\n",
    "Для применения данного подхода ко всем проблемным функциям, не переписывая сами функции, вы решили реализовать параметрический декоратор, т.к. для разных функций требуется разный размер кеша.\n",
    "\n",
    "Ваша задача: реализовать описанный декоратор."
   ]
  },
  {
   "cell_type": "code",
   "execution_count": 38,
   "metadata": {},
   "outputs": [
    {
     "ename": "AttributeError",
     "evalue": "module 'time' has no attribute 'tine'",
     "output_type": "error",
     "traceback": [
      "\u001b[1;31m---------------------------------------------------------------------------\u001b[0m",
      "\u001b[1;31mAttributeError\u001b[0m                            Traceback (most recent call last)",
      "\u001b[1;32mc:\\Users\\hopit\\python_mipt_dafe\\task1.ipynb Cell 13\u001b[0m line \u001b[0;36m5\n\u001b[0;32m      <a href='vscode-notebook-cell:/c%3A/Users/hopit/python_mipt_dafe/task1.ipynb#X11sZmlsZQ%3D%3D?line=1'>2</a>\u001b[0m \u001b[39mimport\u001b[39;00m \u001b[39mtime\u001b[39;00m\n\u001b[0;32m      <a href='vscode-notebook-cell:/c%3A/Users/hopit/python_mipt_dafe/task1.ipynb#X11sZmlsZQ%3D%3D?line=2'>3</a>\u001b[0m \u001b[39mfrom\u001b[39;00m \u001b[39mrandom\u001b[39;00m \u001b[39mimport\u001b[39;00m randint\n\u001b[1;32m----> <a href='vscode-notebook-cell:/c%3A/Users/hopit/python_mipt_dafe/task1.ipynb#X11sZmlsZQ%3D%3D?line=4'>5</a>\u001b[0m T \u001b[39m=\u001b[39m time\u001b[39m.\u001b[39;49mtine()\n\u001b[0;32m      <a href='vscode-notebook-cell:/c%3A/Users/hopit/python_mipt_dafe/task1.ipynb#X11sZmlsZQ%3D%3D?line=7'>8</a>\u001b[0m \u001b[39mdef\u001b[39;00m \u001b[39mlru_cache\u001b[39m(cache_size: \u001b[39mint\u001b[39m):\n\u001b[0;32m     <a href='vscode-notebook-cell:/c%3A/Users/hopit/python_mipt_dafe/task1.ipynb#X11sZmlsZQ%3D%3D?line=9'>10</a>\u001b[0m     \u001b[39mdef\u001b[39;00m \u001b[39mapply_cache\u001b[39m(func):\n",
      "\u001b[1;31mAttributeError\u001b[0m: module 'time' has no attribute 'tine'"
     ]
    }
   ],
   "source": [
    "# ваш код\n",
    "import time\n",
    "from random import randint\n",
    "\n",
    "T = time.tine()\n",
    "\n",
    "\n",
    "def lru_cache(cache_size: int):\n",
    "\n",
    "    def apply_cache(func):\n",
    "\n",
    "        args_info = {}\n",
    "        time_info = {}\n",
    "\n",
    "        def count_cache(*args, **kwargs):\n",
    "\n",
    "            nonlocal args_info, time_info\n",
    "\n",
    "            key = args + tuple(kwargs.values())\n",
    "\n",
    "            if key in args_info:\n",
    "                time_info[key] = time.time()\n",
    "                #args_info[key] = func(*args, **kwargs)\n",
    "            else:\n",
    "                if cache_size == len(args_info):\n",
    "                    least = min(time_info.items(), lambda x: x[-1])\n",
    "                    del args_info[least[0]]\n",
    "                    del time_info[least[0]]\n",
    "\n",
    "                args_info[key] = func(*args, **kwargs)\n",
    "                time_info[key] = time.time()\n",
    "\n",
    "            print(args_info)\n",
    "            print(time_info)\n",
    "                \n",
    "            return args_info[key]\n",
    "    \n",
    "        return count_cache\n",
    "    \n",
    "    return apply_cache\n",
    "\n",
    "@lru_cache(5)\n",
    "def do_something(*args):\n",
    "    timer = randint(1,3)\n",
    "    time.sleep(timer)\n",
    "    return timer"
   ]
  },
  {
   "cell_type": "code",
   "execution_count": 37,
   "metadata": {},
   "outputs": [
    {
     "name": "stdout",
     "output_type": "stream",
     "text": [
      "{(1,): 1}\n",
      "{(1,): 1698420741.8550668}\n",
      "{(1,): 1, (1, 2, 3): 2}\n",
      "{(1,): 1698420741.8550668, (1, 2, 3): 1698420743.8564746}\n",
      "{(1,): 1, (1, 2, 3): 2}\n",
      "{(1,): 1698420743.8564746, (1, 2, 3): 1698420743.8564746}\n",
      "{(1,): 1, (1, 2, 3): 2}\n",
      "{(1,): 1698420743.8564746, (1, 2, 3): 1698420743.8564746}\n",
      "{(1,): 1, (1, 2, 3): 2, (2,): 2}\n",
      "{(1,): 1698420743.8564746, (1, 2, 3): 1698420743.8564746, (2,): 1698420745.8581452}\n",
      "{(1,): 1, (1, 2, 3): 2, (2,): 2, (4,): 1}\n",
      "{(1,): 1698420743.8564746, (1, 2, 3): 1698420743.8564746, (2,): 1698420745.8581452, (4,): 1698420746.85878}\n",
      "{(1,): 1, (1, 2, 3): 2, (2,): 2, (4,): 1, (5,): 1}\n",
      "{(1,): 1698420743.8564746, (1, 2, 3): 1698420743.8564746, (2,): 1698420745.8581452, (4,): 1698420746.85878, (5,): 1698420747.8596916}\n"
     ]
    },
    {
     "data": {
      "text/plain": [
       "1"
      ]
     },
     "execution_count": 37,
     "metadata": {},
     "output_type": "execute_result"
    }
   ],
   "source": [
    "do_something(1)\n",
    "do_something(1, 2, 3)\n",
    "do_something(1)\n",
    "do_something(1)\n",
    "do_something(2)\n",
    "do_something(4)\n",
    "do_something(5)"
   ]
  },
  {
   "cell_type": "code",
   "execution_count": null,
   "metadata": {},
   "outputs": [],
   "source": []
  }
 ],
 "metadata": {
  "kernelspec": {
   "display_name": "Python 3",
   "language": "python",
   "name": "python3"
  },
  "language_info": {
   "codemirror_mode": {
    "name": "ipython",
    "version": 3
   },
   "file_extension": ".py",
   "mimetype": "text/x-python",
   "name": "python",
   "nbconvert_exporter": "python",
   "pygments_lexer": "ipython3",
   "version": "3.11.5"
  }
 },
 "nbformat": 4,
 "nbformat_minor": 2
}
